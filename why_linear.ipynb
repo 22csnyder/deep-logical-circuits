{
 "cells": [
  {
   "cell_type": "markdown",
   "metadata": {},
   "source": [
    "## The goal is to study what makes the decision boundary linear"
   ]
  },
  {
   "cell_type": "code",
   "execution_count": 1,
   "metadata": {
    "collapsed": true
   },
   "outputs": [],
   "source": [
    "import matplotlib as mpl\n",
    "import matplotlib.pyplot as plt\n",
    "import matplotlib.animation as animation\n",
    "import tensorflow as tf\n",
    "import pandas as pd\n",
    "import glob2\n",
    "import os\n",
    "from itertools import product\n",
    "import numpy as np\n",
    "#import seaborn as sns\n",
    "\n",
    "%matplotlib notebook\n",
    "#%matplotlib\n",
    "\n",
    "from tboard import file2number\n",
    "from vis_utils import split_posneg,get_path\n",
    "from vis_utils import get_neuron_values\n",
    "from nonlinearities import sigmoid\n",
    "from vis_utils import splitL\n",
    "\n",
    "clist=['g','c','m','y','k','b','r']\n",
    "listLineStyle=['solid', 'dashed', 'dashdot', 'dotted']"
   ]
  },
  {
   "cell_type": "code",
   "execution_count": 4,
   "metadata": {
    "collapsed": true
   },
   "outputs": [],
   "source": [
    "from vis_utils import (split_posneg , get_path, get_np_network,\n",
    "                        get_neuron_values, splitL, load_weights,\n",
    "                        resample_grid,vec_get_neuron_values,\n",
    "                        get_del_weights  )\n",
    "from calc_maps import (get_net_states,rescale_weights,compose_affine)"
   ]
  },
  {
   "cell_type": "code",
   "execution_count": 5,
   "metadata": {
    "collapsed": true
   },
   "outputs": [],
   "source": [
    "log_dir='./logs/Model_0221_101830_R2Clean4442'"
   ]
  },
  {
   "cell_type": "code",
   "execution_count": 6,
   "metadata": {
    "collapsed": false
   },
   "outputs": [],
   "source": [
    "record_dir=os.path.join(log_dir,'records')\n",
    "id_str=str(file2number(log_dir))\n",
    "all_weights=load_weights(log_dir)\n",
    "all_step=np.load(get_path('step','wwatch',log_dir))\n",
    "dt=10\n",
    "weights=[[w[::dt],b[::dt]] for w,b in all_weights]\n",
    "arch=[b.shape[-1] for w,b in weights[:-1]]#net architecture\n",
    "del_weights=get_del_weights(weights)\n",
    "step=all_step[::dt]\n",
    "del_weights=get_del_weights(weights)\n",
    "gridX=np.load(get_path('gridX','hmwatch',log_dir))\n",
    "GridX=resample_grid(gridX)\n",
    "npX=np.load(os.path.join(record_dir,'dataX.npy'))\n",
    "npY=np.load(os.path.join(record_dir,'dataY.npy'))\n",
    "Xpos,Xneg,Ypos,Yneg=split_posneg(npX,npY)\n"
   ]
  },
  {
   "cell_type": "code",
   "execution_count": 7,
   "metadata": {
    "collapsed": true
   },
   "outputs": [],
   "source": [
    "W_weights,b_weights=zip(*del_weights)\n",
    "W1,W2,W3,W4=W_weights\n",
    "b1,b2,b3,b4=b_weights\n",
    "W1f,W2f,W3f,W4f=W1[-1],W2[-1],W3[-1],W4[-1]#final weights\n",
    "b1f,b2f,b3f,b4f=b1[-1],b2[-1],b3[-1],b4[-1]#final weights\n",
    "#delW4f=np.reshape(W4[-1,:,1]-W4[-1,:,0], [-1,1])\n",
    "#delb4f=b4[-1,1]-b4[-1,0]\n"
   ]
  },
  {
   "cell_type": "code",
   "execution_count": 25,
   "metadata": {
    "collapsed": false
   },
   "outputs": [
    {
     "name": "stdout",
     "output_type": "stream",
     "text": [
      "[[-7.7000e-01 -6.0000e-02  6.4000e-01  1.2978e+04]\n",
      " [-9.7000e-01 -8.0000e-02  2.5000e-01  8.4000e+01]\n",
      " [ 0.0000e+00  0.0000e+00 -1.0000e+00  1.6903e+04]\n",
      " [-9.7000e-01 -8.0000e-02  2.5000e-01  7.0000e+00]\n",
      " [ 0.0000e+00  0.0000e+00 -1.0000e+00  2.6300e+02]\n",
      " [ 0.0000e+00  0.0000e+00 -1.0000e+00  6.0990e+03]\n",
      " [-1.0000e+00 -8.0000e-02 -2.0000e-02  7.2400e+02]\n",
      " [ 0.0000e+00  0.0000e+00 -1.0000e+00  6.0470e+03]\n",
      " [-8.9000e-01 -7.0000e-02 -4.6000e-01  3.8890e+03]]\n"
     ]
    }
   ],
   "source": [
    "time=-1\n",
    "time_weights=[[w[time],b[time]] for w,b in del_weights]\n",
    "Sig,Centers,Cnts=get_net_states(GridX,time_weights)\n",
    "sigl=np.split(Sig,np.cumsum(arch)[:-1],axis=-1)\n",
    "new_weights=rescale_weights(time_weights,sigl)\n",
    "Linear,Bias=compose_affine(new_weights)\n",
    "M=np.concatenate([Linear,np.expand_dims(Bias,-1)],axis=-2)#idx,xdim+1,1\n",
    "cnt_thresh=np.percentile(Cnts,20)\n",
    "ix_thresh=np.where( Cnts>=cnt_thresh )[0]\n",
    "M2=M/np.linalg.norm(M,ord=2,axis=(-2,-1),keepdims=True)\n",
    "M2=np.squeeze(M2)\n",
    "#M2=M/M.sum(axis=1,keepdims=True)\n",
    "\n",
    "#print np.around(M2[ix_thresh],2)\n",
    "#print np.around(np.concatenate([ M2[ix_thresh], np.expand_dims(Cnts[ix_thresh],-1) ],axis=-1),2)\n"
   ]
  },
  {
   "cell_type": "code",
   "execution_count": 86,
   "metadata": {
    "collapsed": true
   },
   "outputs": [],
   "source": [
    "gX0,gX1=GridX[:,:,0],GridX[:,:,1]\n",
    "gX=GridX\n",
    "P_Layers=get_neuron_values(gX,time_weights)"
   ]
  },
  {
   "cell_type": "code",
   "execution_count": 87,
   "metadata": {
    "collapsed": false
   },
   "outputs": [
    {
     "data": {
      "text/plain": [
       "(235, 200, 1)"
      ]
     },
     "execution_count": 87,
     "metadata": {},
     "output_type": "execute_result"
    }
   ],
   "source": [
    "P_Layers[-1].shape"
   ]
  },
  {
   "cell_type": "code",
   "execution_count": null,
   "metadata": {
    "collapsed": true
   },
   "outputs": [],
   "source": [
    "def draw_layer(Layer,ax):\n",
    "    contour_list=[]\n"
   ]
  },
  {
   "cell_type": "code",
   "execution_count": 93,
   "metadata": {
    "collapsed": true
   },
   "outputs": [],
   "source": [
    "#plt.text(1, -0.6, r'$\\sum_{i=0}^\\infty x_i$', fontsize=20)"
   ]
  },
  {
   "cell_type": "markdown",
   "metadata": {},
   "source": [
    "M2.shape"
   ]
  },
  {
   "cell_type": "code",
   "execution_count": 96,
   "metadata": {
    "collapsed": false
   },
   "outputs": [
    {
     "data": {
      "text/plain": [
       "array([-0.96579759, -0.07829664,  0.24719355])"
      ]
     },
     "execution_count": 96,
     "metadata": {},
     "output_type": "execute_result"
    }
   ],
   "source": [
    "M2[3]"
   ]
  },
  {
   "cell_type": "code",
   "execution_count": null,
   "metadata": {
    "collapsed": true
   },
   "outputs": [],
   "source": [
    "Arr=M2\n",
    "str_aff=[np.array2string(s,precision=2) for s in Arr]\n",
    "loc_str=[c for c in Centers]\n",
    "\n",
    "alignment = {'horizontalalignment': 'center'}\n",
    "\n",
    "for txt,loc in zip(str_aff,loc_str):\n",
    "    ax.text(loc[0],loc[1],txt,**alignment)\n",
    "    ax.plot(loc[0],loc[1],c='c')"
   ]
  },
  {
   "cell_type": "code",
   "execution_count": 104,
   "metadata": {
    "collapsed": false
   },
   "outputs": [
    {
     "data": {
      "text/plain": [
       "array([[-1.45640421,  0.82414068],\n",
       "       [-0.98966419,  2.18366192],\n",
       "       [ 1.36164388,  1.08014981],\n",
       "       [-0.71590415, -1.01851592],\n",
       "       [ 0.59591616,  1.13165116],\n",
       "       [ 0.32725922,  0.98165146],\n",
       "       [-0.84880793,  0.95513563],\n",
       "       [-0.9054873 ,  2.0118522 ],\n",
       "       [-0.20836186,  0.97865961],\n",
       "       [-0.53224548,  1.65934603],\n",
       "       [-0.48040634,  1.03727633],\n",
       "       [-0.64696074,  0.97621038]])"
      ]
     },
     "execution_count": 104,
     "metadata": {},
     "output_type": "execute_result"
    }
   ],
   "source": [
    "Centers"
   ]
  },
  {
   "cell_type": "code",
   "execution_count": 102,
   "metadata": {
    "collapsed": false
   },
   "outputs": [
    {
     "data": {
      "text/plain": [
       "['[-0.77 -0.06  0.64]',\n",
       " '[-0.97 -0.08  0.25]',\n",
       " '[ 0.  0. -1.]',\n",
       " '[-0.97 -0.08  0.25]',\n",
       " '[ 0.  0. -1.]',\n",
       " '[ 0.  0. -1.]',\n",
       " '[-1.   -0.08 -0.02]',\n",
       " '[-0.95 -0.08 -0.31]',\n",
       " '[ 0.  0. -1.]',\n",
       " '[-0.76 -0.06 -0.65]',\n",
       " '[-0.87 -0.07 -0.48]',\n",
       " '[-0.89 -0.07 -0.46]']"
      ]
     },
     "execution_count": 102,
     "metadata": {},
     "output_type": "execute_result"
    }
   ],
   "source": [
    "str_aff"
   ]
  },
  {
   "cell_type": "code",
   "execution_count": 99,
   "metadata": {
    "collapsed": false
   },
   "outputs": [
    {
     "data": {
      "text/plain": [
       "'[-0.97 -0.08  0.25]'"
      ]
     },
     "execution_count": 99,
     "metadata": {},
     "output_type": "execute_result"
    }
   ],
   "source": [
    "np.array2string(s,precision=2)"
   ]
  },
  {
   "cell_type": "code",
   "execution_count": 100,
   "metadata": {
    "collapsed": false
   },
   "outputs": [
    {
     "data": {
      "text/plain": [
       "'[-0.966 -0.078 0.247]'"
      ]
     },
     "execution_count": 100,
     "metadata": {},
     "output_type": "execute_result"
    }
   ],
   "source": [
    "np.array2string(s,formatter={'float_kind':'{0:.3f}'.format})"
   ]
  },
  {
   "cell_type": "code",
   "execution_count": 118,
   "metadata": {
    "collapsed": false
   },
   "outputs": [
    {
     "data": {
      "application/javascript": [
       "/* Put everything inside the global mpl namespace */\n",
       "window.mpl = {};\n",
       "\n",
       "\n",
       "mpl.get_websocket_type = function() {\n",
       "    if (typeof(WebSocket) !== 'undefined') {\n",
       "        return WebSocket;\n",
       "    } else if (typeof(MozWebSocket) !== 'undefined') {\n",
       "        return MozWebSocket;\n",
       "    } else {\n",
       "        alert('Your browser does not have WebSocket support.' +\n",
       "              'Please try Chrome, Safari or Firefox ≥ 6. ' +\n",
       "              'Firefox 4 and 5 are also supported but you ' +\n",
       "              'have to enable WebSockets in about:config.');\n",
       "    };\n",
       "}\n",
       "\n",
       "mpl.figure = function(figure_id, websocket, ondownload, parent_element) {\n",
       "    this.id = figure_id;\n",
       "\n",
       "    this.ws = websocket;\n",
       "\n",
       "    this.supports_binary = (this.ws.binaryType != undefined);\n",
       "\n",
       "    if (!this.supports_binary) {\n",
       "        var warnings = document.getElementById(\"mpl-warnings\");\n",
       "        if (warnings) {\n",
       "            warnings.style.display = 'block';\n",
       "            warnings.textContent = (\n",
       "                \"This browser does not support binary websocket messages. \" +\n",
       "                    \"Performance may be slow.\");\n",
       "        }\n",
       "    }\n",
       "\n",
       "    this.imageObj = new Image();\n",
       "\n",
       "    this.context = undefined;\n",
       "    this.message = undefined;\n",
       "    this.canvas = undefined;\n",
       "    this.rubberband_canvas = undefined;\n",
       "    this.rubberband_context = undefined;\n",
       "    this.format_dropdown = undefined;\n",
       "\n",
       "    this.image_mode = 'full';\n",
       "\n",
       "    this.root = $('<div/>');\n",
       "    this._root_extra_style(this.root)\n",
       "    this.root.attr('style', 'display: inline-block');\n",
       "\n",
       "    $(parent_element).append(this.root);\n",
       "\n",
       "    this._init_header(this);\n",
       "    this._init_canvas(this);\n",
       "    this._init_toolbar(this);\n",
       "\n",
       "    var fig = this;\n",
       "\n",
       "    this.waiting = false;\n",
       "\n",
       "    this.ws.onopen =  function () {\n",
       "            fig.send_message(\"supports_binary\", {value: fig.supports_binary});\n",
       "            fig.send_message(\"send_image_mode\", {});\n",
       "            if (mpl.ratio != 1) {\n",
       "                fig.send_message(\"set_dpi_ratio\", {'dpi_ratio': mpl.ratio});\n",
       "            }\n",
       "            fig.send_message(\"refresh\", {});\n",
       "        }\n",
       "\n",
       "    this.imageObj.onload = function() {\n",
       "            if (fig.image_mode == 'full') {\n",
       "                // Full images could contain transparency (where diff images\n",
       "                // almost always do), so we need to clear the canvas so that\n",
       "                // there is no ghosting.\n",
       "                fig.context.clearRect(0, 0, fig.canvas.width, fig.canvas.height);\n",
       "            }\n",
       "            fig.context.drawImage(fig.imageObj, 0, 0);\n",
       "        };\n",
       "\n",
       "    this.imageObj.onunload = function() {\n",
       "        this.ws.close();\n",
       "    }\n",
       "\n",
       "    this.ws.onmessage = this._make_on_message_function(this);\n",
       "\n",
       "    this.ondownload = ondownload;\n",
       "}\n",
       "\n",
       "mpl.figure.prototype._init_header = function() {\n",
       "    var titlebar = $(\n",
       "        '<div class=\"ui-dialog-titlebar ui-widget-header ui-corner-all ' +\n",
       "        'ui-helper-clearfix\"/>');\n",
       "    var titletext = $(\n",
       "        '<div class=\"ui-dialog-title\" style=\"width: 100%; ' +\n",
       "        'text-align: center; padding: 3px;\"/>');\n",
       "    titlebar.append(titletext)\n",
       "    this.root.append(titlebar);\n",
       "    this.header = titletext[0];\n",
       "}\n",
       "\n",
       "\n",
       "\n",
       "mpl.figure.prototype._canvas_extra_style = function(canvas_div) {\n",
       "\n",
       "}\n",
       "\n",
       "\n",
       "mpl.figure.prototype._root_extra_style = function(canvas_div) {\n",
       "\n",
       "}\n",
       "\n",
       "mpl.figure.prototype._init_canvas = function() {\n",
       "    var fig = this;\n",
       "\n",
       "    var canvas_div = $('<div/>');\n",
       "\n",
       "    canvas_div.attr('style', 'position: relative; clear: both; outline: 0');\n",
       "\n",
       "    function canvas_keyboard_event(event) {\n",
       "        return fig.key_event(event, event['data']);\n",
       "    }\n",
       "\n",
       "    canvas_div.keydown('key_press', canvas_keyboard_event);\n",
       "    canvas_div.keyup('key_release', canvas_keyboard_event);\n",
       "    this.canvas_div = canvas_div\n",
       "    this._canvas_extra_style(canvas_div)\n",
       "    this.root.append(canvas_div);\n",
       "\n",
       "    var canvas = $('<canvas/>');\n",
       "    canvas.addClass('mpl-canvas');\n",
       "    canvas.attr('style', \"left: 0; top: 0; z-index: 0; outline: 0\")\n",
       "\n",
       "    this.canvas = canvas[0];\n",
       "    this.context = canvas[0].getContext(\"2d\");\n",
       "\n",
       "    var backingStore = this.context.backingStorePixelRatio ||\n",
       "\tthis.context.webkitBackingStorePixelRatio ||\n",
       "\tthis.context.mozBackingStorePixelRatio ||\n",
       "\tthis.context.msBackingStorePixelRatio ||\n",
       "\tthis.context.oBackingStorePixelRatio ||\n",
       "\tthis.context.backingStorePixelRatio || 1;\n",
       "\n",
       "    mpl.ratio = (window.devicePixelRatio || 1) / backingStore;\n",
       "\n",
       "    var rubberband = $('<canvas/>');\n",
       "    rubberband.attr('style', \"position: absolute; left: 0; top: 0; z-index: 1;\")\n",
       "\n",
       "    var pass_mouse_events = true;\n",
       "\n",
       "    canvas_div.resizable({\n",
       "        start: function(event, ui) {\n",
       "            pass_mouse_events = false;\n",
       "        },\n",
       "        resize: function(event, ui) {\n",
       "            fig.request_resize(ui.size.width, ui.size.height);\n",
       "        },\n",
       "        stop: function(event, ui) {\n",
       "            pass_mouse_events = true;\n",
       "            fig.request_resize(ui.size.width, ui.size.height);\n",
       "        },\n",
       "    });\n",
       "\n",
       "    function mouse_event_fn(event) {\n",
       "        if (pass_mouse_events)\n",
       "            return fig.mouse_event(event, event['data']);\n",
       "    }\n",
       "\n",
       "    rubberband.mousedown('button_press', mouse_event_fn);\n",
       "    rubberband.mouseup('button_release', mouse_event_fn);\n",
       "    // Throttle sequential mouse events to 1 every 20ms.\n",
       "    rubberband.mousemove('motion_notify', mouse_event_fn);\n",
       "\n",
       "    rubberband.mouseenter('figure_enter', mouse_event_fn);\n",
       "    rubberband.mouseleave('figure_leave', mouse_event_fn);\n",
       "\n",
       "    canvas_div.on(\"wheel\", function (event) {\n",
       "        event = event.originalEvent;\n",
       "        event['data'] = 'scroll'\n",
       "        if (event.deltaY < 0) {\n",
       "            event.step = 1;\n",
       "        } else {\n",
       "            event.step = -1;\n",
       "        }\n",
       "        mouse_event_fn(event);\n",
       "    });\n",
       "\n",
       "    canvas_div.append(canvas);\n",
       "    canvas_div.append(rubberband);\n",
       "\n",
       "    this.rubberband = rubberband;\n",
       "    this.rubberband_canvas = rubberband[0];\n",
       "    this.rubberband_context = rubberband[0].getContext(\"2d\");\n",
       "    this.rubberband_context.strokeStyle = \"#000000\";\n",
       "\n",
       "    this._resize_canvas = function(width, height) {\n",
       "        // Keep the size of the canvas, canvas container, and rubber band\n",
       "        // canvas in synch.\n",
       "        canvas_div.css('width', width)\n",
       "        canvas_div.css('height', height)\n",
       "\n",
       "        canvas.attr('width', width * mpl.ratio);\n",
       "        canvas.attr('height', height * mpl.ratio);\n",
       "        canvas.attr('style', 'width: ' + width + 'px; height: ' + height + 'px;');\n",
       "\n",
       "        rubberband.attr('width', width);\n",
       "        rubberband.attr('height', height);\n",
       "    }\n",
       "\n",
       "    // Set the figure to an initial 600x600px, this will subsequently be updated\n",
       "    // upon first draw.\n",
       "    this._resize_canvas(600, 600);\n",
       "\n",
       "    // Disable right mouse context menu.\n",
       "    $(this.rubberband_canvas).bind(\"contextmenu\",function(e){\n",
       "        return false;\n",
       "    });\n",
       "\n",
       "    function set_focus () {\n",
       "        canvas.focus();\n",
       "        canvas_div.focus();\n",
       "    }\n",
       "\n",
       "    window.setTimeout(set_focus, 100);\n",
       "}\n",
       "\n",
       "mpl.figure.prototype._init_toolbar = function() {\n",
       "    var fig = this;\n",
       "\n",
       "    var nav_element = $('<div/>')\n",
       "    nav_element.attr('style', 'width: 100%');\n",
       "    this.root.append(nav_element);\n",
       "\n",
       "    // Define a callback function for later on.\n",
       "    function toolbar_event(event) {\n",
       "        return fig.toolbar_button_onclick(event['data']);\n",
       "    }\n",
       "    function toolbar_mouse_event(event) {\n",
       "        return fig.toolbar_button_onmouseover(event['data']);\n",
       "    }\n",
       "\n",
       "    for(var toolbar_ind in mpl.toolbar_items) {\n",
       "        var name = mpl.toolbar_items[toolbar_ind][0];\n",
       "        var tooltip = mpl.toolbar_items[toolbar_ind][1];\n",
       "        var image = mpl.toolbar_items[toolbar_ind][2];\n",
       "        var method_name = mpl.toolbar_items[toolbar_ind][3];\n",
       "\n",
       "        if (!name) {\n",
       "            // put a spacer in here.\n",
       "            continue;\n",
       "        }\n",
       "        var button = $('<button/>');\n",
       "        button.addClass('ui-button ui-widget ui-state-default ui-corner-all ' +\n",
       "                        'ui-button-icon-only');\n",
       "        button.attr('role', 'button');\n",
       "        button.attr('aria-disabled', 'false');\n",
       "        button.click(method_name, toolbar_event);\n",
       "        button.mouseover(tooltip, toolbar_mouse_event);\n",
       "\n",
       "        var icon_img = $('<span/>');\n",
       "        icon_img.addClass('ui-button-icon-primary ui-icon');\n",
       "        icon_img.addClass(image);\n",
       "        icon_img.addClass('ui-corner-all');\n",
       "\n",
       "        var tooltip_span = $('<span/>');\n",
       "        tooltip_span.addClass('ui-button-text');\n",
       "        tooltip_span.html(tooltip);\n",
       "\n",
       "        button.append(icon_img);\n",
       "        button.append(tooltip_span);\n",
       "\n",
       "        nav_element.append(button);\n",
       "    }\n",
       "\n",
       "    var fmt_picker_span = $('<span/>');\n",
       "\n",
       "    var fmt_picker = $('<select/>');\n",
       "    fmt_picker.addClass('mpl-toolbar-option ui-widget ui-widget-content');\n",
       "    fmt_picker_span.append(fmt_picker);\n",
       "    nav_element.append(fmt_picker_span);\n",
       "    this.format_dropdown = fmt_picker[0];\n",
       "\n",
       "    for (var ind in mpl.extensions) {\n",
       "        var fmt = mpl.extensions[ind];\n",
       "        var option = $(\n",
       "            '<option/>', {selected: fmt === mpl.default_extension}).html(fmt);\n",
       "        fmt_picker.append(option)\n",
       "    }\n",
       "\n",
       "    // Add hover states to the ui-buttons\n",
       "    $( \".ui-button\" ).hover(\n",
       "        function() { $(this).addClass(\"ui-state-hover\");},\n",
       "        function() { $(this).removeClass(\"ui-state-hover\");}\n",
       "    );\n",
       "\n",
       "    var status_bar = $('<span class=\"mpl-message\"/>');\n",
       "    nav_element.append(status_bar);\n",
       "    this.message = status_bar[0];\n",
       "}\n",
       "\n",
       "mpl.figure.prototype.request_resize = function(x_pixels, y_pixels) {\n",
       "    // Request matplotlib to resize the figure. Matplotlib will then trigger a resize in the client,\n",
       "    // which will in turn request a refresh of the image.\n",
       "    this.send_message('resize', {'width': x_pixels, 'height': y_pixels});\n",
       "}\n",
       "\n",
       "mpl.figure.prototype.send_message = function(type, properties) {\n",
       "    properties['type'] = type;\n",
       "    properties['figure_id'] = this.id;\n",
       "    this.ws.send(JSON.stringify(properties));\n",
       "}\n",
       "\n",
       "mpl.figure.prototype.send_draw_message = function() {\n",
       "    if (!this.waiting) {\n",
       "        this.waiting = true;\n",
       "        this.ws.send(JSON.stringify({type: \"draw\", figure_id: this.id}));\n",
       "    }\n",
       "}\n",
       "\n",
       "\n",
       "mpl.figure.prototype.handle_save = function(fig, msg) {\n",
       "    var format_dropdown = fig.format_dropdown;\n",
       "    var format = format_dropdown.options[format_dropdown.selectedIndex].value;\n",
       "    fig.ondownload(fig, format);\n",
       "}\n",
       "\n",
       "\n",
       "mpl.figure.prototype.handle_resize = function(fig, msg) {\n",
       "    var size = msg['size'];\n",
       "    if (size[0] != fig.canvas.width || size[1] != fig.canvas.height) {\n",
       "        fig._resize_canvas(size[0], size[1]);\n",
       "        fig.send_message(\"refresh\", {});\n",
       "    };\n",
       "}\n",
       "\n",
       "mpl.figure.prototype.handle_rubberband = function(fig, msg) {\n",
       "    var x0 = msg['x0'] / mpl.ratio;\n",
       "    var y0 = (fig.canvas.height - msg['y0']) / mpl.ratio;\n",
       "    var x1 = msg['x1'] / mpl.ratio;\n",
       "    var y1 = (fig.canvas.height - msg['y1']) / mpl.ratio;\n",
       "    x0 = Math.floor(x0) + 0.5;\n",
       "    y0 = Math.floor(y0) + 0.5;\n",
       "    x1 = Math.floor(x1) + 0.5;\n",
       "    y1 = Math.floor(y1) + 0.5;\n",
       "    var min_x = Math.min(x0, x1);\n",
       "    var min_y = Math.min(y0, y1);\n",
       "    var width = Math.abs(x1 - x0);\n",
       "    var height = Math.abs(y1 - y0);\n",
       "\n",
       "    fig.rubberband_context.clearRect(\n",
       "        0, 0, fig.canvas.width, fig.canvas.height);\n",
       "\n",
       "    fig.rubberband_context.strokeRect(min_x, min_y, width, height);\n",
       "}\n",
       "\n",
       "mpl.figure.prototype.handle_figure_label = function(fig, msg) {\n",
       "    // Updates the figure title.\n",
       "    fig.header.textContent = msg['label'];\n",
       "}\n",
       "\n",
       "mpl.figure.prototype.handle_cursor = function(fig, msg) {\n",
       "    var cursor = msg['cursor'];\n",
       "    switch(cursor)\n",
       "    {\n",
       "    case 0:\n",
       "        cursor = 'pointer';\n",
       "        break;\n",
       "    case 1:\n",
       "        cursor = 'default';\n",
       "        break;\n",
       "    case 2:\n",
       "        cursor = 'crosshair';\n",
       "        break;\n",
       "    case 3:\n",
       "        cursor = 'move';\n",
       "        break;\n",
       "    }\n",
       "    fig.rubberband_canvas.style.cursor = cursor;\n",
       "}\n",
       "\n",
       "mpl.figure.prototype.handle_message = function(fig, msg) {\n",
       "    fig.message.textContent = msg['message'];\n",
       "}\n",
       "\n",
       "mpl.figure.prototype.handle_draw = function(fig, msg) {\n",
       "    // Request the server to send over a new figure.\n",
       "    fig.send_draw_message();\n",
       "}\n",
       "\n",
       "mpl.figure.prototype.handle_image_mode = function(fig, msg) {\n",
       "    fig.image_mode = msg['mode'];\n",
       "}\n",
       "\n",
       "mpl.figure.prototype.updated_canvas_event = function() {\n",
       "    // Called whenever the canvas gets updated.\n",
       "    this.send_message(\"ack\", {});\n",
       "}\n",
       "\n",
       "// A function to construct a web socket function for onmessage handling.\n",
       "// Called in the figure constructor.\n",
       "mpl.figure.prototype._make_on_message_function = function(fig) {\n",
       "    return function socket_on_message(evt) {\n",
       "        if (evt.data instanceof Blob) {\n",
       "            /* FIXME: We get \"Resource interpreted as Image but\n",
       "             * transferred with MIME type text/plain:\" errors on\n",
       "             * Chrome.  But how to set the MIME type?  It doesn't seem\n",
       "             * to be part of the websocket stream */\n",
       "            evt.data.type = \"image/png\";\n",
       "\n",
       "            /* Free the memory for the previous frames */\n",
       "            if (fig.imageObj.src) {\n",
       "                (window.URL || window.webkitURL).revokeObjectURL(\n",
       "                    fig.imageObj.src);\n",
       "            }\n",
       "\n",
       "            fig.imageObj.src = (window.URL || window.webkitURL).createObjectURL(\n",
       "                evt.data);\n",
       "            fig.updated_canvas_event();\n",
       "            fig.waiting = false;\n",
       "            return;\n",
       "        }\n",
       "        else if (typeof evt.data === 'string' && evt.data.slice(0, 21) == \"data:image/png;base64\") {\n",
       "            fig.imageObj.src = evt.data;\n",
       "            fig.updated_canvas_event();\n",
       "            fig.waiting = false;\n",
       "            return;\n",
       "        }\n",
       "\n",
       "        var msg = JSON.parse(evt.data);\n",
       "        var msg_type = msg['type'];\n",
       "\n",
       "        // Call the  \"handle_{type}\" callback, which takes\n",
       "        // the figure and JSON message as its only arguments.\n",
       "        try {\n",
       "            var callback = fig[\"handle_\" + msg_type];\n",
       "        } catch (e) {\n",
       "            console.log(\"No handler for the '\" + msg_type + \"' message type: \", msg);\n",
       "            return;\n",
       "        }\n",
       "\n",
       "        if (callback) {\n",
       "            try {\n",
       "                // console.log(\"Handling '\" + msg_type + \"' message: \", msg);\n",
       "                callback(fig, msg);\n",
       "            } catch (e) {\n",
       "                console.log(\"Exception inside the 'handler_\" + msg_type + \"' callback:\", e, e.stack, msg);\n",
       "            }\n",
       "        }\n",
       "    };\n",
       "}\n",
       "\n",
       "// from http://stackoverflow.com/questions/1114465/getting-mouse-location-in-canvas\n",
       "mpl.findpos = function(e) {\n",
       "    //this section is from http://www.quirksmode.org/js/events_properties.html\n",
       "    var targ;\n",
       "    if (!e)\n",
       "        e = window.event;\n",
       "    if (e.target)\n",
       "        targ = e.target;\n",
       "    else if (e.srcElement)\n",
       "        targ = e.srcElement;\n",
       "    if (targ.nodeType == 3) // defeat Safari bug\n",
       "        targ = targ.parentNode;\n",
       "\n",
       "    // jQuery normalizes the pageX and pageY\n",
       "    // pageX,Y are the mouse positions relative to the document\n",
       "    // offset() returns the position of the element relative to the document\n",
       "    var x = e.pageX - $(targ).offset().left;\n",
       "    var y = e.pageY - $(targ).offset().top;\n",
       "\n",
       "    return {\"x\": x, \"y\": y};\n",
       "};\n",
       "\n",
       "/*\n",
       " * return a copy of an object with only non-object keys\n",
       " * we need this to avoid circular references\n",
       " * http://stackoverflow.com/a/24161582/3208463\n",
       " */\n",
       "function simpleKeys (original) {\n",
       "  return Object.keys(original).reduce(function (obj, key) {\n",
       "    if (typeof original[key] !== 'object')\n",
       "        obj[key] = original[key]\n",
       "    return obj;\n",
       "  }, {});\n",
       "}\n",
       "\n",
       "mpl.figure.prototype.mouse_event = function(event, name) {\n",
       "    var canvas_pos = mpl.findpos(event)\n",
       "\n",
       "    if (name === 'button_press')\n",
       "    {\n",
       "        this.canvas.focus();\n",
       "        this.canvas_div.focus();\n",
       "    }\n",
       "\n",
       "    var x = canvas_pos.x * mpl.ratio;\n",
       "    var y = canvas_pos.y * mpl.ratio;\n",
       "\n",
       "    this.send_message(name, {x: x, y: y, button: event.button,\n",
       "                             step: event.step,\n",
       "                             guiEvent: simpleKeys(event)});\n",
       "\n",
       "    /* This prevents the web browser from automatically changing to\n",
       "     * the text insertion cursor when the button is pressed.  We want\n",
       "     * to control all of the cursor setting manually through the\n",
       "     * 'cursor' event from matplotlib */\n",
       "    event.preventDefault();\n",
       "    return false;\n",
       "}\n",
       "\n",
       "mpl.figure.prototype._key_event_extra = function(event, name) {\n",
       "    // Handle any extra behaviour associated with a key event\n",
       "}\n",
       "\n",
       "mpl.figure.prototype.key_event = function(event, name) {\n",
       "\n",
       "    // Prevent repeat events\n",
       "    if (name == 'key_press')\n",
       "    {\n",
       "        if (event.which === this._key)\n",
       "            return;\n",
       "        else\n",
       "            this._key = event.which;\n",
       "    }\n",
       "    if (name == 'key_release')\n",
       "        this._key = null;\n",
       "\n",
       "    var value = '';\n",
       "    if (event.ctrlKey && event.which != 17)\n",
       "        value += \"ctrl+\";\n",
       "    if (event.altKey && event.which != 18)\n",
       "        value += \"alt+\";\n",
       "    if (event.shiftKey && event.which != 16)\n",
       "        value += \"shift+\";\n",
       "\n",
       "    value += 'k';\n",
       "    value += event.which.toString();\n",
       "\n",
       "    this._key_event_extra(event, name);\n",
       "\n",
       "    this.send_message(name, {key: value,\n",
       "                             guiEvent: simpleKeys(event)});\n",
       "    return false;\n",
       "}\n",
       "\n",
       "mpl.figure.prototype.toolbar_button_onclick = function(name) {\n",
       "    if (name == 'download') {\n",
       "        this.handle_save(this, null);\n",
       "    } else {\n",
       "        this.send_message(\"toolbar_button\", {name: name});\n",
       "    }\n",
       "};\n",
       "\n",
       "mpl.figure.prototype.toolbar_button_onmouseover = function(tooltip) {\n",
       "    this.message.textContent = tooltip;\n",
       "};\n",
       "mpl.toolbar_items = [[\"Home\", \"Reset original view\", \"fa fa-home icon-home\", \"home\"], [\"Back\", \"Back to  previous view\", \"fa fa-arrow-left icon-arrow-left\", \"back\"], [\"Forward\", \"Forward to next view\", \"fa fa-arrow-right icon-arrow-right\", \"forward\"], [\"\", \"\", \"\", \"\"], [\"Pan\", \"Pan axes with left mouse, zoom with right\", \"fa fa-arrows icon-move\", \"pan\"], [\"Zoom\", \"Zoom to rectangle\", \"fa fa-square-o icon-check-empty\", \"zoom\"], [\"\", \"\", \"\", \"\"], [\"Download\", \"Download plot\", \"fa fa-floppy-o icon-save\", \"download\"]];\n",
       "\n",
       "mpl.extensions = [\"eps\", \"jpeg\", \"pdf\", \"png\", \"ps\", \"raw\", \"svg\", \"tif\"];\n",
       "\n",
       "mpl.default_extension = \"png\";var comm_websocket_adapter = function(comm) {\n",
       "    // Create a \"websocket\"-like object which calls the given IPython comm\n",
       "    // object with the appropriate methods. Currently this is a non binary\n",
       "    // socket, so there is still some room for performance tuning.\n",
       "    var ws = {};\n",
       "\n",
       "    ws.close = function() {\n",
       "        comm.close()\n",
       "    };\n",
       "    ws.send = function(m) {\n",
       "        //console.log('sending', m);\n",
       "        comm.send(m);\n",
       "    };\n",
       "    // Register the callback with on_msg.\n",
       "    comm.on_msg(function(msg) {\n",
       "        //console.log('receiving', msg['content']['data'], msg);\n",
       "        // Pass the mpl event to the overriden (by mpl) onmessage function.\n",
       "        ws.onmessage(msg['content']['data'])\n",
       "    });\n",
       "    return ws;\n",
       "}\n",
       "\n",
       "mpl.mpl_figure_comm = function(comm, msg) {\n",
       "    // This is the function which gets called when the mpl process\n",
       "    // starts-up an IPython Comm through the \"matplotlib\" channel.\n",
       "\n",
       "    var id = msg.content.data.id;\n",
       "    // Get hold of the div created by the display call when the Comm\n",
       "    // socket was opened in Python.\n",
       "    var element = $(\"#\" + id);\n",
       "    var ws_proxy = comm_websocket_adapter(comm)\n",
       "\n",
       "    function ondownload(figure, format) {\n",
       "        window.open(figure.imageObj.src);\n",
       "    }\n",
       "\n",
       "    var fig = new mpl.figure(id, ws_proxy,\n",
       "                           ondownload,\n",
       "                           element.get(0));\n",
       "\n",
       "    // Call onopen now - mpl needs it, as it is assuming we've passed it a real\n",
       "    // web socket which is closed, not our websocket->open comm proxy.\n",
       "    ws_proxy.onopen();\n",
       "\n",
       "    fig.parent_element = element.get(0);\n",
       "    fig.cell_info = mpl.find_output_cell(\"<div id='\" + id + \"'></div>\");\n",
       "    if (!fig.cell_info) {\n",
       "        console.error(\"Failed to find cell for figure\", id, fig);\n",
       "        return;\n",
       "    }\n",
       "\n",
       "    var output_index = fig.cell_info[2]\n",
       "    var cell = fig.cell_info[0];\n",
       "\n",
       "};\n",
       "\n",
       "mpl.figure.prototype.handle_close = function(fig, msg) {\n",
       "    var width = fig.canvas.width/mpl.ratio\n",
       "    fig.root.unbind('remove')\n",
       "\n",
       "    // Update the output cell to use the data from the current canvas.\n",
       "    fig.push_to_output();\n",
       "    var dataURL = fig.canvas.toDataURL();\n",
       "    // Re-enable the keyboard manager in IPython - without this line, in FF,\n",
       "    // the notebook keyboard shortcuts fail.\n",
       "    IPython.keyboard_manager.enable()\n",
       "    $(fig.parent_element).html('<img src=\"' + dataURL + '\" width=\"' + width + '\">');\n",
       "    fig.close_ws(fig, msg);\n",
       "}\n",
       "\n",
       "mpl.figure.prototype.close_ws = function(fig, msg){\n",
       "    fig.send_message('closing', msg);\n",
       "    // fig.ws.close()\n",
       "}\n",
       "\n",
       "mpl.figure.prototype.push_to_output = function(remove_interactive) {\n",
       "    // Turn the data on the canvas into data in the output cell.\n",
       "    var width = this.canvas.width/mpl.ratio\n",
       "    var dataURL = this.canvas.toDataURL();\n",
       "    this.cell_info[1]['text/html'] = '<img src=\"' + dataURL + '\" width=\"' + width + '\">';\n",
       "}\n",
       "\n",
       "mpl.figure.prototype.updated_canvas_event = function() {\n",
       "    // Tell IPython that the notebook contents must change.\n",
       "    IPython.notebook.set_dirty(true);\n",
       "    this.send_message(\"ack\", {});\n",
       "    var fig = this;\n",
       "    // Wait a second, then push the new image to the DOM so\n",
       "    // that it is saved nicely (might be nice to debounce this).\n",
       "    setTimeout(function () { fig.push_to_output() }, 1000);\n",
       "}\n",
       "\n",
       "mpl.figure.prototype._init_toolbar = function() {\n",
       "    var fig = this;\n",
       "\n",
       "    var nav_element = $('<div/>')\n",
       "    nav_element.attr('style', 'width: 100%');\n",
       "    this.root.append(nav_element);\n",
       "\n",
       "    // Define a callback function for later on.\n",
       "    function toolbar_event(event) {\n",
       "        return fig.toolbar_button_onclick(event['data']);\n",
       "    }\n",
       "    function toolbar_mouse_event(event) {\n",
       "        return fig.toolbar_button_onmouseover(event['data']);\n",
       "    }\n",
       "\n",
       "    for(var toolbar_ind in mpl.toolbar_items){\n",
       "        var name = mpl.toolbar_items[toolbar_ind][0];\n",
       "        var tooltip = mpl.toolbar_items[toolbar_ind][1];\n",
       "        var image = mpl.toolbar_items[toolbar_ind][2];\n",
       "        var method_name = mpl.toolbar_items[toolbar_ind][3];\n",
       "\n",
       "        if (!name) { continue; };\n",
       "\n",
       "        var button = $('<button class=\"btn btn-default\" href=\"#\" title=\"' + name + '\"><i class=\"fa ' + image + ' fa-lg\"></i></button>');\n",
       "        button.click(method_name, toolbar_event);\n",
       "        button.mouseover(tooltip, toolbar_mouse_event);\n",
       "        nav_element.append(button);\n",
       "    }\n",
       "\n",
       "    // Add the status bar.\n",
       "    var status_bar = $('<span class=\"mpl-message\" style=\"text-align:right; float: right;\"/>');\n",
       "    nav_element.append(status_bar);\n",
       "    this.message = status_bar[0];\n",
       "\n",
       "    // Add the close button to the window.\n",
       "    var buttongrp = $('<div class=\"btn-group inline pull-right\"></div>');\n",
       "    var button = $('<button class=\"btn btn-mini btn-primary\" href=\"#\" title=\"Stop Interaction\"><i class=\"fa fa-power-off icon-remove icon-large\"></i></button>');\n",
       "    button.click(function (evt) { fig.handle_close(fig, {}); } );\n",
       "    button.mouseover('Stop Interaction', toolbar_mouse_event);\n",
       "    buttongrp.append(button);\n",
       "    var titlebar = this.root.find($('.ui-dialog-titlebar'));\n",
       "    titlebar.prepend(buttongrp);\n",
       "}\n",
       "\n",
       "mpl.figure.prototype._root_extra_style = function(el){\n",
       "    var fig = this\n",
       "    el.on(\"remove\", function(){\n",
       "\tfig.close_ws(fig, {});\n",
       "    });\n",
       "}\n",
       "\n",
       "mpl.figure.prototype._canvas_extra_style = function(el){\n",
       "    // this is important to make the div 'focusable\n",
       "    el.attr('tabindex', 0)\n",
       "    // reach out to IPython and tell the keyboard manager to turn it's self\n",
       "    // off when our div gets focus\n",
       "\n",
       "    // location in version 3\n",
       "    if (IPython.notebook.keyboard_manager) {\n",
       "        IPython.notebook.keyboard_manager.register_events(el);\n",
       "    }\n",
       "    else {\n",
       "        // location in version 2\n",
       "        IPython.keyboard_manager.register_events(el);\n",
       "    }\n",
       "\n",
       "}\n",
       "\n",
       "mpl.figure.prototype._key_event_extra = function(event, name) {\n",
       "    var manager = IPython.notebook.keyboard_manager;\n",
       "    if (!manager)\n",
       "        manager = IPython.keyboard_manager;\n",
       "\n",
       "    // Check for shift+enter\n",
       "    if (event.shiftKey && event.which == 13) {\n",
       "        this.canvas_div.blur();\n",
       "        // select the cell after this one\n",
       "        var index = IPython.notebook.find_cell_index(this.cell_info[0]);\n",
       "        IPython.notebook.select(index + 1);\n",
       "    }\n",
       "}\n",
       "\n",
       "mpl.figure.prototype.handle_save = function(fig, msg) {\n",
       "    fig.ondownload(fig, null);\n",
       "}\n",
       "\n",
       "\n",
       "mpl.find_output_cell = function(html_output) {\n",
       "    // Return the cell and output element which can be found *uniquely* in the notebook.\n",
       "    // Note - this is a bit hacky, but it is done because the \"notebook_saving.Notebook\"\n",
       "    // IPython event is triggered only after the cells have been serialised, which for\n",
       "    // our purposes (turning an active figure into a static one), is too late.\n",
       "    var cells = IPython.notebook.get_cells();\n",
       "    var ncells = cells.length;\n",
       "    for (var i=0; i<ncells; i++) {\n",
       "        var cell = cells[i];\n",
       "        if (cell.cell_type === 'code'){\n",
       "            for (var j=0; j<cell.output_area.outputs.length; j++) {\n",
       "                var data = cell.output_area.outputs[j];\n",
       "                if (data.data) {\n",
       "                    // IPython >= 3 moved mimebundle to data attribute of output\n",
       "                    data = data.data;\n",
       "                }\n",
       "                if (data['text/html'] == html_output) {\n",
       "                    return [cell, data, j];\n",
       "                }\n",
       "            }\n",
       "        }\n",
       "    }\n",
       "}\n",
       "\n",
       "// Register the function which deals with the matplotlib target/channel.\n",
       "// The kernel may be null if the page has been refreshed.\n",
       "if (IPython.notebook.kernel != null) {\n",
       "    IPython.notebook.kernel.comm_manager.register_target('matplotlib', mpl.mpl_figure_comm);\n",
       "}\n"
      ],
      "text/plain": [
       "<IPython.core.display.Javascript object>"
      ]
     },
     "metadata": {},
     "output_type": "display_data"
    },
    {
     "data": {
      "text/html": [
       "<img src=\"data:image/png;base64,iVBORw0KGgoAAAANSUhEUgAAAoAAAAHgCAYAAAA10dzkAAAgAElEQVR4XuydB1QVV9f+H6oUKTYQEFGQIigqKFawY++994ItorHF9KImmkRj7y2xRY29BKOGKlJFepfeey/3/te9vu/3D8G8mes4MnfunrW+tfLGs8/Zz+/sic93Z2YfJdBFBIgAESACRIAIEAEioFAElBRKLYklAkSACBABIkAEiAARABlAKgIiQASIABEgAkSACCgYATKACrbhJJcIEAEiQASIABEgAmQAqQaIABEgAkSACBABIqBgBMgAKtiGk1wiQASIABEgAkSACJABpBogAkSACBABIkAEiICCESADqGAbTnKJABEgAkSACBABIkAGkGqACBABIkAEiAARIAIKRoAMoIJtOMklAkSACBABIkAEiAAZQKoBIkAEiAARIAJEgAgoGAEygAq24SSXCBABIkAEiAARIAJkAKkGiAARIAJEgAgQASKgYATIACrYhpNcIkAEiAARIAJEgAiQAaQaIAJEgAgQASJABIiAghEgA6hgG05yiQARIAJEgAgQASJABpBqgAgQASJABIgAESACCkaADKCCbTjJJQJEgAgQASJABIgAGUCqASJABIgAESACRIAIKBgBMoAKtuEklwgQASJABIgAESACZACpBogAESACRIAIEAEioGAEyAAq2IaTXCJABIgAESACRIAIkAGkGiACRIAIEAEiQASIgIIRIAOoYBtOcokAESACRIAIEAEiQAaQaoAIEAEiQASIABEgAgpGgAyggm04ySUCRIAIEAEiQASIABlAqgEiQASIABEgAkSACCgYATKACrbhJJcIEAEiQASIABEgAmQAqQaIABEgAkSACBABIqBgBMgAKtiGk1wiQASIABEgAkSACJABpBogAkSACBABIkAEiICCESADqGAbTnKJABEgAkSACBABIkAGkGqACBABIkAEiAARIAIKRoAMoIJtOMklAkSACBABIkAEiAAZQKoBIkAEiAARIAJEgAgoGAEygAq24SSXCBABIkAEiAARIAJkAKkGiAARIAJEgAgQASKgYATIACrYhpNcIkAEiAARIAJEgAiQAaQaIAJEgAgQASJABIiAghEgA6hgG05yiQARIAJEgAgQASJABpBqgAgQASJABIgAESACCkaADKCCbTjJJQJEgAgQASJABIgAGUCqASJABIgAESACRIAIKBgBMoAKtuEklwgQASJABIgAESACZACpBogAESACRIAIEAEioGAEyAAq2IaTXCJABIgAESACRIAIkAGkGiACRIAIEAEiQASIgIIRIAOoYBtOcokAESACRIAIEAEiQAaQaoAIEAEiQASIABEgAgpGgAyggm04ySUCRIAIEAEiQASIABlAqgEiQASIABEgAkSACCgYATKACrbhJJcIEAEiQASIABEgAmQAqQaIABEgAkSACBABIqBgBMgAKtiGk1wiQASIABEgAkSACJABpBogAkSACBABIkAEiICCESADqGAbTnKJABEgAkSACBABIkAGkGqACBABIkAEiAARIAIKRoAMILsNl/AzBlDKbhqKJgJEgAgQASJABN4zAR0AGQDE73ldXixHBpDdNpgASGM3BUUTASJABIgAESACTUSgHYD0Jlq7SZclA8gOvy6A4tTUVOjqSv6RLnkgIBaL4WvkC1GlCA++f4ADuQewuf9mbHfZ3iB9H4+7EGnMRn1+GwyaGC8P0hQyx90+u/G159eY2XUmjo49qpAMCgo8EBExFVpatnBw8IWRry8qRSIEOzrCQktLIZmQaCLwvwiUlJTA1NRUMkQPQIki0iIDyG7XpQawuLiYDCA7ju89OqBbAMrDyhH9XTTcKtww134uzk863yCPxNh4pGRYQixSQt9+ZdDQ4O4v0pr6GjxKfITkomS49XSDkhLdmkyL4uLLi5h9fTac2zvDc5En0zBBjSsvj0ZAQGeoqDTHgAEl6BIQgMiKCvxub4/hLVsKSiuJIQLvgoDEAOrpSbwfGcB3wVMR5yADKKe7Hj45HHm/5aF0WynGNxuP/qb94b3Yu4Ga+rp6eD5qDiWNKrRpHQi7Lo6cqa2srYTWjtcGM3dTLlprtWa81s+/7kN9midEzTtj0bKvGccJZeCztGfoe7Iv2um2Q6p7qlBkyaSjvr4KXl6a0ph+/XIxKToD9woKcNzKCkuNJa8p00UEiMBfCZABBOhnBnb3BBlAdvyaLDphcwJSd6dCbYkaBpgOgFFzI2RslLwL3PDyOG8ONdMk1JedxdCx8znN1+QHE2SUZsB/qT+cTJwYr3V871xYdv8FeWGDMHXdE8ZxQhmYU54Dwz2GUIISKrdXoplqM6FIk0mHr68xamoy4eAQgG1ZujiUkYGP2rfHN+bmMs1Dg4mAIhAgA0gGkG2dkwFkS7CJ4jOOZiB2ZSx0RuigZ9+e0iwqPqqAptrrX1H+e9097Aztzt4ofvUJJiz4ktNsl91ahpKaEmx33g57Q3vGax09tgnWVntQmWCLUUsiGMcJZaDknc7JVyajnU47fD3ka+hpSB/rKNwVHNwfJSW+sLW9grNVvbE5MRGzDQzwi62twrEgwUTg3wiQASQD+G818m9/Tgbw3wjx9M8L/yjEi2EvoGmtieELhqO0phRRq6Ng09qmQcY39s+CftdLKIqeh4krz/FSzaXbR9BWxw2iglYYMjmPlzlSUtwTiIycg5ycCzA3/xb+GgsxPTIS/XR14ePgwP3itAIRkDMCZADJALItWTKAbAk2UXxlciX8O/pDSV0J639cj9DcUNyZdQdjrMY0yOjZ099RmBMPs859Ydu1RxNl+7+XDU0IRlHq6/cTu3TNQ+tWrXiZJyXFLYGkpE/w6tXXMDZeieK238IpOBjG6upI79eP24VpdiIghwTIAJIBZFu2ZADZEmyieHG9GJ6anhDXinFq/ymczz+P/aP2Y43TmibKCCipLkFgRiAkH4T83Yj+r6TqRfXwvK8HJe1y1IpuYviQ8U2moSkXLqoqQkVtBYx1FPOjh8zMk4iJWYqWLUfCyOYmDHx9pS95V7q4oJmyclNuDa1NBHhHgAwgGUC2RUkGkC3BJoz3t/ZHZWwlfHf5YnvVdmzoswHfj/i+yTLyTvGG82lndNDvgKQPkmTK48G5TtBon4CU5G8wf+FHMsUKYfChgENYfW81pnSegqvTrwpBkswaCgsf48WLodDUtIaTUxSae3mhQiRCnJMTOlEvQJl5UoCwCZABJAPItsLJALIl2ITxYaPDUHC/AOlb0zFXYy4m2kzEbzN+a5CRSCTCw1+Pobo4Ds5Tt6BVSwPOMpZ8ASz5ElhFSUX6Nauaihrjta4d7IdWdn5IfLEMiz84xjhOKANvx9zG+Evj0aNtDwSvCBaKLJl0VFYmwt/fAkpKzeDiUoEuAYHUC1AmgjRYkQiQASQDyLbeyQCyJdiE8XHr4pC+Px01S2owwnQEuhl2Q+jK0EYZPb7eGsot89FM5T76Oo/kLGORWIRex3vBRMcEZyaeQUtN5g18z+4dD7Put5EeMg5z3G9xliNfJw7PCUfXw12hr6GPwi2FfE2T07xEolp4emoAEKFv33RMjsmjXoCcEqfJ5ZkAGUAygGzrlwwgW4JNGJ/2UxriP4hHszHN0K9XP+g200XRlqJGp3A8PGmPZhYvUZGzF6Onf9CEGf/z0kcPLIN1lxMoiuiDiav9eJkjl0mV15Sj+c7m0iUKNheghWYLLpfj7dx+fh1QXf0KPXp446PsNtQLkLc7RYk1NQEygGQA2dYgGUC2BJswPv9uPl6OfQmtrlroPaW3NJO8TXlopdXwK9rbB0ZBp8sDFMWvw8Sl+5ow439e+uT5L2Fh+hlqUjvAdZ5s7w/yUtBbJCVpBi1pCh20PAgORorZ+iQ0dDCKip7CxuY8zte4UC/At6gjClEMAmQAyQCyrXQygGwJNmF8RUwFnts8h7K2MmZ8PgNZ5VkIWBaAnsavG0P/97pxcAX07Y6hOGoCJrjd4DTjwspCROVFQVNVEz2MmLedueN5Fc1F0yCu1ICLaxlUVFQ4zZOPk0uOg5McC3d12lVMsZ3CxxQ5zyk6ejGysk6jQ4evEKC1nHoBck6cFpBXAmQAyQCyrV0ygGwJNmG8qFokbQUDMbDj+x3wKPXAlalXMM1uWoOsbp3eBd2O21CR4IDRS4I4zfhHvx+x4fcNmGY7DVemXWG8VnZRFiKDjaGkLIah4Ut07tyFcaxQBs6+NhsXwy/iu2HfYVP/TUKRJZOO5OSvkJz8Kdq2XYxS4x+pF6BM9GiwIhEgA0gGkG29kwFkS7CJ4/06+KH6VTVuf3MbP9T+gF1Dd2HLgC0Nsnp67xqgNRV1uW0xbFompxnfjL6JiZcnwtHIEYHLA2Va68aRXqiv1UC7/t+it4PiNf89GngUT189xUy7mZhgM0EmdkIZnJV1HtHR86GvPxgmtg/kvxdgbu7bbU2bNm8XR1EKQ4AMIBlAtsVOBpAtwSaODx0aiqLHRYjYHIE1WmuwwnEFjow90iCruMhopOd0hrheGf2dK6Cu3oyzrCNyIjDh0gTpO2yy/ALIWUI0sVwRKCryRmioMzQ0OqB370ToeHmhXCRCrJMTLOWxF6CSpJX1W1xi8VsEUYgiESADSAaQbb2TAWRLsInjY1bEIPNYJgqXFWKyyWQMNx+O3+f93iCruto63Pv5a2i3sYKz6xRODWAT46Dl5ZxAdXU6/PzaAVCBi0sV7AODEVFRgYf29nBtybytEG8wkAHkzVYILREygGQA2dY0GUC2BJs4PmV3ChI3JwLjgcEOg9GpZSfErY1r4qzefvnqmmqkZqaik1mnt59EjiMlx+KllaTBVM8UykqKd/yZWCyCp6cmxOIa9O6dhKlxJdJegMesrLDMWA6PyCMDKMd3I79TJwNIBpBthZIBZEuwieNzr+ciYkoEmjk2Q79x/aCmrCY9hUNFuem+oi2uKkZCYQIMtQ1homvCmNCxUx/Dst13qHhlgzHLwhjHCWWgxPzp7tKVngec6p6KdrqSX8IU7/L3t0ZlZSy6dXuMj3NN5LsXIBlAxSvg96SYDCAZQLalRgaQLcEmji8LK0Ngt0CotlTF4PWDUSeqw6v1r9Ber32DzMKCn+NV+B/QamGKoePmcpr1rGuzcCn8ksxfs/58/Se0a/kB6nMNMHRaNqc58nVyi58skFiYiD8X/gkXMxe+pslpXi9ejEBh4e+wtj6Jn2uHSXsBzjIwwAVbW07X5WRy+giEE6w0KUAGkAwg2/uADCBbgk0cX19eD6/mXtIs1u1ch5fVL/F0wVMM7DCwQWY3jmyCvs0elMYMxbgVjzjNevsf27HDewfcerrh0JhDjNd6lZWMPx9fQXvz7hjUx5VxnJAGDjs3DH8k/YEzE85gQfcFQpLGWEtMzEpkZh6FmdnHCNReS70AGZOjgYpEgAwgGUC29U4GkC1BHsT7GvmiJqsGpz4/hfM4j9MTTmNh94UNMrt/6Qg027qhOsUaI+ZHc5r16ZDT+OTJJ5jZZSb2uO7hdC2hTb789nIcDz6OT10+xReDvxCaPEZ6UlK+RWLiVhgazkWZyUHqBciIGg1SNAJkAMkAsq15MoBsCfIgPsQ5BMXexfDZ5IOPtT9+o3l47vUUFfWDISrVwZBxJTzImlJ4E4GdXjvx0eOPMM9+Hs5NOqeQkHJyriAycgZ0dfvDtMtjaS9AyVXp7AwNBTwhRiGLgET/KwEygGQA/7VI/mUAGUC2BHkQH7UwCtlns5G6LBXzTea/0TzkZechPOp1c9kuXbPQupUhDzJvnMLZC99BlB0EdcPemDN7Ay9z5DKpy+GXMfPaTAxoPwBei14/2le0q6QkAMHBTlBXN0bfvmlo7uWFCnnuBahoG0h63wsBMoBkAN0ASP6vw38qLgLAlwDuM6xAMoAMQfF5WPJXyUj+NBmVEysxuvto9DftD+/F3o1SfnyjBZT1i6Cl7gGnfsM4lVRZW4mkoiR00O8ALTUtxmud3zsGpt3vIS14EuZuuM44TigDn6c/R+8TvWGsY4z0DelCkSWTjpqaXPj6GkhjnJ0rYR8Uhkh57gUok3oaTASYESADSAZwHIB6AJLGb5KW85K3xiWHiPYAIDGD/3aRAfw3QnLw59kXsxE1OwrKvZUxcNRAGDU3QsbGjEaZPzxlh2bmkajM3Y9R09ZwqsxyvyXiC+Lf+EHK/1r42P5FsOp6BgXh/TB5jQ+nOfJx8vyKfEi+orZoYSH9gEbpbduI8FEcw5zEYjG8vHQgEpXDySka0+Krpb0Aj1pZYbk89gJkqJuGEQFZCJABJAP4pnop+I8JPMmgmMgAMoDE9yElASUIdgqGaltVOK90lqZb8VEFNNU0G6R++6ArdOw8UBTvjolLf+BUlut5V3gkerzxg5T/tfDx05/CsuNXqE7uhBEL5behNadwFWDygICuKC8Ph739A3yS11G+ewEqwH6RxPdPgAwgGcC/Vp2k8+80AGf/8wtg5BtKUnII7F8PgtUBkFZcXAxdXYkXpEseCdQW1MKn1etfy6Z9Pg15yEPkqkh0btO5gZyn935FeVE6zO0Ho3OXbpxKXXlnJa5GXsVXg7+CWy/JWwrMrpuPfoGe6lyIy7QxcHQJlJUV7zQMZqSEPerly/HIz78NS8vDuFA/Wr57AQp7q0hdExEgA0gGUFJ6XQH4AdAAUAZgNoB7/1CTnwP47O9/Rgawie7gd7isdwtv1BXVYdfHu/BQ9SHuzr6L0Zaj3+EKsk0laUitqqwqWxCAV7lJSIowl8a1bx8Hc3PFPBKurKYMtfW1aKHZQmaGQgiIi1uH9PT9MDXdjGCdjdJegH11deHr4CAEeaSBCLAmQAaQDKCkiNQlf1cC0AMwFcBSAJIuwPQLIOtbTH4mCOoVhNLAUtzeeBs/6PyAA6MOYLXTavkR8J9MJe9/PbnRCsotClFUdh4Tx3J7agkfAf23kfbGvhsVto9iauqPSEjYgDZtpqHC9AT1AuRjoVJOTUqADCAZwDcVoOSYhwQAKxhUJ70DyACSPAyJnBWJnEs5iFgagTXt1mBDnw34fsT3DVKvqqrCn3d/RmVhAsYs/BJqqmqcSpP8Cphekg4zfTOZ1rl3yhZa5lFIit2ORcu/lilWCIP3++/HugfrMMlmEq7PULwvoSV7mJt7AxERk6Cj0xPtu/pQL0AhFDZpeKcEyACSAXxTQT0GkAKg4VEQby49MoDv9JZsuskSP05EyjcpyJ+Uj6ndpr7RPFRXVcPXUwdK6rUwMX4JS6sunCVcUl2Clt+2RL24HmXbyqCtrs14rSv7B8Gg659IClmARe5nGMcJZeCd2DsYd3EcurftjpAVIUKRJZOOsrIXCAzsDjW11ujXLwc6Xl4oF4kQ4+QEKy3mbYVkWpQGEwE5IkAGkAzgzv/0/JMYPskHHZL3/7YAGAHAg0EtkwFkAEkehmSeyUTMohjU96vHMNdh6GbYDaErQxul/uiiKVSN0oCqyxg0cjqn0lp82wJFVUUIdwuHnYEd47VO7Z0K8+7XkBU6AjPXP2AcJ5SBkbmRsDtkB91muijaUqSQrWDq6krg7S15qwUYMKAE3YOjEEG9AIVS4qTjHRAgA0gGUNLqZSgAIwDFAMIAfMvQ/ElKkAzgO7gR+TBFkVcRQl1CodxeGQMXD/xH83DvaG9oWT9HaepXGDfvY05TdzjqgNj8WNyZfQeDOgxivNaRw2tg0/kgyqJ7YOzKYMZxQhlYUVsB7R2vfzHN35yPlpothSJNJh3e3i1RV1eInj3DMDNRjLvUC1AmfjRY2ATIAJIBZFvhZADZEuRJfHVmNfyM/QBlYPhHw1GnWvdG83DzwBTodbmOouglmLjyBKfZl1aXorl6c5l/wTp7ZQ/MDDahLtMEw2alcZojXyc3+t4IWWVZCFwWCEdjR76myWlegYGOKCsLRpcuN/F5gQ0OZmTgo/bt8Y3566/E6SICikyADCAZQLb1TwaQLUGexEtPT2juBVGFCO5b3BGqGYqAZQHoadyzQYY3jmyEvs0PKI0ehnErmbwl8P4FPg1+BJQMh7hOBX0HlEFDQ9LhSLGu/qf6wzfVF1emXsE0O0l7T8W7wsOnIi/vGjp12otLoknYlJiIWQYGuGBrq3gwSDER+BsBMoBkANneFGQA2RLkUXyAfQDKX5bj9PrTOKd/7o3m4d6FA9AyXovqV50xYsGbOgW9W0ESYyr5IERP4/X7XEyu8qpyeF3ugcqy1ugx/gI6mP73qGsm0cIY8+mTTyF5F3CN0xqZHp8LQ/1rFQkJm5Caugft2q1HqO42TIuMRB9dXfhRL0AhbTNpeUsCZADJAL5l6fxfGBlAtgR5FB8+ORx5v+XBd4kvtptux7fDvsXm/psbZPjs6SNUYThExfoYMqGQ0+y9U7whORLOoqUFXrq95HQtmlx4BNLTDyIubg1at56IqvZn0Ss4GEbq6sjo1094YkkREZCRABlAMoAylkyj4WQA2RLkUXzCpgSk7klFyuQULLBfgJWOK3F47OEGGRbk5cHz1l5ot+yEoePnc3rUWlx+HKwOWEFLTUvaCkZJSYlHtCgVvhPIz7+Hly/HQFu7Gzp2e442vr7SlCudnaGhIjn5ki4ioLgEyACSAWRb/WQA2RLkUXz6kXTEucWh3LkcY4eOxQiLEXgwt+naqNTU10Djaw3pkXAZGzPQWqu1TLTq6uqQX5QLw9aSj9wV75I8Ps+tyIWBtoHiiQdQXh6FgABbqKjoon//Quh6e1MvQIWsBBL9JgJkAMkAsr0zyACyJcij+IJHBQgbHgaxuRhD5g+BZUtLxK6NbdIM00rSYNTcCCrKsv1ic/TQGliZn0RBrBOmrPuzSTU0xeKZpZkw/8kc9aJ6VG6vlJlfU+T8rtesr6+El9frps/9++ejR0g89QJ815BpPrklQAaQDCDb4iUDyJYgj+Irkyvh39Ffejr00K1DoaKq8kbz8CLQH6nR3mhhYo3+g8fySMH/T+XoyW2wttiFqiRrjFwUzcscuUxKYvw0v9FEragWyR8ky3ycHpe5vc+5fXzaorY2G46OgZiVpEa9AN8nfFqL1wTIAJIBZFugZADZEuRRvLheDE9NT4hrxZi9YTYydTORsj4FpnqmDbK8cWAx9LucRlHUNEx0u/JeFNTW10JNhfnZw6FRgQgNeIj2Fg4Y0n/Ue8mRb4t0+qkTEgoT8HTBUwzsMJBv6b2XfIKD+6Kk5BlsbX/Fl0X21AvwvVCnReSBABlAMoBs65QMIFuCPIv3t/ZHZWwl9qzeg7tt7r7RPNw6+QV0LT5HeVwfjFnmx6mC40HHsfnRZky0mYjTE05zupbQJpd8Qe2R6IFT409hUY9FQpPHSE9k5Gzk5FyEufl3uIIZ1AuQETUapAgEyACSAWRb52QA2RLkWXzY6DAU3C/AvUX3sNtst9R0Ley+sEGWf9y8ABW9OajNNMXwWZJjpLm7Lry8gDnX58DFzAV/LlS8d/nYkF1xewWOBR/Dx84f46shX7GZSm5jExO3IyVlB4yN3RCm/zn1ApTbnaTE3zUBMoBkANnWFBlAtgR5Fh+3Lg7p+9MROSUSq7uuxqcun+KLwV80yDI8NBR5RT0grlGD89AKqKqocqbiWdoz9D3ZF6a6pkhxl81snj6/A+L8cLS0HI2JY+ZyliNfJ/7W+1ts/WMr5nSdg58n/8zXNDnNKyPjBGJjl6Fly1Go6XCJegFySpsmlycCZADJALKtVzKAbAnyLD5tXxri18cjf2A+pg6eirn2c3F+0vkGWVZVVsHPVxtKKiK0N42CuYUNZyqq6qqQUpwCMz0zNFNtJtM6Vw8MQOsuPkgKXYJF67k9t1imxN7T4F8jfsX0q9PRt11faXNvRbwKCh4hLGw4tLRsYN79BfUCVMQiIM1vJEAGkAwg21uDDCBbgjyLz7+bj5djX6LWuhaus1zR37Q/vBd7N8ryj8smUDHMgHLtVbgMn8IzFa/TObN3Ejp0v4GMkDGY7X6HlzlymdTL7JdY92AdHI0cscd1D5dL8XbuysoE+Pt3grKyBgYMKIOutw/1AuTtblFi75MAGUAygGzrjQwgW4I8iy+PLkdA5wBAGxj84WAY6xojfUN6oyzvH+sFTatAlKbtxLi5W9+LCkljY1lOAzlycCVs7I6iOLIXJqx6/l5ypEX4RUAkqoWnpwYAEfr2zYTjixRpL8AH9vYY0bIlv5KlbIjAeyRABpAMINtyIwPIliDP4kXVImkrGIiByR9ORmHzQmkvQA1VyV+i//96cPUE6ioLYek4Eta2XTlVsfXRVpx9cVb6PqJbLzfGa526sBPmxh+hNt0Uw+fI9v4g40VoIO8J+PmZobo6BT16+GLOK23qBcj7HaME3wcBMoBkANnWGRlAtgR5GO9n5ofqlGpsWrEJgUaBiFodBZvW3L3n928I3B+4Y6//Xmzsu1GmR5m/+96Ges14iKvV4TykHKpq3H2s8m8amvLPJe9RisQi6ZnKiniFhAxEcbEnOnf+BV8V95T2AtzWvj12mJsrIg7STASkBMgAkgFkeyuQAWRLkIfxoUNDUfS4COfnn8cp81O4N/seRlk2XTPl/f77pe+yTe48GdemX2NMrKi8ECHPWks/VtFt8RwO3XoxjhXKwCU3l+BU6Cn8NPInrO29ViiyZNIRFbUQ2dln0bHj1/hVaZ60F+BMAwNctLWVaR4aTASERIAMIBlAtvVMBpAtQR7GxyyPQebxTDyb/Azb7LfhwKgDWO20ukGmZSUl8Ht8A5XFaRi/4CNOVWSVZSG7LBvmLcyh00xHprUeXTGCqkEWcnIPYfo05o+PZVqEx4M//P1DfO/3Pdz7uOOHET/wOFPuUktO/gLJyZ+jbdslCG+5g3oBcoeaZpYjAmQAyQCyLVcygGwJ8jA+5bsUJG5JRNqgNMwbNO+Nj14zUtMQm/D6iDgHhyLo6urxUAlw+3g36FiGITFyIxavUrwvYQ8+PzsRxOEAACAASURBVIg199dIT1L5bcZvvNwjrpPKyjqH6OgF0Ncfijrz69QLkGvgNL9cECADSAaQbaGSAWRLkIfxuddyETE1AhW2FRgzfQwm2UzC9RnXG2RaX18Pz/t6UGpeDl1tTzj0cuahEuDivuEw6vYIr0JmYoH7RV7myGVS9+LuYcyFMbA3tMeLlS+4XIq3cxcVeSE01AUaGubo5BBFvQB5u1OU2PskQAaQDCDbeiMDyJYgD+PLXpQhsHsgxPpiDFk/BN3bdkfIipBGmf5+zgrq7eNQXXAMIyYv41TJzKsz4Z/uj6vTrsLR2JHxWif2zUanbheR+2Iwpn3wmHGcUAZG50Wj88HO0FHXQfHWYpna6AiFQVVVKp49aw8lJVU4O1dC19uXegEKZXNJx1sTIANIBvCti+c/gWQA2RLkYXxdWR28dV43fx67ZSxU9VVRtLWoUaZ3Dg9G885PUZS4BRMX7+JUyYBTA+CT6oPLUy9jut10xmsdPfYhrK2+R0W8HUYvDWccJ5SBki+ANb/RlMrJ3ZSL1lqthSKNsQ6xuB6enloQi2vQp08yeoZlS3sBPrS3hyv1AmTMkQYKiwAZQDKAbCuaDCBbgjyN92nrg9rsWqxYtgKxJrHI35yPlpoNG+feODAf+l3OoyhyJiau4vbx6vzf5uN82HnsHLoTWwcwbzx94eZhGOutgii/FYZMyeMpbW7TMvnBBBmlGfBf6g8nEyduF+Pp7P7+lqisjEe3bk8wL7WltBfgESsrrDA25mnGlBYR4JYAGUAygGwrjAwgW4I8jQ/uH4wS3xLsm7sPNzrdQOCywEaPXm+e+BR6nb5CeWx/jFne+Li4dylNcqxZRW0FrFtbQ19Dn/HUIfGByPWfiopiQ4xe6g11dTXGsUIZuPDGQhRVFeGzgZ+hh1EPociSSceLF8NRWPgI1tansaOsPw6kp2Nr+/bYSb0AZeJIg4VDgAwgGUC21UwGkC1BnsZHLYhC9rls/D7xd+zsvhO/TvsVU22nNsjW4/o5qLVcgNqMDhg+O4mnSigtIgDExCxHZuZxmJl9imsqS6S9AGcZGOAC9QKk8lBQAmQAyQCyLX0ygGwJ8jQ++ctkJH+WjJghMVjpshLfDvsWm/tvbpBtcmICQh8fg3ZrWwyfuICnSigtIgC8erUTSUkfwdBwPiJa7aZegFQUCk+ADCAZQLY3ARlAtgR5Gp99IRtRc6JQaF+IyZMnY6XjShwee7jJsi2pLsGsa7OQUpwi/SJZVVm2Y93q6upQUVUB3eaSklW8SywWo6ymTOZG2kIhlZ19CVFRs6CnNwD1FnepF6BQNpZ0vDUBMoBkAN+6eP4TSAaQLUGexpc8L0Fw72DUtanD8NXD4WrhiodzHzZZtpKzbCVfs9bU1yBxXSI6tujIOJfj+xagk8U1ZMQNxRz3m4zjhDIwKCMIg84OgoG2ARLWJQhFlkw6Skr8ERzcB82atYNVz0S09vGRxlc6O0NDRUWmuWgwERACATKAZADZ1jEZQLYEeRpfW1ALn1av/5Ic+dFItG/bHrFrYxtlG/rcDxnxz9HWwgEOvbltBm1zwAYx+TF4NO8RhpoPZUzu6P6lsO56EkURfTBxtR/jOKEMTCtJg+mPptJfTSu3V8r866kQONTU5MDX1xCS/+Q7O1dAz+e5tBdgtJMTrLW0hCCRNBABmQiQASQDKFPBvGEwGUC2BHkc793CG3VFdVjktggZxhmo+KgCKsoNfy25eWA89LrcRmHMSkxawe0jYo8ED6irqEu/ZNVtxvxR7lP/B0iK9Ef7Tj0x1HkMj4lzk9pffz1N/iAZZvpm3CzE41klj8C9vJpDJKqAk1MsnMILqRcgj/eLUuOeABlAMoBsq4wMIFuCPI4P6hWE0sBSfDbrM3haeyJlfQpM9V6f//vf67fDa9Gi8wGURI3GeLe7PFaj2KlZH7BGbH4sHs9/jMEdByskjOfP7VBREQl7+4dYkG6EO/n51AtQISuBREsIkAEkA8j2TiADyJYgj+MjZkYg93Iurky4gsM9DuPPhX/CxcylQcZ3fv4RzdttQFWiPUYuVsyzZnm8hf+X2qhfRuFB/AOcGHcCSxyWyEPK7zzHsLCxKCi4CyurI9hZPoR6Ab5zwjShPBEgA0gGkG29kgFkS5DH8YnbE5GyIwVBQ4LwocuHODPhDBZ0b9juxcvjNurVxqM+vzWGTsnlVE1ETgQ+e/oZtNS0cG7SOZnWOnX2S4gL49Cp9zwM7OsqU6wQBq+6uwqHAw9ju/N2fD3kayFIkllDbOwaZGQcRPv2W3Fd1Y16AcpMkAKERIAMIBlAtvVMBpAtQR7HZ57ORMziGGR2z8TsibPxqcun+GLwFw0yTklKQuIrc4hFSnDqUwJtreacKXqR9QLdj3ZHK81WyNss27Fud050QfNOEUiM3oLFK7k9t5gzACwm3u2zG5sfbcasLrNwYcoFFjPJb2hq6vdISPgQbdrMQLTBfkyNiEAfXV34OTjIryjKnAi8JQEygGQA37J0/i+MDCBbgjyOL/IqQqhLKKqMqjBqxSjMs5/X6Je3+vp6eD7UgZJWJVroPUO3Hr05U1RaXQrdXa8//ijeWizThyCXfhqCtvZPkBwyFwvdz3OWI18nvh93H994fSNt5/PpwE/5mianeeXmXkdExBTo6PQGrDzQMygIRurqyOjXj9N1aXIiwEcCZADJALKtSzKAbAnyOL46oxp+Jn4QK4vh+pErenfsDe/Fjc/89TjfCWqmCagtPoXhExZxquhE8AmY6ppiUIdBaKbajPFaJ/fOgEX3K8gOHY4Z639nHEcDhUOgtDQEQUEOUFMzgI1TGvUCFM7WkpK3IEAGkAzgW5RNgxAygGwJ8jhe2jpD2wuiShHmrp0LcQcx0jekN8r4zs/fQyyqhm2fSbCw6sxLRUcPr4d1530oj+2GMctDeZkjJcUtgdraIvj4tJAuMmBAKVr4haCsvp56AXKLnWbnKQEygGQA2ZYmGUC2BHkeH9A1AOXh5dgyZwueWz6XNhLWUNXgedaN0/v52l60a+WO+hxDDJ2eJXf5v6uEa+trpVOpqai9qynlah4vL33U1xejV69w9ImsQHh5OR7Y22NEy5ZypYOSJQJsCZABJAPItobIALIlyPP48EnhyLuRhyPjjuCy42VErY6CTWubJsv6UeIjnAk9AwcjB2zou4FxHs/CPFFVMBDiemX07F0CnebajGOFMnDshbG4H38fv834DeOtxwtFlkw6AgN7oKwsFF263MaiTDPqBSgTPRosJAJkAMkAsq1nMoBsCfI8PmFTAlL3pOLp4Kf4YuAXuDf7HkZZjmqQdWFhIYJ97qO6PB+jZ6zlVJHkHcBlt5dhZKeRuD/nPuO1qmqq4PdED0rNaqCk5oGB/YcxjhXKwKlXpuJa1DXsHbEXH/T5QCiyZNIRHj4ZeXm/oVOnn7CrYgQOZmRga/v22GluLtM8NJgIyDsBMoBkANnWMBlAtgR5Hp9+JB1xbnFIdEjEkvFLcHD0QazqtapB1pLzgIsq+kFcoYmBI8ugrKzMmarHSY8x9NxQWLeyRvSaaJnW+f0XM6ibpCA9fQ/mzNkoU6wQBm/22IzdvrvxQe8PsHfkXiFIkllDfPxGpKX9gHbtNuCG+gfUC1BmghQgFAJkAMkAsq1lMoBsCfI8vsCjAGGuYSg1LcX4JeOxse9G7HHd0yDrkuISBIfoSf9dp06JaNeuI2eqcstz8XPYz7BqZYUxVrKd63vjcC/odw5EwstVWLL2IGc58nXiwwGHsereKoyzGodbs27xNU1O80pL24/4+HVo3XoSYgyPUi9ATmnT5HwmQAaQDCDb+iQDyJYgz+Mrkyrhb+4PkboIw7YOwyS7Sbg2/VqjrB9fawPlVnlQxx30GySbMXtfCM7vHQPT7veQGjwZ8zY01vC+8miqdR7GP8TIX0aii0EXvHR72VRpNOm6eXl3EB4+Ds2bd4eStae0F2BbdXVkUi/AJt0XWvz9EyADSAaQbdWRAWRLkOfxojoRvDS9IK4TY8b6GTCxMUHwiuBGWT842Q0aFmEoz/wBY2a581LVsZ8Wwcr+DApeDsDktV68zJHLpGLzY2F9wBraatoo3VYKJSUlLpfj5dzl5REICOgCFRU92PbJpV6AvNwlSup9ECADSAaQbZ2RAWRLUA7i/a38URlXCfcF7kiySULR1qJGWd86OAa6dvdQGLsak5Yf4FTVpfBLkHwNPN1uuvRkC6bX8dMfw7LjN6hOtsSIhbFMwwQzrrquGprfaEIMMbI/zIaBtoFgtDEVUl9fDi+v18cV9uuXj1b+EdQLkCk8GicoAmQAyQCyLWgygGwJykF82KgwFDwowJ5xe3DX8S4KNheghebrhrr/vX477IYWnY+gOHIcJqzi9v2y5beX43jwcXzi8gm+HPwlY4I3/7gErZxNKMnriClrPRnHCWngkLNDoKmmiUOjD8FM30xI0hhr8fExRG1tDhwdg9Avup56ATImRwOFRIAMIBlAtvVMBpAtQTmIj1sbh/QD6bg5+Cb2DtyLwGWBcDR2bJD57XO7odN+MyoTemDUksaPiN+lzF3eu7Dtj22Yaz8X5ycp3rm+75KlIs4VFNQHpaX+sLO7isVZVtQLUBGLgDSDDCAZQLa3ARlAtgTlID51byoS3BMQ7hiOtePW4srUK5hmN61B5i9DApEQcBHabbth+Pj5nKoKSA+QPgJ2MnHCUPOhnK5FkwuPQETETOTmXoaFxR58VzUeB9LTqReg8LaZFP0LATKAZADZ3iRkANkSlIP4vDt5CB8XjvwO+Zi6cCq+HfYtNvffLAeZ/3OKNbU1UFdTl2sNbJKXvA/YTLUZmynkNjYxcRtSUnbBxGQNbmlsxocJCZhlYIALtrZyq4kSJwKyEiADSAZQ1pr5+3gygGwJykF8eVQ5AmwDUKdZh+Gbh2Nlz5U4PPawHGTeOMXTe6fCzNwDyQmTsNj9jFxqYJP0ndg7mP/bfHRv2x2PFzxmM5XcxmZkHEVs7Eq0bDkGcUanqReg3O4kJc6GABlAMoBs6kcSSwaQLUE5iK+vqoeXlhcgBiZ/OBlO3ZzwYO6DRpmHBvghMykUHWz7oXOXbpwqOxJ4BOE54fiw34fooN+B8VoSA9ix+zVkhYzETHfmR8kxXoDnA71TvOF82lnKLOmDJJ5ny016BQW/IyxsBLS0bKHS+Zm0F6Chmhqy+vfnZkGalQjwkAAZQDKAbMuSDCBbgnIS79feD9Wp1VizeA1qe9QiZk1Mo8zvHhkAbRsfFCd/igkLv+BUWY+jPRCaFYrbs25jrNVYxmvd9LiA/FeRMLPph6EDRjOOE8rAjNIMmPxgAhUlFVRur4SaippQpDHWUVERh+fPraCsrAXbPoVo4+srja1wdoamigrjeWggEZBnAmQAyQCyrV8ygGwJykl86NBQFD0uws6JO/HU8anUPCgrNTzz98bBmdC3u4yiqHmY6HaOU2VTrkzB9ajr2DdyH9b1XsfpWkKaXCQWQXuHNqrqqpCwLgHmLcyFJI+RFpGoBp6eGpD8pN23byZaP4+T9gKM6tULNtrajOagQURA3gmQASQDyLaGyQCyJSgn8THLY5B5PBPnB53HqUGnkOqeina67Rpkf+P4Fuhbfoey6EEYu/IJp8ouvryIqLwojLEcg97tenO6ltAm73ywM6LzouExzwPDzIcJTR4jPX5+pqiuTkOPHn4YEKtCvQAZUaNBQiJABpAMINt6JgPIlqCcxKd8m4LErYl45vgM28Ztw58L/4SLmUuD7B/+ehzN2ixHTWonuM6L462yk2c+g7g4Bf1Hf4jOlna8zZOrxEb/Mhr34+/j2NhjWOa4jKtleD1vSIgziou90bnzRSzNsZP2AjxsaYmVJia8zpuSIwLvigAZQDKAbGuJDCBbgnISn3M1B5HTIpFmkYZ58+bhzIQzWNB9QYPsg/w8UVo9EOIybQweW8ZbZR6XTKDWNgNZWT9h5sy1vM2Tq8TW3FuDgwEHsW3ANuwYuoOrZXg9b1TUfGRnn0fHjjuwp2aqtBfgFlNT7LKw4HXelBwReFcEyACSAWRbS2QA2RKUk/jS0FIE9QhClW4VRm0Yhc8GfobPB33eIPuiwiKEvnh9RJyNdRraGnH3a0plbSVOh55GSnEKdg7dCSUlJcYkbx51gJ51CBIi1mPJ6h8Zxwll4LGgYzgZchJzus5R2Pcnk5I+w6tXX8LIaDnuaH0s7QU408AAF6kXoFDKnHT8CwEygGQA2d4kZADZEpST+LrSOnjrekuzHbt1LCY7Tca5SY0/9Hj8WysotyhAM+X76OsykjN1NfU10PhaA2KIkbUxC4bNDRmv9cu+ETDp9jtSQqZhvvsVxnE0UDgEMjPPICZmEVq0GIZ44wvSXoC9dXTwzLHhEYfCUUxKiEBDAmQAyQCyvSfIALIlKEfxPoY+qM2pxfLly2HQ2wDei18bwr9eN09+AiUVFXQbOA9mHbl9nNb+x/ZILUmF72Jf9DXty5jk8X3zYNntZ+SHuWDKuj8Zx9FA4RAoKvoToaGDoKFhATW7EOoFKJytJSUMCZABJAPIsFT+cRgZQLYE5Sg+uH8wSnxL8MXULxDbNxbpG9KbNPvPnnyGyrpKLHNYBstWloxzOXZyC6wsvkNlYmeMWhzJOE5oA+tF9dJH539v5yM0nW/SU1WVgmfPzKCkpAa7viVo4/tMOox6ASrC7pNGCQEygGQA2d4JZADZEpSj+Kj5Ucg+n40TQ07gF5dfpL0ANVQl/dTk67py7wQMtJZBVKSPIRML5Sv5d5Rt7xO9EZIZgsDlgbA3tH9Hs8rPNGJxvbQXoFhch969X8Eg8BX1ApSf7aNM3wEBMoBkANmWERlAtgTlKD75y2Qkf5YMDwcP7Bi/A9Gro2Hd2rqBgvy8XIQHeKK2phzDJsznpbqI5JfITX5temxsMtC2rREv8+QyqV7HeyEwIxA3ZtzABJsJXC7F27mfPbNAVVUiunf/Ey5xmnhZXo77XbtiZKtWvM2ZEiMC74oAGUAygGxriQwgW4JyFJ/9Szai5kYhvlM8ls1dhvtz7mNkp4Yfejy9dxXQmoa6bGMMm8HtI+Lssmzci7sHyekWSxyWMCYpFovx5I4elHVKUVV7FSOHT2EcK5SB03+djl8jf8WPI37E+j7rhSJLJh2hocNQVPQHbGzOYHmuA27n5+OIlRVWGBvLNA8NJgLySIAMIBlAtnVLBpAtQTmKL/EvQXCfYJS1KMO4D8bhwKgDWO20uoGC2KhIZGTbQVyvjP7OFVBXb8aZQr9UP/Q71Q+muqZIcU+RaZ0HZy2hYRaP5MQvsHDxpzLFCmHwFo8t+M73O6zptQb7R+8XgiSZNcTELENm5gmYmX2GH+rmUC9AmQlSgDwTIANIBpBt/ZIBZEtQjuJr82vh09pHmvGI7SOw1mUt9rjuaaCgtrYO3k+0oKRei7ZtQmFj140zhZJfANt+3xZKUELVx1VQV1FnvNbVgwPQ2s4HiS+WYPEHJxjHCWXg0cCjWHl3pfQovTuz7whFlkw6Xr36BklJH8PQcAHuNf+KegHKRI8GyzsBMoBkALcBmCx5FQpAJQBfAFsAxDAsbjKADEEJYZjk0al3C2/UF9djkdsiOAxywLXp1xpJe3TBDKrGKRBX/ILBo2dzJl2Sz5QrU6RnEn81+CvoaegxXuvM3kno0P0GMkLGYLa74hkgjwQPuP7sis6tOyNytWJ+CZ2dfQFRUXOgp+eCxHZXqRcg47uHBgqBABlAMoAPAFwCEABAFYDkXKguAGwBlDMocjKADCAJaUhgz0CUBZXh45kfo3xQOUJWhDSSd+9oX2hZP0PJqy8wfgE/H68ePbAC1l2OoTiyFyasei6kLWKkJb4gHpb7LaGpqonyj8plOkmF0QJyMKi42A8hIf3QrJkpmnWJgGNQEAzV1JDVv78cZE8pEgF2BMgAkgH8ewW1AZADYCAATwblRQaQASQhDYmYEYHcK7k45HoIvw/+HUVbixrJu3FwGvTtrqIwaiEmuZ3mpfwzF3ahnco+5Gd2xYz1v/MyRy6Tkpyk0uVQF3TQ74DrM66juXpzLpfj5dzV1Vnw85N8Aa6Mrn1L0drv9f8jQL0AebldlNQ7JkAGkAzg30uqE4A4AF0BhL+h3iRv9P/1rX4dAGnFxcXQ1ZV4QbqETiBxeyJSdqTgZs+b2Dt2Lwo2F6CF5uvzf/973Ti2CfpWe1AaPRTjVj7iFElSYRKepT2DgbYBhpoP5XQtmlxYBCSvEHh5aUMkqoSTUxzaBmWitL4eUb16wUZbW1hiSQ0R+BsBMoBkAP9aEsoAbgHQBzDgH+6WzwF89vc/IwOoOP9tyTyViZglMXhh9QLrZ69H0PIgOBg5NADwzPMRMqNuQdfYCUPHzeUUzr5n+7D+4XpM6TwFV6df5XQtmlx4BJ4/t0VFRRTs7T0wKEGPegEKb4tJ0T8QIANIBvCvpXEYwKj/mL+0f6gZ+gVQwf9zUuRZhNCBochvk4+pq6fi6rSrmGLbdH30bsfcxvhL49GjbQ8Erwh+q92pq6uDqqrkFVjFvCRHwqkoqyik+LCw0SgouA8rq+NYmd+begEqZBUopmgygGQA/1v5BwBIjgNwAZAkw+1A7wDKAEsIQ6vTq+HXzg8iZRFct7ti54id2NR/U5NJi8uPg9tdN+lxZj+M+EGmPH7eOwbGZs+QnLUYi912yxQrhMGnQk5h66OtGGs1FqcmnBKCJJk1xMauRkbGIbRv/xH21i/E/vR0bDE1xS4LC5nnogAiIE8EyACSAVQCIOkCOwnAoP+8/ydLDZMBlIWWAMaKRWJ4NfeCqFKEOevmYPzw8Tg8VvLjccPrRZA/MpNfwtZxCNp3MOel8os/DYOR/R94FTwLCzZc4GWOXCb1S9gvmPvbXAw0G4inC59yuRRv505J2YPExE0wMJiFBzrfYmNCAma0aYNLdna8zZkSIwLvggAZQDKAhwBIGrVJfv37a++/4v/0Bfy3OiMD+G+EBPjnz7s8R0VEBTbP3YyWI1riwVxJN6GG18PTdmjWMRKVOQcwanrD00L4guTCtQOozE+DeZdBGNyv4ZF2fMmRyzx8U33R/1R/tNdrj1frX3G5FG/nzsm5isjIadDV7YNk01uYEhGB3jo6eOboyNucKTEi8C4IkAEkAyj+h0JaBOAMgyIjA8gAktCGvJz4Evk387Fv1D5EjIpA7NrYRhJvH3KFjq0HiuLcMXGZbI9mZeUleQwcnhMO2za2sG5tLWu4wo7PKsuC0fdGUFZSRuX2SplOUhEKtNLSIAQF9YSamiE07eOkvQAN1NSQTb0AhbLFpOMfCJABJAPI9uYgA8iWoBzGx2+MR9oPafi1z684MeaE1DxITMRfrxuHlkLf9iSKI6dgwipuv86d99s8/Bz2M3YN3YUtAyQH2dDFhICkDYr2Dm1U1lUibm0cOrWUdIFSrKu2tgA+Pq2korv0KUKbZ68bm1MvQMWqA0VUSwaQDCDbuicDyJagHManH05H3Ko4+Fn54aPZHyHVPVV6HNtfr1unv4Zux09QEdcLo5dxe9LGp08+xVeeX2G5w3IcHXeUMdGqmipc/OVb1JemYtqC76Gnx/woOcaL8Hyg3SE7ROZG4uHch3C1cOV5tu8+Penxht56qK8vRc+eETAOyadegO8eM83IQwJkAMkAsi1LMoBsCcphfIFHAcJcw5BhmIE5bnPgudATzmbODZQ8uXMJSs1noS6rHYbNTOVU5dXIq9j7bC/GW4/H5v6bGa9VU1sDHw99KGlVoh63MXTQWMaxQhk49sJY3I27iyNjjmBFzxVCkSWTjoCA7igvf4GuXe9icGIbaS/Ae127YlSr178M0kUEhEiADCAZQLZ1TQaQLUE5jK9MrIS/hT/q1Orgus0VZyafwfxu8xsoiY4IQ1ZuN4hrVTFgcAXUVNV4qfTheXM0M01CasouzJuveI+Pt/+xHffj78O9jzvmdZvHyz3iOqnw8EnIy7sBS8sDcCtwkfYCPGxpiZUmJlwvTfMTgSYjQAaQDCDb4iMDyJagHMaL6kTw0vSCuE6M6e7TsWr8Knw+SHJIzP+/amtq4f2nFpTU6mBsGAarzpLTBfl3XT/UBy1t/ZEYthKL1zVuZ8O/jCmjd00gPt4daWl70a7dRvwkXiHtBbjZ1BTfUi/Ad42a5uMRATKAZADZliMZQLYE5TTe39IflfGVWL9gPewn2OPcpHONlPx2dA2U1fThNMoNRkbc/poi+RI4viAefU37Ql9Dcpohs+vc3nFo3/0O0oInYu6G35gF0ShBEUhL+wnx8R+gdesp+F3vR2kvwOlt2uAy9QIU1D6TmIYEyACSAWR7T5ABZEtQTuPDRoWh4EEBdo/fjZKJJfBa5NWkSqwPWCM2PxaP5z/G4I6DGedy9KelsLY/icLwvpi0xpdxnNAGSj6GUFKS9IVXvCsv7zbCw8ejeXMHpJg9oF6AilcCCqmYDCAZQLaFTwaQLUE5jY9dE4uMgxn4ZcAvuD/pPtI2/NPx0e9H4KhfRuFB/AMcH3ccSx2WMl70xNnP0cnsC9SkmMN1fgLjOKEMrK6rRo+jPZBUlITsD7Oh20xySyvWVVYWjsDArlBVbQGtbq+kvQAN1dSQRb0AFasQFEwtGUAygGxLngwgW4JyGp+6NxUJ7gl4avsUX07/EhXbK6ChqtFATV5uDqJePINYJIKL60ROlUrOtPVI9MDGvhsxu6vkcBtm162nl6GLmRBXaMFlRAlUVFSYBQpoVJvdbZBXkYfQFaHo1rabgJQxk1JXVwZvbx3pYLveuTDwD5f+M/UCZMaPRsknATKAZADZVi4ZQLYE5TQ+73YewseHI94oHstWLEP06uhGp3Dcu3gAWkZrUZ1khxGLXv+lyrcroyANsWGm0rSMTCJhbdmZbylyno/TcScEZATgLxb+0gAAIABJREFU+vTrmNRZciy44l0+Pm1QW5sHR8dgmISWSXsBRvbqhc7a2ooHgxQrBAEygGQA2RY6GUC2BOU0vjyqHAG2AajUqMToLaNxb849jLIc1UDNsz89UCV2hahYH0MmFPJW6R/XW0OlZT4Kik9j8oSFvM2Tq8RmXp2JyxGXsWf4Hmzst5GrZXg9b1CQE0pLA2Bn9xuGJptQL0Be7xYl9y4IkAEkA8i2jsgAsiUop/H1VfXw0vICxMDETROxc9pOuPVya6AmOzMLUTFG0n/XrVs+WrRoyZlakViE1OJUvCp+BRczF5nWuXvSDtoWkUiK2YZFK3bIFCuEwdsebcMun11Y3Ws1Dow+IARJMmuIiJiB3NwrsLD4AauLhlEvQJkJUoC8ESADSAaQbc2SAWRLUI7j/Uz9UJ1WjVVLVmHM9DHY7bq7kZont/SgpFuC5hpP0LPPIM7UllSXQG/X66PcSraWQKfZ63e6mFyX9w+GYdenSAqZh0XujdvZMJlDnsccDzqO5XeWY1SnUdJfchXxSkjYgtTU72Bishb7sZZ6ASpiESiYZjKAZADZljwZQLYE5Tg+dHAoip4WYcekHdCZqYNr0681UvP7WRuom8WgKu8wRk5dyana1t+1Rn5lPl6sfAF7Q3vGa53aOx3m3X9FdqgrZqx/yDhOKAMfJT7C8PPDYdPaBlGro4QiSyYd6elHEBfnhlatxsJD/xD1ApSJHg2WRwJkAMkAsq1bMoBsCcpxfMyyGGSeyMSZgWcQNisMwSuCG6m5fXgodDo/RlHcJkxc9h2nagedGYTcilycGHdC2hCa6XX0qDs6tfoFWal9MMf9FtMwwYxLKkzCoLODYNvGFvfn3BeMLlmEFBQ8RFjYSGhrd0Fqh8fUC1AWeDRWLgmQASQDyLZwyQCyJSjH8SnfpiBxayI8unrg4OyDKNpa1EjNjUMLoW97FkWR0zBx1RU5VkupC5lARUUMnj+3gbKyNrS7Z6BncDD1AhTyhpM2kAEkA8j2NiADyJagHMfnXM1B5LRIhLcLx9qla1GwuQAtNFs0UPT07hUUpj6BvukgDB4zQ47VUupCJlBfXwUvL02pRFundBg+j5X+c7mzM7QUsDekkPeatL0mQAaQDCDbe4EMIFuCchxfGlqKoB5BKNYuln4JHLQ8CA5GDk2mSHKcWU55DgqrCqXvs9ElOwFFPhLO19cENTUZ6NHjGUzDaqS9AKN69YIN9QKUvZAogvcEyACSAWRbpGQA2RKU4/i60jp463pLFYzZOgbn5p3DFNspTaboj8Q/MOz8sLf6mOHyT0PQ2jgcWTUfYc7s9U2moakW3uW9C/uf74dbTzd87PJxU6XRpOsGBw9ASYkPbG0vYdgrc+oF2KS7QYtzTYAMIBlAtjVGBpAtQTmP9zH0QW1OLZYvX47lC5bjw34fNlL0MiQQWa8i0GPAKLRubcCZYsnHDOY/mUuPpCv/qBzKSsqM17pxpBf0bQKRGL4Gi9fsZxwnlIHfeH6Dj598jIXdF+L0hNNCkSWTjqioecjO/hnm5ruwpng09QKUiR4NljcCZADJALKtWTKAbAnKeXxwv2CU+JXg82mfw3aBLQ6NOdRI0R9XjKFikAnl6qtwGcHdL4R1ojro7NSBsY4xni99jlZarRjTPXXuG4gqCmDVYzRceg9lHCeUgRdeXsCc63OkTbT/XPinUGTJpCMp6RO8evU1jIxW4KDyRuoFKBM9GixvBMgAkgFkW7NkANkSlPP4qPlRyD6fjeNDj6NgUcEb24jcP94TmpZBKEvdibHztnKquF5UDxVlFU7XEOLkz9Keoe/Jvmin2w6p7qlClPivmjIzTyEmZglatHDFHy1PUC/AfyVGA+SZABlAMoBs65cMIFuCch6f/EUykj9Pxr0e93Br8S1Er4lupOjmwYnQs7uJwujlmLTyqJwrFmb62WXZaPt9WyhBCZXbK9FMtZkwhf4PVYWFT/DixRBoaloi3dyHegEqXAUolmAygGQA2VY8GUC2BOU8PuvnLETPi0aoWSi2LN0iNQ9/f/fuxpEPoG/zE0qiRmK8G7eNhiVfsUqOhauqq4Jhc0PGdPOK83Dn5lHUlWRhqQK+Ayjh1nxnc1TUViBmTQysWlkxZieUgZWVyfD37wglJXU075GDnsEhMFBTQ3b//kKRSDqIwP8RIANIBpDt7UAGkC1BOY8vflaMkL4hyNXNxfQN06WPDyWPEf963b2wF9rG7qhK7IKRi19yqvh73+/xoceHmGs/F+cnnWe8VnxGHNJiX5uejhbJMDM1YxwrlIFdD3dFeE649DH+yE4jhSKLsQ6RqA6enhoA6mHbMwmGgcnSWOoFyBghDZQjAmQAyQCyLVcygGwJviE+Nxcw+NvHsjk5QJs2HCzGcsqavBr4tvGVzjJi+wg8WvYIzmbODWb1fXIfNUqjISpohSGT81iu+L/DL4dfxsxrM9HftD+8F79uUcPkkvwC9uRWSyjrFaG08iLGjZrJJExQY2Zfm42XOS/x3bDvMMpylKC0MRXz7Jk5qqqS0L27J8xeAiXUC5ApOhonZwTIAJIBZFuyZADZEpRzAygxTt4tvFFfXI9Fqxbhi+VfYH63+Q1UZaSnITbOVPrvHHoUQldPnwNqr6cMSA+A0wkn9Gjb441nE/+vhe+dtoFWxxgkx3+ChUu/5CxHmpi/BEJDh6Ko6DFsbM7BNdWGegHyd6soM5YEyACSAWRZQiADyJagnBtASfqBjoEoCy7D9pnbMXzFcHw+6PMGqurr63H76AJAvR1cJm9Cy5bM27PIilfSCqa2vhaaaq+P9ZLlurLfBQZdvZAUuhCL1itmLzxZeAlxbHT0EmRlnUKHDl9iXelEaS/AQ5aWcDMxEaJc0qTABMgAkgFkW/5kANkSFIABjJgRgdwruTjkegiabpo4O/EsB1S4n/L03ino2P06skJGYab7Pe4XpBV4RyA5+WskJ3+Ctm0X4bDKNvyUno4tpqbYZWHBu1wpISLAhgAZQDKAbOpHEksGkC1BAJJ3/v56Sf63nV3DfxcR0fgdQL68E5j4USJSdqbgRq8bCHYLhuciz3dAhd0Ukq+ARWIRtNS0GE905OAq2NgdRmm0I8atDGQcJ5SBqcWpGHtxLIqqivBq/SuhyJJJR1bWz4iOngd9/UF40uocNiQkYHqbNrj89xtSpllpMBHgHwEygGQA2VYlGUC2BAEoKb3dJGLx28W966jMU5mIWRKD5xbPsX/1/jc2Es7Py0XsyyAoq6qhtzO3J20svbUUJ0NOYv+o/VjjtIax3NOXvkPHtltQl9EOw2YrXjPk8ppyaSsYyVW4pRD6Gty9q8l4U97zwOJiH4SEDECzZmbI6hSAyRER6K2jg2eOju85E1qOCHBLgAwgGUC2FUYGkC1BARjAoj+LEDooFOkt0jHvg3lvbCR88+Qn0LP4GuUx/TFmBfOvc98G78aHG/HDsx+wvvd6/DjyR8ZTPH7+AMoVoyCuUUP/gWVQb6bOOFYoAw33GCKnPAdBy4PgYOQgFFmMdVRXZ8DPT/K+nzJ0HXLhGBxGvQAZ06OB8kSADCAZQLb1SgaQLUEBGMDq9Gr4tfNDvXK9tBVM5AeRjRoJe9w4CzX9hahN74Dhc5LeAbV/nuLg84NYc38NZnWZhQtTLjBeq7SqFIHeLaCkWg8tHW84OSpeA+A+J/rAP90fV6ddxRRb7s5tZrwp73mgWCyCp6cWxOJq2DhGwygoU5oB9QJ8zxtBy3FOgAwgGUC2RUYGkC1BARhAsUgML20viKpEmLNuDk6tPYURnUY0IBMW/BwFJb0hrtKAy/AyqKhwd15vaXUp6sX1b/UI0+OyCdQMM5CVvR8zZzB/fPwOyoAXU0h6AV4Mv4jdw3fjw34f8iKn952Ev78NKitjYG//CB0j1KW9ACN79UJnbe33nQqtRwQ4I0AGkAwg2+IiA8iWoAA+ApEgeG73HBWRFdg8dzMWrVsEt15uDchUlFfA/5kOlFRE6GgWD7OO/Pyq8tZRB+hahyAhYj2WrGb++PgdlAEvptj+x3bs8N4Bt55uODTmEC9yet9JvHgxEoWFD2FtfQIj0+wRVl6Oe127YlQr7toXvW+NtB4RIANIBpDtXUAGkC3BN8TL00kg/03/5YSXyL+Vj32j96HTB52w23V3I2V//NoWKm2yoVJ3A87DJnBAruGUkp6ASlCCijLzXxsv7BsB426/IyVkOua7X+Y8R74tcDL4JJbeXooRFiPwYO4DvqX3XvKJjXVDRsYRtG+/He7lM3CLegG+F+60yPslQAaQDCDbiiMDyJagQAxg/IZ4pP2Yhl/7/Ips92xcnX61kbIHJ3tAwyIU5em7MWYOt48XXU67wC/ND96LvNG7XW/Gu3R83zxYtL+L1GRXLHC/xDhOKAOfJD3BnOtzMKjDIJnenxSKfomOlJTvkJi4BQYGc3BU7TNpL8DNpqb4lnoBCmmbFV4LGUAygGxvAjKAbAkKxACmH0pH3Oo4+Fj54NqGa288hu3WwfHQtbuNwuiVmLTyMAfk/v+UA88MhOcrT1yYfAGzus5ivFZdXR1UVVUZj6eBwiOQk/MrIiOnQ1e3H/5sc0naC3BGmza4RL0AhbfZCqyIDCAZQLblTwaQLUGBGMCChwUIGxmG5DbJcN/oLu0j9/frwa9HUZkfiJYd/x971wEW5bFFD0WKgCgCNkRFsAC2CGrsXWPvscZYosbejd0kGmOLxhpjizX23rsCilQLVXqT3qvU992ftwYE9d/9d2HZnfk+v/cMc2fuPTO7HGfmntsXXfrINsN00pVJ+OflP9jQfQNWdFohg1ViQyoqAikpLnBzs4WGRi1EW7xiWoCKutBKHhcjgIwACv0IMAIoFEEFsc8MyMQL8xfIVstG35V9kbA8QaIsXGnBEZESAXVVdRjrGENFUqVtaTnDxqlQCGRnx+HZMyPO5yqtotHa3YtpAVaoFWTO8kGAEUBGAPnsk8/1YQRQKIIKYp+fk4+n2k+BPGDkgpG4u+QuWtVqVSGju7CnPfQNg5FvtBe9uw+pkDEIcXrJ3SU453UO67uvx/jm44UMVSFtCwoKYG+vj7y8VDRu9Rq13eO5OJgWYIVcTub0JxBgBJARQKEfDkYAhSKoQPYvLF4g0z8T87+fjzVL12BY02HFosvLy8Nbbw9EBnuhXffBqFyZf51eSWGiX+bingDePmYOLdMAhAT9iomTVkk6dYW1m3ZtGg64HcDaLmuxruu6ChuHEMednZsjPf0NrK1voKG3HqcF6G1riyZMC1AIrMxWjhBgBJARQKHbkRFAoQgqkP2rvq+QeCcRmwdtRvdl3UsICRMBfHpXFyraWTDQe47mrdvJLPqkrCR0PNwRocmhiFsaBw01/mXd/t6/BKp52bD6egS+btVJZj7K68Ab7TZixcMVmNB8Ao4NPSavbsrUrzdvBiM+/iosLPag3ztbpgUoU7TZ4OWBACOAjAAK3XeMAApFUIHs3856i3d73+Fkx5PQ+EkDe/rvKRHdvRMNUckkEDmJR9Br6Pcyi55O/ir/VhlZuVnwm+MHcwNzmc2laAOf9jiNMRfGoKNpR9hNslO08HjF4+c3HxERf6Ju3SVYmDGB0wLcY2GBmXWoTjBrDIGKjwAjgIwACt3FjAAKRVCB7MO2hyFgYQAeWz6G0won3Bx3s0R0N/7qDJ0mdkgOXIXBk3+VafRWe63gFeuFu+PvolfDXjKdS5EGd4pwQtuDbVFHrw7CF4YrUmi8YwkL24GAgAUwMhqJvzU2MC1A3sixjhUFAUYAGQEUulcZARSKoALZx12Lg8cgD7yt+RZ/rPwDPrN9SkR3ec84VLU6hSSvsRgy86RMo38d/RpVNKvApIoJlxHMt72LDcf9e/8iJz0RU374ja+ZwvSLTY+F8VZjLp7MlZnQUtdSmNj4BhIXdwUeHkOgp2eDp8YXOS3AkUZGOMu0APlCyPrJOQKMADICKHSLMgIoFEEFsk/3ToezpTPSNNMwYuUIZKzKgKqKarEILx9cgarmG5Hm0xkDZjyRy+hv21+GVu5QFGRpoXPPNKip8y8lJ5cBiekUXZ9X+b0K0rLT4D3LG00Mm4g5QsXvnpb2Gi4uLaCuboDYxj6cFmAbPT28aN264gfHImAIAGAEkBFAoR8ERgCFIqhA9nlZebCrbAcUAIOXDIb3am/U1qtdLMK7Fw9Bw2AqssPM0XuCn1xGH5cSizfONaGilo/qRu5oZtVSLv2UpVN0BZzyPgXHhx6HTW0bWU4ll2Pn5qbC3p6+3oAqLcPR+qUf0wKUy5ViTkmKACOAjABKundEdowACkVQweyf132O9+HvMWvKLPy1+i90qlc8i/al03MkZbRHQYY2OvdJhZqa7E7XXN+5Yvr16aimXQ33JtwTC+n752pA3SgGsfH7MXL4NLFsFaGzJPI5ihB30Rjs7asjNzcBjVq6oM7LVO5HTAtQ0VZZeeNhBJARQKG7nxFAoQgqmP3Lbi+R9DgJG4ZuwIS1E/Bdi++KRZiWmooHxyehQN0U/SZuhIampswQ8IjxQLN9zVBNqxoSliWINc+1A82hZ/EGgT5LMHnGZrFsWWfFQMDFxQZpaa6wsroMcx8DTgvQy9YWTZkWoGIssJJHwQggI4BCPwKMAApFUMHsfab6IOpQFI50PQKztWZY23VtuUWYnp0O3Y263PwJSxO4k0C+7d+dPVGr+QOEuI/BxAWn+JqxfgqEgKfnSMTGnoe5+Q70j2zPaQHeaNYM/apXV6AoWSjKigAjgIwACt37jAAKRVDB7EN+D0HQ8iDcbX4X735+h3+G/FOuEd4NuAtTfVNYGFhATZX/dfPBHWNg3vI0Yl71wKh598s1hvKY3C3SDVQRhLKoH058WB4u/DdnbKxk8xsV1vOVtAUELEVY2BbUqTMPi7OmMC1ASYEUYNe1a1c8eVKYLObu7o6WLZXvPa4IvsePH6Nbt27cXwcPHozLly8LQJYlgRB4KoIQZMaMALI9UAyBmPMx8BrpBQ8TD5z79RyefF8y0zchPh5+3q+gpa2DFq3byiWC+/cvROPG25Hu1wz9f3gtlz7K0inSTyQdRSKAScuSxC6nJ1XfVCT8mi4oEORGRMRe+PnNQvXqg3BQayvTAhSEpmTGRAAbNWqEX375BYaGhlBXL13Oid6srl27FgcOHEBSUhI6dOiAffv2wcLCQrKJ/2+VlZWFRYsW4fTp03j//j369OmDvXv3okaNGoLG9fT0xJo1a+Dq6oqQkBBs374d8+fP/+yY2dnZSEhIwLx58zhfGAEUtAScsYTfLMInVpARGAFUkIWUVhip7qlw/coViZUTMefXOaUKCV/a9yOqNf0LyZ4DMXjWVWlNLdVxTl3ei9pVZyEv1hg9RkZLdeyKMFhGTgZ0ftPhXI1fGg8DbYPyc7ucCGB8/C28edMPOjrNYF/zBtMCLIcdQASQTv127Njx2dk3bdqEjRs34ujRo2jQoAFWr16NN2/ewMvLC1pakutY/vjjj7hx4wb++ecf6OvrY/bs2VBVVYWDg4MgNJydnXH27Fm0bt0aCxYswLJly75IAEUTfv/99xzJZQRQ0BIwAigcPjACKAUQFWmI3JRc2OvbcyEN+GkA4n+Nh6Z68USPa8c3Q6/uMmT6f4VvprrKNPwLXhew48UOdDbtjA09NvCey9nnBdKj2gH5KmjVOpH78le2VmtbLUSlRcHlBxe0rl2O+nflRADT033g7NwUamq6iGscgGFeXrDV04MT0wIss48CHwJIp3+1a9fmTuoWL17M+ZacnMyd0hFxGz16tET+0hhGRkY4deoURowYwY3h4+ODpk2b4vnz52jXTjq1zOvXr8+Rvy+dADICKNEyftaInQAKw5QRQGH4KaS1g7EDcmJz8MP0H3Bjww00qt6oWJxP715GvsZQ5MXURI9RkTLF4LD7YUy5OgW9G/bGnfF3eM+VnZMNhwf6UNHKAlRvomvnb3jbKkrHDoc74FnYM5wbeQ4jLAt/AZZLKycCmJeXCTu7ylzIei2CYPMqmGkBlvEG4EMAAwMD0bBhwxJvBLt06cKdHv75558Sef3w4UP06NEDiYmJqFq16ocx6tWrx5E1OrmTRmMEUBooSjYGI4CS4SayYgRQGH4Kae3W3g0pz1OwduRarPhtBfqY9ykWZ5C/H0LCG6EgTxXtvk6FduXCX7KyaI+DH6Pb0W4wNzCH3xzxhKfvnGgATZNghIVswoSJS2XhnlyPOf7ieJx8cxKbem7C0g7lGH85JYHQ4jx7VgvZ2VGwaP4cJq+zuPViWoBlt235EMBnz55xb/7evXuHWrVqfXBu1KhR3NvVM2fOSOQwnfxNmjSJe29XtLVp04ZLxqBrZ2k0RgClgaJkYzACKBlujAAKw02hrb0neCP6RDT299yPLhu7YIbNjGLx5uXl4en9ylDRzIZhNVdYt/hKZngkZSXhYdBDNKzWEC1qthBrnkv72qJaUycEvp6ByXP3iWWrCJ1XP1yN9XbrMaP1DOwboHzx0xq6ubVHSspzWFqeRSPfmkhmWoBlurUrOgEMDQ2FpaXlB8xWrFgB+lO0MQJYpluq2GSMAArDnp0ACsNPIa2Dfw5G8Lpg3Gh1AyqbVLC5V0kh5XsnG6BSnWDkphxDz0ETZIKDUAmJYzsGwMTsKUKCRmHSvIMy8VGcQYXGI85c1PeI+xEsvb8Uo61GY1e/XeKay6R/UQw+noBPJqW4Tnl5jUNMzCmYmW3CoOhueCVHWoDSlgURFxtp9V/3eB3UVNSwusvqEkN+TAB/ffIr8grysK7rug995fkKODc3F8HBwR98NTAwAP1hBFBau0fYOIwACsOPEUBh+CmkddSJKPhM8IF7fXc4bHLA+VHnS8R5Y38H6DR+huTA1Rg8+ReZ4MBXQoImf/36NWbNmgXKzqOH33PmzMHceXOhpfnpDELq+9NPP3FSDnTVRFdDmzdvRosW/500Uqbfb7/9hrdv33LjUhbhkiVLxI6XThJatWrFPW6n90gTJ07krqBKk8UQSWLs378fcXFxnG+VK1fGyJEjufdQurqF4tjr1q3Dzz//XMIX6pueno6Py8F9ThKjNPyWLuV3bUwZlT179gSNT60okaPrN5IAOXHiBKKiorhY2rZti+PHj3PZmHPnzkVGRgZIVoOSAEQP6aUlCxIYuAqhoRtQu/YMLH0/E1ciI9H51Cl4XLumcLIgYm9KKRkQqVvzeA1+6fpLCRJYlAB+qp8oCYQSQGgPUCORY2NjY6kkgfz7778YPnw4N66vry+aNGnCkkCktPblPQwjgMJWgBFAYfgppHXy82S4t3dHdJVobN6yGa7TSmb6Xju2EXnpvjBqPAIdug+QCQ6iXx5mY8xw7e017ipzuGXhF3nRRr8sSGuMSMjy5cs5+YjJkydz0hPTppVeBzgtLQ30GHzQoEEcCaR/6ZMOmb29PcLCwlCpUiXcunWL+/muXbvQu3dveHt744cffuCugIgI8m10ZU6P2cPDw9GvXz+MHz8e3333HTcWkcuPm0gSgx7GE5GjX4T+/v4cCSSSSm+bqFEM9Kdoo0fvtra23C/Oj9unJDEoTnHxKzo2PdYnzIKCgjhfaQ1ERI4Eb6Ojo7F+/XqYm5tj6NChnLYbEWtqIkmMly9fFsuklJYsSGTkIfj6ToWBQV8c0t6JnYsXQ8/ZGZdPnFA4WRC++1EW/T5F7kSf4epDq3+SJJI/tN6///57MRkY+kdJURkY2tu0f8T57NGev3nzJvd5qFKlCvcPQ2r07lDUiBCSBA2NzbeRph/5Ro0+0+PGjeP+0D/OaJ9T2717Ny5duoQHDx4UG5bJwPBF+cv9GAH8Mkaf68EIoDD8FNI6OzYbz4wLvyBH/zoaUauiyiVO0S+P7F7Z2OeyDys7rcT67utL+EKCsStXruROmDQ0NLifE6kjnS2SfSitubi4cESJTubq1q3LdSHi2Lx5c/j5+XFf4mPHjkVOTg7OnTv3YQgig3RKSHZ0msWnEcEaMGAAd/JFBI6I6V9//cVph8XGxn7wmcYSnYYQSdy6dSt3okmEiSQxiFTR3EQkSTbj4/bq1SuOaD59+hSdOnUq9uPPSWLQiebBgwfFwk80OGFPj/RJFJd+QROWCxcu5Hy9ffs2J+FBV3yia7OPrwRLI4DSlAVJTHyIV696QFu7MR7oXsDKli3x9ebNePb/DFBFkgXhsxdl2ac0Ekjr/d7wPRybOZZ6QijyR3Ti+/fff3MaeR07duQEm+kfJqJGb+1ov9DJN98mOvWmU8CiQtA1a9b8MAR9jo8cOcKNzbfRtTDpFX7c6B9DdLVPjfwk4ln0Cpn+OyOAfFH+cj9+38BfHkdZezACqKwr/5m46cvYTt8O+an5+H7m93i17RX0tcpeR09EFkxGmWDJvSUY22wsTg47WcJzOk2jU8CiwqqPHj1C9+7dcWJrCxjXSkD9NvdgYd74g21qair3BU6nCXSiR6d0dHJ19+5d7jqZrmbp2ohO3ei6UtSIKNHJHZ120S8kPo3I0dWrV7mrX5EoLtmbmZnBzc2NuxoWNdF7KDqNpOtekrCgRr9YiJwS4SJCWtppBZ1ukP90zSVqU65MwdPQp5htOBvzx84vVRKDTu3q1KlTKn5UuaBatdJrMNMJCJG+Fy9ecCSPMiuLEsCZM2dyV+c2NjYchjo6OsjMzOTKYNHpSNFfhkVPAKX5JiwzMxAvXjSEioomnsSdxNoRI9Dq0SO4de36ASNFkQXhsxdl3edjEtigZQMEawXjl00lr4dl7Yu8js8IoPRWhhFAYVgyAigMP4W1dvnKBWnuaVgxZgX2/rEXLWsWr+FJhCnIzxcRwT7o0neYTHAQEcDpK6fDPcodzYyboVmNZiXmoutZInP0Zk7UiJxYWVnh0J/6MGuejKSUfzBk0MRith4eHhgyZAhH5qjRSdudO3e4q2EQzUITAAAgAElEQVRqdBpBWmFE3ojc0DUskRc6NaIrpK+//ppX3HQNTeWi6ARCRADp3RsRIrqe+uab/zQKRZIYdIJ58eLFD2ROJIlBxJbe/dHVVtFGJx10Kkh2Rd/u9T7eG/cC72GaxjT8s+6fUiUx6BSSMCwNP8KRhHM/bhQLnWbS6SGdVooSGooSwL59+3L/na7miQTTe8Zhw4ZxxFd0fVbaCaA0ZUHy83Pw9Cm9A82Hg+9WrJqzHMaPHiG6Q4cPISmKLAivzVgGnUQkUENNA9kHs6EWoca9xSXx5WbNSn5+y8AluZjCzs6O+6zTZ6d///6sEogUVoURQGEgMgIoDD+FtfYc5YnYc7HY02cPxmwfg2FNi5M8Opl69aowG65Jo3DUrF1H6liUJiFBpI7IFDW65qTr1c8RwHUrRqJOLSPYdJuEllY2H3ykkygan97/0CkgEVq6ciVyR9eu2tra3HUsEaqdO3dyV8H0hojqeNLVjqOjI3el+3GjL3j6oqdGRJKSG8qCANIVF52E0vVw0TqnM67PwH7X/RiSPQQ3t97krraL4hcfH89dQ/MhgEUlMeiXGBFDOi2lVhoBpDEJC7qaF1ViofUj8kcEmDCWNQEk354/r4/370PwxncV5s7ZBNy9i7ROnaCjpsb5Lg4BlGdZEKl/AAUMqLleE9l52aiUXgle0wrfypmamhZ77iBg+AppSt85ERERnO/0VrDoNbQkAdGtx/8/V3Q9kyLJGBXdhhFAYSvICKAw/BTWOnB5IEJ/D8Vl28sw2WGCxe0LSzQVbQ8vGUC1WiK0VG6jXZfiYtHSAKY0AkjkhcgYNSIQdHX5uSvgT11hHjp0iLv6jYyM5LJRqdHDbrrupJ8VLT9F5JBIDGUB04NuevQdExPD/f3jRl/w9EVPjRJJiASWxRUwXcUSQaVH50XbJvtN+OnBT+iBHniw7gHonSBda4vwa9++PZe4wecKuKgkxsCBA7nrXdE7SCLL+fn53LhE/OgklTKdKUOYTk5Fjd5d0vtLsqUT19IIoDSvgGled/euSE5+gri4nzBy5O/AtWvw7NYNljqFtZLFuQKWZ1kQaXzmpDFGsRPAvOzPvv2TxnzKOgYjgICyE8DOAEiTggp9koQ6pTFdFuMDwQigGGApU9fIQ5HwneoLp4ZOCPkzBHv67ykR/u0j1tBq4In0yJ3oP6Ywu07cxldDjESNz3qdRW+z3iU07URJIJRtSqSLGpE7ukL9VBIIJXNQBi5VHxCRGPrlTu/06OqXEkBKa0Q2idAUzSIs2q+0eEpLAqE55i6ci8UXF2N97/8SW0QJEBMmTMCWLVs4skREiUgaJVdQpuTHSSB0hU0Zw3RVTckmRds5z3MYdX4U2lRvA/eF7ihNEkOUBCIOfgEBAR+ILs1Hp6aUeU2nGk2+aYLuE7ujhm9h4gqRZZF0jbW1NXcCSNnNROBb9W2FzLRMZIVnfcgClrYsiI/PJERF/QMDg5Vo2XoTClatwo3Zs9GvenWFkgUR97Mni/4fvwH8nESMLOZXpjEZAWQEkB4P0WMW0um4yAigMn38ZRtr4uNEvOr2CuEG4Ti18xRujrtZYsJre/tAz/IuknznYsh0yep18tUQq7OtDt6lvcMY6zE4NbxQBkXUKMO1cePG3MkTZdbS2z4iI6RH12dgb9jbXcELBxfcveP8gRASMaT3eNSPkifo9IrI1bVr1zi5FypJRW/Wzp8/z10V0xs7yhQk4vbkyRPu2rC0Vlo8IhkYOh2kK2IikcNHD0e6dTp+WV/4ON7JyYn773TCSJp55Au9laOrUiJ/lJlMbwbpBI1kYIpKYqxevRqHDx/mMpPV/n+tKfLN5Z0LbA/YopZuLQz2H1yqJAYRVBF+dGVL7/QoS5nwE8no0MkiJcmURqjp5PTYsWNccgxdP5t3NYdDVQf8aPsjrq27hnbt2nHZnDQP2VNctEYcVvPWoIluE2SGZ5aQgZGWLEhw8C8IDl6LmjUn45s1qQh++hTzdu7EhIYNFUoWRLbfCF8e/VOfZUYCv4ydJD0YAWQEsOi+KWAEUJKPEbMpDYGssCw4mjoiVzUX87bPg+dczxLdLu2bhmpNDyDZcwgGzyp+9SgOqnw1xGjM7X22Y367+SWGLypkbGhoyP1iJzJ4/Px21DVciBtn9LH1r2TuXZ+o3bt3j0uoIDJC18CUjbthwwaOsFAjAkhXnSQPQ3aU9EE/L+3tX1GHSouHrq6/+uorLltZQ0cDGZYZWPvrWqzrUShpIXpDR6d5dCVJWcBEwuiNHp1Q0mkZCUHTe0Q6TRNJYtD1MvUn8ki+fdwSMhNQfXN17j8nLEzAqp9WcaeAH0tiiPAjHUS6Bifs6I+okZwF1VUtip/oZ5+SxEA9YM4vc+B93JuLj2yJWFMiTY2RNThduJbPW6KeVj18rAMoTVmQqKjj8PH5DlWrdsdB9T+xZ9UqaD1+DNWcHPTp04eTG1EEWRBxPnPS7vslkveln0vbH2UYjxFARgAZAVSGT3o5xFiQX4AnlZ8A74FJCyYhYFsAVFUK38qJGolB65muQIafDfr94CzIyy9piE1oPgFd6nVBR9OOaGz4n5zLlya1e/kIeUndUZCrhnbtU6FdWftLJlL5+ZfiKa1qglQm/mgQIlLGW42hr6mPhxMfwlTfVBbTlDomHwwCjgRwum8fE0BpOpmUZIeXLztDS6sBHOs8wYKAAIw0MsJZKytpTiPxWNKSBZHYAYGGfMkd334C3VEac0YAGQEUlwBqAqA/oqYHIJyu0OgBOWuFCJR1zVZ5xf2F1QtkemViyfgluLznMupUKZ7p+/jWeUB7JPKia6PHt4XZbUJaqRpib4K5zEEXJxeJJCQysjPw4nFVqGjkQF3zITp+3Y0TZhWJuFLZNyIfsmiyiEcSP/ML8kuQd0nGkcTmUxiQzmIltUrcSSSdcNIV/B9//PGhgogkc33KJisrHI6OJPathiTLMAz18oWtnh6cWtPT6fJr0pYFKa9IPveO92OfSqsFXF5+V/R5GQFkBFBcAkj3TWs/3viMABZHRGgN2s/VUBVdpZX25UOP8Om9F50IHD16tEQXS0tLTlZEnEZXb5Q8QHak0bZq1aovKt6LrgOdnjlBP18fhk0MceDOAXQw/U87jU5t5s6Zg+tXzyE1IxcNGphxFS4oQ5ZvK602rfl4c2x+vRmchlhiNuZ9NQ+z284uJiFBb/ToepLe4lHiBuFy4cIFrk+xD0RBAecPVaT49VfAzOwPjB27gJN8IekTkn25f/++zAgg+VIsI/IT8fDFq6L2Kw2DqS2mctfu9MaRsropo5r+iORipBlrQUE+nj4lWZ9sVLH2QGuPWBhVqoSYIlqA0pyP71jSlgXhOy/rpxgIMALICKC4BJCdAPL47JcmP1KamSQ1aOlLnwh30UaEj8iQqIQQ/VwkJUL9iOTQSRW9axOnDBK9J6OsyxkzZmDq1KlcggFlZd64cYN7+/SlmMapjsPz48+xUXUjJqyYgMO/HuZM6NF/hw4dOLJK2bYkIUJv3CiDlvzk2z5Vm9blGxdOQ4xI4PtV77nh0rLTODLl+dYTz9c8x5QpUzBmzBju5JrILb3bI3+KNkpioHd+lHxABLBW1TmYMnvnhy6EJVUPkdUJoGgikSZa0Xj4YqQo/cobgxcvGiEz0w8Nre/B1EOdgzW9UydU/ihpRlHwZnEoPgKMADICKC4B/PhTwWRgSvme4EsAJalB+/F0dBJFBIq050j6o7RGJIUyM0UJAny/2uiUjMgeJTmIGunb0ekdnYqV1orGFHsgFn6z/bDGYA28dLwQFxrHmVByAkmUUEanSHaFr0+ifp+rTYspgEZ9DY4Eit7K5eTlQGuDFvLP5mO49XCcP33+s1MSqSNJFJJRocQDIoD1Kg/HhIX/2ZUFAZQHTbS7AXex9vFaNDVsisODC0l8WTZ5wODVqz5ITLyLxo0Poam/BZLz8uBpa/tBC7As8WBzMQSkgQAjgIwA6gIw//9mcgewEMAjSvgDEMpjkzECKIAASiJA/PF027Ztw6+//soJElOmZ2mNMlHprRTVeRWnde7cmcs8patZUSMpEzoF/PgUUvTzojHF347Hm2/e4Kb+TWxJ3gKRqDJdqxoYGHCCwkROq+jpYtDAgdiy7Y8SMiSf8vfhw4eclAlVFKGTQ2ocURi8Bn3H98Wt3bc+XJ+KSGD97fUR8lMIps6eilCPULi7u3Nv+UiehEq6iRpdK1L92Y0bN3IZp/TGjAhgU/1OGD7n6Yd+siaA8qKJdtPvJvqf6o/mNZrj1YxX4mwhwX3lBQNf3xmIjNyPevVWY2jcQLxKT8eNZs04LUDWGAIVEQFGABkBpIrmRPg+bvSA7Hsem5oRQAEE8HMlyD5VQ/Xj6ej9Gp04khRFaY2EiultG2m/UT1YcRppr5F0BxEkUaPas1SHUlSK6+PxisaU4Z8BJwsnvFV7i+l50zkBXyr/ReXTKJFi3LhxsDQMQbLmA2z/QxOLlyzn5Ev4NIqHfCNi+4H8PV6DOqfrYNygcdi0aVOx/04ksFJGJSzvt5zL5N2wfgNXn5dOMukammrkdunShbOZPn06987v4MGD3N9FBNCmTiP0neRbJgRQnjTRfOJ80HRPU+hq6CLlp5QPwtd81klIH3nCIDR0EwIDf0KNGuOxPHcprsTHY7eFBWbVkX4JQyGYMVuGAF8EGAFkBJDvXvlUP0YAeRJAcWvQ8iGAVBydSnHRNWXrT2Qk0ikWnRISEaRs2E81UaUF+vn48eO5a1qhBDA/Jx9PtZ8iOC8YkzDpAwGkcenNIl1JXzu8DFUttuH4LgvcfJbKnWTyaUUJYFGicG3JNY7YiQhgUXK42Hoxto7Yyr39I3tRGzRoECeSTPp2VA1j0aJF3OmgCBMRAezQrAq6Df7v/aWsTgC/JHfxpZ/zwU+cPlm5WdDeUHi6HLskFoaVDcUxl6jvl2L80s9LTBobK5Ef+H+5vpiYM/DyGo0qVTrgmN4R/BkRgSV162Jzw4aSjcusGALljAAjgIwACt2CjADyJIDSqkFbdDpKZHBzc+PISmmNNNyIbNFbNkpo+FwrWm+VEiMoIULoFTDN59DQAU6BTliIhYiMiURNo5rcSRu9/aMM2ttn90HLeCbsr5pg9fZw7kTvc0RVFIPoCnj5teXY6Lrxw1u/T9Vl5QjD/TVQ3aiKn9f9zGUzixq9dSQBY6o7S9fbJJYsqu9Lfeg0kMr9NmsGXLsegromhdnCsiCAfIkN335CP+Ai+9rbaiMyLRJOU51gW8dWWsOWOg7f2Pj24yZRkbDq5/+Fv1NSnODm1hYaGnXgVPe53GkBynRB2OAKiQAjgIwACt3YSksA+dagJYA/pV0lSQ1a0YKlpaVxyQl0wjd79uxS11FUHYIqUVA2r7iNiBFd+ZK9qFGNW3rL96UkEFFd2Fd9XmHz3c24onsFbsFuaFS9EXflSidwgYGBcHF8gozs7jh/UhMXbxhwJ5V8migJZMjKIWjWtRlXDs3X15e7XqaTUVE1jqJjLbyzEIdmHUIDswZ4efc/7b6hQ4dy7yfJp6ioKK6CR9HWrFkzzJqqiQ7d30Ov6mkM+OZbmRFAedVE63i4IxzCHHB6+Gl8a10Yv6yaTDAQSACzs2Px7BlliasgqWkohnr7w0ZPD87lrAUoqzVg4yo+AowAMgIodJcrLQH83OlD0Szgz/X7XA3aL9VQpaxfIn50ZSpKgvh4MSkrmGrAOjo6SrTOIhmYWbNmcTVv6dRt7ty5xWRgdu/eDarzShIx1D6O6d6Ce1h+bzlszG2w6tYq9DHvg7CwMNCV+MSJEzF+/Fg8fNgeW7YAM6b/hN82buTtK8nAEEElbUQ6tSSZG2rPnj37MAYRQiLJRPKcIpzQdlFb4Dzw976/P7wBpFM/IssdO3YsdW66Al41pzZ6DHuH4IA1+H7KzzIjgLyDL+OOEy5NwInXJ7Cxx0b81PGnMp5dCtMJJIB0mm5np4v8/AzoWbnCxjNFLrQApYAMG0JJEWAEkBFAoVtfaQkgAfcpcicigNWHVufqlX6ubNenatCKFuZTNVTp7R9lsJ48ebLUNSQiRieEf/75J3744QeJ15mI0YIFC7j3eyYmJli9enUxIWi6BiUfKalD1IrGVE2rGgYlD0JNq5qoeaQmfrT9ketGp3Q0LsmtGFTNQb8B+Zg8/g7ad+3N21eREHRptWlFgxB5o8xl0kqMy4iD0RYjwA1o6NUQEeERaNy4MVfPl7J9P9VojMVTm6Lf0BAEBU/D5JmF1+myuALmHXwZd1z7aC3+fPEnFn29iDttrXBNIAGkeJ2crJGR4Qkzy+uo56XDQZDWqRN0mBZghdsOzGFwdcX/L5yuDyBFGTGR8GGIMkJVasxKTQA/RQKJAL43fA/HZo6fJX/KsIvirsbBY7AH3tZ6C/+j/tjca3OJsO/8YwnN+t7IjNqDb0bPlBksdIqz4M4C1K1SFzNsZkBHo/CXOJ8WnxQHfd2qoBJkoqZMBDA3Pxfqqv/FzgczueojMAmEYnnzZiDi46/DwmIfrAKtmBagXC0wc0ZcBBgBZCeA4u6Zj/srPQEsjQQ2aNkAwQJr0ApdGHmxT/dMh7O1M9I003D02FGcG3WuhGuXDy4BsiNRq9n3aNupp7y4/kk/QkNDufJxVNGE/lfWlUDkHhAlcdDPby4iInahbt1lGJ4wnGkBKsm6K2qYjAAyAih0bzMC+H8EWc3W0rdSXmYe7CrbcT9cs20Nni78T0hZ6OYrL3sqrSe68tbU1ORqJLOm+AiEhf2BgIBFMDIahVUFq3E5Lo5pASr+sitshIwAMgIodHMzAlgEwfKuVyp0MWVl/7T2U+RH5mPZzGV4seeFrKbhNe7LqJe47X8bDas1xEirkbxsqJNPsCd8bk6Gtk4Cuo3xgoZGJd62itJx+Nnh8I71xu3xt2GqXyiFo0wtNvYyPD2HQk/PFsernGRagMq0+AoYKyOAjAAK3daMAJZ2AlikBq1QgBXB3qWLC9KepmH9sPW4cPIC9LXozfF/jXT2wkNCEBkWgHZdesk05D1OezD71mwMaTIEl769xHuulIxkuD6rDhX1POhVdUTrlm152ypKx0a7GsEvwQ8Pv3uIbg26KUpYvONITX0JV9dWqFTJCM6mrkwLkDdyrKM8IsAIICOAQvclI4ClZAOLJVArdAUqgL3PFB9EHY7Cka5HMP/UfLSq1aqY1z6erxEV2wIF2ZXQsVs6JxItqyakru2hHWNRoKaHzv0XoJFZE1m5KLfj9j3RF3cC7uDgwIOY8tUUufVTVo7l5ibD3r6w7nRSk0AM9QlhWoCyApuNK3MEGAFkBFDoJlN6AihP9UqFLqas7EN+C0HQyiDcbX4XNqdtMKzpsGJTvXuXA18vbe50beaMN/D2tUZMDERVuKTqVkhSCH558gusjK2w8OuFUh1b0QebeWMm9rnsw8pOK7G++3pFD7fU+OztDZCbmwg9S0fYeGUyLUCl3AWKETQjgIwACt3JSk0Av3TS96WfCwW/otjHnI2B17de8DDxwPsz77Go/aJirpNCx8sHdVCp5jvs2nwWF2+NlBkBrCiYyaOfWxy2YOn9pRjbbCxODitdf1Ie/ZamTy4urZGW5oYGTS+ivnc1bmimBShNhNlYZYUAI4CMAArda0pLAPmSO779hC6EPNunuqXCtbUrEisn4sG5B9jdb3cJAvjsXBvoWzrj1on12HxopVwSwKCwQLxwvgMUAKOHFwpaK1O74HUBI86NQNs6beE4VbLqMhUdLw+P4YiLuwhz8z9hHdSK0wL0sLWFlQ5/TcmKjgHzXzEQYASQEUChO1lpCaBM6pUKXQ05tc9NzoV9VXvOux0Hd+DylMslCOD1v4ehQYdLeH1nCub9flCmBNAh1AHO75zRybQTWtduzRu1vw8uQSPzrcgMsMQ3Uzx52ylKR7dIN7T+uzWMdYwRvThaUcISKw5//8UID98GE5P5GJE4lmkBioUe6yxPCDACyAig0P2otARQKHDKZv+o+iOoJKhgw9INOLX4XgkCeOXAQnw9eDsinXpj7LI78PQs+QbQyEg6qH1/+XscfXUUG7pvwIpOK3gPevraftTUm4H8BAN0HxbP205ROiZmJsJwiyFXScV3ti801TUVJTTecURE7IGf32wYGg7BqoJfcCU+nmkB8kaPdZQnBBgBZARQ6H5kBFAogkpi/8z2GbJdsrH+2/V4cPYuUKBaLPIZY3fj2x/mIMPfCv1/8CgVlYIC6YD18+Ofse7JOkxpNQUHBx3kPeirgJdIDCvMYLayioGRtBgpbw/Kv2N2XjY01DTK35Fy8iA+/ibevOkPHZ0WOFn1HKcFuLhuXWxp2LCcPGLTMgQkQ4ARQEYAJds5/1kxAigUQSWx9xznidhTsdjfcz9Ov9gGpNYuFrlNS0fMG/0rgiKssGZXyXrB1FlaBJCEoI+/Po6eDXpiUqtJvFcgLz8PT2/qQ0U3Hdn5l9G7+2DetqyjYiCQnu4FZ2crqKlVgWu9N1gQGIiRRkY4a2WlGAGyKJQGAUYAGQEUutkZARSKoJLYB60LQsjPIbj+1XVsix0KhHUQO3JpEUCxJy5icPuYObRMAxAS9CsmTlolZChmWwERyMvLgJ1dYcJHSpO3GOwTwbQAK+A6MpcBRgAZART6OWAEUCiCSmIfdSIKPhN84F7fHQurGAKvJ4gduTwQwAt72qO61XMEvvoBk+f9LXYMFd3gtMdp7HHeg15mvbCmy5qKHo5E/js41EROTjR0mzyBrU8+DCtVQmwH8f9BI9HkzIghICUEGAFkBFDoVmIEUCiCSmKf/DwZ7u3dEV0lGm7/+mKx7X/kgXQA6QZNWzMDlk08EJdghJu3G5QQgpbmk7uHQQ/xNv4thjcdDiMd/tklR3cMRr2WVxHhPhDjFlxVktX7L8y9znsx6+YsDGo8CFdGX1G6+ClgN7evkZLiiPqNT6OBbw0OA6YFqJRboUIHzQggI4BCNzAjgEIRVBL77JhsPKvxjIv2+JnjODTq0IfIiQAaGwNntvWA8VcPYX9pCaav2iyTSiCiSS33WMI7zht3x99Fr4b86w/v3z0Nja0PINmrDQbPfKEkq/dfmPR+8puT38Da2BpvfnyjdPFTwF5eYxATcxpmZlvQPKQt0wJUyl1Q8YNmBJARQKG7mBFAoQgqiX1BQQEe6T2Caroqdm3YhQsrLpQggLtXTYRVj2MIeDoSg348K1MC2P9Uf1Bd4P0D9mNa62m8V+Hw8fUwq7sa2WH10XtCEG87RelIp6aNdzeGTiUdpC5PhYqKiqKExjuOwMAVCA3diNq1Z+LblEl4mZaG682aoX/16rzHYB0ZAuWNACOAjAAK3YOMAApFUInsn1g/QYFnAf6Y8geuHvzv+lR0Arh8+jr0Hv0zEl+3R8cxDjIlgFTW7Hn4c04Kpn+j/rxX4YbdRejkDUdBlhY690yDmroab1tF6Pg+9z20N2ijAAWcGDSJQitbe/fuAN6+nQYDg35Yq7oJl+PisMfCAjPr1FE2KFi8FRgBRgAZARS6fRkBFIqgEtm7DnFF6pVU7O2zF8evH/8gJCwigKMHnsD0hROQE14PLfsEy5QASgp7TFI0PN1qQUW1AIZGr2Bt1VzSoSqsXd3tdRGeEo7nU56jnUm7ChuHpI4nJNzH69e9ULlyU/xrcBU7wsOZFqCkYDK7ckOAEUBGAIVuPkYAhSKoRPYBywIQtjkMl2wvYfat2bCoblEseq83boiJb42C9xro1CMD6nJ6uvbgvDHUDGMRl3AQI4ZNUaIVLAy185HOsAu1w7/D/8Vo69FKF39mZgBevDCHqqo23Or7cFqAI4yMcI5pASrdXqjIATMCyAig0P3LCKBQBJXI/t3Bd3j7w1u8MH+BVrdboXfD3sWiz8rKwnMHHaio5cOktg/MGzWWGTpU0cIx3BGhyaEY33y8WPNcP9gcOiZvERq5AhMnKZ8UCpXSO+d1Dn/0/gPTbaaLhZ0idM7Pz8bTp9oA8pHS2AODfWMVQwuQjuIladJMz5dkfmYjEQKMADICKNHGKWLECKBQBJXIPvFxIl51e4Vwg3Ck3UnDDJsZJaJ/cLYW1IyjoJJ5AV2+GSYzdNKy06C3UY8bP3FZIqpqVeU9V+i7YNQ2NoG6ujpvG0XqmJmTCS11LaVMABGt4/Pnpnj/Pgx6Te7DxkdNMbQAJU3okQeBTkX6gJVRLIwAMgIodKsxAigUQSWyzwrLgqOpI3JVc3H/xn383vf3EtFf2jcFKgVpqGczD63atJcpOsZbjBGbEQu3aW5oVauwxm+Jxk5FZLoGFXVwd/cuSE5+inqNj8PM14QLo8JrATICWFG3o0R+MwLICKBEG6cinQCKEgyKBhoTA7lMMBC6GPJuX5BfgEfaj6CarYoTu07g4OyD5erymAtjkJyVjN96/IaWNVuW7gv7pViuaySvk3t7T0R09DE0aLABLcM6Iyk3Fx62trDSKSwTVyEb2+sVctkkdZoRQEYAJd07Iju5PwFkBFDoEkvX/oH5A6gFqOHv+X/j1PZT0h1cFqOV8kvxyVdmiJ9oCHW1XAya7Vb6rAp8LUbX5xMuTUBIUgicfnCCuqryXYUHBa1DSMjPqFVrKkanTlcMLUBGAGXxDSK3YzICyAig0M3JCKBQBJXM3qGPA3Lu5mD/kP3499K/JaLPy8tDdHQkYiLC0NL26/JHp5Rfik5NayNj7zsgXwWtB2pDLyOjpJ8KTADzC/JReUNlvM97j4C5ATCrZlb+61TGHkRFHYOPz0RUrdoDP6vvUAwtQPbcoYx3UflOxwggI4BCdyAjgEIRVDJ7r7leiNkVgzNfn8HvD3+HvpZ+MQSeP76N9/gG+fGG6D5cwqxEnpimZ6fDM9YTGTkZ6Fq/a+lWpRDAbABnNvRAdkolDNzvAOOkVKUigBRsk91N4Bvvi/sT7viO1+oAACAASURBVKOHWQ+eiCtOt6Skp3j5sgu0tMxwxvAO0wJUnKVVmkgYAWQEUOhmlzsC+PE/YunvH8tzeXqWfAPIlAyEbgV+9hF7IuA32w92Teww6NEgtKjZophhREQY/PxMuf/WqlUS9PWLE0R+s/Dr9SjoEbof6w4LAwu8nfO2dCN2KlIqLv1O9sMt/1s4MPAApn41lR/gCtQrKysUjo71oKKijpdm/pgfEMS0ABVofZUhFEYAGQEUus/ljgCyZyxCl1S29vG34/HmmzcINA5EtcfVMLTp0GIT0hXw0ztVoFI5A/raDmjVVnaZwPSGrf6f9VFJtRIyV2ZCTVW5yroJWelZN2Zhr8teLO+4nEuiUbZWUJDHaQEWFOQgpZE7Br9NQmtdXbjY2CgbFCzeCooAI4CMAArduowACkVQyewz/DPgZOGELPUseD72xKIOi0ogcPe4BTTq+uN93EH0GSG7Sht5+XlosqcJTPVNcWHUBbG0AIPCA+Hq/ggaGpUxqM8YJVtFYNuzbVh8bzG+tfoWp0ecVrr4KWBHR3NkZQVAt/Et2PpqKYYWoFKupHIGzQggI4BCdz4jgEIRVDL7/Jx8PNZ6DNV8VVw/eh1bv9taAoHr+7tAt/FTJPv/hMFTN8olQvt3TUbjZkeQ4NEew2Y7yKWPsnTqovdFDD87HG3qtMGLqS9kOZXcjv3qVS8kJt6HqcVBNPRryPmZ2rEjdJVUIFxuF4o5VioCjAAyAij0o8EIoFAEldD+rsldaERo4NSqU/j7179LIHB573eoankcSZ6jMWRWyUxheYDs4D9rYV7/F7wPMUefiX7y4FKZ+vAy6iVa7W8Fa2NrvPnxTZnOLS+T+fpOQ2TkAdSrtwZfRfTitADf2NjAWldXXlxkfjAEPokAI4CMAAr9eMgdAWRJIEKXVPb2Dzs9hKq9Ko6NO4bDJw6XmPDKkdXQb7Ae6T4d0H+GvUwdogzggIQAVFKrhCaGTXjPdeXBKeirjUNBmg669EuBqqoqb1tF6EjX51RPWbsS1cRVzhYSshFBQStQo8Z3GJs+h9MCvGZtjQGGhsoJCIu6QiHACCAjgEI3rNwRwI8DYkLQQpdY+vYuk12QdiQNp7ucxr5H+0rUlHV4dB0J3ruQr2mLwVPWS9+BIiNucdiCpfeXYmyzsTg57CTvuULjQhDoUZ/rb2rqDzOzwitA1pQHgejo0/D2HgN9/U74pdJeTgtwt4UFZtWpozwgsEgrLAKMADICKHTzMgIoFEEltA/eEozgpcF4aPUQM57PQG292uWGwnmv8xh5biTambTD8ynPxfLjwaXqUKuWgKTUfzBk4ESxbFnnio9AcrIj3N2/hqamCc4aPeK0ABeZmGCruXnFD45FoPAIMALICKDQTc4IoFAEldA+7kocPIZ4wLeWL6wdrdHBtEO5oeAW6Yb+p/rDtrYtro65KpYfNw5ZQqehN4J8V2LSdNmeVIrlWBl13u+yH2c8z2Bii4mY2FL5CHB2djSePasJ+jXyuqEf5gWEMS3AMtp7bBrhCDACyAig0F3ECKBQBJXQPt0zHc7WzkjTTEPSiySMbzG+BArZ79/D388bhka1YFyjhlyidGZXV9Ro9gRB7t9h0oKjcumjLJ1adm8ZNj/bjDlt5mDnNztlOZVcjl1QUAA7O13k52cg1eIFBvllwEZPD86tW8ulv8wphkBRBBgBZARQ6CdC7gmg0ACZvfQRyMvMg11lO27gZ1eeYcWgFSUmuXWwNbTN3ZAWvhUDxpfUCpS+V+KPeHjHSJi1PI+ol30wev5t8Qeo4BZ/ufyFH2/8iP4W/XF97PUKHo1k7js5WSEjwwu6Fldg61cF1dXVEdexo2SDMSuGQBkiwAggI4BCtxsjgEIRVFL7O0Z3oBmniRubb2DLki0lULiydyD0La8jyedHDJmxV6YoUTYrVQWhusTGOsa85/pr3xw0abobaT6tMGCGG287Rel4N+Au+pzoA0sjS3jO9FSUsMSK4/Xr/khIuIm65nth7t+Us2VagGJByDqXEwKMADICKHTrMQIoFEEJ7BUhs/mOzR1oumriwrQL2LV/VwkULv89C1Ub7UWKZ38MmiXb0yVKAqFkkO19tmN+u/m8V+To2W2oZ7wYuVG10HP0O952itLRL94PjXY3gra6NtJXpJfI5laUOD8Xx9u3s/Hu3R6Ymv6E1u/6My1AZVh0BYmREUBGAIVuZUYAhSIogb0iEMCn3z5F/tl8XOh7AbtulSSAN05thU7tJcjyb4G+U19KgBJ/E0nfsj1xf4CC5J4oyFXD1x3SoKWtxX9SBehJJ6da67VQgAJELopETV1KiFCuFha2DQEBi2Fk9C3GZy7mtACvN2uG/tWrKxcQLNoKhwAjgIwACt20jAAKRVACe0UggB5rPRD3SxzutLiDn11/hoaaRjEkHB5dQ47KIOTFGaPHiGgJUOJvQtmsy+4v47JZ//zmT96GGdkZePG4KlQ0cqBR+Qnat+nM21ZROtbbUQ+hyaF4NvkZvq77taKExTuO2NiL8PQcDj29tliveZBpAfJGjnUsbwQYAWQEUOgeZARQKIIS2CsCAYw+HQ3vMd54U/cN+rr3hUV1i2JIhIYGIjCwIZCvAhvbFOjqya68FlW1UFNVk2AlgHv/1oV69WjEpe7GyOHTJBqjIht1/acrHMMdcWbEGQxuMrgihyKR76mpbnB1bY1KlYxxvoYD0wKUCEVmVB4IMALICKDQfccIoFAEedgrYnm7VNdUuNq4IkEnATovddDHvE8xJPLy8vD0ni5UtLJQTccRLWzb8kCq7Lt4+r2Geb3G0NTQLPvJ5WDG5Kxk6GnqQVVFuUrhiaDPyUmEg4MB99c3Zm8xNzACww0Ncd7aWg5Wh7nAEPg0AowAMgIo9PPBCKBQBHnYq6jw6FRKl4ICyezKwio3ORf2VQvr/L59/BbTupQ8PbuybyhQoAaLzqthad1Cpm7RKeC71Hcw0jGClrpyveWTKbBKMLidXVXk5SUjzdweA/1zmBagEqy5IoTICCAjgEL3MSOAQhHkYa+IBJDCvqN/B5opmrDfZ49VM1bxQEJ2XRrtagS/BD84THZA+7rtZTcRG1nhEHBxaYW0tJfQNT8HW39DpgWocCusmAExAsgIoNCdzQigUAR52CsqAbxhfQM6njq4vfA2ft/2Ow8kZNel+9HueBT8CCeGnsC45uN4T3T1wWlke+9Ffp4GRs27z9tOUTpSAsjiu4uRmZuJa2OuKUpYYsXh4TEMcXGXYGK2AxaBhSfVTAtQLAhZ53JAgBFARgCFbjtGAIUiyMNeUQng3YF3oXFdAzeG3sCWiyXFoAmauNgYxMVEoYlVcx5ISd5l6tWpOPnmJLb22opZbWbxHuj8rSMw1J6M/GR9dB+cxNtOUTpGpUWh1rZa3BvArJVZqKRWSVFC4x2Hv/8ihIf/AROThWgTNRSJubl4Y2MDa13ZJS7xdo51ZAh8AgFGABkBFPrhYARQKII87BUxCYTCdlzkiKw/snCvzT1seLGhBBL3rx6DepWJyAlriF4T/HkgJXmXjJwM7u2fuMkM/hH+cDo3B5kqNTFx5gGoV1KX3IkKaEn1cHV+0+FOAP3n+KOhQcMKGIUwl8PDd8Hffy4MDYfiu6wVcE9LwzVrawwwNBQ2MLNmCMgQAUYAGQEUur0YARSKoAT2iiADQ2EHHw5G8JRguNV3w1SfqaiiSdvpv/bS5RmS0jqgIF0HnfsmQ01NMqkWCSBmJmIgYLnHEt5x3rg34R56mvUUw1IxusbFXYeHx0Do6rbCb1rHcCkuDrstLDCrTh3FCJBFoZAIMALICKDQjc0IoFAEJbBXFAKY/CwZ7h3cEaUfhaY+TdGiZvFM37S0FLi46HMINWwQhLr16kuAFn8TOs1KyExA9cqsigN/1ID+p/rjpt9N7B+wH9NaK58WYlqaB1xcmkFdvSou1nTG9vBwLDIxwVZzc3FgZH0ZAmWKACOAjAAK3XCMAApFUAJ7RSGA2dHZeFbzGfKRj+SXyRjaYmgJNB5eNIKqQRwq5d1Ehx7fSIAWP5PEzESY7jBFenY6MldmQlOdv65faGQw3F7aQb+KIbp1kJ2P/CIp+15zbs7BbufdWNZhGX7vWb7JPGUfPZCbmwZ7ez1uao8GHpgTFMu0AMtjIdicYiHACCAjgGJtmFI6MwIoFEEJ7BWFANKJ273K96CRpQHPU56YNaZk8sXtwy2gZfYa6RHb0X/cfAnQ4mdCvuht1EN6Tjp8Z/uiUfVG/AwB/LNjGOq3vIRI934Ys+AGbztF6bj9+XYsvLsQo6xGcRVBlLE5OBgjJycWaQ0fYGCAKlrr6sLFxkYZoWAxVxAEGAFkBFDoVmUEUCiCSm5/teFVVAmsAoe1Dli5bmUJNK7u7YcqlreQ5DMbQ2bskilazfc1h1esF/eWrVuDbrzn2r/nRzS2+gspXrYYNNOJt52idLzscxlDzwxFjwY9cP875ZPCoXV0dW2L1FQn6DY8AduAOjBQV0d8x46KssQsDgVEgBFARgCFbmtGAIUiqOT213pcg95DPTyY8AC/Hvu1BBqX/voR1Zr8hWTPQRg864pM0YpOi4aBtoHYUiaHT/0Os9rLkRNRF73GhcrUR3kcPCs3Czl5OVxJOGVtnp6jERt7BrXrb0bjYFsOhpSOHaGnrkRZ4R/LFfDdDEZGfHuyflJEgBFARgCFbidGAIUiqOT2D2c8hOp+VTzu/Bjrnqwrgca9K0eQ9e4ECrS7YtD3q+USrbuO16GRNRAF2ZXQsWs6KmkonxaeXC5MGToVEPATwsI2oU6d2Wgb/a1yagEqqmBpGe6jspyKEUBGAIXuN0YAhSKo5Pav/nyFxPmJcLZwxmLfxVCR9JeIFHHMzsuGhpoG7xGT0hPh7mgIFbV8VKnqhK9aFp4AsaY8CLx7tx9v386AgUF/fJ+9Tjm1ACX97Mpz0XIF3sKMADICKHR7MwIoFEElt4+9HwvPXp4IMwhDz+CeqKVXq9wQcQh1wJAzQ2BSxQTu093F8uP+2VpQN45CdMwefDtqpli2itB5s8NmPAh6gCXtlyilFmBCwl28ft0HlStb4vfKZ5RTC5ARwAr1UWYEkBFAoRuWEUChCCq5fVZYFhxNHZGrmgstPy10NCv5cD43NxfB/m9hVKsO9PULdQFl0bxjvWG51xJ6GnpI/ilZrNPIq3+3RJVGrxDotRCTZ26ThXtyPebo86NxxvMMV0pvUftFcu2rLJzLyHgLJ6fGUFXVxuVar7A9IkL5tAAZAZTF1pLZmIwAMgIodHMxAigUQSW3L8gvwAPNB1DPVUfkjUiM6TemBCJ3j1tAo64/cpOOo+eQ8TJDLDMnE5V/q8yNH780nksI4dtO7eyF2s3vI8TtW0xceJqvmcL0W35/OX53+B2zbGdhd7/dChMX30Dy89/j6VNtAAXwqu+GWcHJyqcFyJJA+G4XuejHCCAjgLQRSXxtCYCaAF4BmAOAr5YFI4By8VGu2E5crnsZVcOr4s3WN5iziLZf8Xbj7w7QafQMyQFrMXhKyUQRaUbvG+eLuvp1UblSIRHk2w7+OQ7mLU4h9lU3jJz3kK+ZwvQ74HoA065PQz+LfrgxVvm0EGkhnz0zQXZ2BNLNbmNAoCbTAlSY3a2YgTACyAjgtwCOAZgB4AUAUtodCaAxgBge254RQB4gsS6fR+Bi+4sweG6A5zOeY/m+5SU6X973Lao2PYskz+8wZNZRuYRz/4ElaGyxFRn+lug31VMufZSlU/cD76PX8V5oYtgE3rO8ZTmV3I7t7t4Jycn20DE7gjaB9ZkWoNyuFHOMEGAEkBFAIn3OAGb//yOhCiAMACnu8qnpxAgg+y4RjMD18dehe1IXz/o8w4rbK0oSwENLUbXhFqR5d8OAH8vmdI0qg4iTkXz66n7UrDID+QnV0X1YnGBMKtoAAQkBMN9lDi11LaSvSIeqCn2VKFfz9v4O0dHHUaveejQJ6cAFr3RagMq15BU6WkYAlZsAks5FBoARAC4X2cl0xFIVwGAeu5sRQB4gsS6fR8D+V3vkrsmFazNXLHpdMoHgzsW/oWkwHdkhjdF7oo9M4TzsfhhrH69Ff4v++GvAX7zneunvhqTw1lz/Zs3jUN2gOm9bRehIQtBaG7SQX5CPdwvflWs2d3nhGRS0FiEhv6BWrWn4OnaCcmoBlhf4bF6xEWAEULkJYG0AEQDaA3heZPdsBtAFQNtSdpQmAPojaiT9H56cnIwqVYgLssYQEB8B/4v+CB8ejkDjQIx/N76EBp/bCzukZHZGQZouuvZPEetkTlxvjr06homXJ4pd1iw3Lxd2d/QBzSyoaNxA1059xZ26wvevv6M+IlIj8GzyM9jWUT4txMjII/D1nYxq1XphUs5vyqkFWOF3sfIEwAggI4DiEkB6gb/2448II4DK86Uhi0jT36bDubEzstSzYBZphkaGjYpNk5SUiJcvCzNym1hEoGYd+reLbJp9qD06HekEs2pmCJgbINYkji/tYGXREno6ylkSjUrpVa9cHeqqSlT+rMgOSUx8jFevukFb2xybdC5xWoC7zM0x28RErH3EOjMEygIBRgCVmwBKcgXMTgDL4pOpZHPk5+TjseZjqBaoItshG73b9y6BwPW/uiIvXx8tv9mBeg0ayAyh9Ox0+Mb7okHVBqimXU1m87CBFQ+BrKwQODrWh4pKJVyp7YHtEe+w0MQE28zNFS9YFlGFR4ARQOUmgLSBKQmEJF9E2hv0cpuq2ZOQF0sCqfAf8YoTwGXjy6gaWxWh+0Px3bTvKo7jzFOGwP8RyM/PhZ2dNgoKcuFd3wkzg9MxzNAQF6ytGUYMAblDgBFARgBJBoaSPqb/nwiSDMwoumkDEM1jx7IkEB4gsS5fRuDMV2dQw70G3ix6gzlbS2oBfnmE8u9x5sp+qIb+i8wcQ3y38Hz5O1TGHryOfo1NDpugr6mPvf33lvHs8jGdo6MZsrKCkN7gKgYE6TEtQPlYFuZFKQgwAsgIIG0LkoARCUG/BDD3/yeDfD40jADyQYn1+SIC54adg9ElI7gOdcWii6WXEktOTkJibBzqy/hKbc2jNTjtcRorOq3A9y2//6Lvog6Hjv+ChnXXIjusAXpPCORtpygdHcMd8fWhr7laymELSE1K+drLlz2QlPQQOvX3o01wI6YFqHxboMJEzAggI4BCNysjgEIRZPYcAreW3YL2Zm28tHmJ+c50EF28XT/1B3RrL0LmW1t8M41voRrJwJ19czb2OO/Bsg7L8HtPPi8hCud54nIfkfabka5iiinzDko2eQW2oiSQmttqQgUqyFyZCU31ooIBFTgwMVz38ZmKqKhDqGm6Bk1Du3GWTAtQDABZ1zJDgBFARgCFbjZGAIUiyOw5BFyOuiDt+zT4m/hjatjUEqg8vnMO0ByF3Kg66Dk6XKao/fH8Dyy6uwijrEbhzIgzMp1LkQYn8WzdjbrIyMnA29lvYVHdQpHC4xVLSMgGBAWtQs2a36N93BSmBcgLNdapPBBgBJARQKH7jhFAoQgyew6BGLcYeLX2QqpWKrokdUEVzeK6kgF+3giLsERBrhrad0yHppbsTpfCksMQlhIGcwNzGOsYsxUSAwHrvdbwjPXE7XG30ce8jxiWitE1OvoUvL3HQV+/C6bkbeW0AK9aW2OgoaFiBMiiUBgEGAFkBFDoZmYEUCiCzJ5DIC8jD3Y6dtz/1/fURyvLVsWQyc3Ngd1DHaho5MDY4BUsmzeXS+QiY9/B9ZU9jI1M0KYFaawrVxv470Bcf3sd+/rvwwwbKjGuXC05+Tnc3dtDU9MUW/RucFqAO83NMYdpASrXRqgA0TICyAig0G3KCKBQBJn9BwSuVLsC/SR9pJ5JxcBRA0sgc/9fU6jXCkNe6r/oMXC0XCJ3emcP1Gz+EMHu4/D9ghNy6aMsnZp3ax52Ou3E0vZLsanXJllOJZdjv38fiefPSahcFdfqeOCPiGgsMjHBVhknLsklGMwpuUaAEUBGAIVuUEYAhSLI7D8gcMryFGp710bQuiBMWjupBDI3D7RDZYsXSAn8GYMmr5EpcpOuTILrO1ecHHYSzWo04z3XoR2j0bDlGcS87IlR8+/xtlOUjjscd2DBnQUY33w8jg89rihh8Y6D3kHa2VVGfn4WfOrZ4ceQXAw3NMR5pgXIG0PWsWwQYASQEUChO40RQKEIMvsPCJzoewImd0zgMcEDs4+ROlHxdnnfSFRteh6JnpMwdNZhmSLX9mBbOEU44eKoixjadCjvufb/NR+Nm/yJ9Lct0H8aqSopV0vOSkZeQR6qaVWTac1meUbVyakpMjJ8kF7/PAYEV8dXurpwtbGRZ5eZb0qIACOAjAAK3faMAApFkNl/QOD8zPMw3GcIj04emP20JAG8dnIzVFJvoEBnAAZOIOlK2bUxF8ZwWoBbem3B4vaLeU904sJOmFSfh7yYGugxKoq3HeuoOAi8ft0PCQm3ULneLrQNsUZ1dXXEdeyoOAGySBQCAUYAGQEUupEZARSKILP/gMD9nfehPk8dAWYBmBIwpVyRcY5wRsr7FO76V5xMYMc39siK74SCPFXYtEmGnp5uucbBJi97BN6+nYl37/ahhslPsAwvzIRmWoBlvw4VesbYWMncNzLibccIICOAvDfLJzoyAigUQWb/AQHvh96I7hGNBN0EDE0ZWiGvEN/nvMezB/pQ0XoPlUr30KVDT6VbYaqk4hbphs29NsPSyFLp4g8N3YLAwKUwNh6DjgkzmRag0u0AKQSsoiLZIAUFvO0YAWQEkPdmYQRQKFTi29M/Ao0/kqGLiQHE+Eee+JOWo0VmfCZeGL7gPLB4Z4E6teqU8CYvLw/hISEwrlUL2tra5ejtp6e+e7I+NOqEIDxsM8bL+KpaHgFod7AdXkS8wPmR5zHccrg8uihTn2JizsPLaySqVGmHqfm7mBagTNFW0MEZASyThZWQZpeJbxVhEnYCKMNVUjYCSFBe070GvXQ9qN9SR8e+Jd9NPThfE2qG0dBWfYC2nbvLDH1KZph+fTpCk0NhP9keqiqqvOe6tK8NqjV1RuCbmZg8Zw9vO0XpOPbCWPzr8S8299yMJR1k+1ZTHjFLTXWFq6sNNDRqYmuVe0wLUB4XSd59YgSwTFaIEUBhMDMCKAy/z1orIwE80fAETAJNELctDiMWjiiBz52jTaFZzweZUXvxzegfZYZ+bn4utDdog/43bEEYTKqY8J7r+J/9UbfFTYS5DcOEhRd42ylKx5UPVuI3+9/wo82P2Nt/r6KExTuOnJx4ODgUVv64UecNtkbEMS1A3uixjhwCjACWyUZgBFAYzIwACsNPJgSwIhPHI12OoMHTBgiaHoRJf5XUArz2V0/oNXmAJN+FGDJ9mwzRB8x3miMgMQCPJz5Gl/pdeM/1987JaNT8CBI82mPYbAfedorS8ZDbIUy9NhV9GvbB7fG3FSUs3nGQFqC9vT7y8lLx1vQhpoeqYJihIS4wLUDeGCp9R5YEUiZbgBFAYTAzAigMv2LWH3/m6e9WVsUn8PQs+Qbw4zeBFZkAHpt4DKbHTOHb2xfT70wvge6lvyajWpMjSPYYjsGzz0sR/ZJDXfa5jEqqldC+bntU067Ge64D/6yGRf31eB9sjj7f+/G2U5SOD4MeosexHmhcvTF8ZvsoSlhixeHs3ALp6a+RUe9f9A+pida6unBhWoBiYcg6yxYBlgTCkkCE7jBGAIUiWMReWqf+FZkAXtxwEQarDBDYNBCTvSaXQPfqsV9RxXQNMnzbod/051JEX3pDXbp/AtXUJ6AgTRdd+6dUyGxmIWgEJQbBbKcZNNU0kbEyQ6z3k0LmlSfbN2+GID7+CnRM/0Cb0FYwUFdHPNMClKclUnpfGAFkBFDoh4ARQKEIMgJYDEGHiw7IGZ6DuGpxGJFQ8g3go1v/QkV7LHIj66LnmFApoi+9oYKiAxHi3RAF+SpoaB4EU9N60hu8AoxE7ya11mshvyAfEQsjUEuvVgXwWrou+vsvQHj4DhjXWQiriMK61kwLULoYs9GEIcAIICOAwnYQwAigUASlQABJGqZok/TqWIqhSDxUeGA4/Bv6I18lH+3T2kOrslaxsXy9XyEyuiUKsiuhY7cMVKqkLvFcXzL0ivXCZofNqFypsljJDPQG7L79DXzV7GtUr1r9S9Mo5M+Dk4JRW682NNQ0FDK+LwUVHr4T/v7zYGg4HJ2T5nNagK9tbNBMlwmDfwk79vOyQYARQEYAhe40RgCFIigFAiipC2Johko6hdh2+fn5uKN9B9rZ2qjhWANN2zYtNkZObjbuH22LnPe10WHUUVQ3LMy2lEVzfecKmwM2qKFTA1GLWVk3WWCsqGPGxV2Fh8dg6Op+hWnYz7QAFXWhK3BcjAAyAih0+zICKBTBIvaSJoF8LBbN1yV5JIDk+3GT46gbURe5B3PRc0r5VdJIzEyEwWYDDs70FencSSBrDAE+CKSlvYGLS3Ooq1fD9qpPcTEuDjvNzTHHhL+cEJ95WB+GgKQIMALICKCke0dkxwigUAQ/Y883mUNaySMyDEWsof9u8zcaOTdCzOIYjNoySixbaXfe/nw7TPVN0b9Rf2ipF7+O/txcx05vg2bMTaQV1MeUeYek7Zbcj2cfao8Dbge4TOAVnVbIvb/SdjA3Nw329nrcsLdqu2Hzu2SmBShtkNl4ghBgBJARQEEbCOwNoFD8PmuvrARw/4j9aHyhMUIGh2Di5YmlYpSenoGU5ETUql2yXJxMF4Xn4H/tnY0mlnuQ6vMVBs5w5WmlON1Oe5zGmAtj0NG0I+wm2SlOYGJEYm9viNzcePjVvYNpYRpMC1AM7FhX2SPACCAjgEJ3GTsBFIqgFE4AJb06lteawseWHYPpZlOEtArBRLeSBPDKkVWoUu83pPn0wsCZd2S4ApIPfeHWP8h7exypKo0wZe4+yQeqyP1A1wAAIABJREFUoJZOEU5oe7AtlwhCmcDK2FxdbZGa6oJM06PoF2qKr3R14cq0AJVxK8hlzIwAMgIodGMyAigUQSkQwI+H4HtyKEPXBQ19/Z/r0J2ki5gaMRgVVfIK+NbZ3dA2noP3gVboM9lD0FxfMn4c/BhnPM6gRc0WmGEz40vd2c//j0BseiyMtxpzf8tcmSnW9bmigOjpOQqxsedQue7vaBvWFtXV1RHHtAAVZXkrfByMADICKHQTMwIoFEEZ2Fd0Auju4o5k22TkqOWg5/ueUFErXrDnhf1dZOb2QX6CAboPi5cBgv8Nuc95H2benIkBjQbg2phrMp1LkQYnKZwqv1dBWnYavGd5o4lhE0UKj1csAQHLEBa2Gca1ZsMqcjhnw7QAeUHHOpUBAowAMgIodJsxAigUQRnYV3QCmJyRjBdVXkAjTwPWPtYwbFxc6iUmJhJeXrU55FpYx6OaYWGmrizaHf876HuyL6yMrOAxU7zTxviUeLi+dMD/2jvvuCqO7+9/6IJIkaIoGBUUFRQLduy9995RY+w1RqOp+jNqTCwxthg1lkRNFFssMcaIoqJGRLErFqQIAtI7PK+Dl+8DArL37l3ce++Zv/TFnJlz3jO797OzM2erVHZBLec6Urgn6zbrbayHW5G3cHz4cXSr0U3WvkrhXGjoJjx8OBk2Nr3QNm4+YjgXoBSYuU0VCbAAZAGo4tT5nxkLQLEEJbDXdAFISHbb74ZjlCPK7S+HRoMaFaJ09lg56JknwtzwHDy9WktA8U2T4Qnh2Hp9a+4K1iC3QUr1c3hzI1i6Xkdw0Ex4T1ujlK02VO67ty8O3z+M9d3WY2qTqdoQklIxxMScws2bXVG2rDs+0tuO64mJOOLujl4S5q5UykGurNMEWACyABR7AbAAFEuQ7YsksLHeRtS+VRvJXySj+5fdC9X5a6crjKs8QOrLTeg6ZJIsKe5Z2xWVPU7hecBAjJ79uyx9lNKpOafmYPXl1ZjfYj5WdFohZVeybDs5+T6uXKkFff2yWGt9CQejo7HWxQUzOBegLMdL15xiAcgCUOycZwEoliDbF0lgXY91qHe8Hl4Of4khe4YUqnN0U3uUq3UWrx/MR98P5Skuflo7GjU8diH6ZmsMmHFO50b6ZeLL3Jjty9pDT9VklRpMLSsrFefPm+ZGcMrBH8vDkzHH0RHfubhocFTsurYQYAHIAlDsXGYBKJYg2xdJYMO0DajzYx2ENg/FiIsjCtU59PN8GGX6Qc9iGLoPmyYpRZ+7PvB95ou+tfqiTdU2gvva/PNCuDovR0pwLXTzvivYjitqD4GLFysjPT0MjxyPYuILc84FqD1Dq/GRsABkASh2ErMAFEuQ7YsksHvtbjjOckSUYxQGhSi3907dSL0Pe2P7je34qu1X+LzN54Kb339iG+xNxyP7tRXa940VbMcVtYfA9eteiI/3Q4rTT+ge4oIG5ua4zrkAtWeANTgSFoAsAMVOXxaAYgmyfZEETv99GkadjJBmnIbOqZ3f6yvEpb5L8dnZzzC2/lhs77Nd8Ijde34HEcFuufVr1QpDxYoOgm21oSKlgpn31zwEvw7Gtt7bYG1qrQ1hKRXD3buj8PLlbphV/gpNQ1ujvKEhojkXoFIMubI0BFgAsgAUO7NYAIolyPZFEngY8RDPKz2HQY4BmoU2Q5lKhb/Dm5WVhciIcNhXcICBoYFkJP2e++H4w+No4dQi95vAQgsJoLPHLKFfLgHJafvRvcv7XckU6rc661VcVREvk17i2sRraFSp8GludfYlx7aePPkMz54thW3FiagbMTzXRc4FKMeR0j2fWACyABQ761kAiiXI9kUSSM9KxwHbA3B47QCnk05w7uJcoF5GZgbOH7eFvkU8HB0ewMW1hixJnvilJkw/eIhnj7/CmPHCXx/LMhgVnGrxcwtcenEJ+wfuVzqNjgrdyc4kPHwb7t8fD2vrzmif8BnnApTdCOmuQywAWQCKnf0sAMUSZPtiCax3XQ/3B+4w/M4QXnO8CtU783tFGNi9hH6KD1p36ytLkn/86AVbNz8E3xgP71lbZemjlE6NODgCv976FSs6rsD8lvOl7EqWbcfGnkVgYHuYmtbEFIM9ubkAj7q7oyfnApTleOmSUywAWQCKne8sAMUSZPtiCaxqtwqe/3oifmI8em/pXajeiZ8bwdT5OhKeLUevMZ9ISnJn4E7cjbqLaU2mobJFZcF97VjTD1XrH0JYQA8Mn31MsJ22VPzsn8+w9PxSTGo0CZt6btKWsATHkZLyBP7+1aGnZ4x15a/iYHQM1rm4YDrnAhTMkCtKQ4AFIAtAsTOLBaBYgmxfvAActwqeOzwR1S4Kg/4pvH/u8MY+sKx9BLF3JqHfFGnFRd2NdREUGYSTI06ii0sXwaO2+ceP4Oq2GXF3GqPPlCuC7bSl4vaA7fA+4o3Ozp1xauQpbQlLcBzZ2Znw9aX9q1k47XAey8IzORegYHpcUUoCLABZAIqdXywAxRJk+2IJbFi6AXU+q4NXLq8w8OHAQvV8tkyHdc31iA/qjt7T/pSUZJ+9fXDk/hFs6L4BkxtPFtzX9j3LUK3yImSEOqHTiOeC7bSl4r9P/0W7X9qhRvkaeDD9gbaEpVQcly9XQ2rqUzyufAATQsujn60tDrq7K9UGV2YC6ibAApAFoNg5xQJQLEG2L5bAvgP7UGFgBaSYpaBbUrdC9Y7vWwOzCrOR+rgeuo4PlJTktoBtuSuAA2oPQMsqLQX3deriEZik90FOqgladUyCoYSnlQU7VYoVn8c9xwdrPoCxgTFSFqVAX0+/FHuXR1c3brTH69dnkeK4Ad1f1OZcgPIYFp33ggUgC0CxFwELQLEE2b5IAlFRgFMDP5wMzcj9e2+0xONII9jZ/f/ql86dQFpOd2RH26L9gChZkkxKTcS/F06goUcLONgJ3zsoy2BUcCorOwsPoh+gqlVVmBq9+SyarpV797wREbEdppUWo1lYB84FqGsTQKbxsgBkASh2amqtACQBYm9fEE9kJAoIELHw2L54Arn8q4fjd/jBNtEWH+nXxfkImwL8w8Nf4ObJrkhPqYxuE/+EoZEhI2UCsiPw9OkSPH36OWzsx6Be5Nhc/+K8vGBhyPNVdoOlQw6xAGQBKHa6swAUS5Dti10BtLfPwRqn9fAIqYslZctj75N6702Ap2Sk4I87fyAkPgQLvRa+1y+T8JTRLAIREbtx794oWFm1RcfEJYjOzESgpyfqmZtrViDsrVYRYAHIAlDshGYBKJYg279DAALza32Dbvea42frLHx/v8N7FYBmy8xyfY2eH43ypuUFj9y2nUtgGnseycb1MH7yKsF22lLxxMMTOHD3AFpVaYUx9cdoS1iC44iL80NAgBfKlKmKaYa/47/ERBxxd0cvzgUomCFXVD8BFoAsAMXOKhaAYgmyfS4BeuWbv9D/3dyAEfWWYMLNVjhpE4fRvn0KCUDaE5ielobExESUt7GRlGal7yohPDEcVydehWclT8F9bV07HC4evyEqsD0GzTwj2E5bKi6/sBwLzyzEyHojsavfLm0JS3AcaWlhuHSJ9n/qY4PNNfweHYe1Li6YwbkABTPkiuonwAKQBaDYWaU1ArA4AZIf0O3bhfcA5j+UIBamLtvr6RUdfTuPFfg8sCluWsVg5uv+hSr5bJ4GS+eNiLs7BH2n/Sopwjmn5iA1MxUzm86Eq62r4L52/LocZV+dRJyBByZMXSvYTlsq7r+9H0P+GJL7LWU/bz9tCUtwHDk52fD1NUNOThrOVPwHSyP0MNvREd+7uAhugysyAXUTYAHIAlDsnNIaAVicACkJUE5OSTX470IIFMffte4mbLpVCzEmyRiQ1r1QU4e2L4Zl1f9D0p1W6DHFV0hXXKeUCVwNvYomW5vAwdwBYXPDSrl3eXTn718LKSn38aTSXniHVUB/W1sc4FyA8hgcHfWCBSALQLFTnwUgC0CxcyjXvjgBaF7jEI4+tMqt0w1eSEXBk5N/HdkBo3LjkBFSHZ1GPVaLL9yIeglEJ0fD9lvb3EaTP03WyXQwgYFdERt7CqmVVqNbWH3OBajeKcatqUCABSALQBWmTQETFoAsAMXOoXcKQFQIxKH4p7BMscR4eCIYBU9O3rzhj+jYZshJNkXrzgkwkDDR8qvkVzj75CyycrIw1H2oUnEnpSThaqAfalarg0oVHJWy1fTKOTk5sFphhfi0eNyZcge17WprekhK+//gwWSEhW2CqcPHaBbenXMBKk2QDdRNgAUgC0Cxc4oFIAtAsXMo177YPZgm8dhguwe1Q2vD5LvqcBlVpUB/Zc2T4H+pHPT0c/BB5UeoVsNZLf4U1YjvM1+02dEG1a2r4/EM5VYbT+50QZkqj/H86TKMHrtQMh/l2nD9TfUR+DIQx4YdQ4+aPeTqpmR+PX++AsHBC1Debhg8oj7M7YdzAUqGmxsWQIAFIAtAAdPknVW0RgDyIRCxU0G99vkTcS+uvQQd7rZCzjxTtPu2aaGOzhywh4FNFAxSD6NV197qdSRfay/iX8BptRMM9AyQujgVhvrCE/ke3NAc5etcRnDgJHjP3CSZj3JtuP++/vC554Mfuv2AaU2mydVNyfyKjNyPO3eGwMKiBTonr+BcgJKR5oaFEmAByAJQ6Fwprp7WCMC3A+QvgYidGuLs8/Mf12ARRgd0QkLfNPTy6VKo4RPb6sO0eiASn69Cz9FzxXX8DuvsnGx03tUZVSyrYE3XNbAwoekvrPyypjc+qH8Uodf7YMScQ8KMtKjWk9gnud8DdijnoJPfA46Pv4rr15vA2NgBM4yPcC5ALZrbmhoKC0AWgGLnLgtAsQTZvkgC+QVgF8/PseBae8Q2SEC/670K1ffZ7A0TvdswtP0InfuPkyXRzT9MhGvdrXh9uzn6Tr0oSx/ZKekIpKe/wsWLbz5kvdHmGvZHJ3AuQOlwc8sCCLAAZAEoYJq8swoLQLEE2b5EAejuuRw/XGuGRPsk9HypmfvHtu78Ci5VvkT68+roPFq5/YM8RTSfAB2EuXDBAllZiThb4RS+fmnMuQA1f1g1OgIWgCwAxU5gFoBiCbJ9iQS2ntwKl24uyNbLRtuUttA30S/RRqoKofGhuB5+HTZmNrmJjYWWY//+DnMMRk6SGVp3jYeBgYFQU62oF5cah28ufIPQhFDs7LtTJ7+lfPVqXSQlBeGpw06MC3dCP1tbHORcgFoxvzUxCBaALADFzlutFYBiwbC9+gicfnQamXUyYZphiib3msDM9c03ed8uMdExKG8j/Bu9qnj43cXvMO/0PAxxG4K9A/cKbiIsJhQPbr5J/1LRIQi1XN0E22pDxZSMFOR9Sznq4yjYmr3JC6hL5dat3oiOPopUh5XoFt4Y9c3NEeAp/JOCusSKY5WeAAtAFoBiZxkLQLEE2b5EAo9iHuFcnXNwfukM96PusO1ZUDxERoYh6FId6JsnoJFnHMpZFswVWGIHSlTwueuD/vv7o0nlJvCf4K+EJXDmgB0MbF4hJm4b+veR515FpQJSsnLet5SvTLiCxpUbK2mt+dUfPpyJ0NB1MK04C80i+sDK0BCxXl6aHxhHoJEEWACyABQ7cVkAiiXI9iUSSM9Kx/K6y9H6bmvYr7RHnY/rFLDJysqC72lz6JVJhbXZZXg0KZwqpsROBFa4HXkb44+MR4OKDbCx50aBVm+qHdvqDnOX23hy7xOM+2i5UrbaUNlrmxf8Qvywb+A+DHYbrA0hKRVDSMhqPH48B9a2A1H/1dRc29deXrA0FJ5OSKkOuTITeAcBFoAsAMVeICwAxRJke0EEPm7/MXqc7QGDsQZotb1VIZvTe6rDqPITpEfvQOcBYwS1WdqV9v3QDhXq/ounASMxdvau0u7+vfc3ymcUdt/cjW86fIMFXgveuz+l7cCrV4cRFNQX5uaN0DV1DecCLO0B4P4KEGAByAJQ7CXBAlAsQbYXRGDumLnotbMXUluloqtv10I2f27xQtmafoh7+Bn6TPxaUJulXennNUPgXH8/Xt7ojCGzTpV29++9vy/OfoGvfb/Ghw0/xOZem9+7P6XtQGLiTVy75gEjI1vMNDnBuQBLewC4PxaAb80BPZ4TogiwABSFj42FElj49UJ0+aILkp2S0f1590JmhzYOg1XtvXgdNBJ9p0m7uhYSF4L70ffhbO2MatbVhIaAzRtnwbX2WiQ+8EDPD28IttOWijtu7MC4w+PQsXpHnB51WlvCEhxHZmY8LlywzK2/ufxl7I1J4VyAgulxRXUT4BVAXgEUO6dYAIolyPaCCKzctxJNhjZBlmEW2qe2h55BwWe3wzsWwrLqciTdaYMeU/4V1KaqlYb+MRT7bu/Dqk6rMLeF8C+P7D6wFo42s5AVWQEdBkeo2r3G2uV9S5mE86MZjzQ2DjGOX7hgg8zMGJyzP4ovI805F6AYmGwrigALQBaAoiYQABaAYgmyvSACuwN2w76xPYyzjNHsaTOU+aBMAbvTh3+GkeUEpD+rgc5jHghqU9VKn575NDen3dTGU7G++3rBzYRFheLKtbOo59YC1atUF2ynLRWT0pPwOPYxqllVQzmTctoSllJxXLvmicTE//DM4WeMDa/OuQCVoseV1UmABSALQLHziQWgWIJsL4iA33M/PG74GFWiq8Djbw9Yd7AuYBcU6I/QG2OQllgTvaceEdSmqpXoIMOqi6swsM5ALG69WNVm2E4HCdy+PQhRUX8greJSdI1oybkAdXAOyCVkFoAsAMXORRaAYgmyvSAC4Qnh2NFoB5o/bA7nDc5wmuwkyI4rMQE5EXj8+GOEhKxCGfspaB45CNaGhojhXIByGiKd8YUFIAtAsZOdBaBYgmwviAB9S3V2y9noe6kvyk0vh0brGgmyk1uln7Ytgln8dWSVb43RoxfKzT3J/fnjzh84E3wG/Wr3Q2fnzpL3J7cOQkM34OHDqbAq3wsNYubkuse5AOU2SrrhDwtAFoBiZzoLQLEE2V4wgSmDpmDwH4OR3SUb7U+2L9IuMzMTqSmpMC8n3ddAqOOwhDAExwbDo4KHUvvZdq3pAaf6xxFyvT9GzTkgOHZtqTjlzynYeG0jFrVahKXtl2pLWILjiI4+gVu3uqNs2brolrYhNxfgDU9PeJhLO18FO8gVdYYAC0DdFoCLAPQAUB9AOgArFWY+C0AVoLGJagSmzZ+Ggd8ORFqNNHR50KVQIz4bR8PKeS/iHk1C3yk/qNaJQCvndc65AtB3rC9afVA4MXVxzWzeMg+2af6IM2oO749WCuxNe6p96/ct5v89H8PrDsee/nu0JzCBkSQl3cPVq7VhYFAOc0z/wbXERBx2d0dvW937NrJAZFxNIgIsAHVbAH5Fbx8A0Bfqx7MAlOgq42bVRmDBlgXoOqkrMstkokNyB+jpFUwF47NlEqxrbkFcUB/0mXZIbf0W1VCnXZ3wd/Df2NFnB8bUl+eXRyQFoGLj9Ap40O+D0MyxGS6Nv6RiK5prlpWVgvPnzXID2Fr+PPbEZGKNiwtmOtJtmAsTKD0CLAB1WwDmzbSxANawACy9C497Uo3A9+e+h0c7DxjkGKB5WHOYOJgUaOjYrytgXmkBUh40QrcPr6nWiUCr6cen43Tw6dxXmaM8Rgm04mr/hf0Hz588UaFsBUTM071ciDQDLl50QHp6BM7bH8TnkdaY5eiI1S4uPDmYQKkSYAHIApAmHAvAUr3suDNVCfjc9UFa8zRUjKuI+ufrw8qr4K6F82d8kGXQH1kRldBhaKiq3Uhul5aehuu3r8CthgcszGkXhe6U2JRYlF9ZPjfgpE+TYGb0ZjVMl8r16y0QH38JzytuwpgIV84FqEuDL6NYWQCyAFRWANKSS/5lF8rm+iIuLg4WFrr1Qyaj61hnXLkRcQNnWpxBoyeN4LrdFQ5jHQrE/uTJAzx75oqcLH00a5YE07IFk0XLBdTff9jD0DYKCUl70KvHcLm4VWp+WC23QlxaHIImB8HN3q3U+pVLR3fuDEdk5G9Iq/AFur5sy7kA5TIwUvkRFaVay3Z2qtkJtGIBqH0CcDmAT0oY/9oA7uWro8wK4JcAvni7fRaAAq84riaKQHxaPL5q+RV6/dcLFT+piFrLaxVoLysrE75nzKBnnAGbctdQt5F0qWIoLU1saiyevX6GBg4NlIrr+LbaMKt+D08fLsbYiUuUstWGyg03N0RARACODD2CXq69tCEkpWIIDl6E58+XoYzdBDSPGgErQ0PEci5ApRhqVOW39ioL9j0nR3BVVSqyANQ+AUiPDDYlTIZgxanfvGrKCEBeAVTlSmMbtRHw7uGN0cdHw7ivMVr4tCjU7unfPoCRw3Nkxu5Gx34j1Nbv2w3FpMTAZuWbSy3502SYGpkK7mv/+tawdz+PJwHjMG72NsF22lIxKDII5sbmcLRwhKG+obaEJTiOsLCtePBgIiysu6JR7Jvndc4FKBif5lVkASjbMSt4jFC2bkrqmDIC8G1HOA2MpEPDjb9NYOzksRi7aSwy62ai482OhQAd3tQHxoYvYOqwEG17DJQMIK0AWq2wAq1K3p5yG3Xs6gjua/uagahW/wAiArpi6OwTgu24onYQiI09g8DAjjAzq4Xu6T9xLkDtGNbio2ABKNsR1mUBWAUA7cbuDeBjAHnJzB4BSBQ4YiwABYLiauoh8NF3H2HovKHItMhEx7jCAlA9vQhrxXOLJ6KSo7B3wF40d2ouzAjA5g1T4VpnAxLuNkKvydKeVhbsFFcsNQIpKcHw93eGvn4ZzDPzxdXEJM4FWGr030NHLADfA3RhXeqyANwBoKgEZu0A/CsMH1gACgTF1dRD4NMjn6JznzefEGsZ3RJG5Y3U07AKrWTnZENfT19pyx17V6JqxU+QGV4ZHYe9UNpe0w1C40NzvwaSkZWBFZ1WaHo4SvufnZ0BX186oJSN7dZnsDNWH2tdXDCDcwEqzVIjDPgQiGyHSZcFoDoGhQWgOihyG4IJbL62GbbtbGGTaIOGVxrConHRp8+TkpJRtqw8U4ycvXoKekldkZNhiJatk2BsYiw4fm2o+CD6AVzXu6KsUVkkLEwolNBbG2IsKYZLl6oiLe0Z/Oz2YXGUPecCLAkY/13tBPgQiPYdAlH7JCmhQRaApU1cx/v76/FfuNf+Huo9r4fav9ZGhWEVChC5ezsA4fc7Qc8gA217v5ZcXCSlJyE6JRpVLGlHhbCSmJqIq+etoWeUibLl/NC4UeHDLMJa0sxaaZlpMP0/U+QgB5HzImFXVtp0F3KkFBDQFnFx5xBSYR1Gv6zLuQDlOEha7hMLQBaAYqc4C0CxBNleKQKPYh5ha/ut6BrYFVW/roqqn1UtYB8XH4uA628SDbs6h8HBqWCuQKU6K6EyfQqOPgnnbu+OW5NvKdX06b2VYVQxDBERazF06AylbLWhstNqJ7yIf4HL4y+jqWNTbQhJqRju3RuHiIgdSLNfgK6RXTgXoFL0uLI6CLAAZAEodh6xABRLkO2VIpCelY4JnSbA+6w3LEdYosHuwjn4/jlsDX3L1zDJPoXm7d/sF5SiiHmVeWRLQ1jUDEDw7RnwnrpWCvdk3War7a1w4fkF/DbgNwx1HyprX6Vw7unTr/H06RcwsR2FFq+8ORegFJC5zXcSYAHIAlDsJcICUCxBtleawOBRgzFl9xToNdFDG/82hexP/uKGMh/cQXLoD+g+YprS7Qs1oFeZZsvMYGtmi/vT7sOqTMFP072rnT1ru6Cyx194fn0wRs/ZJ7RLrak35tAY7AzciWXtl2Fhq4VaE5fQQCIiduHevdEoZ9kOnnGf55pxLkCh9LieOgiwAGQBKHYesQAUS5DtlSYw/PPh+HDJh8iyy0KHyA6F7I9s7gwL19OIvTsL/SavVrp9ZQxoD2BZ47LKmOTW/WntKNTw2I3om60xYMY5pe013eDLf7/EV+e+woQGE/BT7580PRyl/X/9+jxu3GiNMmWqoVfWLrzKyMANT094mJsr3RYbMAFVCLAAZAGoyrzJb8MCUCxBtleawKTdkzBs1LBcu1aJrWBQ1qBAGz6bJ8LadSvibvVDn+kHlW6/NAy2bF2Ami4rkPK4NrqNv1MaXcqqD1r9o1XA9tXa48zoM7LyrTScSU19gcuXnQAY4BNzP1xJTMEhd3f0sbUtje65DyYAFoAsAMVeBiwAxRJke6UJLDm3BB5dPWCRagHPm54wr1tw1eTo7mUo57gIKfeboNskf6XbV9aA9iWmZKTAsoylYNM7wbdwJ+gK3Oo0RW0Xd8F22lIxKikKz+Keobp1dZQ3fXNoR5dKTk42fH1NkZOTjl+sT2FHrDHnAtSlCSCDWFkAsgAUOw1ZAIolyPZKE9h9czcSuyWiVlgtuB10g12/gmlEzv9zGCmh85AS1wB9pu1Xun1lDNZcXoO5f83FGI8x2NZH977rqwwrrluQgL9/DaSkPMIlu934NKoy5wLkCVKqBFgAsgAUO+FYAIolyPZKE/B77oeTPU6iQ1AHVP+2OqrME56DT+nOSjDYc3MPRvqMRNuqbXF2zFl1N8/taTGBwMDOiI09jVD77zAysiHnAtTisZZjaCwAWQCKnZcsAMUSZHulCYQlhGFxz8UY7TsaFT6sgNqbayvdhroMLoZcRMttLVHHrg5uT7mtVLM/bZkP06S7MK3WFwP6jlfKVhsq7wrchathVzG+wXh4VPTQhpCUiuH+/UkID9+CdPu56BLZk3MBKkWPK4slwAKQBaDYOcQCUCxBtleaAH2Dt8/APph7cC5MWpug+bnmRbaRlZWFrMxMGJuYKN2HUAPa/5eQlpC7j01PyY++H/ixJWzcLiL4xnh4z9oqtEutqdd9T3eceHQCW3puwcRGE7UmLqGBPHu2HE+eLISJzVC0iJ7EuQCFguN6aiHAApAFoNiJxAJQLEG2V4lAzzk9MW/1POQ45qBdSLtCbRze2A8W1U4blUtKAAAUxElEQVQiIXQReo9frFIfUhtt+WE87PTv4nWZzhg3/kupu5Nd+1P/nIoN1zZgoddCLOuwTHb+Se1QZOQ+3LkzFOYWLdE4fmlud5wLUGrq3H4eARaALADFXg0sAMUSZHuVCAzeMBhTpk5Bjn4O2qS0gb6xfoF2Dm0aAKtaBxEbNB79pkm/ukarkpnZmTA2MFYpHl00+u7id5h3el7ul0DoiyC6VuLjr+D69aYwNq6MPjn7OBegrk2A9xwvC0AWgGKnIAtAsQTZXiUC0/6chh79esA0wxRN7jeBWU2zggLw5zmwcl6NxKBO6DntL5X6EGo0+dhkbL+xHau7rMbkxpOFmul8vYN3D2LA/gFoWrkpLk+4rHM80tMjcfFiBdDP0AJzP/gnpnEuQJ2bBe8vYBaALADFzj4WgGIJsr1KBGj1yKqfFZwjnVH3eF3YdLMp0M6JAxtgajMVacF10MVbucMZyjo06+QsrPVfi49bfIyVnVYqZZ6ZmYlbDwJQr2ZDGBgWTGitVEMaWDkgPAANtzSEfVl7vJz3UgMjEOdyTk4Ozp83R3Z2MnZb/4mfY804F6A4pGytBAEWgCwAlZguRVZlASiWINurRMDnrg9u9b+F1vdaw2WdCxynOxZo59rlf5CY2gE5sdZo1y9GpT6EGq29vBazTs3CYLfB2DdQ+Hd9E1Ljce0fB+iZJaN8+f9Qr15DoV1qRb241DhYrXjz/eSEhQkwN9a9z6BdueKO5OTb8LfbjgVRVTkXoFbMbM0IggUgC0CxM5UFoFiCbK8SgRsRN7BpwCYMvTgUlWdWRo01NQq0ExMbiZuB9HoNqFMrCvYVpfvEVkxKTO6XQBzKOUBfr+BexJKC+/v3ijC0e4moqE0YNGhSSdW17u/lV5RHbGosAj8KRL0K9bQuvpICunWrF6KjjyHMfjlGRDblXIAlAeO/q40AC0AWgGInEwtAsQTZXiUC8WnxGDlwJOYcmwPLbpZocLxBoXb+OWoJ/XLxMMUZNG3bXqV+pDY6+lM9lKtxC8F358J78iqpu5Nd+5dCLsHWzBbVrKvBUN9Qdv5J7dDDh9MRGroe6XYz0CWqH+cClBo4t/8/AiwAWQCKvRxYAIolyPYqE2g3sR2+2PoF9F300fph60LtHNviBUODBFhWX4nm7bqo3I9QQ9rTRUWZfIC/resIh3pn8CxgGMbM/lVoV1xPSwiEhHyPx4/nwsS6P1rEToelgQFet2qlJdFxGHImwAKQBaDY+ckCUCxBtleZQKdlnbBo0SLkGOWgbUpb6BnoqdyWWMPOuzrDP9Q/93NwDR2E7+XbumYYXOrvRWRgBwye+bdYN9hewwhERR3E7dsDYGbuiaaJ3+Z6z7kANWwQNdRdFoAsAMVOXRaAYgmyvcoEBu8bjInDJ8Io2wjNnjZDmQ/KqNyWWMMWP7fApReXsH/gfgxyGyS4uc2b58LV9XskP3JH9wm3BNtpS8UH0Q/w263fYGFigdnNZ2tLWILjSEgIwH//NYSRkR36wic3F2CgpyfqmevegRjB0LiiWgiwAGQBKHYisQAUS5DtVSbwyelP4DbMDVWiq8Djbw9Yd7Ausq2MjAwYGRmp3I8Qw5EHR2LPrT1Y3mE5PvH6RIhJbp1fD21AJaupyIq2RYcBUYLttKXiX4//QpfdXeBm54agKUHaEpbgODIyXsPP7828XWTui4uJWZwLUDA9riiGAAtAFoBi5g/ZsgAUS5DtVSaw6domvB7+Gs0eNkPNzTVR6cNKBdry9/sLieGjkJNqho4jn6jcjxDDxzGPc6s5WTop9TWQq/f8kRTRDMjWQ/2GMbCyepMWRVfKw+iHqLm+JsyMzJC4MFGp/ZPawujCBWtkZr7Gb9aHsCXWEmtcXDDTsWBaI22JleOQDwEWgCwAxc5GFoBiCbK9ygRo9ejoiKMY4D8ATh87wXmlc4G2Hty/ibBwD+SkG8GrbTKMjOV3yjQ9Ix1+f1tCzzQVWTiGDm17qMxDEw3Ts9JRZmkZ5CAHEXMjUMH8TeoeXSrXrjVEYmIArtpuwfxXNTCzcmWsqVEwrZEu8eBYS4cAC0AWgGJnGgtAsQTZXmUCtHq0YOQCTD85Hbb9beF+wL1AWxmZ6bhwzhR6BtmoaBuEWu5uKvclpeGp3dVh4vgEIc++wagxC6TsSpZtV1ldBSHxIbjofRHNnZrL0kcpnQoKGoBXrw4i3O5rDI9qhb62tvBxLziXpeyf29ZNAiwAWQCKnfksAMUSZHuVCdDqUZvRbfDNr9/ApK4Jmt8sLB7+3l8JhvbhQMLvaNtroMp9lWQYmxKL7r92R0hcCJ7NegYDfeGfdTu4oRnK1/FH8M2P4D1jY0ldad3f2+xoA99nvtjTfw+G1x2udfGVFNCjR3Px4sX3yLD5CJ2jh6CBuTmue3qWZMZ/ZwKiCLAAZAEoagLxHkCx+NheLIEmC5tg5fKVgBnQJrFNoT1kx7c2hpnLNcQHL0Nv74ViuyvWPis7C2bLzECi9MnMJ6hqVVVwXzvX9EKV+scQGtAHI2YfEmynLRXHHR6HHTd2YEm7JVjcerG2hCU4jhcv1uPRo+kwtuqJlq/nwsrQELFeXoLtuSITUIUAC0AWgKrMm/w2uSuAISEhsLCgf3JhAqVLoNeOXpg7cy4MYICmD5vC2N64gAN//jwcFjX/RNydMeg5aZ2kzjXc3BB0GOTosKNoXbVwYuriOt+2aRpquO3C6zuN0WuS7uUCXHFhBZadX4aR9Ubixx4/SjpGcmw8JuYUbt8eDFMzd3RIXp7r4vPmzWFpKL89q3Lkxz6pRoAEoJOTExlbAohXrRXNtnp/mWM1m1ue95UBvNCOUDgKJsAEmAATYAI6R4COnIfqXNT01SZdDFqNMRM/yr2RAKCcQgzSZKL/a3vheLV7hHl8tXt8KToeY+0eYx7fkseXGIUBePMdSx0rLADVN+C5r4N1aDmZ41Xf3JFjSzy+chwV9frEY6xennJrjcdXbiMiM39YAKpvQPhiUx9LObbE4yvHUVGfT7o2vkRO12LmeNV3vcixJV0bX9FjwAJQNML/NaBrk4/jVd/ckWNLPL5yHBX1+sRjrF6ecmuNx1duIyIzf1gAqm9ATABQno1vAKSpr1nZtsTxynZo1OIYj69aMMq6ER5jWQ+PaOd4fEUj1O4GWABq9/hydEyACTABJsAEmAATKESABSBPCibABJgAE2ACTIAJ6BgBFoA6NuAcLhNgAkyACTABJsAEWADyHGACTIAJMAEmwASYgI4RYAGoYwPO4TIBJsAEmAATYAJMgAWg6nOAvnb/GYD2ACoqsonvBvB/ANLf0WwZAN8BGAqATmmdAjAFwEvVXSk1y0UAegCor4jRSkDPOwCMeasexdxVgO37rqJKvHRNfQVgIgDi4wdgMoCH7zsYAf2XB/ADgF4AsgEcADATQOI7bP8F0Oatv28G8JGA/kq7ylQAHyuu10AA0wFceYcTgwAsAUDXOo3fJwCOl7bTIvpTJt6xALa/1RdlM6D7lSYU+vg0jW0jAA4A+gE4VILjbQF8D8ANQAiApQDofqUJRdl4KdazRQRGrCI0IGDKsNEfQC0AKQAuKq7H+yX4runXsKRDwwJQdbwkYIYA+A3AIwDuAH4CsAvAvHc0u1EhouiGS18OWa/4sW2puiulZknC5jUA+tzdeIXAKalzuqFWADAuX0X6YYktyVAGf1clXhIJdLMi0ftEISDqAqgDIFUGMb3LhROKH89JAIwUguAqgOElCMAHAD7PVydZhh9Xp2t1p0KY+gOYBYB+HFwBRBYRXwsAvoqxPKZgQGPbEECQzMeR3FM2XrofrVXwyAuPPo+lCQ+m5G83AHQP/Q/AQQECsJpiHDcB2AqgA4A1inszPaDKvSgbb54ApPkeny84mvv0sCf3chLAXgB0PzIEsEzxm0v31aRinNf0a1jyMWEBqF7E9ARKqz3Vi2nWEkCU4sfkD0UdeqK5C6A5gMvqdUey1ujHgm6WQlcAqV5fybyRvmGh8dL1RN+VpBXeVQq3aMzpR5TaoBuYXEttAHcANAZwTeEkPeTQihcJfoqrqEIrgDcUgkqusZFfJProx2Oawkl9xaoPrXguL8LxfQDKAuiZ7290fVKsclzdfDsEZeMVOsflPMZ5vpFwLWkFcIVC7NGDe16h65PuVZrwdiL/OAiJN08AWise4jVhHN/lo53iwY3ePtCDWlFF069hyceIBaB6EdMrBLp5eBbTLL0uPgPg7YvwmUJQrVavO5K1psyPBa0Akvij1+K06vcPgMUAoiXzTv0NC42XhP9jAA0UQiHPk3OK/9PrVLkWb4VwpbmZV+hJm1YtaaXMpxjHSQDSKzS6l9CrpKOKVU9aBZRLMQZA/gx867XgL4of/D5FOPpc8XqQHnTyCq0I01z2kEtgxfihSrw0x2klLBQAiePrAD4FcFvmsRblnhBBRKKBYqSV4LxCbylovOmhTZOKkHjzBCD91tDWI1rF/lKxRUWTYs3z1UWxLYPerhS3Iq/J13CpjAkLQPVhpglJrx/o9S+9Ci6q0Ks02mdDF2D+QvuQaH8GvWLShCJUEFEstNeRfnzpdaizYume9pTRimeWJgSrWL0TsuJJrxxoz18lAOH5YtsPgG7S9FpOroV+7Om1Nb0iyl/oFdEXAGjrQlHlQwD0o0IrhPUA0MoKzWfaryOXQuNBwobG51I+p1Yq9i82LcJRemAhHrTFI6/QXl1iQVsa5FxUiZeuxxoAbioEEN3HaJ8ZifsXcg62CN+ECCLatkD3YvpyU17pDuBPAGaKfWaaEraQeOm6JhFIq/v0+zMBwCgANPdJCGtSoQeUI4qHN693OK7J13CpjAcLwMKY6XVQSUKMXpfdy2daGQCt8tBqCF1YxRU5CkBV4lVGAL7NIm+VrKNiNbRUJnq+TqSMV44CUGi8JNhUEYBvj1/eKjc9ENFqqByKKoJIk388VIn37XGiPaC0NYUEMB1206QiRBDpmgAsavzoN4tWyUgIalKhh1HaA0ni710PJ5p8DZfKeLAALIyZ9hbYlEA/ON9JX7rZkvCj/UEkjN61oVaOr4CVjZfQiBGAZE/7IOk1MJ0WLe0iZbxyfAUsNN6RKr4Cfnv8aN8crfDSVgi5bKZX5ZWoJr8+UiXeoq7D3wFkAhhW2hepyP6ECEBdewVcFNJvFSKKVn81pdChSdqyQavT9FbpXUWTr+FSGQ8WgOIw08ofvbqlV7/0A1rSK828QyB0Q6UUG1RoaZ5WE7X1EMjbhOlAAV2YtJeKlvE1oQgVvHmHQOgACB0EoWKh2KysKYdAaP8qzWcqnQHQ6bt3HQJ5e/zoJOYFxT45ep0ol0KHIujVNKV+oUKvkWge0g9KcYdA6FUgpcTJK5R6gmLSlEMgysT79jgZKPb/0SGgOXIZRIF+CBGAtFWBXvnSHrK88isASoWkjYdAikJ3GkCCzLZrFDfEdG+lA1t0uIdeZQtJq0WHQDT5GhY43VWvxgJQdXYk/mjlj/Y/0auz/OIvL68S1aFDH6Pz5Ruj5Wu68ZAgoOP4NKmp0OtDuZcqihtkb0XOrVYKhykNTl6uOBKzlAaFDg2YK/ZMkdglJrQHkPZdlVPceCkdjJyLsvFSLLR9YMFbaWBob5ympIGh/W0kcPLSwNCeobw0MG/PZxpP+huJBDrUQ3HSQSZ6LfN2bsD3Pc60/5IOfVCKGxJGtPl/sCKvGJ3SphQxtE+Q5m7e9UivyGgsaV8Y7WWlfZKalAZGmXgpjQ+9xaBrmU7CUkYDekijvHp0Olzuhe41tO2ASoBCtNLDeYxC6NNeP5q/dC+mkpcG5kcA2xT5XNdpUBoYZeOl+U4rZnSoh3I70lYlehiihzz6jZJ72aC419DqX/7cf5RKjfICUtG2a1jyMWEBqDriohKn5rWWx5USyNJF104hFunveYmgaRUwfyJoTUjGWVRSZ4opf3z09E2n6aiuqeLUJZ2KpR8VOijwl2JPkSbkF1M2XmKRlwiaDkdQzLQaRocHaM+R3AutftCKWP5E0DPyifu357MTAEp+Tqk06NUvJdMl4U+n4fPnGpNL3JQCJi8RNKVzodhoZZAKPcw9VTyY5flLp58plrxE0PM1LBG0MvGScKd9oJTUnk7r0yowbdMgMaUJpbhExySC6V5N1zKNI9XLK/RvipsezuihhZJ+a0oiaGXjpblL9yQSwXQoj1ayvy4mObQcx5t+V4oqeb812noNSzoWLAAlxcuNMwEmwASYABNgAkxAfgRYAMpvTNgjJsAEmAATYAJMgAlISoAFoKR4uXEmwASYABNgAkyACciPAAtA+Y0Je8QEmAATYAJMgAkwAUkJsACUFC83zgSYABNgAkyACTAB+RFgASi/MWGPmAATYAJMgAkwASYgKQEWgJLi5caZABNgAkyACTABJiA/AiwA5Tcm7BETYAJMgAkwASbABCQlwAJQUrzcOBNgAkyACTABJsAE5EeABaD8xoQ9YgJMgAkwASbABJiApARYAEqKlxtnAkyACTABJsAEmID8CLAAlN+YsEdMgAkwASbABJgAE5CUAAtASfFy40yACTABJsAEmAATkB8BFoDyGxP2iAkwASbABJgAE2ACkhJgASgpXm6cCTABJsAEmAATYALyI8ACUH5jwh4xASbABJgAE2ACTEBSAiwAJcXLjTMBJsAEmAATYAJMQH4EWADKb0zYIybABJgAE2ACTIAJSEqABaCkeLlxJsAEmAATYAJMgAnIjwALQPmNCXvEBJgAE2ACTIAJMAFJCbAAlBQvN84EmAATYAJMgAkwAfkRYAEovzFhj5gAE2ACTIAJMAEmICkBFoCS4uXGmQATYAJMgAkwASYgPwIsAOU3JuwRE2ACTIAJMAEmwAQkJcACUFK83DgTYAJMgAkwASbABORHgAWg/MaEPWICTIAJMAEmwASYgKQEWABKipcbZwJMgAkwASbABJiA/AiwAJTfmLBHTIAJMAEmwASYABOQlAALQEnxcuNMgAkwASbABJgAE5AfARaA8hsT9ogJMAEmwASYABNgApISYAEoKV5unAkwASbABJgAE2AC8iPAAlB+Y8IeMQEmwASYABNgAkxAUgL/DzWlEc0/F+7iAAAAAElFTkSuQmCC\" width=\"640\">"
      ],
      "text/plain": [
       "<IPython.core.display.HTML object>"
      ]
     },
     "metadata": {},
     "output_type": "display_data"
    }
   ],
   "source": [
    "fig,ax=plt.subplots()\n",
    "gX0,gX1=GridX[:,:,0],GridX[:,:,1]\n",
    "gX=GridX\n",
    "\n",
    "CT_lists=[]\n",
    "\n",
    "for l,Layer in enumerate(P_Layers):\n",
    "    listL=splitL(Layer)\n",
    "    contour_list=[]\n",
    "    for i,Pneu in enumerate(listL):\n",
    "        ctf=ax.contour(gX0,gX1,Pneu,colors=clist[i],levels=[0.],linestyles=listLineStyle[l])\n",
    "        contour_list.append(ctf)\n",
    "    CT_lists.append(contour_list)\n",
    "    \n",
    "ax.scatter(Xpos[:,0],Xpos[:,1],marker='+',s=100,c='b',linewidth='3')\n",
    "ax.scatter(Xneg[:,0],Xneg[:,1],marker='_',s=100,c='r',linewidth='3')\n",
    "\n",
    "ix10C=np.where( Cnts>=1000 )[0]\n",
    "Arr=M2[ix10C]\n",
    "Loc=Centers[ix10C]\n",
    "str_aff=[np.array2string(s,precision=2) for s in Arr]\n",
    "loc_str=[c for c in Loc]\n",
    "\n",
    "#alignment = {'horizontalalignment': 'center'}\n",
    "alignment = {'horizontalalignment': 'left',\n",
    "             'verticalalignment':'bottom'}\n",
    "\n",
    "for txt,loc in zip(str_aff,loc_str):\n",
    "    ax.text(loc[0],loc[1],txt,**alignment)\n",
    "    #ax.plot(loc[0],loc[1],style='gx',markersize=120)\n",
    "    ax.plot(loc[0],loc[1],color='green',marker='x',markersize=8)\n",
    "plt.savefig(record_dir+'/'+id_str+'_RegionOverlay_AffMaps.pdf')"
   ]
  },
  {
   "cell_type": "code",
   "execution_count": null,
   "metadata": {
    "collapsed": true
   },
   "outputs": [],
   "source": []
  },
  {
   "cell_type": "code",
   "execution_count": null,
   "metadata": {
    "collapsed": true
   },
   "outputs": [],
   "source": []
  },
  {
   "cell_type": "code",
   "execution_count": null,
   "metadata": {
    "collapsed": true
   },
   "outputs": [],
   "source": []
  },
  {
   "cell_type": "code",
   "execution_count": null,
   "metadata": {
    "collapsed": true
   },
   "outputs": [],
   "source": []
  },
  {
   "cell_type": "code",
   "execution_count": 40,
   "metadata": {
    "collapsed": false
   },
   "outputs": [],
   "source": [
    "ix1C=np.where( Cnts>=100 )[0]"
   ]
  },
  {
   "cell_type": "code",
   "execution_count": 29,
   "metadata": {
    "collapsed": false
   },
   "outputs": [
    {
     "data": {
      "text/plain": [
       "array([[ 0.,  0., -1.],\n",
       "       [ 0.,  0., -1.],\n",
       "       [ 0.,  0., -1.],\n",
       "       [ 0.,  0., -1.]])"
      ]
     },
     "execution_count": 29,
     "metadata": {},
     "output_type": "execute_result"
    }
   ],
   "source": [
    "flat_ix=np.array([2,4,5,8])\n",
    "M2[flat_ix]"
   ]
  },
  {
   "cell_type": "code",
   "execution_count": 31,
   "metadata": {
    "collapsed": false
   },
   "outputs": [
    {
     "data": {
      "text/plain": [
       "array([16903,   263,  6099,  6047])"
      ]
     },
     "execution_count": 31,
     "metadata": {},
     "output_type": "execute_result"
    }
   ],
   "source": [
    "Cnts[flat_ix]"
   ]
  },
  {
   "cell_type": "code",
   "execution_count": 33,
   "metadata": {
    "collapsed": false
   },
   "outputs": [
    {
     "data": {
      "text/plain": [
       "array([[1, 0, 1, 0, 0, 1, 1, 1, 0, 0, 0, 0],\n",
       "       [1, 1, 1, 0, 0, 1, 1, 1, 0, 0, 0, 0],\n",
       "       [1, 1, 1, 1, 0, 1, 1, 1, 0, 0, 0, 0],\n",
       "       [1, 1, 1, 1, 1, 1, 1, 1, 0, 0, 0, 0]])"
      ]
     },
     "execution_count": 33,
     "metadata": {},
     "output_type": "execute_result"
    }
   ],
   "source": [
    "Sig[flat_ix]"
   ]
  },
  {
   "cell_type": "code",
   "execution_count": 35,
   "metadata": {
    "collapsed": false
   },
   "outputs": [
    {
     "data": {
      "text/plain": [
       "array([[0, 0, 0, 0],\n",
       "       [0, 0, 0, 0],\n",
       "       [0, 0, 0, 0],\n",
       "       [0, 0, 0, 0]])"
      ]
     },
     "execution_count": 35,
     "metadata": {},
     "output_type": "execute_result"
    }
   ],
   "source": [
    "sigl[-1][flat_ix]"
   ]
  },
  {
   "cell_type": "code",
   "execution_count": 36,
   "metadata": {
    "collapsed": false
   },
   "outputs": [
    {
     "data": {
      "text/plain": [
       "array([[ 1.36164388,  1.08014981],\n",
       "       [ 0.59591616,  1.13165116],\n",
       "       [ 0.32725922,  0.98165146],\n",
       "       [-0.20836186,  0.97865961]])"
      ]
     },
     "execution_count": 36,
     "metadata": {},
     "output_type": "execute_result"
    }
   ],
   "source": [
    "Centers[flat_ix]"
   ]
  },
  {
   "cell_type": "code",
   "execution_count": 42,
   "metadata": {
    "collapsed": false
   },
   "outputs": [],
   "source": [
    "Sig1C,Centers1C,Cnts1C,M1C=Sig[ix1C],Centers[ix1C],Cnts[ix1C],M2[ix1C]"
   ]
  },
  {
   "cell_type": "code",
   "execution_count": 44,
   "metadata": {
    "collapsed": false
   },
   "outputs": [
    {
     "data": {
      "text/plain": [
       "array([12978, 16903,   263,  6099,   724,  6047,  3889])"
      ]
     },
     "execution_count": 44,
     "metadata": {},
     "output_type": "execute_result"
    }
   ],
   "source": [
    "Cnts1C"
   ]
  },
  {
   "cell_type": "code",
   "execution_count": 45,
   "metadata": {
    "collapsed": false
   },
   "outputs": [
    {
     "data": {
      "text/plain": [
       "array([[-1.45640421,  0.82414068],\n",
       "       [ 1.36164388,  1.08014981],\n",
       "       [ 0.59591616,  1.13165116],\n",
       "       [ 0.32725922,  0.98165146],\n",
       "       [-0.84880793,  0.95513563],\n",
       "       [-0.20836186,  0.97865961],\n",
       "       [-0.64696074,  0.97621038]])"
      ]
     },
     "execution_count": 45,
     "metadata": {},
     "output_type": "execute_result"
    }
   ],
   "source": [
    "Centers1C"
   ]
  },
  {
   "cell_type": "code",
   "execution_count": 46,
   "metadata": {
    "collapsed": false
   },
   "outputs": [
    {
     "name": "stdout",
     "output_type": "stream",
     "text": [
      "[[-0.77 -0.06  0.64]\n",
      " [ 0.    0.   -1.  ]\n",
      " [ 0.    0.   -1.  ]\n",
      " [ 0.    0.   -1.  ]\n",
      " [-1.   -0.08 -0.02]\n",
      " [ 0.    0.   -1.  ]\n",
      " [-0.89 -0.07 -0.46]]\n"
     ]
    }
   ],
   "source": [
    "print np.around(M1C,2)"
   ]
  },
  {
   "cell_type": "code",
   "execution_count": 48,
   "metadata": {
    "collapsed": false
   },
   "outputs": [
    {
     "data": {
      "text/plain": [
       "array([[0, 1, 0, 1, 1, 0, 0, 0, 1, 1, 1, 1],\n",
       "       [1, 0, 1, 0, 0, 1, 1, 1, 0, 0, 0, 0],\n",
       "       [1, 1, 1, 0, 0, 1, 1, 1, 0, 0, 0, 0],\n",
       "       [1, 1, 1, 1, 0, 1, 1, 1, 0, 0, 0, 0],\n",
       "       [1, 1, 1, 1, 1, 0, 0, 0, 1, 1, 1, 1],\n",
       "       [1, 1, 1, 1, 1, 1, 1, 1, 0, 0, 0, 0],\n",
       "       [1, 1, 1, 1, 1, 1, 1, 1, 1, 1, 1, 1]])"
      ]
     },
     "execution_count": 48,
     "metadata": {},
     "output_type": "execute_result"
    }
   ],
   "source": [
    "Sig1C"
   ]
  },
  {
   "cell_type": "code",
   "execution_count": 49,
   "metadata": {
    "collapsed": false
   },
   "outputs": [
    {
     "data": {
      "text/plain": [
       "array([[ 0.78906417, -0.8027047 ,  0.8602567 , -0.80492055],\n",
       "       [ 0.06518545, -0.06364239,  0.07567172, -0.06530982]],\n",
       "      dtype=float32)"
      ]
     },
     "execution_count": 49,
     "metadata": {},
     "output_type": "execute_result"
    }
   ],
   "source": [
    "W1f"
   ]
  },
  {
   "cell_type": "code",
   "execution_count": 50,
   "metadata": {
    "collapsed": false
   },
   "outputs": [
    {
     "data": {
      "text/plain": [
       "array([[-0.8262359 ,  0.91150755,  0.8890051 ,  0.87247336],\n",
       "       [ 0.73093206, -0.30269304, -0.22747582, -0.28524455],\n",
       "       [-0.7552978 ,  0.8272015 ,  0.8094798 ,  0.7735411 ],\n",
       "       [ 0.7562429 , -0.29802728, -0.36970505, -0.2953179 ]],\n",
       "      dtype=float32)"
      ]
     },
     "execution_count": 50,
     "metadata": {},
     "output_type": "execute_result"
    }
   ],
   "source": [
    "W2f"
   ]
  },
  {
   "cell_type": "code",
   "execution_count": 51,
   "metadata": {
    "collapsed": false
   },
   "outputs": [
    {
     "data": {
      "text/plain": [
       "array([0.5731294, 0.5918197, 0.5888418, 0.5738835], dtype=float32)"
      ]
     },
     "execution_count": 51,
     "metadata": {},
     "output_type": "execute_result"
    }
   ],
   "source": [
    "b2f"
   ]
  },
  {
   "cell_type": "code",
   "execution_count": null,
   "metadata": {
    "collapsed": true
   },
   "outputs": [],
   "source": []
  },
  {
   "cell_type": "markdown",
   "metadata": {},
   "source": [
    "### Look at layer 2 maps"
   ]
  },
  {
   "cell_type": "code",
   "execution_count": 78,
   "metadata": {
    "collapsed": false
   },
   "outputs": [],
   "source": [
    "#new_weights=rescale_weights(time_weights,sigl)\n",
    "Linear2R,Bias2R=compose_affine(new_weights[:2])\n",
    "Linear2,Bias2=compose_affine([new_weights[0],time_weights[1]])\n",
    "Maps2=np.concatenate([Linear2,np.expand_dims(Bias2,-2)],axis=-2)#idx,xdim+1,1\n",
    "Maps2R=np.concatenate([Linear2R,np.expand_dims(Bias2R,-2)],axis=-2)#idx,xdim+1,1\n",
    "#cnt_thresh=np.percentile(Cnts,20)\n",
    "#ix_thresh=np.where( Cnts>=cnt_thresh )[0]\n",
    "ix10C=np.where( Cnts>=1000 )[0]\n",
    "#M2=M/np.linalg.norm(M,ord=2,axis=(-2,-1),keepdims=True)\n",
    "#M2=np.squeeze(M2)\n",
    "Sig_ix,Centers_ix,Cnts_ix,Maps2_ix=Sig[ix10C],Centers[ix10C],Cnts[ix10C],Maps2[ix10C]\n",
    "Maps2R_ix=Maps2R[ix10C]"
   ]
  },
  {
   "cell_type": "code",
   "execution_count": 79,
   "metadata": {
    "collapsed": false
   },
   "outputs": [
    {
     "data": {
      "text/plain": [
       "array([[[-1.19543802,  0.        ,  0.        ,  0.        ],\n",
       "        [-0.09590835,  0.        ,  0.        ,  0.        ],\n",
       "        [ 1.39387577,  0.        ,  0.        ,  0.        ]],\n",
       "\n",
       "       [[ 0.        ,  1.43084354,  1.39784247,  1.35388135],\n",
       "        [ 0.        ,  0.12201279,  0.11920492,  0.11540775],\n",
       "        [ 0.        ,  1.74105294,  1.71157086,  1.66128947]],\n",
       "\n",
       "       [[ 0.        ,  1.91370495,  1.87802157,  1.82055593],\n",
       "        [ 0.        ,  0.160741  ,  0.1578274 ,  0.15284856],\n",
       "        [ 0.        ,  1.40940907,  1.38303139,  1.34088852]],\n",
       "\n",
       "       [[-2.49714111,  1.91370495,  1.87802157,  1.82055593],\n",
       "        [-0.20692159,  0.160741  ,  0.1578274 ,  0.15284856],\n",
       "        [ 0.34836262,  1.40940907,  1.38303139,  1.34088852]],\n",
       "\n",
       "       [[-2.49714111,  1.91370495,  1.87802157,  1.82055593],\n",
       "        [-0.20692159,  0.160741  ,  0.1578274 ,  0.15284856],\n",
       "        [ 0.34836262,  1.40940907,  1.38303139,  1.34088852]]])"
      ]
     },
     "execution_count": 79,
     "metadata": {},
     "output_type": "execute_result"
    }
   ],
   "source": [
    "Maps2R_ix"
   ]
  },
  {
   "cell_type": "code",
   "execution_count": 80,
   "metadata": {
    "collapsed": false
   },
   "outputs": [
    {
     "data": {
      "text/plain": [
       "array([[[-1.19543802,  0.4828614 ,  0.4801791 ,  0.46667458],\n",
       "        [-0.09590835,  0.03872822,  0.03862248,  0.0374408 ],\n",
       "        [ 1.39387577,  0.26017583,  0.26030233,  0.25348252]],\n",
       "\n",
       "       [[-1.30170309,  1.43084354,  1.39784247,  1.35388135],\n",
       "        [-0.11101324,  0.12201279,  0.11920492,  0.11540775],\n",
       "        [-0.47238374,  1.74105294,  1.71157086,  1.66128947]],\n",
       "\n",
       "       [[-2.49714111,  1.91370495,  1.87802157,  1.82055593],\n",
       "        [-0.20692159,  0.160741  ,  0.1578274 ,  0.15284856],\n",
       "        [ 0.34836262,  1.40940907,  1.38303139,  1.34088852]],\n",
       "\n",
       "       [[-2.49714111,  1.91370495,  1.87802157,  1.82055593],\n",
       "        [-0.20692159,  0.160741  ,  0.1578274 ,  0.15284856],\n",
       "        [ 0.34836262,  1.40940907,  1.38303139,  1.34088852]],\n",
       "\n",
       "       [[-2.49714111,  1.91370495,  1.87802157,  1.82055593],\n",
       "        [-0.20692159,  0.160741  ,  0.1578274 ,  0.15284856],\n",
       "        [ 0.34836262,  1.40940907,  1.38303139,  1.34088852]]])"
      ]
     },
     "execution_count": 80,
     "metadata": {},
     "output_type": "execute_result"
    }
   ],
   "source": [
    "Maps2_ix"
   ]
  },
  {
   "cell_type": "code",
   "execution_count": 122,
   "metadata": {
    "collapsed": false
   },
   "outputs": [
    {
     "data": {
      "text/plain": [
       "(array([[ 0.78906417, -0.8027047 ,  0.8602567 , -0.80492055],\n",
       "        [ 0.06518545, -0.06364239,  0.07567172, -0.06530982]],\n",
       "       dtype=float32),\n",
       " array([0.633153  , 0.5598488 , 0.69162047, 0.54418355], dtype=float32))"
      ]
     },
     "execution_count": 122,
     "metadata": {},
     "output_type": "execute_result"
    }
   ],
   "source": [
    "W1f,b1f"
   ]
  },
  {
   "cell_type": "code",
   "execution_count": 123,
   "metadata": {
    "collapsed": false
   },
   "outputs": [
    {
     "data": {
      "text/plain": [
       "array([[ 1.2462456 , -1.4337884 ,  1.2438277 , -1.4791343 ],\n",
       "       [ 0.10295371, -0.11367782,  0.1094122 , -0.12001432]],\n",
       "      dtype=float32)"
      ]
     },
     "execution_count": 123,
     "metadata": {},
     "output_type": "execute_result"
    }
   ],
   "source": [
    "W1f/b1f"
   ]
  },
  {
   "cell_type": "code",
   "execution_count": 121,
   "metadata": {
    "collapsed": false
   },
   "outputs": [
    {
     "data": {
      "text/plain": [
       "array([[-1.4416219 ,  1.5401778 ,  1.509752  ,  1.520297  ],\n",
       "       [ 1.2753351 , -0.51146156, -0.38631058, -0.49704263],\n",
       "       [-1.3178486 ,  1.3977255 ,  1.3746983 ,  1.3479062 ],\n",
       "       [ 1.3194976 , -0.5035778 , -0.62785125, -0.51459557]],\n",
       "      dtype=float32)"
      ]
     },
     "execution_count": 121,
     "metadata": {},
     "output_type": "execute_result"
    }
   ],
   "source": [
    "W2f/b2f"
   ]
  },
  {
   "cell_type": "code",
   "execution_count": 125,
   "metadata": {
    "collapsed": false
   },
   "outputs": [
    {
     "data": {
      "text/plain": [
       "array([[ 1.615202 ,  1.9430621,  1.7535605,  1.7720231],\n",
       "       [-1.4851387, -1.9237099, -1.7058768, -1.6687715],\n",
       "       [-1.7140602, -1.7589005, -1.8140179, -1.8185157],\n",
       "       [-1.7212512, -1.9062316, -1.6727879, -1.7490296]], dtype=float32)"
      ]
     },
     "execution_count": 125,
     "metadata": {},
     "output_type": "execute_result"
    }
   ],
   "source": [
    "W3f/b3f"
   ]
  },
  {
   "cell_type": "code",
   "execution_count": null,
   "metadata": {
    "collapsed": true
   },
   "outputs": [],
   "source": []
  },
  {
   "cell_type": "code",
   "execution_count": null,
   "metadata": {
    "collapsed": true
   },
   "outputs": [],
   "source": []
  },
  {
   "cell_type": "code",
   "execution_count": 120,
   "metadata": {
    "collapsed": false
   },
   "outputs": [
    {
     "data": {
      "text/plain": [
       "(array([[-0.8262359 ,  0.91150755,  0.8890051 ,  0.87247336],\n",
       "        [ 0.73093206, -0.30269304, -0.22747582, -0.28524455],\n",
       "        [-0.7552978 ,  0.8272015 ,  0.8094798 ,  0.7735411 ],\n",
       "        [ 0.7562429 , -0.29802728, -0.36970505, -0.2953179 ]],\n",
       "       dtype=float32),\n",
       " array([0.5731294, 0.5918197, 0.5888418, 0.5738835], dtype=float32))"
      ]
     },
     "execution_count": 120,
     "metadata": {},
     "output_type": "execute_result"
    }
   ],
   "source": [
    "W2f,b2f"
   ]
  },
  {
   "cell_type": "code",
   "execution_count": null,
   "metadata": {
    "collapsed": true
   },
   "outputs": [],
   "source": []
  },
  {
   "cell_type": "code",
   "execution_count": 124,
   "metadata": {
    "collapsed": false
   },
   "outputs": [
    {
     "data": {
      "text/plain": [
       "(array([0.633153  , 0.5598488 , 0.69162047, 0.54418355], dtype=float32),\n",
       " array([0.5731294, 0.5918197, 0.5888418, 0.5738835], dtype=float32),\n",
       " array([0.43185288, 0.3981223 , 0.43580896, 0.44463152], dtype=float32),\n",
       " array([-3.9753575], dtype=float32))"
      ]
     },
     "execution_count": 124,
     "metadata": {},
     "output_type": "execute_result"
    }
   ],
   "source": [
    "b1f,b2f,b3f,b4f"
   ]
  },
  {
   "cell_type": "code",
   "execution_count": 81,
   "metadata": {
    "collapsed": false
   },
   "outputs": [
    {
     "data": {
      "text/plain": [
       "(array([[ 0.78906417, -0.8027047 ,  0.8602567 , -0.80492055],\n",
       "        [ 0.06518545, -0.06364239,  0.07567172, -0.06530982]],\n",
       "       dtype=float32),\n",
       " array([0.633153  , 0.5598488 , 0.69162047, 0.54418355], dtype=float32))"
      ]
     },
     "execution_count": 81,
     "metadata": {},
     "output_type": "execute_result"
    }
   ],
   "source": [
    "W1f,b1f"
   ]
  },
  {
   "cell_type": "code",
   "execution_count": 82,
   "metadata": {
    "collapsed": false
   },
   "outputs": [
    {
     "data": {
      "text/plain": [
       "array([[ 1.2462456 , -1.4337884 ,  1.2438277 , -1.4791343 ],\n",
       "       [ 0.10295371, -0.11367782,  0.1094122 , -0.12001432]],\n",
       "      dtype=float32)"
      ]
     },
     "execution_count": 82,
     "metadata": {},
     "output_type": "execute_result"
    }
   ],
   "source": [
    "W1f/b1f"
   ]
  },
  {
   "cell_type": "code",
   "execution_count": 85,
   "metadata": {
    "collapsed": false
   },
   "outputs": [
    {
     "data": {
      "text/plain": [
       "array([[-1.4416219 ,  1.5401778 ,  1.509752  ,  1.520297  ],\n",
       "       [ 1.2753351 , -0.51146156, -0.38631058, -0.49704263],\n",
       "       [-1.3178486 ,  1.3977255 ,  1.3746983 ,  1.3479062 ],\n",
       "       [ 1.3194976 , -0.5035778 , -0.62785125, -0.51459557]],\n",
       "      dtype=float32)"
      ]
     },
     "execution_count": 85,
     "metadata": {},
     "output_type": "execute_result"
    }
   ],
   "source": [
    "W2f/b2f"
   ]
  },
  {
   "cell_type": "code",
   "execution_count": null,
   "metadata": {
    "collapsed": true
   },
   "outputs": [],
   "source": []
  },
  {
   "cell_type": "code",
   "execution_count": 72,
   "metadata": {
    "collapsed": false
   },
   "outputs": [
    {
     "data": {
      "text/plain": [
       "array([[-1.19543802,  0.        ,  0.        ,  0.        ],\n",
       "       [-0.09590835,  0.        ,  0.        ,  0.        ],\n",
       "       [ 1.39387577,  0.        ,  0.        ,  0.        ]])"
      ]
     },
     "execution_count": 72,
     "metadata": {},
     "output_type": "execute_result"
    }
   ],
   "source": [
    "Maps2[ix10C][0]"
   ]
  },
  {
   "cell_type": "code",
   "execution_count": 70,
   "metadata": {
    "collapsed": false
   },
   "outputs": [
    {
     "data": {
      "text/plain": [
       "array([[0, 1, 0, 1, 1, 0, 0, 0, 1, 1, 1, 1],\n",
       "       [1, 0, 1, 0, 0, 1, 1, 1, 0, 0, 0, 0],\n",
       "       [1, 1, 1, 1, 0, 1, 1, 1, 0, 0, 0, 0],\n",
       "       [1, 1, 1, 1, 1, 1, 1, 1, 0, 0, 0, 0],\n",
       "       [1, 1, 1, 1, 1, 1, 1, 1, 1, 1, 1, 1]])"
      ]
     },
     "execution_count": 70,
     "metadata": {},
     "output_type": "execute_result"
    }
   ],
   "source": [
    "Sig[ix10C]"
   ]
  }
 ],
 "metadata": {
  "kernelspec": {
   "display_name": "Python 2",
   "language": "python",
   "name": "python2"
  },
  "language_info": {
   "codemirror_mode": {
    "name": "ipython",
    "version": 2
   },
   "file_extension": ".py",
   "mimetype": "text/x-python",
   "name": "python",
   "nbconvert_exporter": "python",
   "pygments_lexer": "ipython2",
   "version": "2.7.12"
  }
 },
 "nbformat": 4,
 "nbformat_minor": 1
}
