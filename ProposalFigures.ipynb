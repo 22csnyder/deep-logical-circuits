{
 "cells": [
  {
   "cell_type": "code",
   "execution_count": 1,
   "metadata": {
    "collapsed": false
   },
   "outputs": [
    {
     "name": "stdout",
     "output_type": "stream",
     "text": [
      "Using matplotlib backend: TkAgg\n"
     ]
    }
   ],
   "source": [
    "import matplotlib.pyplot as plt\n",
    "import tensorflow as tf\n",
    "import pandas as pd\n",
    "import glob2\n",
    "import os\n",
    "from itertools import product\n",
    "import numpy as np\n",
    "%matplotlib"
   ]
  },
  {
   "cell_type": "code",
   "execution_count": 2,
   "metadata": {
    "collapsed": false
   },
   "outputs": [
    {
     "ename": "NameError",
     "evalue": "name 'VU' is not defined",
     "output_type": "error",
     "traceback": [
      "\u001b[0;31m---------------------------------------------------------------------------\u001b[0m",
      "\u001b[0;31mNameError\u001b[0m                                 Traceback (most recent call last)",
      "\u001b[0;32m<ipython-input-2-91bb790880f9>\u001b[0m in \u001b[0;36m<module>\u001b[0;34m()\u001b[0m\n\u001b[1;32m      7\u001b[0m \u001b[0msv2data\u001b[0m\u001b[0;34m[\u001b[0m\u001b[0;34m'VU'\u001b[0m\u001b[0;34m]\u001b[0m\u001b[0;34m=\u001b[0m\u001b[0mnp\u001b[0m\u001b[0;34m.\u001b[0m\u001b[0mloadtxt\u001b[0m\u001b[0;34m(\u001b[0m\u001b[0mmdir\u001b[0m\u001b[0;34m+\u001b[0m\u001b[0;34m'/VUdata.txt'\u001b[0m\u001b[0;34m)\u001b[0m\u001b[0;34m\u001b[0m\u001b[0m\n\u001b[1;32m      8\u001b[0m \u001b[0;34m\u001b[0m\u001b[0m\n\u001b[0;32m----> 9\u001b[0;31m \u001b[0msv2data\u001b[0m\u001b[0;34m[\u001b[0m\u001b[0;34m'v'\u001b[0m\u001b[0;34m]\u001b[0m\u001b[0;34m=\u001b[0m\u001b[0mVU\u001b[0m\u001b[0;34m[\u001b[0m\u001b[0;34m:\u001b[0m\u001b[0;34m,\u001b[0m\u001b[0;36m0\u001b[0m\u001b[0;34m]\u001b[0m\u001b[0;34m;\u001b[0m\u001b[0msv2data\u001b[0m\u001b[0;34m[\u001b[0m\u001b[0;34m'u'\u001b[0m\u001b[0;34m]\u001b[0m\u001b[0;34m=\u001b[0m\u001b[0mVU\u001b[0m\u001b[0;34m[\u001b[0m\u001b[0;34m:\u001b[0m\u001b[0;34m,\u001b[0m\u001b[0;36m1\u001b[0m\u001b[0;34m]\u001b[0m \u001b[0;31m#uTexp(vx)\u001b[0m\u001b[0;34m\u001b[0m\u001b[0m\n\u001b[0m\u001b[1;32m     10\u001b[0m \u001b[0msv2data\u001b[0m\u001b[0;34m[\u001b[0m\u001b[0;34m'Xpos'\u001b[0m\u001b[0;34m]\u001b[0m\u001b[0;34m=\u001b[0m\u001b[0msv2data\u001b[0m\u001b[0;34m[\u001b[0m\u001b[0;34m'X'\u001b[0m\u001b[0;34m]\u001b[0m\u001b[0;34m[\u001b[0m\u001b[0msv2data\u001b[0m\u001b[0;34m[\u001b[0m\u001b[0;34m'Y'\u001b[0m\u001b[0;34m]\u001b[0m\u001b[0;34m==\u001b[0m\u001b[0;36m1\u001b[0m\u001b[0;34m]\u001b[0m\u001b[0;34m\u001b[0m\u001b[0m\n\u001b[1;32m     11\u001b[0m \u001b[0msv2data\u001b[0m\u001b[0;34m[\u001b[0m\u001b[0;34m'Xneg'\u001b[0m\u001b[0;34m]\u001b[0m\u001b[0;34m=\u001b[0m\u001b[0msv2data\u001b[0m\u001b[0;34m[\u001b[0m\u001b[0;34m'X'\u001b[0m\u001b[0;34m]\u001b[0m\u001b[0;34m[\u001b[0m\u001b[0msv2data\u001b[0m\u001b[0;34m[\u001b[0m\u001b[0;34m'Y'\u001b[0m\u001b[0;34m]\u001b[0m\u001b[0;34m==\u001b[0m\u001b[0;34m-\u001b[0m\u001b[0;36m1\u001b[0m\u001b[0;34m]\u001b[0m\u001b[0;34m\u001b[0m\u001b[0m\n",
      "\u001b[0;31mNameError\u001b[0m: name 'VU' is not defined"
     ]
    }
   ],
   "source": [
    "#mdir='./logs/mnist_1112_175840_expSV2_initstd0.05'\n",
    "mdir='./logs/mnist_1112_180749_expSV2_initstd0.05'\n",
    "sv2data={}\n",
    "sv2data['X']=np.loadtxt(mdir+'/Xdata.txt')\n",
    "sv2data['Y']=(np.loadtxt(mdir+'/Ydata.txt')).astype('int')\n",
    "#Y=(2*Y-1).astype('int')\n",
    "sv2data['VU']=np.loadtxt(mdir+'/VUdata.txt')\n",
    "\n",
    "sv2data['v']=VU[:,0];sv2data['u']=VU[:,1] #uTexp(vx)\n",
    "sv2data['Xpos']=sv2data['X'][sv2data['Y']==1]\n",
    "sv2data['Xneg']=sv2data['X'][sv2data['Y']==-1]\n",
    "sv2data['Ypos']=sv2data['Y'][sv2data['Y']==1]\n",
    "sv2data['Yneg']=sv2data['Y'][sv2data['Y']==-1]\n",
    "sv2data['v']=sv2data['VU'][:,0]\n",
    "sv2data['u']=sv2data['VU'][:,1]\n",
    "sv2data['vpos']=sv2data['v'][sv2data['u']>=0]\n",
    "sv2data['vneg']=sv2data['v'][sv2data['u']<0]\n",
    "sv2data['upos']=sv2data['u'][sv2data['u']>=0]\n",
    "sv2data['uneg']=sv2data['u'][sv2data['u']<0]\n"
   ]
  },
  {
   "cell_type": "code",
   "execution_count": 3,
   "metadata": {
    "collapsed": false
   },
   "outputs": [
    {
     "ename": "KeyError",
     "evalue": "'Xpos'",
     "output_type": "error",
     "traceback": [
      "\u001b[0;31m---------------------------------------------------------------------------\u001b[0m",
      "\u001b[0;31mKeyError\u001b[0m                                  Traceback (most recent call last)",
      "\u001b[0;32m<ipython-input-3-2170fcc3bda7>\u001b[0m in \u001b[0;36m<module>\u001b[0;34m()\u001b[0m\n\u001b[1;32m      3\u001b[0m \u001b[0;31m# ax.scatter(Xpos[::5],Ypos[::5],s=500,c='b',marker='_')\u001b[0m\u001b[0;34m\u001b[0m\u001b[0;34m\u001b[0m\u001b[0m\n\u001b[1;32m      4\u001b[0m \u001b[0;31m# ax.scatter(Xneg[::5],Yneg[::5],s=500,c='r',marker='_')\u001b[0m\u001b[0;34m\u001b[0m\u001b[0;34m\u001b[0m\u001b[0m\n\u001b[0;32m----> 5\u001b[0;31m \u001b[0max\u001b[0m\u001b[0;34m.\u001b[0m\u001b[0mscatter\u001b[0m\u001b[0;34m(\u001b[0m\u001b[0msv2data\u001b[0m\u001b[0;34m[\u001b[0m\u001b[0;34m'Xpos'\u001b[0m\u001b[0;34m]\u001b[0m\u001b[0;34m,\u001b[0m\u001b[0msv2data\u001b[0m\u001b[0;34m[\u001b[0m\u001b[0;34m'Ypos'\u001b[0m\u001b[0;34m]\u001b[0m\u001b[0;34m,\u001b[0m\u001b[0ms\u001b[0m\u001b[0;34m=\u001b[0m\u001b[0;36m500\u001b[0m\u001b[0;34m,\u001b[0m\u001b[0mc\u001b[0m\u001b[0;34m=\u001b[0m\u001b[0;34m'b'\u001b[0m\u001b[0;34m,\u001b[0m\u001b[0mmarker\u001b[0m\u001b[0;34m=\u001b[0m\u001b[0;34m'_'\u001b[0m\u001b[0;34m)\u001b[0m\u001b[0;34m\u001b[0m\u001b[0m\n\u001b[0m\u001b[1;32m      6\u001b[0m \u001b[0max\u001b[0m\u001b[0;34m.\u001b[0m\u001b[0mscatter\u001b[0m\u001b[0;34m(\u001b[0m\u001b[0msv2data\u001b[0m\u001b[0;34m[\u001b[0m\u001b[0;34m'Xneg'\u001b[0m\u001b[0;34m]\u001b[0m\u001b[0;34m,\u001b[0m\u001b[0msv2data\u001b[0m\u001b[0;34m[\u001b[0m\u001b[0;34m'Yneg'\u001b[0m\u001b[0;34m]\u001b[0m\u001b[0;34m,\u001b[0m\u001b[0ms\u001b[0m\u001b[0;34m=\u001b[0m\u001b[0;36m500\u001b[0m\u001b[0;34m,\u001b[0m\u001b[0mc\u001b[0m\u001b[0;34m=\u001b[0m\u001b[0;34m'r'\u001b[0m\u001b[0;34m,\u001b[0m\u001b[0mmarker\u001b[0m\u001b[0;34m=\u001b[0m\u001b[0;34m'_'\u001b[0m\u001b[0;34m)\u001b[0m\u001b[0;34m\u001b[0m\u001b[0m\n\u001b[1;32m      7\u001b[0m \u001b[0;31m#ax.scatter(v,u,c='r',marker='o',facecolors='none')\u001b[0m\u001b[0;34m\u001b[0m\u001b[0;34m\u001b[0m\u001b[0m\n",
      "\u001b[0;31mKeyError\u001b[0m: 'Xpos'"
     ]
    }
   ],
   "source": [
    "fig,ax=plt.subplots()\n",
    "\n",
    "# ax.scatter(Xpos[::5],Ypos[::5],s=500,c='b',marker='_')\n",
    "# ax.scatter(Xneg[::5],Yneg[::5],s=500,c='r',marker='_')\n",
    "ax.scatter(sv2data['Xpos'],sv2data['Ypos'],s=500,c='b',marker='_')\n",
    "ax.scatter(sv2data['Xneg'],sv2data['Yneg'],s=500,c='r',marker='_')\n",
    "#ax.scatter(v,u,c='r',marker='o',facecolors='none')\n",
    "ax.scatter(sv2data['vpos'],sv2data['upos'],s=170,marker='o',facecolors='none', edgecolors='b')\n",
    "ax.scatter(sv2data['vneg'],sv2data['uneg'],s=170,marker='o',facecolors='none', edgecolors='r')\n",
    "\n",
    "#facecolors='none', edgecolors='r'\n",
    "#ax.set_title('Weight Sign Relations induced by $SV_x(Y(x))=2$',fontsize=18)\n",
    "##ax.set_title('Trained weights $\\sum_i u_ie^{w_i x}$ under $SV_x(Y(x))=2$',fontsize=18)\n",
    "##ax.set_title('Y(X) and u(w) $\\sum_i u_ie^{w_i x}$',fontsize=18)\n",
    "#ax.set_ylabel('Label Y(X) or Weight $u(w_i)$',fontsize=18)\n",
    "ax.set_xlabel('Input X or Weight $w_i$',fontsize=18)\n",
    "#axhline\n",
    "ax.axhline(y=0,linestyle='--',color='k')"
   ]
  },
  {
   "cell_type": "code",
   "execution_count": 131,
   "metadata": {
    "collapsed": true
   },
   "outputs": [],
   "source": [
    "plt.savefig('figures/proposal_1112_180749_sv2.pdf')"
   ]
  },
  {
   "cell_type": "code",
   "execution_count": 106,
   "metadata": {
    "collapsed": false
   },
   "outputs": [
    {
     "name": "stdout",
     "output_type": "stream",
     "text": [
      "[-1.06721222 -0.9246875   0.62481093  0.66706103  0.71029478] \n",
      "[-1.38589656 -1.32616186  0.83295345  0.74545896  1.07656264]\n"
     ]
    }
   ],
   "source": [
    "X=np.loadtxt('./logs/mnist_1025_214221/Xdata.txt')\n",
    "Y=np.loadtxt('./logs/mnist_1025_214221/Ydata.txt')\n",
    "Y=(2*Y-1).astype('int')\n",
    "VU=np.loadtxt('./logs/mnist_1025_214221/VUdata.txt')\n",
    "\n",
    "v=VU[:,0];u=VU[:,1] #uTexp(vx)\n",
    "\n",
    "Xpos=X[Y==1]\n",
    "Xneg=X[Y==-1]\n",
    "Ypos=Y[Y==1]\n",
    "Yneg=Y[Y==-1]\n",
    "vpos=v[u>=0]\n",
    "upos=u[u>=0]\n",
    "vneg=v[u<0]\n",
    "uneg=u[u<0]\n",
    "\n",
    "print v,'\\n',u"
   ]
  },
  {
   "cell_type": "code",
   "execution_count": 132,
   "metadata": {
    "collapsed": false,
    "scrolled": true
   },
   "outputs": [
    {
     "data": {
      "text/plain": [
       "<matplotlib.lines.Line2D at 0x7fd5ab1eb390>"
      ]
     },
     "execution_count": 132,
     "metadata": {},
     "output_type": "execute_result"
    }
   ],
   "source": [
    "fig,ax=plt.subplots()\n",
    "\n",
    "# ax.scatter(Xpos[::5],Ypos[::5],s=500,c='b',marker='_')\n",
    "# ax.scatter(Xneg[::5],Yneg[::5],s=500,c='r',marker='_')\n",
    "ax.scatter(Xpos,Ypos,s=500,c='b',marker='_')\n",
    "ax.scatter(Xneg,Yneg,s=500,c='r',marker='_')\n",
    "#ax.scatter(v,u,c='r',marker='o',facecolors='none')\n",
    "ax.scatter(vpos,upos,s=170,marker='o',facecolors='none', edgecolors='b')\n",
    "ax.scatter(vneg,uneg,s=170,marker='o',facecolors='none', edgecolors='r')\n",
    "\n",
    "\n",
    "#facecolors='none', edgecolors='r'\n",
    "#ax.set_title('Weight Sign Relations induced by $SV_x(Y(x))=1$',fontsize=18)\n",
    "###ax.set_title('Training $\\sum_i u_ie^{w_i x}$',fontsize=18)\n",
    "ax.legend(['positive inputs','negative inputs','positive $u_i$','negative $u_i$'],fontsize=13)\n",
    "ax.set_ylabel('Label Y(x) or Weight u($w_i$)',fontsize=18)\n",
    "ax.set_xlabel('Input X or Weight $w_i$',fontsize=18)\n",
    "ax.axhline(y=0,linestyle='--',color='k')"
   ]
  },
  {
   "cell_type": "code",
   "execution_count": 133,
   "metadata": {
    "collapsed": true
   },
   "outputs": [],
   "source": [
    "plt.savefig('figures/proposal_1025_214221_sv1.pdf')"
   ]
  },
  {
   "cell_type": "code",
   "execution_count": null,
   "metadata": {
    "collapsed": true
   },
   "outputs": [],
   "source": []
  },
  {
   "cell_type": "code",
   "execution_count": 134,
   "metadata": {
    "collapsed": true
   },
   "outputs": [],
   "source": [
    "plt.close('all')"
   ]
  },
  {
   "cell_type": "code",
   "execution_count": null,
   "metadata": {
    "collapsed": true
   },
   "outputs": [],
   "source": []
  },
  {
   "cell_type": "code",
   "execution_count": null,
   "metadata": {
    "collapsed": true
   },
   "outputs": [],
   "source": []
  },
  {
   "cell_type": "code",
   "execution_count": null,
   "metadata": {
    "collapsed": true
   },
   "outputs": [],
   "source": []
  },
  {
   "cell_type": "code",
   "execution_count": null,
   "metadata": {
    "collapsed": true
   },
   "outputs": [],
   "source": [
    "ax=data5.plot.line(x=xlabel)\n",
    "ax.set_ylabel('I(sigma,i)=H(sigma)',fontsize=18)\n",
    "ax.set_title('Mutual Information vs Time',fontsize=18)\n",
    "ax.set_xlim([0,20000])"
   ]
  },
  {
   "cell_type": "code",
   "execution_count": null,
   "metadata": {
    "collapsed": true
   },
   "outputs": [],
   "source": [
    "ax=data6.plot.line(x=xlabel,style=styles,markersize=10)\n",
    "ax.set_ylabel('Test Accuracy',fontsize=18)\n",
    "ax.set_xlabel('Training Step',fontsize=18)\n",
    "ax.set_title('Test Accuracy vs Time',fontsize=18)\n",
    "ax.set_xlim([0,20000])"
   ]
  },
  {
   "cell_type": "code",
   "execution_count": null,
   "metadata": {
    "collapsed": true
   },
   "outputs": [],
   "source": [
    "plt.savefig('figures/skeleton_and_accuracy.pdf')"
   ]
  }
 ],
 "metadata": {
  "kernelspec": {
   "display_name": "Python 2",
   "language": "python",
   "name": "python2"
  },
  "language_info": {
   "codemirror_mode": {
    "name": "ipython",
    "version": 2
   },
   "file_extension": ".py",
   "mimetype": "text/x-python",
   "name": "python",
   "nbconvert_exporter": "python",
   "pygments_lexer": "ipython2",
   "version": "2.7.12"
  }
 },
 "nbformat": 4,
 "nbformat_minor": 1
}
