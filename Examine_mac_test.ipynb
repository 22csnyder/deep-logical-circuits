{
 "cells": [
  {
   "cell_type": "markdown",
   "metadata": {},
   "source": [
    "## The goal is to study the various a triforce maps"
   ]
  },
  {
   "cell_type": "code",
   "execution_count": 2,
   "metadata": {
    "collapsed": true
   },
   "outputs": [],
   "source": [
    "import matplotlib as mpl\n",
    "import matplotlib.pyplot as plt\n",
    "import matplotlib.animation as animation\n",
    "import tensorflow as tf\n",
    "import pandas as pd\n",
    "import glob2\n",
    "import os\n",
    "from itertools import product\n",
    "import numpy as np\n",
    "#import seaborn as sns\n",
    "\n",
    "%matplotlib notebook\n",
    "#%matplotlib\n",
    "\n",
    "from tboard import file2number\n",
    "from vis_utils import split_posneg,get_path\n",
    "from vis_utils import get_neuron_values\n",
    "from nonlinearities import sigmoid\n",
    "from vis_utils import splitL\n",
    "\n",
    "clist=['g','c','m','y','k','b','r']\n",
    "listLineStyle=['solid', 'dashed', 'dashdot', 'dotted']"
   ]
  },
  {
   "cell_type": "code",
   "execution_count": 3,
   "metadata": {
    "collapsed": true
   },
   "outputs": [],
   "source": [
    "from vis_utils import (split_posneg , get_path, get_np_network,\n",
    "                        get_neuron_values, splitL, load_weights,\n",
    "                        resample_grid,vec_get_neuron_values,\n",
    "                        get_del_weights  )\n",
    "from calc_maps import (get_net_states,rescale_weights,compose_affine)"
   ]
  },
  {
   "cell_type": "code",
   "execution_count": 4,
   "metadata": {
    "collapsed": true
   },
   "outputs": [],
   "source": [
    "log_dir='./logs/Model_0220_102206_triforce_mac_test'"
   ]
  },
  {
   "cell_type": "code",
   "execution_count": 5,
   "metadata": {
    "collapsed": false
   },
   "outputs": [],
   "source": [
    "record_dir=os.path.join(log_dir,'records')\n",
    "id_str=str(file2number(log_dir))\n",
    "all_weights=load_weights(log_dir)\n",
    "all_step=np.load(get_path('step','wwatch',log_dir))\n",
    "dt=10\n",
    "weights=[[w[::dt],b[::dt]] for w,b in all_weights]\n",
    "arch=[b.shape[-1] for w,b in weights[:-1]]#net architecture\n",
    "del_weights=get_del_weights(weights)\n",
    "step=all_step[::dt]\n",
    "del_weights=get_del_weights(weights)\n",
    "gridX=np.load(get_path('gridX','hmwatch',log_dir))\n",
    "GridX=resample_grid(gridX)\n",
    "npX=np.load(os.path.join(record_dir,'dataX.npy'))\n",
    "npY=np.load(os.path.join(record_dir,'dataY.npy'))\n",
    "Xpos,Xneg,Ypos,Yneg=split_posneg(npX,npY)\n"
   ]
  },
  {
   "cell_type": "code",
   "execution_count": 6,
   "metadata": {
    "collapsed": true
   },
   "outputs": [],
   "source": [
    "W_weights,b_weights=zip(*del_weights)\n",
    "W1,W2,W3,W4=W_weights\n",
    "b1,b2,b3,b4=b_weights\n",
    "W1f,W2f,W3f,W4f=W1[-1],W2[-1],W3[-1],W4[-1]#final weights\n",
    "b1f,b2f,b3f,b4f=b1[-1],b2[-1],b3[-1],b4[-1]#final weights\n",
    "#delW4f=np.reshape(W4[-1,:,1]-W4[-1,:,0], [-1,1])\n",
    "#delb4f=b4[-1,1]-b4[-1,0]\n"
   ]
  },
  {
   "cell_type": "code",
   "execution_count": 7,
   "metadata": {
    "collapsed": false
   },
   "outputs": [],
   "source": [
    "time=-1\n",
    "time_weights=[[w[time],b[time]] for w,b in del_weights]\n",
    "Sig,Centers,Cnts=get_net_states(GridX,time_weights)\n",
    "sigl=np.split(Sig,np.cumsum(arch)[:-1],axis=-1)\n",
    "new_weights=rescale_weights(time_weights,sigl)\n",
    "Linear,Bias=compose_affine(new_weights)\n",
    "M=np.concatenate([Linear,np.expand_dims(Bias,-1)],axis=-2)#idx,xdim+1,1\n",
    "cnt_thresh=np.percentile(Cnts,20)\n",
    "ix_thresh=np.where( Cnts>=cnt_thresh )[0]\n",
    "M2=M/np.linalg.norm(M,ord=2,axis=(-2,-1),keepdims=True)\n",
    "M2=np.squeeze(M2)\n",
    "#M2=M/M.sum(axis=1,keepdims=True)\n",
    "\n",
    "#print np.around(M2[ix_thresh],2)\n",
    "#print np.around(np.concatenate([ M2[ix_thresh], np.expand_dims(Cnts[ix_thresh],-1) ],axis=-1),2)\n"
   ]
  },
  {
   "cell_type": "code",
   "execution_count": 8,
   "metadata": {
    "collapsed": false
   },
   "outputs": [
    {
     "data": {
      "text/plain": [
       "(49, 12)"
      ]
     },
     "execution_count": 8,
     "metadata": {},
     "output_type": "execute_result"
    }
   ],
   "source": [
    "Sig.shape"
   ]
  },
  {
   "cell_type": "code",
   "execution_count": 9,
   "metadata": {
    "collapsed": false
   },
   "outputs": [
    {
     "data": {
      "text/plain": [
       "(49, 4)"
      ]
     },
     "execution_count": 9,
     "metadata": {},
     "output_type": "execute_result"
    }
   ],
   "source": [
    "sigl[0].shape"
   ]
  },
  {
   "cell_type": "code",
   "execution_count": 10,
   "metadata": {
    "collapsed": false
   },
   "outputs": [
    {
     "data": {
      "text/plain": [
       "[4, 4, 4]"
      ]
     },
     "execution_count": 10,
     "metadata": {},
     "output_type": "execute_result"
    }
   ],
   "source": [
    "arch"
   ]
  },
  {
   "cell_type": "code",
   "execution_count": null,
   "metadata": {
    "collapsed": true
   },
   "outputs": [],
   "source": []
  },
  {
   "cell_type": "code",
   "execution_count": null,
   "metadata": {
    "collapsed": true
   },
   "outputs": [],
   "source": []
  },
  {
   "cell_type": "code",
   "execution_count": null,
   "metadata": {
    "collapsed": true
   },
   "outputs": [],
   "source": []
  },
  {
   "cell_type": "code",
   "execution_count": null,
   "metadata": {
    "collapsed": true
   },
   "outputs": [],
   "source": []
  },
  {
   "cell_type": "code",
   "execution_count": null,
   "metadata": {
    "collapsed": true
   },
   "outputs": [],
   "source": []
  },
  {
   "cell_type": "code",
   "execution_count": 27,
   "metadata": {
    "collapsed": false
   },
   "outputs": [
    {
     "data": {
      "text/plain": [
       "(4, 1)"
      ]
     },
     "execution_count": 27,
     "metadata": {},
     "output_type": "execute_result"
    }
   ],
   "source": [
    "new_weights[-1][0].shape"
   ]
  },
  {
   "cell_type": "code",
   "execution_count": 29,
   "metadata": {
    "collapsed": false
   },
   "outputs": [
    {
     "data": {
      "text/plain": [
       "(array([[-0.02578483],\n",
       "        [ 5.949548  ],\n",
       "        [ 8.661054  ],\n",
       "        [-2.9681802 ]], dtype=float32), array([-5.7837358], dtype=float32))"
      ]
     },
     "execution_count": 29,
     "metadata": {},
     "output_type": "execute_result"
    }
   ],
   "source": [
    "compose_affine([[W3f,b3f],[W4f,b4f]])"
   ]
  },
  {
   "cell_type": "code",
   "execution_count": 30,
   "metadata": {
    "collapsed": false
   },
   "outputs": [
    {
     "data": {
      "text/plain": [
       "3"
      ]
     },
     "execution_count": 30,
     "metadata": {},
     "output_type": "execute_result"
    }
   ],
   "source": [
    "len(sigl)"
   ]
  },
  {
   "cell_type": "code",
   "execution_count": 44,
   "metadata": {
    "collapsed": false
   },
   "outputs": [],
   "source": [
    "L34_weights=[[W3f,b3f],[W4f,b4f]]\n",
    "L34_sig=np.unique(sigl[-1],axis=0)\n",
    "L34_pth_weights=rescale_weights(L34_weights,[L34_sig])\n",
    "L34_Linear,L34_Bias=compose_affine(L34_pth_weights)\n",
    "L34_M=np.concatenate([L34_Linear,np.expand_dims(L34_Bias,-1)],axis=-2)\n"
   ]
  },
  {
   "cell_type": "code",
   "execution_count": 45,
   "metadata": {
    "collapsed": false,
    "scrolled": true
   },
   "outputs": [
    {
     "data": {
      "text/plain": [
       "array([[1, 0, 0, 0],\n",
       "       [1, 0, 1, 0],\n",
       "       [1, 1, 0, 0],\n",
       "       [1, 1, 1, 0]])"
      ]
     },
     "execution_count": 45,
     "metadata": {},
     "output_type": "execute_result"
    }
   ],
   "source": [
    "L34_sig"
   ]
  },
  {
   "cell_type": "code",
   "execution_count": 46,
   "metadata": {
    "collapsed": false
   },
   "outputs": [
    {
     "data": {
      "text/plain": [
       "array([[-0.03932296],\n",
       "       [ 1.50727207],\n",
       "       [ 1.80289811],\n",
       "       [ 1.75385132]])"
      ]
     },
     "execution_count": 46,
     "metadata": {},
     "output_type": "execute_result"
    }
   ],
   "source": [
    "L34_Linear[0]"
   ]
  },
  {
   "cell_type": "code",
   "execution_count": 47,
   "metadata": {
    "collapsed": true
   },
   "outputs": [
    {
     "data": {
      "text/plain": [
       "[array([[[-2.09904891e-02,  0.00000000e+00, -0.00000000e+00,\n",
       "          -0.00000000e+00],\n",
       "         [ 8.04577708e-01, -0.00000000e+00, -0.00000000e+00,\n",
       "          -0.00000000e+00],\n",
       "         [ 9.62382078e-01, -0.00000000e+00, -0.00000000e+00,\n",
       "          -0.00000000e+00],\n",
       "         [ 9.36201036e-01,  0.00000000e+00,  0.00000000e+00,\n",
       "          -0.00000000e+00]],\n",
       " \n",
       "        [[-2.09904891e-02,  0.00000000e+00, -7.39887496e-03,\n",
       "          -0.00000000e+00],\n",
       "         [ 8.04577708e-01, -0.00000000e+00, -1.11349952e+00,\n",
       "          -0.00000000e+00],\n",
       "         [ 9.62382078e-01, -0.00000000e+00, -1.63058722e+00,\n",
       "          -0.00000000e+00],\n",
       "         [ 9.36201036e-01,  0.00000000e+00,  1.13418543e+00,\n",
       "          -0.00000000e+00]],\n",
       " \n",
       "        [[-2.09904891e-02,  1.13040255e-03, -0.00000000e+00,\n",
       "          -0.00000000e+00],\n",
       "         [ 8.04577708e-01, -9.89008069e-01, -0.00000000e+00,\n",
       "          -0.00000000e+00],\n",
       "         [ 9.62382078e-01, -1.61961961e+00, -0.00000000e+00,\n",
       "          -0.00000000e+00],\n",
       "         [ 9.36201036e-01,  1.09932220e+00,  0.00000000e+00,\n",
       "          -0.00000000e+00]],\n",
       " \n",
       "        [[-2.09904891e-02,  1.13040255e-03, -7.39887496e-03,\n",
       "          -0.00000000e+00],\n",
       "         [ 8.04577708e-01, -9.89008069e-01, -1.11349952e+00,\n",
       "          -0.00000000e+00],\n",
       "         [ 9.62382078e-01, -1.61961961e+00, -1.63058722e+00,\n",
       "          -0.00000000e+00],\n",
       "         [ 9.36201036e-01,  1.09932220e+00,  1.13418543e+00,\n",
       "          -0.00000000e+00]]]),\n",
       " array([[-0.54867184,  0.        ,  0.        ,  0.        ],\n",
       "        [-0.54867184,  0.        ,  0.91926336,  0.        ],\n",
       "        [-0.54867184,  0.86364347,  0.        ,  0.        ],\n",
       "        [-0.54867184,  0.86364347,  0.91926336,  0.        ]])]"
      ]
     },
     "execution_count": 47,
     "metadata": {},
     "output_type": "execute_result"
    }
   ],
   "source": [
    "L34_pth_weights[0]"
   ]
  },
  {
   "cell_type": "code",
   "execution_count": 91,
   "metadata": {
    "collapsed": false
   },
   "outputs": [
    {
     "data": {
      "text/plain": [
       "array([[[-0.01948993],\n",
       "        [ 0.37733204],\n",
       "        [ 0.47360074],\n",
       "        [ 0.3032385 ]],\n",
       "\n",
       "       [[-0.01160342],\n",
       "        [ 0.97681525],\n",
       "        [ 1.39477159],\n",
       "        [-0.11848771]],\n",
       "\n",
       "       [[-0.02065062],\n",
       "        [ 0.89025542],\n",
       "        [ 1.35500441],\n",
       "        [-0.09052659]],\n",
       "\n",
       "       [[-0.01276411],\n",
       "        [ 1.48973863],\n",
       "        [ 2.27617525],\n",
       "        [-0.5122528 ]]])"
      ]
     },
     "execution_count": 91,
     "metadata": {},
     "output_type": "execute_result"
    }
   ],
   "source": [
    "L34_Linear/-L34_Bias"
   ]
  },
  {
   "cell_type": "code",
   "execution_count": null,
   "metadata": {
    "collapsed": true
   },
   "outputs": [],
   "source": [
    "#Transmute: [0 -1 +1 0] and [0 -1 0 +1]"
   ]
  },
  {
   "cell_type": "code",
   "execution_count": 102,
   "metadata": {
    "collapsed": false
   },
   "outputs": [
    {
     "name": "stderr",
     "output_type": "stream",
     "text": [
      "/home/chris/.virtualenvs/tensorflow-source1.4-cd8.0-cn7.0.1/lib/python2.7/site-packages/ipykernel/__main__.py:5: RuntimeWarning: divide by zero encountered in divide\n"
     ]
    }
   ],
   "source": [
    "M34=L34_Linear/L34_Bias\n",
    "\n",
    "#M34[2]-M34[3]\n",
    "#W3f/b3f\n",
    "w32=(W3f/b3f)[:,1:2]"
   ]
  },
  {
   "cell_type": "code",
   "execution_count": 103,
   "metadata": {
    "collapsed": false
   },
   "outputs": [
    {
     "data": {
      "text/plain": [
       "array([[ 1.3088764e-03],\n",
       "       [-1.1451578e+00],\n",
       "       [-1.8753335e+00],\n",
       "       [ 1.2728889e+00]], dtype=float32)"
      ]
     },
     "execution_count": 103,
     "metadata": {},
     "output_type": "execute_result"
    }
   ],
   "source": [
    "w32"
   ]
  },
  {
   "cell_type": "code",
   "execution_count": 109,
   "metadata": {
    "collapsed": false
   },
   "outputs": [
    {
     "data": {
      "text/plain": [
       "array([[ 0.01948993, -0.37733204, -0.47360074, -0.3032385 ],\n",
       "       [ 0.01160342, -0.97681525, -1.39477159,  0.11848771],\n",
       "       [ 0.02065062, -0.89025542, -1.35500441,  0.09052659],\n",
       "       [ 0.01276411, -1.48973863, -2.27617525,  0.5122528 ]])"
      ]
     },
     "execution_count": 109,
     "metadata": {},
     "output_type": "execute_result"
    }
   ],
   "source": [
    "np.squeeze(M34)"
   ]
  },
  {
   "cell_type": "markdown",
   "metadata": {},
   "source": [
    "###### This cell proves it"
   ]
  },
  {
   "cell_type": "code",
   "execution_count": 107,
   "metadata": {
    "collapsed": false,
    "scrolled": true
   },
   "outputs": [
    {
     "data": {
      "text/plain": [
       "array([[ 0.01818105,  0.76782578,  1.40173281, -1.5761274 ],\n",
       "       [ 0.01029454,  0.16834257,  0.48056196, -1.15440119],\n",
       "       [ 0.01934174,  0.25490239,  0.52032914, -1.18236231],\n",
       "       [ 0.01145524, -0.34458082, -0.40084171, -0.7606361 ]])"
      ]
     },
     "execution_count": 107,
     "metadata": {},
     "output_type": "execute_result"
    }
   ],
   "source": [
    "np.squeeze(M34)-w32.flatten()"
   ]
  },
  {
   "cell_type": "code",
   "execution_count": 110,
   "metadata": {
    "collapsed": false,
    "scrolled": true
   },
   "outputs": [
    {
     "data": {
      "text/plain": [
       "array([[-0.01818105, -0.76782578, -1.40173281,  1.5761274 ],\n",
       "       [-0.01029454, -0.16834257, -0.48056196,  1.15440119],\n",
       "       [-0.01934174, -0.25490239, -0.52032914,  1.18236231],\n",
       "       [-0.01145524,  0.34458082,  0.40084171,  0.7606361 ]])"
      ]
     },
     "execution_count": 110,
     "metadata": {},
     "output_type": "execute_result"
    }
   ],
   "source": [
    "w32.flatten()-np.squeeze(M34) ##Lin maps are rows"
   ]
  },
  {
   "cell_type": "code",
   "execution_count": null,
   "metadata": {
    "collapsed": true
   },
   "outputs": [],
   "source": [
    "#its actually the middle two rows we care about. Those qualify easily."
   ]
  },
  {
   "cell_type": "code",
   "execution_count": null,
   "metadata": {
    "collapsed": true
   },
   "outputs": [],
   "source": [
    "##Because the difference between these two maps is in dual of image of previous map,\n",
    "###the difference never maps to zero.\n",
    "\n",
    "#The middle two terms benefit from Transmute: [0 -1 +1 0] and [0 -1 0 +1]"
   ]
  },
  {
   "cell_type": "code",
   "execution_count": null,
   "metadata": {
    "collapsed": true
   },
   "outputs": [],
   "source": []
  },
  {
   "cell_type": "code",
   "execution_count": 101,
   "metadata": {
    "collapsed": false
   },
   "outputs": [
    {
     "name": "stderr",
     "output_type": "stream",
     "text": [
      "/home/chris/.virtualenvs/tensorflow-source1.4-cd8.0-cn7.0.1/lib/python2.7/site-packages/ipykernel/__main__.py:1: RuntimeWarning: divide by zero encountered in divide\n",
      "  if __name__ == '__main__':\n"
     ]
    },
    {
     "data": {
      "text/plain": [
       "array([[ 1.3088764e-03],\n",
       "       [-1.1451578e+00],\n",
       "       [-1.8753335e+00],\n",
       "       [ 1.2728889e+00]], dtype=float32)"
      ]
     },
     "execution_count": 101,
     "metadata": {},
     "output_type": "execute_result"
    }
   ],
   "source": [
    "w32=(W3f/b3f)[:,1:2]"
   ]
  },
  {
   "cell_type": "code",
   "execution_count": 43,
   "metadata": {
    "collapsed": false
   },
   "outputs": [
    {
     "data": {
      "text/plain": [
       "array([[[-0.03932296],\n",
       "        [ 1.50727207],\n",
       "        [ 1.80289811],\n",
       "        [ 1.75385132],\n",
       "        [-2.01760453]],\n",
       "\n",
       "       [[-0.02341111],\n",
       "        [ 3.90193834],\n",
       "        [ 5.3096012 ],\n",
       "        [-0.6853016 ],\n",
       "        [-3.99455102]],\n",
       "\n",
       "       [[-0.04166478],\n",
       "        [ 3.55617071],\n",
       "        [ 5.15821594],\n",
       "        [-0.52358183],\n",
       "        [-3.80678905]],\n",
       "\n",
       "       [[-0.02575293],\n",
       "        [ 5.95083698],\n",
       "        [ 8.66491903],\n",
       "        [-2.96273474],\n",
       "        [-5.78373554]]])"
      ]
     },
     "execution_count": 43,
     "metadata": {},
     "output_type": "execute_result"
    }
   ],
   "source": [
    "L34_M"
   ]
  },
  {
   "cell_type": "code",
   "execution_count": 71,
   "metadata": {
    "collapsed": false
   },
   "outputs": [
    {
     "data": {
      "text/plain": [
       "array([[-0.03932296,  1.50727207,  1.80289811,  1.75385132],\n",
       "       [-0.02341111,  3.90193834,  5.3096012 , -0.6853016 ],\n",
       "       [-0.04166478,  3.55617071,  5.15821594, -0.52358183],\n",
       "       [-0.02575293,  5.95083698,  8.66491903, -2.96273474]])"
      ]
     },
     "execution_count": 71,
     "metadata": {},
     "output_type": "execute_result"
    }
   ],
   "source": [
    "np.squeeze(L34_Linear) #All neg bias"
   ]
  },
  {
   "cell_type": "code",
   "execution_count": 72,
   "metadata": {
    "collapsed": false,
    "scrolled": false
   },
   "outputs": [
    {
     "data": {
      "text/plain": [
       "array([[-0.01948993,  0.74706021,  0.89358349,  0.86927408],\n",
       "       [-0.00586076,  0.97681525,  1.32921101, -0.1715591 ],\n",
       "       [-0.01094486,  0.93416542,  1.35500441, -0.13753897],\n",
       "       [-0.00445265,  1.02889161,  1.4981527 , -0.5122528 ]])"
      ]
     },
     "execution_count": 72,
     "metadata": {},
     "output_type": "execute_result"
    }
   ],
   "source": [
    "np.squeeze(L34_Linear)/-L34_Bias #Each row a lin map.From L1activations to Out"
   ]
  },
  {
   "cell_type": "code",
   "execution_count": null,
   "metadata": {
    "collapsed": true
   },
   "outputs": [],
   "source": []
  },
  {
   "cell_type": "code",
   "execution_count": 74,
   "metadata": {
    "collapsed": false
   },
   "outputs": [
    {
     "data": {
      "text/plain": [
       "array([[0, 0, 0, 1],\n",
       "       [0, 0, 1, 1],\n",
       "       [0, 1, 0, 1],\n",
       "       [0, 1, 1, 1]])"
      ]
     },
     "execution_count": 74,
     "metadata": {},
     "output_type": "execute_result"
    }
   ],
   "source": [
    "np.unique(sigl[1],axis=0)"
   ]
  },
  {
   "cell_type": "code",
   "execution_count": 77,
   "metadata": {
    "collapsed": false
   },
   "outputs": [
    {
     "data": {
      "text/plain": [
       "array([[-3.6797123 ,  0.89976496,  0.7722115 ,  1.2553527 ],\n",
       "       [-0.85662687,  0.09400929,  1.4256729 ,  1.5791503 ],\n",
       "       [ 2.3385303 ,  0.8326218 ,  0.8109454 ,  1.2450771 ],\n",
       "       [-0.5830379 ,  1.2648882 ,  1.025552  ,  1.5549996 ]],\n",
       "      dtype=float32)"
      ]
     },
     "execution_count": 77,
     "metadata": {},
     "output_type": "execute_result"
    }
   ],
   "source": [
    "W2f/np.abs(b2f)"
   ]
  },
  {
   "cell_type": "code",
   "execution_count": 73,
   "metadata": {
    "collapsed": false,
    "scrolled": false
   },
   "outputs": [
    {
     "data": {
      "text/plain": [
       "(array([[-0.03269612,  0.6770951 ,  0.75539243,  0.73651415],\n",
       "        [-0.00761157,  0.07074428,  1.3946213 ,  0.92648584],\n",
       "        [ 0.02077904,  0.62656826,  0.7932827 ,  0.73048544],\n",
       "        [-0.00518059,  0.9518593 ,  1.0032151 ,  0.9123166 ]],\n",
       "       dtype=float32),\n",
       " array([-0.00888551, -0.75252444, -0.9782196 ,  0.58669895], dtype=float32))"
      ]
     },
     "execution_count": 73,
     "metadata": {},
     "output_type": "execute_result"
    }
   ],
   "source": [
    "W2f,b2f"
   ]
  },
  {
   "cell_type": "code",
   "execution_count": null,
   "metadata": {
    "collapsed": true
   },
   "outputs": [],
   "source": []
  },
  {
   "cell_type": "code",
   "execution_count": null,
   "metadata": {
    "collapsed": true
   },
   "outputs": [],
   "source": []
  },
  {
   "cell_type": "code",
   "execution_count": null,
   "metadata": {
    "collapsed": true
   },
   "outputs": [],
   "source": []
  },
  {
   "cell_type": "code",
   "execution_count": 75,
   "metadata": {
    "collapsed": false
   },
   "outputs": [
    {
     "data": {
      "text/plain": [
       "(array([[-0.930184  , -0.0595696 , -0.87371755,  1.0176    ],\n",
       "        [-0.57543296,  1.3028138 , -0.64433265, -0.81850666]],\n",
       "       dtype=float32),\n",
       " array([-0.1733357 , -0.6858478 ,  0.00901293,  0.336722  ], dtype=float32))"
      ]
     },
     "execution_count": 75,
     "metadata": {},
     "output_type": "execute_result"
    }
   ],
   "source": [
    "W1f,b1f"
   ]
  },
  {
   "cell_type": "code",
   "execution_count": null,
   "metadata": {
    "collapsed": true
   },
   "outputs": [],
   "source": []
  },
  {
   "cell_type": "code",
   "execution_count": 21,
   "metadata": {
    "collapsed": false
   },
   "outputs": [
    {
     "data": {
      "text/plain": [
       "(array([[-2.0990489e-02,  1.1304026e-03, -7.3988750e-03, -3.3388627e-04],\n",
       "        [ 8.0457771e-01, -9.8900807e-01, -1.1134995e+00, -1.3498289e-02],\n",
       "        [ 9.6238208e-01, -1.6196196e+00, -1.6305872e+00, -4.0464599e-02],\n",
       "        [ 9.3620104e-01,  1.0993222e+00,  1.1341854e+00, -5.7003886e-02]],\n",
       "       dtype=float32),\n",
       " array([-0.54867184,  0.86364347,  0.91926336,  0.        ], dtype=float32))"
      ]
     },
     "execution_count": 21,
     "metadata": {},
     "output_type": "execute_result"
    }
   ],
   "source": [
    "W3f,b3f"
   ]
  },
  {
   "cell_type": "code",
   "execution_count": 20,
   "metadata": {
    "collapsed": false,
    "scrolled": true
   },
   "outputs": [
    {
     "data": {
      "text/plain": [
       "(array([[ 1.8733704 ],\n",
       "        [-2.0716703 ],\n",
       "        [-2.1505768 ],\n",
       "        [ 0.09552991]], dtype=float32), array([-0.98973894], dtype=float32))"
      ]
     },
     "execution_count": 20,
     "metadata": {},
     "output_type": "execute_result"
    }
   ],
   "source": [
    "W4f,b4f"
   ]
  },
  {
   "cell_type": "code",
   "execution_count": 50,
   "metadata": {
    "collapsed": false
   },
   "outputs": [
    {
     "data": {
      "text/plain": [
       "(4,)"
      ]
     },
     "execution_count": 50,
     "metadata": {},
     "output_type": "execute_result"
    }
   ],
   "source": [
    "b3f.shape"
   ]
  },
  {
   "cell_type": "code",
   "execution_count": 79,
   "metadata": {
    "collapsed": false,
    "scrolled": true
   },
   "outputs": [
    {
     "name": "stderr",
     "output_type": "stream",
     "text": [
      "/home/chris/.virtualenvs/tensorflow-source1.4-cd8.0-cn7.0.1/lib/python2.7/site-packages/ipykernel/__main__.py:1: RuntimeWarning: divide by zero encountered in divide\n",
      "  if __name__ == '__main__':\n"
     ]
    },
    {
     "data": {
      "text/plain": [
       "array([[ 3.8256910e-02,  1.3088764e-03, -8.0487002e-03,           -inf],\n",
       "       [-1.4664097e+00, -1.1451578e+00, -1.2112955e+00,           -inf],\n",
       "       [-1.7540213e+00, -1.8753335e+00, -1.7737976e+00,           -inf],\n",
       "       [-1.7063042e+00,  1.2728889e+00,  1.2337981e+00,           -inf]],\n",
       "      dtype=float32)"
      ]
     },
     "execution_count": 79,
     "metadata": {},
     "output_type": "execute_result"
    }
   ],
   "source": [
    "W3f/b3f"
   ]
  },
  {
   "cell_type": "code",
   "execution_count": 57,
   "metadata": {
    "collapsed": false
   },
   "outputs": [
    {
     "data": {
      "text/plain": [
       "(array([[-2.0990489e-02,  1.1304026e-03, -7.3988750e-03, -3.3388627e-04],\n",
       "        [ 8.0457771e-01, -9.8900807e-01, -1.1134995e+00, -1.3498289e-02],\n",
       "        [ 9.6238208e-01, -1.6196196e+00, -1.6305872e+00, -4.0464599e-02],\n",
       "        [ 9.3620104e-01,  1.0993222e+00,  1.1341854e+00, -5.7003886e-02]],\n",
       "       dtype=float32),\n",
       " array([-0.54867184,  0.86364347,  0.91926336,  0.        ], dtype=float32))"
      ]
     },
     "execution_count": 57,
     "metadata": {},
     "output_type": "execute_result"
    }
   ],
   "source": [
    "W3f,b3f"
   ]
  },
  {
   "cell_type": "code",
   "execution_count": null,
   "metadata": {
    "collapsed": true
   },
   "outputs": [],
   "source": []
  },
  {
   "cell_type": "code",
   "execution_count": null,
   "metadata": {
    "collapsed": true
   },
   "outputs": [],
   "source": []
  },
  {
   "cell_type": "code",
   "execution_count": 84,
   "metadata": {
    "collapsed": false
   },
   "outputs": [
    {
     "data": {
      "text/plain": [
       "4.039953386306756"
      ]
     },
     "execution_count": 84,
     "metadata": {},
     "output_type": "execute_result"
    }
   ],
   "source": [
    "GridX.max()"
   ]
  },
  {
   "cell_type": "code",
   "execution_count": 85,
   "metadata": {
    "collapsed": false
   },
   "outputs": [
    {
     "data": {
      "text/plain": [
       "(209, 200, 2)"
      ]
     },
     "execution_count": 85,
     "metadata": {},
     "output_type": "execute_result"
    }
   ],
   "source": [
    "GridX.shape"
   ]
  },
  {
   "cell_type": "code",
   "execution_count": 88,
   "metadata": {
    "collapsed": false
   },
   "outputs": [
    {
     "ename": "AttributeError",
     "evalue": "'float' object has no attribute 'shape'",
     "output_type": "error",
     "traceback": [
      "\u001b[0;31m---------------------------------------------------------------------------\u001b[0m",
      "\u001b[0;31mAttributeError\u001b[0m                            Traceback (most recent call last)",
      "\u001b[0;32m<ipython-input-88-31eb91729a8e>\u001b[0m in \u001b[0;36m<module>\u001b[0;34m()\u001b[0m\n\u001b[0;32m----> 1\u001b[0;31m \u001b[0my1\u001b[0m\u001b[0;34m.\u001b[0m\u001b[0mshape\u001b[0m\u001b[0;34m\u001b[0m\u001b[0m\n\u001b[0m",
      "\u001b[0;31mAttributeError\u001b[0m: 'float' object has no attribute 'shape'"
     ]
    }
   ],
   "source": [
    "y1.shape"
   ]
  },
  {
   "cell_type": "code",
   "execution_count": 89,
   "metadata": {
    "collapsed": false
   },
   "outputs": [
    {
     "data": {
      "application/javascript": [
       "/* Put everything inside the global mpl namespace */\n",
       "window.mpl = {};\n",
       "\n",
       "\n",
       "mpl.get_websocket_type = function() {\n",
       "    if (typeof(WebSocket) !== 'undefined') {\n",
       "        return WebSocket;\n",
       "    } else if (typeof(MozWebSocket) !== 'undefined') {\n",
       "        return MozWebSocket;\n",
       "    } else {\n",
       "        alert('Your browser does not have WebSocket support.' +\n",
       "              'Please try Chrome, Safari or Firefox ≥ 6. ' +\n",
       "              'Firefox 4 and 5 are also supported but you ' +\n",
       "              'have to enable WebSockets in about:config.');\n",
       "    };\n",
       "}\n",
       "\n",
       "mpl.figure = function(figure_id, websocket, ondownload, parent_element) {\n",
       "    this.id = figure_id;\n",
       "\n",
       "    this.ws = websocket;\n",
       "\n",
       "    this.supports_binary = (this.ws.binaryType != undefined);\n",
       "\n",
       "    if (!this.supports_binary) {\n",
       "        var warnings = document.getElementById(\"mpl-warnings\");\n",
       "        if (warnings) {\n",
       "            warnings.style.display = 'block';\n",
       "            warnings.textContent = (\n",
       "                \"This browser does not support binary websocket messages. \" +\n",
       "                    \"Performance may be slow.\");\n",
       "        }\n",
       "    }\n",
       "\n",
       "    this.imageObj = new Image();\n",
       "\n",
       "    this.context = undefined;\n",
       "    this.message = undefined;\n",
       "    this.canvas = undefined;\n",
       "    this.rubberband_canvas = undefined;\n",
       "    this.rubberband_context = undefined;\n",
       "    this.format_dropdown = undefined;\n",
       "\n",
       "    this.image_mode = 'full';\n",
       "\n",
       "    this.root = $('<div/>');\n",
       "    this._root_extra_style(this.root)\n",
       "    this.root.attr('style', 'display: inline-block');\n",
       "\n",
       "    $(parent_element).append(this.root);\n",
       "\n",
       "    this._init_header(this);\n",
       "    this._init_canvas(this);\n",
       "    this._init_toolbar(this);\n",
       "\n",
       "    var fig = this;\n",
       "\n",
       "    this.waiting = false;\n",
       "\n",
       "    this.ws.onopen =  function () {\n",
       "            fig.send_message(\"supports_binary\", {value: fig.supports_binary});\n",
       "            fig.send_message(\"send_image_mode\", {});\n",
       "            if (mpl.ratio != 1) {\n",
       "                fig.send_message(\"set_dpi_ratio\", {'dpi_ratio': mpl.ratio});\n",
       "            }\n",
       "            fig.send_message(\"refresh\", {});\n",
       "        }\n",
       "\n",
       "    this.imageObj.onload = function() {\n",
       "            if (fig.image_mode == 'full') {\n",
       "                // Full images could contain transparency (where diff images\n",
       "                // almost always do), so we need to clear the canvas so that\n",
       "                // there is no ghosting.\n",
       "                fig.context.clearRect(0, 0, fig.canvas.width, fig.canvas.height);\n",
       "            }\n",
       "            fig.context.drawImage(fig.imageObj, 0, 0);\n",
       "        };\n",
       "\n",
       "    this.imageObj.onunload = function() {\n",
       "        this.ws.close();\n",
       "    }\n",
       "\n",
       "    this.ws.onmessage = this._make_on_message_function(this);\n",
       "\n",
       "    this.ondownload = ondownload;\n",
       "}\n",
       "\n",
       "mpl.figure.prototype._init_header = function() {\n",
       "    var titlebar = $(\n",
       "        '<div class=\"ui-dialog-titlebar ui-widget-header ui-corner-all ' +\n",
       "        'ui-helper-clearfix\"/>');\n",
       "    var titletext = $(\n",
       "        '<div class=\"ui-dialog-title\" style=\"width: 100%; ' +\n",
       "        'text-align: center; padding: 3px;\"/>');\n",
       "    titlebar.append(titletext)\n",
       "    this.root.append(titlebar);\n",
       "    this.header = titletext[0];\n",
       "}\n",
       "\n",
       "\n",
       "\n",
       "mpl.figure.prototype._canvas_extra_style = function(canvas_div) {\n",
       "\n",
       "}\n",
       "\n",
       "\n",
       "mpl.figure.prototype._root_extra_style = function(canvas_div) {\n",
       "\n",
       "}\n",
       "\n",
       "mpl.figure.prototype._init_canvas = function() {\n",
       "    var fig = this;\n",
       "\n",
       "    var canvas_div = $('<div/>');\n",
       "\n",
       "    canvas_div.attr('style', 'position: relative; clear: both; outline: 0');\n",
       "\n",
       "    function canvas_keyboard_event(event) {\n",
       "        return fig.key_event(event, event['data']);\n",
       "    }\n",
       "\n",
       "    canvas_div.keydown('key_press', canvas_keyboard_event);\n",
       "    canvas_div.keyup('key_release', canvas_keyboard_event);\n",
       "    this.canvas_div = canvas_div\n",
       "    this._canvas_extra_style(canvas_div)\n",
       "    this.root.append(canvas_div);\n",
       "\n",
       "    var canvas = $('<canvas/>');\n",
       "    canvas.addClass('mpl-canvas');\n",
       "    canvas.attr('style', \"left: 0; top: 0; z-index: 0; outline: 0\")\n",
       "\n",
       "    this.canvas = canvas[0];\n",
       "    this.context = canvas[0].getContext(\"2d\");\n",
       "\n",
       "    var backingStore = this.context.backingStorePixelRatio ||\n",
       "\tthis.context.webkitBackingStorePixelRatio ||\n",
       "\tthis.context.mozBackingStorePixelRatio ||\n",
       "\tthis.context.msBackingStorePixelRatio ||\n",
       "\tthis.context.oBackingStorePixelRatio ||\n",
       "\tthis.context.backingStorePixelRatio || 1;\n",
       "\n",
       "    mpl.ratio = (window.devicePixelRatio || 1) / backingStore;\n",
       "\n",
       "    var rubberband = $('<canvas/>');\n",
       "    rubberband.attr('style', \"position: absolute; left: 0; top: 0; z-index: 1;\")\n",
       "\n",
       "    var pass_mouse_events = true;\n",
       "\n",
       "    canvas_div.resizable({\n",
       "        start: function(event, ui) {\n",
       "            pass_mouse_events = false;\n",
       "        },\n",
       "        resize: function(event, ui) {\n",
       "            fig.request_resize(ui.size.width, ui.size.height);\n",
       "        },\n",
       "        stop: function(event, ui) {\n",
       "            pass_mouse_events = true;\n",
       "            fig.request_resize(ui.size.width, ui.size.height);\n",
       "        },\n",
       "    });\n",
       "\n",
       "    function mouse_event_fn(event) {\n",
       "        if (pass_mouse_events)\n",
       "            return fig.mouse_event(event, event['data']);\n",
       "    }\n",
       "\n",
       "    rubberband.mousedown('button_press', mouse_event_fn);\n",
       "    rubberband.mouseup('button_release', mouse_event_fn);\n",
       "    // Throttle sequential mouse events to 1 every 20ms.\n",
       "    rubberband.mousemove('motion_notify', mouse_event_fn);\n",
       "\n",
       "    rubberband.mouseenter('figure_enter', mouse_event_fn);\n",
       "    rubberband.mouseleave('figure_leave', mouse_event_fn);\n",
       "\n",
       "    canvas_div.on(\"wheel\", function (event) {\n",
       "        event = event.originalEvent;\n",
       "        event['data'] = 'scroll'\n",
       "        if (event.deltaY < 0) {\n",
       "            event.step = 1;\n",
       "        } else {\n",
       "            event.step = -1;\n",
       "        }\n",
       "        mouse_event_fn(event);\n",
       "    });\n",
       "\n",
       "    canvas_div.append(canvas);\n",
       "    canvas_div.append(rubberband);\n",
       "\n",
       "    this.rubberband = rubberband;\n",
       "    this.rubberband_canvas = rubberband[0];\n",
       "    this.rubberband_context = rubberband[0].getContext(\"2d\");\n",
       "    this.rubberband_context.strokeStyle = \"#000000\";\n",
       "\n",
       "    this._resize_canvas = function(width, height) {\n",
       "        // Keep the size of the canvas, canvas container, and rubber band\n",
       "        // canvas in synch.\n",
       "        canvas_div.css('width', width)\n",
       "        canvas_div.css('height', height)\n",
       "\n",
       "        canvas.attr('width', width * mpl.ratio);\n",
       "        canvas.attr('height', height * mpl.ratio);\n",
       "        canvas.attr('style', 'width: ' + width + 'px; height: ' + height + 'px;');\n",
       "\n",
       "        rubberband.attr('width', width);\n",
       "        rubberband.attr('height', height);\n",
       "    }\n",
       "\n",
       "    // Set the figure to an initial 600x600px, this will subsequently be updated\n",
       "    // upon first draw.\n",
       "    this._resize_canvas(600, 600);\n",
       "\n",
       "    // Disable right mouse context menu.\n",
       "    $(this.rubberband_canvas).bind(\"contextmenu\",function(e){\n",
       "        return false;\n",
       "    });\n",
       "\n",
       "    function set_focus () {\n",
       "        canvas.focus();\n",
       "        canvas_div.focus();\n",
       "    }\n",
       "\n",
       "    window.setTimeout(set_focus, 100);\n",
       "}\n",
       "\n",
       "mpl.figure.prototype._init_toolbar = function() {\n",
       "    var fig = this;\n",
       "\n",
       "    var nav_element = $('<div/>')\n",
       "    nav_element.attr('style', 'width: 100%');\n",
       "    this.root.append(nav_element);\n",
       "\n",
       "    // Define a callback function for later on.\n",
       "    function toolbar_event(event) {\n",
       "        return fig.toolbar_button_onclick(event['data']);\n",
       "    }\n",
       "    function toolbar_mouse_event(event) {\n",
       "        return fig.toolbar_button_onmouseover(event['data']);\n",
       "    }\n",
       "\n",
       "    for(var toolbar_ind in mpl.toolbar_items) {\n",
       "        var name = mpl.toolbar_items[toolbar_ind][0];\n",
       "        var tooltip = mpl.toolbar_items[toolbar_ind][1];\n",
       "        var image = mpl.toolbar_items[toolbar_ind][2];\n",
       "        var method_name = mpl.toolbar_items[toolbar_ind][3];\n",
       "\n",
       "        if (!name) {\n",
       "            // put a spacer in here.\n",
       "            continue;\n",
       "        }\n",
       "        var button = $('<button/>');\n",
       "        button.addClass('ui-button ui-widget ui-state-default ui-corner-all ' +\n",
       "                        'ui-button-icon-only');\n",
       "        button.attr('role', 'button');\n",
       "        button.attr('aria-disabled', 'false');\n",
       "        button.click(method_name, toolbar_event);\n",
       "        button.mouseover(tooltip, toolbar_mouse_event);\n",
       "\n",
       "        var icon_img = $('<span/>');\n",
       "        icon_img.addClass('ui-button-icon-primary ui-icon');\n",
       "        icon_img.addClass(image);\n",
       "        icon_img.addClass('ui-corner-all');\n",
       "\n",
       "        var tooltip_span = $('<span/>');\n",
       "        tooltip_span.addClass('ui-button-text');\n",
       "        tooltip_span.html(tooltip);\n",
       "\n",
       "        button.append(icon_img);\n",
       "        button.append(tooltip_span);\n",
       "\n",
       "        nav_element.append(button);\n",
       "    }\n",
       "\n",
       "    var fmt_picker_span = $('<span/>');\n",
       "\n",
       "    var fmt_picker = $('<select/>');\n",
       "    fmt_picker.addClass('mpl-toolbar-option ui-widget ui-widget-content');\n",
       "    fmt_picker_span.append(fmt_picker);\n",
       "    nav_element.append(fmt_picker_span);\n",
       "    this.format_dropdown = fmt_picker[0];\n",
       "\n",
       "    for (var ind in mpl.extensions) {\n",
       "        var fmt = mpl.extensions[ind];\n",
       "        var option = $(\n",
       "            '<option/>', {selected: fmt === mpl.default_extension}).html(fmt);\n",
       "        fmt_picker.append(option)\n",
       "    }\n",
       "\n",
       "    // Add hover states to the ui-buttons\n",
       "    $( \".ui-button\" ).hover(\n",
       "        function() { $(this).addClass(\"ui-state-hover\");},\n",
       "        function() { $(this).removeClass(\"ui-state-hover\");}\n",
       "    );\n",
       "\n",
       "    var status_bar = $('<span class=\"mpl-message\"/>');\n",
       "    nav_element.append(status_bar);\n",
       "    this.message = status_bar[0];\n",
       "}\n",
       "\n",
       "mpl.figure.prototype.request_resize = function(x_pixels, y_pixels) {\n",
       "    // Request matplotlib to resize the figure. Matplotlib will then trigger a resize in the client,\n",
       "    // which will in turn request a refresh of the image.\n",
       "    this.send_message('resize', {'width': x_pixels, 'height': y_pixels});\n",
       "}\n",
       "\n",
       "mpl.figure.prototype.send_message = function(type, properties) {\n",
       "    properties['type'] = type;\n",
       "    properties['figure_id'] = this.id;\n",
       "    this.ws.send(JSON.stringify(properties));\n",
       "}\n",
       "\n",
       "mpl.figure.prototype.send_draw_message = function() {\n",
       "    if (!this.waiting) {\n",
       "        this.waiting = true;\n",
       "        this.ws.send(JSON.stringify({type: \"draw\", figure_id: this.id}));\n",
       "    }\n",
       "}\n",
       "\n",
       "\n",
       "mpl.figure.prototype.handle_save = function(fig, msg) {\n",
       "    var format_dropdown = fig.format_dropdown;\n",
       "    var format = format_dropdown.options[format_dropdown.selectedIndex].value;\n",
       "    fig.ondownload(fig, format);\n",
       "}\n",
       "\n",
       "\n",
       "mpl.figure.prototype.handle_resize = function(fig, msg) {\n",
       "    var size = msg['size'];\n",
       "    if (size[0] != fig.canvas.width || size[1] != fig.canvas.height) {\n",
       "        fig._resize_canvas(size[0], size[1]);\n",
       "        fig.send_message(\"refresh\", {});\n",
       "    };\n",
       "}\n",
       "\n",
       "mpl.figure.prototype.handle_rubberband = function(fig, msg) {\n",
       "    var x0 = msg['x0'] / mpl.ratio;\n",
       "    var y0 = (fig.canvas.height - msg['y0']) / mpl.ratio;\n",
       "    var x1 = msg['x1'] / mpl.ratio;\n",
       "    var y1 = (fig.canvas.height - msg['y1']) / mpl.ratio;\n",
       "    x0 = Math.floor(x0) + 0.5;\n",
       "    y0 = Math.floor(y0) + 0.5;\n",
       "    x1 = Math.floor(x1) + 0.5;\n",
       "    y1 = Math.floor(y1) + 0.5;\n",
       "    var min_x = Math.min(x0, x1);\n",
       "    var min_y = Math.min(y0, y1);\n",
       "    var width = Math.abs(x1 - x0);\n",
       "    var height = Math.abs(y1 - y0);\n",
       "\n",
       "    fig.rubberband_context.clearRect(\n",
       "        0, 0, fig.canvas.width, fig.canvas.height);\n",
       "\n",
       "    fig.rubberband_context.strokeRect(min_x, min_y, width, height);\n",
       "}\n",
       "\n",
       "mpl.figure.prototype.handle_figure_label = function(fig, msg) {\n",
       "    // Updates the figure title.\n",
       "    fig.header.textContent = msg['label'];\n",
       "}\n",
       "\n",
       "mpl.figure.prototype.handle_cursor = function(fig, msg) {\n",
       "    var cursor = msg['cursor'];\n",
       "    switch(cursor)\n",
       "    {\n",
       "    case 0:\n",
       "        cursor = 'pointer';\n",
       "        break;\n",
       "    case 1:\n",
       "        cursor = 'default';\n",
       "        break;\n",
       "    case 2:\n",
       "        cursor = 'crosshair';\n",
       "        break;\n",
       "    case 3:\n",
       "        cursor = 'move';\n",
       "        break;\n",
       "    }\n",
       "    fig.rubberband_canvas.style.cursor = cursor;\n",
       "}\n",
       "\n",
       "mpl.figure.prototype.handle_message = function(fig, msg) {\n",
       "    fig.message.textContent = msg['message'];\n",
       "}\n",
       "\n",
       "mpl.figure.prototype.handle_draw = function(fig, msg) {\n",
       "    // Request the server to send over a new figure.\n",
       "    fig.send_draw_message();\n",
       "}\n",
       "\n",
       "mpl.figure.prototype.handle_image_mode = function(fig, msg) {\n",
       "    fig.image_mode = msg['mode'];\n",
       "}\n",
       "\n",
       "mpl.figure.prototype.updated_canvas_event = function() {\n",
       "    // Called whenever the canvas gets updated.\n",
       "    this.send_message(\"ack\", {});\n",
       "}\n",
       "\n",
       "// A function to construct a web socket function for onmessage handling.\n",
       "// Called in the figure constructor.\n",
       "mpl.figure.prototype._make_on_message_function = function(fig) {\n",
       "    return function socket_on_message(evt) {\n",
       "        if (evt.data instanceof Blob) {\n",
       "            /* FIXME: We get \"Resource interpreted as Image but\n",
       "             * transferred with MIME type text/plain:\" errors on\n",
       "             * Chrome.  But how to set the MIME type?  It doesn't seem\n",
       "             * to be part of the websocket stream */\n",
       "            evt.data.type = \"image/png\";\n",
       "\n",
       "            /* Free the memory for the previous frames */\n",
       "            if (fig.imageObj.src) {\n",
       "                (window.URL || window.webkitURL).revokeObjectURL(\n",
       "                    fig.imageObj.src);\n",
       "            }\n",
       "\n",
       "            fig.imageObj.src = (window.URL || window.webkitURL).createObjectURL(\n",
       "                evt.data);\n",
       "            fig.updated_canvas_event();\n",
       "            fig.waiting = false;\n",
       "            return;\n",
       "        }\n",
       "        else if (typeof evt.data === 'string' && evt.data.slice(0, 21) == \"data:image/png;base64\") {\n",
       "            fig.imageObj.src = evt.data;\n",
       "            fig.updated_canvas_event();\n",
       "            fig.waiting = false;\n",
       "            return;\n",
       "        }\n",
       "\n",
       "        var msg = JSON.parse(evt.data);\n",
       "        var msg_type = msg['type'];\n",
       "\n",
       "        // Call the  \"handle_{type}\" callback, which takes\n",
       "        // the figure and JSON message as its only arguments.\n",
       "        try {\n",
       "            var callback = fig[\"handle_\" + msg_type];\n",
       "        } catch (e) {\n",
       "            console.log(\"No handler for the '\" + msg_type + \"' message type: \", msg);\n",
       "            return;\n",
       "        }\n",
       "\n",
       "        if (callback) {\n",
       "            try {\n",
       "                // console.log(\"Handling '\" + msg_type + \"' message: \", msg);\n",
       "                callback(fig, msg);\n",
       "            } catch (e) {\n",
       "                console.log(\"Exception inside the 'handler_\" + msg_type + \"' callback:\", e, e.stack, msg);\n",
       "            }\n",
       "        }\n",
       "    };\n",
       "}\n",
       "\n",
       "// from http://stackoverflow.com/questions/1114465/getting-mouse-location-in-canvas\n",
       "mpl.findpos = function(e) {\n",
       "    //this section is from http://www.quirksmode.org/js/events_properties.html\n",
       "    var targ;\n",
       "    if (!e)\n",
       "        e = window.event;\n",
       "    if (e.target)\n",
       "        targ = e.target;\n",
       "    else if (e.srcElement)\n",
       "        targ = e.srcElement;\n",
       "    if (targ.nodeType == 3) // defeat Safari bug\n",
       "        targ = targ.parentNode;\n",
       "\n",
       "    // jQuery normalizes the pageX and pageY\n",
       "    // pageX,Y are the mouse positions relative to the document\n",
       "    // offset() returns the position of the element relative to the document\n",
       "    var x = e.pageX - $(targ).offset().left;\n",
       "    var y = e.pageY - $(targ).offset().top;\n",
       "\n",
       "    return {\"x\": x, \"y\": y};\n",
       "};\n",
       "\n",
       "/*\n",
       " * return a copy of an object with only non-object keys\n",
       " * we need this to avoid circular references\n",
       " * http://stackoverflow.com/a/24161582/3208463\n",
       " */\n",
       "function simpleKeys (original) {\n",
       "  return Object.keys(original).reduce(function (obj, key) {\n",
       "    if (typeof original[key] !== 'object')\n",
       "        obj[key] = original[key]\n",
       "    return obj;\n",
       "  }, {});\n",
       "}\n",
       "\n",
       "mpl.figure.prototype.mouse_event = function(event, name) {\n",
       "    var canvas_pos = mpl.findpos(event)\n",
       "\n",
       "    if (name === 'button_press')\n",
       "    {\n",
       "        this.canvas.focus();\n",
       "        this.canvas_div.focus();\n",
       "    }\n",
       "\n",
       "    var x = canvas_pos.x * mpl.ratio;\n",
       "    var y = canvas_pos.y * mpl.ratio;\n",
       "\n",
       "    this.send_message(name, {x: x, y: y, button: event.button,\n",
       "                             step: event.step,\n",
       "                             guiEvent: simpleKeys(event)});\n",
       "\n",
       "    /* This prevents the web browser from automatically changing to\n",
       "     * the text insertion cursor when the button is pressed.  We want\n",
       "     * to control all of the cursor setting manually through the\n",
       "     * 'cursor' event from matplotlib */\n",
       "    event.preventDefault();\n",
       "    return false;\n",
       "}\n",
       "\n",
       "mpl.figure.prototype._key_event_extra = function(event, name) {\n",
       "    // Handle any extra behaviour associated with a key event\n",
       "}\n",
       "\n",
       "mpl.figure.prototype.key_event = function(event, name) {\n",
       "\n",
       "    // Prevent repeat events\n",
       "    if (name == 'key_press')\n",
       "    {\n",
       "        if (event.which === this._key)\n",
       "            return;\n",
       "        else\n",
       "            this._key = event.which;\n",
       "    }\n",
       "    if (name == 'key_release')\n",
       "        this._key = null;\n",
       "\n",
       "    var value = '';\n",
       "    if (event.ctrlKey && event.which != 17)\n",
       "        value += \"ctrl+\";\n",
       "    if (event.altKey && event.which != 18)\n",
       "        value += \"alt+\";\n",
       "    if (event.shiftKey && event.which != 16)\n",
       "        value += \"shift+\";\n",
       "\n",
       "    value += 'k';\n",
       "    value += event.which.toString();\n",
       "\n",
       "    this._key_event_extra(event, name);\n",
       "\n",
       "    this.send_message(name, {key: value,\n",
       "                             guiEvent: simpleKeys(event)});\n",
       "    return false;\n",
       "}\n",
       "\n",
       "mpl.figure.prototype.toolbar_button_onclick = function(name) {\n",
       "    if (name == 'download') {\n",
       "        this.handle_save(this, null);\n",
       "    } else {\n",
       "        this.send_message(\"toolbar_button\", {name: name});\n",
       "    }\n",
       "};\n",
       "\n",
       "mpl.figure.prototype.toolbar_button_onmouseover = function(tooltip) {\n",
       "    this.message.textContent = tooltip;\n",
       "};\n",
       "mpl.toolbar_items = [[\"Home\", \"Reset original view\", \"fa fa-home icon-home\", \"home\"], [\"Back\", \"Back to  previous view\", \"fa fa-arrow-left icon-arrow-left\", \"back\"], [\"Forward\", \"Forward to next view\", \"fa fa-arrow-right icon-arrow-right\", \"forward\"], [\"\", \"\", \"\", \"\"], [\"Pan\", \"Pan axes with left mouse, zoom with right\", \"fa fa-arrows icon-move\", \"pan\"], [\"Zoom\", \"Zoom to rectangle\", \"fa fa-square-o icon-check-empty\", \"zoom\"], [\"\", \"\", \"\", \"\"], [\"Download\", \"Download plot\", \"fa fa-floppy-o icon-save\", \"download\"]];\n",
       "\n",
       "mpl.extensions = [\"eps\", \"jpeg\", \"pdf\", \"png\", \"ps\", \"raw\", \"svg\", \"tif\"];\n",
       "\n",
       "mpl.default_extension = \"png\";var comm_websocket_adapter = function(comm) {\n",
       "    // Create a \"websocket\"-like object which calls the given IPython comm\n",
       "    // object with the appropriate methods. Currently this is a non binary\n",
       "    // socket, so there is still some room for performance tuning.\n",
       "    var ws = {};\n",
       "\n",
       "    ws.close = function() {\n",
       "        comm.close()\n",
       "    };\n",
       "    ws.send = function(m) {\n",
       "        //console.log('sending', m);\n",
       "        comm.send(m);\n",
       "    };\n",
       "    // Register the callback with on_msg.\n",
       "    comm.on_msg(function(msg) {\n",
       "        //console.log('receiving', msg['content']['data'], msg);\n",
       "        // Pass the mpl event to the overriden (by mpl) onmessage function.\n",
       "        ws.onmessage(msg['content']['data'])\n",
       "    });\n",
       "    return ws;\n",
       "}\n",
       "\n",
       "mpl.mpl_figure_comm = function(comm, msg) {\n",
       "    // This is the function which gets called when the mpl process\n",
       "    // starts-up an IPython Comm through the \"matplotlib\" channel.\n",
       "\n",
       "    var id = msg.content.data.id;\n",
       "    // Get hold of the div created by the display call when the Comm\n",
       "    // socket was opened in Python.\n",
       "    var element = $(\"#\" + id);\n",
       "    var ws_proxy = comm_websocket_adapter(comm)\n",
       "\n",
       "    function ondownload(figure, format) {\n",
       "        window.open(figure.imageObj.src);\n",
       "    }\n",
       "\n",
       "    var fig = new mpl.figure(id, ws_proxy,\n",
       "                           ondownload,\n",
       "                           element.get(0));\n",
       "\n",
       "    // Call onopen now - mpl needs it, as it is assuming we've passed it a real\n",
       "    // web socket which is closed, not our websocket->open comm proxy.\n",
       "    ws_proxy.onopen();\n",
       "\n",
       "    fig.parent_element = element.get(0);\n",
       "    fig.cell_info = mpl.find_output_cell(\"<div id='\" + id + \"'></div>\");\n",
       "    if (!fig.cell_info) {\n",
       "        console.error(\"Failed to find cell for figure\", id, fig);\n",
       "        return;\n",
       "    }\n",
       "\n",
       "    var output_index = fig.cell_info[2]\n",
       "    var cell = fig.cell_info[0];\n",
       "\n",
       "};\n",
       "\n",
       "mpl.figure.prototype.handle_close = function(fig, msg) {\n",
       "    var width = fig.canvas.width/mpl.ratio\n",
       "    fig.root.unbind('remove')\n",
       "\n",
       "    // Update the output cell to use the data from the current canvas.\n",
       "    fig.push_to_output();\n",
       "    var dataURL = fig.canvas.toDataURL();\n",
       "    // Re-enable the keyboard manager in IPython - without this line, in FF,\n",
       "    // the notebook keyboard shortcuts fail.\n",
       "    IPython.keyboard_manager.enable()\n",
       "    $(fig.parent_element).html('<img src=\"' + dataURL + '\" width=\"' + width + '\">');\n",
       "    fig.close_ws(fig, msg);\n",
       "}\n",
       "\n",
       "mpl.figure.prototype.close_ws = function(fig, msg){\n",
       "    fig.send_message('closing', msg);\n",
       "    // fig.ws.close()\n",
       "}\n",
       "\n",
       "mpl.figure.prototype.push_to_output = function(remove_interactive) {\n",
       "    // Turn the data on the canvas into data in the output cell.\n",
       "    var width = this.canvas.width/mpl.ratio\n",
       "    var dataURL = this.canvas.toDataURL();\n",
       "    this.cell_info[1]['text/html'] = '<img src=\"' + dataURL + '\" width=\"' + width + '\">';\n",
       "}\n",
       "\n",
       "mpl.figure.prototype.updated_canvas_event = function() {\n",
       "    // Tell IPython that the notebook contents must change.\n",
       "    IPython.notebook.set_dirty(true);\n",
       "    this.send_message(\"ack\", {});\n",
       "    var fig = this;\n",
       "    // Wait a second, then push the new image to the DOM so\n",
       "    // that it is saved nicely (might be nice to debounce this).\n",
       "    setTimeout(function () { fig.push_to_output() }, 1000);\n",
       "}\n",
       "\n",
       "mpl.figure.prototype._init_toolbar = function() {\n",
       "    var fig = this;\n",
       "\n",
       "    var nav_element = $('<div/>')\n",
       "    nav_element.attr('style', 'width: 100%');\n",
       "    this.root.append(nav_element);\n",
       "\n",
       "    // Define a callback function for later on.\n",
       "    function toolbar_event(event) {\n",
       "        return fig.toolbar_button_onclick(event['data']);\n",
       "    }\n",
       "    function toolbar_mouse_event(event) {\n",
       "        return fig.toolbar_button_onmouseover(event['data']);\n",
       "    }\n",
       "\n",
       "    for(var toolbar_ind in mpl.toolbar_items){\n",
       "        var name = mpl.toolbar_items[toolbar_ind][0];\n",
       "        var tooltip = mpl.toolbar_items[toolbar_ind][1];\n",
       "        var image = mpl.toolbar_items[toolbar_ind][2];\n",
       "        var method_name = mpl.toolbar_items[toolbar_ind][3];\n",
       "\n",
       "        if (!name) { continue; };\n",
       "\n",
       "        var button = $('<button class=\"btn btn-default\" href=\"#\" title=\"' + name + '\"><i class=\"fa ' + image + ' fa-lg\"></i></button>');\n",
       "        button.click(method_name, toolbar_event);\n",
       "        button.mouseover(tooltip, toolbar_mouse_event);\n",
       "        nav_element.append(button);\n",
       "    }\n",
       "\n",
       "    // Add the status bar.\n",
       "    var status_bar = $('<span class=\"mpl-message\" style=\"text-align:right; float: right;\"/>');\n",
       "    nav_element.append(status_bar);\n",
       "    this.message = status_bar[0];\n",
       "\n",
       "    // Add the close button to the window.\n",
       "    var buttongrp = $('<div class=\"btn-group inline pull-right\"></div>');\n",
       "    var button = $('<button class=\"btn btn-mini btn-primary\" href=\"#\" title=\"Stop Interaction\"><i class=\"fa fa-power-off icon-remove icon-large\"></i></button>');\n",
       "    button.click(function (evt) { fig.handle_close(fig, {}); } );\n",
       "    button.mouseover('Stop Interaction', toolbar_mouse_event);\n",
       "    buttongrp.append(button);\n",
       "    var titlebar = this.root.find($('.ui-dialog-titlebar'));\n",
       "    titlebar.prepend(buttongrp);\n",
       "}\n",
       "\n",
       "mpl.figure.prototype._root_extra_style = function(el){\n",
       "    var fig = this\n",
       "    el.on(\"remove\", function(){\n",
       "\tfig.close_ws(fig, {});\n",
       "    });\n",
       "}\n",
       "\n",
       "mpl.figure.prototype._canvas_extra_style = function(el){\n",
       "    // this is important to make the div 'focusable\n",
       "    el.attr('tabindex', 0)\n",
       "    // reach out to IPython and tell the keyboard manager to turn it's self\n",
       "    // off when our div gets focus\n",
       "\n",
       "    // location in version 3\n",
       "    if (IPython.notebook.keyboard_manager) {\n",
       "        IPython.notebook.keyboard_manager.register_events(el);\n",
       "    }\n",
       "    else {\n",
       "        // location in version 2\n",
       "        IPython.keyboard_manager.register_events(el);\n",
       "    }\n",
       "\n",
       "}\n",
       "\n",
       "mpl.figure.prototype._key_event_extra = function(event, name) {\n",
       "    var manager = IPython.notebook.keyboard_manager;\n",
       "    if (!manager)\n",
       "        manager = IPython.keyboard_manager;\n",
       "\n",
       "    // Check for shift+enter\n",
       "    if (event.shiftKey && event.which == 13) {\n",
       "        this.canvas_div.blur();\n",
       "        // select the cell after this one\n",
       "        var index = IPython.notebook.find_cell_index(this.cell_info[0]);\n",
       "        IPython.notebook.select(index + 1);\n",
       "    }\n",
       "}\n",
       "\n",
       "mpl.figure.prototype.handle_save = function(fig, msg) {\n",
       "    fig.ondownload(fig, null);\n",
       "}\n",
       "\n",
       "\n",
       "mpl.find_output_cell = function(html_output) {\n",
       "    // Return the cell and output element which can be found *uniquely* in the notebook.\n",
       "    // Note - this is a bit hacky, but it is done because the \"notebook_saving.Notebook\"\n",
       "    // IPython event is triggered only after the cells have been serialised, which for\n",
       "    // our purposes (turning an active figure into a static one), is too late.\n",
       "    var cells = IPython.notebook.get_cells();\n",
       "    var ncells = cells.length;\n",
       "    for (var i=0; i<ncells; i++) {\n",
       "        var cell = cells[i];\n",
       "        if (cell.cell_type === 'code'){\n",
       "            for (var j=0; j<cell.output_area.outputs.length; j++) {\n",
       "                var data = cell.output_area.outputs[j];\n",
       "                if (data.data) {\n",
       "                    // IPython >= 3 moved mimebundle to data attribute of output\n",
       "                    data = data.data;\n",
       "                }\n",
       "                if (data['text/html'] == html_output) {\n",
       "                    return [cell, data, j];\n",
       "                }\n",
       "            }\n",
       "        }\n",
       "    }\n",
       "}\n",
       "\n",
       "// Register the function which deals with the matplotlib target/channel.\n",
       "// The kernel may be null if the page has been refreshed.\n",
       "if (IPython.notebook.kernel != null) {\n",
       "    IPython.notebook.kernel.comm_manager.register_target('matplotlib', mpl.mpl_figure_comm);\n",
       "}\n"
      ],
      "text/plain": [
       "<IPython.core.display.Javascript object>"
      ]
     },
     "metadata": {},
     "output_type": "display_data"
    },
    {
     "data": {
      "text/html": [
       "<img src=\"data:image/png;base64,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\" width=\"640\">"
      ],
      "text/plain": [
       "<IPython.core.display.HTML object>"
      ]
     },
     "metadata": {},
     "output_type": "display_data"
    },
    {
     "data": {
      "text/plain": [
       "[<matplotlib.lines.Line2D at 0x7fa167dd3c10>]"
      ]
     },
     "execution_count": 89,
     "metadata": {},
     "output_type": "execute_result"
    }
   ],
   "source": [
    "x=np.linspace(-5,5.)\n",
    "y1=np.linspace(-5.,5.)\n",
    "v1=[-1,-1.6,1]\n",
    "v2=[.7,.9,-1.]\n",
    "y1=v1[0]*x/v1[1]+v1[2]/v1[1]\n",
    "y2=v2[0]*x/v2[1]+v2[2]/v2[1]\n",
    "plt.plot(x,y1)\n",
    "plt.plot(x,y2)"
   ]
  },
  {
   "cell_type": "code",
   "execution_count": null,
   "metadata": {
    "collapsed": true
   },
   "outputs": [],
   "source": [
    "x=np.linspace"
   ]
  },
  {
   "cell_type": "code",
   "execution_count": null,
   "metadata": {
    "collapsed": true
   },
   "outputs": [],
   "source": []
  },
  {
   "cell_type": "code",
   "execution_count": 90,
   "metadata": {
    "collapsed": false
   },
   "outputs": [
    {
     "data": {
      "text/plain": [
       "array([[0, 0, 0, 1],\n",
       "       [0, 0, 1, 1],\n",
       "       [0, 1, 0, 1],\n",
       "       [0, 1, 1, 1]])"
      ]
     },
     "execution_count": 90,
     "metadata": {},
     "output_type": "execute_result"
    }
   ],
   "source": [
    "np.unique(sigl[1],axis=0)"
   ]
  },
  {
   "cell_type": "code",
   "execution_count": 22,
   "metadata": {
    "collapsed": false
   },
   "outputs": [
    {
     "data": {
      "text/plain": [
       "array([[0, 0, 0, 0, 0, 0, 0, 1, 1, 1, 1, 0],\n",
       "       [0, 0, 0, 1, 0, 0, 0, 1, 1, 1, 1, 0],\n",
       "       [0, 0, 0, 1, 0, 1, 0, 1, 1, 1, 1, 0],\n",
       "       [0, 0, 0, 1, 0, 1, 1, 1, 1, 0, 0, 0],\n",
       "       [0, 0, 0, 1, 0, 1, 1, 1, 1, 1, 0, 0],\n",
       "       [0, 0, 0, 1, 0, 1, 1, 1, 1, 1, 1, 0],\n",
       "       [0, 0, 1, 0, 0, 0, 0, 1, 1, 1, 1, 0],\n",
       "       [0, 0, 1, 1, 0, 0, 0, 1, 1, 1, 1, 0],\n",
       "       [0, 0, 1, 1, 0, 1, 0, 1, 1, 1, 1, 0],\n",
       "       [0, 0, 1, 1, 0, 1, 1, 1, 1, 0, 0, 0],\n",
       "       [0, 0, 1, 1, 0, 1, 1, 1, 1, 1, 0, 0],\n",
       "       [0, 0, 1, 1, 0, 1, 1, 1, 1, 1, 1, 0],\n",
       "       [0, 1, 0, 0, 0, 0, 0, 1, 1, 1, 1, 0],\n",
       "       [0, 1, 0, 0, 0, 0, 1, 1, 1, 0, 0, 0],\n",
       "       [0, 1, 0, 0, 0, 0, 1, 1, 1, 0, 1, 0],\n",
       "       [0, 1, 0, 0, 0, 0, 1, 1, 1, 1, 1, 0],\n",
       "       [0, 1, 0, 1, 0, 0, 0, 1, 1, 1, 1, 0],\n",
       "       [0, 1, 0, 1, 0, 0, 1, 1, 1, 0, 0, 0],\n",
       "       [0, 1, 0, 1, 0, 0, 1, 1, 1, 0, 1, 0],\n",
       "       [0, 1, 0, 1, 0, 0, 1, 1, 1, 1, 1, 0],\n",
       "       [0, 1, 0, 1, 0, 1, 0, 1, 1, 1, 1, 0],\n",
       "       [0, 1, 0, 1, 0, 1, 1, 1, 1, 0, 0, 0],\n",
       "       [0, 1, 0, 1, 0, 1, 1, 1, 1, 0, 1, 0],\n",
       "       [0, 1, 0, 1, 0, 1, 1, 1, 1, 1, 0, 0],\n",
       "       [0, 1, 0, 1, 0, 1, 1, 1, 1, 1, 1, 0],\n",
       "       [0, 1, 1, 0, 0, 0, 0, 1, 1, 1, 1, 0],\n",
       "       [0, 1, 1, 0, 0, 0, 1, 1, 1, 1, 1, 0],\n",
       "       [1, 0, 1, 0, 0, 0, 0, 1, 1, 1, 1, 0],\n",
       "       [1, 0, 1, 0, 0, 1, 0, 1, 1, 1, 1, 0],\n",
       "       [1, 0, 1, 0, 0, 1, 1, 1, 1, 0, 0, 0],\n",
       "       [1, 0, 1, 0, 0, 1, 1, 1, 1, 1, 0, 0],\n",
       "       [1, 0, 1, 0, 0, 1, 1, 1, 1, 1, 1, 0],\n",
       "       [1, 0, 1, 1, 0, 0, 0, 1, 1, 1, 1, 0],\n",
       "       [1, 0, 1, 1, 0, 1, 0, 1, 1, 1, 1, 0],\n",
       "       [1, 0, 1, 1, 0, 1, 1, 1, 1, 0, 0, 0],\n",
       "       [1, 0, 1, 1, 0, 1, 1, 1, 1, 1, 0, 0],\n",
       "       [1, 0, 1, 1, 0, 1, 1, 1, 1, 1, 1, 0],\n",
       "       [1, 1, 0, 0, 0, 0, 1, 1, 1, 0, 0, 0],\n",
       "       [1, 1, 0, 0, 0, 0, 1, 1, 1, 0, 1, 0],\n",
       "       [1, 1, 0, 0, 0, 0, 1, 1, 1, 1, 1, 0],\n",
       "       [1, 1, 1, 0, 0, 0, 0, 1, 1, 1, 1, 0],\n",
       "       [1, 1, 1, 0, 0, 0, 1, 1, 1, 0, 0, 0],\n",
       "       [1, 1, 1, 0, 0, 0, 1, 1, 1, 0, 1, 0],\n",
       "       [1, 1, 1, 0, 0, 0, 1, 1, 1, 1, 1, 0],\n",
       "       [1, 1, 1, 0, 0, 1, 0, 1, 1, 1, 1, 0],\n",
       "       [1, 1, 1, 0, 0, 1, 1, 1, 1, 0, 0, 0],\n",
       "       [1, 1, 1, 0, 0, 1, 1, 1, 1, 0, 1, 0],\n",
       "       [1, 1, 1, 0, 0, 1, 1, 1, 1, 1, 0, 0],\n",
       "       [1, 1, 1, 0, 0, 1, 1, 1, 1, 1, 1, 0]])"
      ]
     },
     "execution_count": 22,
     "metadata": {},
     "output_type": "execute_result"
    }
   ],
   "source": [
    "Sig"
   ]
  },
  {
   "cell_type": "code",
   "execution_count": null,
   "metadata": {
    "collapsed": true
   },
   "outputs": [],
   "source": []
  },
  {
   "cell_type": "code",
   "execution_count": null,
   "metadata": {
    "collapsed": true
   },
   "outputs": [],
   "source": []
  },
  {
   "cell_type": "code",
   "execution_count": null,
   "metadata": {
    "collapsed": true
   },
   "outputs": [],
   "source": []
  },
  {
   "cell_type": "code",
   "execution_count": null,
   "metadata": {
    "collapsed": true
   },
   "outputs": [],
   "source": []
  },
  {
   "cell_type": "code",
   "execution_count": null,
   "metadata": {
    "collapsed": true
   },
   "outputs": [],
   "source": []
  },
  {
   "cell_type": "code",
   "execution_count": null,
   "metadata": {
    "collapsed": true
   },
   "outputs": [],
   "source": []
  },
  {
   "cell_type": "code",
   "execution_count": null,
   "metadata": {
    "collapsed": true
   },
   "outputs": [],
   "source": []
  },
  {
   "cell_type": "code",
   "execution_count": 8,
   "metadata": {
    "collapsed": false
   },
   "outputs": [
    {
     "data": {
      "text/plain": [
       "array([  50,  329,  119, 5889,   51, 1521,   40,   70,   20,  834,    5,\n",
       "        209,  345, 5080,  202, 2344,  190,  603,   35,  751,    6, 2738,\n",
       "         40,    7, 1020,   39,   18,  238,   29, 4824,   25, 1048,   88,\n",
       "         30, 6427,   25,  858,  224,    5,   21,  112,  415,   27,  570,\n",
       "          2, 3480,   34,    2,  761])"
      ]
     },
     "execution_count": 8,
     "metadata": {},
     "output_type": "execute_result"
    }
   ],
   "source": [
    "Cnts"
   ]
  },
  {
   "cell_type": "code",
   "execution_count": 9,
   "metadata": {
    "collapsed": false
   },
   "outputs": [
    {
     "data": {
      "application/javascript": [
       "/* Put everything inside the global mpl namespace */\n",
       "window.mpl = {};\n",
       "\n",
       "\n",
       "mpl.get_websocket_type = function() {\n",
       "    if (typeof(WebSocket) !== 'undefined') {\n",
       "        return WebSocket;\n",
       "    } else if (typeof(MozWebSocket) !== 'undefined') {\n",
       "        return MozWebSocket;\n",
       "    } else {\n",
       "        alert('Your browser does not have WebSocket support.' +\n",
       "              'Please try Chrome, Safari or Firefox ≥ 6. ' +\n",
       "              'Firefox 4 and 5 are also supported but you ' +\n",
       "              'have to enable WebSockets in about:config.');\n",
       "    };\n",
       "}\n",
       "\n",
       "mpl.figure = function(figure_id, websocket, ondownload, parent_element) {\n",
       "    this.id = figure_id;\n",
       "\n",
       "    this.ws = websocket;\n",
       "\n",
       "    this.supports_binary = (this.ws.binaryType != undefined);\n",
       "\n",
       "    if (!this.supports_binary) {\n",
       "        var warnings = document.getElementById(\"mpl-warnings\");\n",
       "        if (warnings) {\n",
       "            warnings.style.display = 'block';\n",
       "            warnings.textContent = (\n",
       "                \"This browser does not support binary websocket messages. \" +\n",
       "                    \"Performance may be slow.\");\n",
       "        }\n",
       "    }\n",
       "\n",
       "    this.imageObj = new Image();\n",
       "\n",
       "    this.context = undefined;\n",
       "    this.message = undefined;\n",
       "    this.canvas = undefined;\n",
       "    this.rubberband_canvas = undefined;\n",
       "    this.rubberband_context = undefined;\n",
       "    this.format_dropdown = undefined;\n",
       "\n",
       "    this.image_mode = 'full';\n",
       "\n",
       "    this.root = $('<div/>');\n",
       "    this._root_extra_style(this.root)\n",
       "    this.root.attr('style', 'display: inline-block');\n",
       "\n",
       "    $(parent_element).append(this.root);\n",
       "\n",
       "    this._init_header(this);\n",
       "    this._init_canvas(this);\n",
       "    this._init_toolbar(this);\n",
       "\n",
       "    var fig = this;\n",
       "\n",
       "    this.waiting = false;\n",
       "\n",
       "    this.ws.onopen =  function () {\n",
       "            fig.send_message(\"supports_binary\", {value: fig.supports_binary});\n",
       "            fig.send_message(\"send_image_mode\", {});\n",
       "            if (mpl.ratio != 1) {\n",
       "                fig.send_message(\"set_dpi_ratio\", {'dpi_ratio': mpl.ratio});\n",
       "            }\n",
       "            fig.send_message(\"refresh\", {});\n",
       "        }\n",
       "\n",
       "    this.imageObj.onload = function() {\n",
       "            if (fig.image_mode == 'full') {\n",
       "                // Full images could contain transparency (where diff images\n",
       "                // almost always do), so we need to clear the canvas so that\n",
       "                // there is no ghosting.\n",
       "                fig.context.clearRect(0, 0, fig.canvas.width, fig.canvas.height);\n",
       "            }\n",
       "            fig.context.drawImage(fig.imageObj, 0, 0);\n",
       "        };\n",
       "\n",
       "    this.imageObj.onunload = function() {\n",
       "        this.ws.close();\n",
       "    }\n",
       "\n",
       "    this.ws.onmessage = this._make_on_message_function(this);\n",
       "\n",
       "    this.ondownload = ondownload;\n",
       "}\n",
       "\n",
       "mpl.figure.prototype._init_header = function() {\n",
       "    var titlebar = $(\n",
       "        '<div class=\"ui-dialog-titlebar ui-widget-header ui-corner-all ' +\n",
       "        'ui-helper-clearfix\"/>');\n",
       "    var titletext = $(\n",
       "        '<div class=\"ui-dialog-title\" style=\"width: 100%; ' +\n",
       "        'text-align: center; padding: 3px;\"/>');\n",
       "    titlebar.append(titletext)\n",
       "    this.root.append(titlebar);\n",
       "    this.header = titletext[0];\n",
       "}\n",
       "\n",
       "\n",
       "\n",
       "mpl.figure.prototype._canvas_extra_style = function(canvas_div) {\n",
       "\n",
       "}\n",
       "\n",
       "\n",
       "mpl.figure.prototype._root_extra_style = function(canvas_div) {\n",
       "\n",
       "}\n",
       "\n",
       "mpl.figure.prototype._init_canvas = function() {\n",
       "    var fig = this;\n",
       "\n",
       "    var canvas_div = $('<div/>');\n",
       "\n",
       "    canvas_div.attr('style', 'position: relative; clear: both; outline: 0');\n",
       "\n",
       "    function canvas_keyboard_event(event) {\n",
       "        return fig.key_event(event, event['data']);\n",
       "    }\n",
       "\n",
       "    canvas_div.keydown('key_press', canvas_keyboard_event);\n",
       "    canvas_div.keyup('key_release', canvas_keyboard_event);\n",
       "    this.canvas_div = canvas_div\n",
       "    this._canvas_extra_style(canvas_div)\n",
       "    this.root.append(canvas_div);\n",
       "\n",
       "    var canvas = $('<canvas/>');\n",
       "    canvas.addClass('mpl-canvas');\n",
       "    canvas.attr('style', \"left: 0; top: 0; z-index: 0; outline: 0\")\n",
       "\n",
       "    this.canvas = canvas[0];\n",
       "    this.context = canvas[0].getContext(\"2d\");\n",
       "\n",
       "    var backingStore = this.context.backingStorePixelRatio ||\n",
       "\tthis.context.webkitBackingStorePixelRatio ||\n",
       "\tthis.context.mozBackingStorePixelRatio ||\n",
       "\tthis.context.msBackingStorePixelRatio ||\n",
       "\tthis.context.oBackingStorePixelRatio ||\n",
       "\tthis.context.backingStorePixelRatio || 1;\n",
       "\n",
       "    mpl.ratio = (window.devicePixelRatio || 1) / backingStore;\n",
       "\n",
       "    var rubberband = $('<canvas/>');\n",
       "    rubberband.attr('style', \"position: absolute; left: 0; top: 0; z-index: 1;\")\n",
       "\n",
       "    var pass_mouse_events = true;\n",
       "\n",
       "    canvas_div.resizable({\n",
       "        start: function(event, ui) {\n",
       "            pass_mouse_events = false;\n",
       "        },\n",
       "        resize: function(event, ui) {\n",
       "            fig.request_resize(ui.size.width, ui.size.height);\n",
       "        },\n",
       "        stop: function(event, ui) {\n",
       "            pass_mouse_events = true;\n",
       "            fig.request_resize(ui.size.width, ui.size.height);\n",
       "        },\n",
       "    });\n",
       "\n",
       "    function mouse_event_fn(event) {\n",
       "        if (pass_mouse_events)\n",
       "            return fig.mouse_event(event, event['data']);\n",
       "    }\n",
       "\n",
       "    rubberband.mousedown('button_press', mouse_event_fn);\n",
       "    rubberband.mouseup('button_release', mouse_event_fn);\n",
       "    // Throttle sequential mouse events to 1 every 20ms.\n",
       "    rubberband.mousemove('motion_notify', mouse_event_fn);\n",
       "\n",
       "    rubberband.mouseenter('figure_enter', mouse_event_fn);\n",
       "    rubberband.mouseleave('figure_leave', mouse_event_fn);\n",
       "\n",
       "    canvas_div.on(\"wheel\", function (event) {\n",
       "        event = event.originalEvent;\n",
       "        event['data'] = 'scroll'\n",
       "        if (event.deltaY < 0) {\n",
       "            event.step = 1;\n",
       "        } else {\n",
       "            event.step = -1;\n",
       "        }\n",
       "        mouse_event_fn(event);\n",
       "    });\n",
       "\n",
       "    canvas_div.append(canvas);\n",
       "    canvas_div.append(rubberband);\n",
       "\n",
       "    this.rubberband = rubberband;\n",
       "    this.rubberband_canvas = rubberband[0];\n",
       "    this.rubberband_context = rubberband[0].getContext(\"2d\");\n",
       "    this.rubberband_context.strokeStyle = \"#000000\";\n",
       "\n",
       "    this._resize_canvas = function(width, height) {\n",
       "        // Keep the size of the canvas, canvas container, and rubber band\n",
       "        // canvas in synch.\n",
       "        canvas_div.css('width', width)\n",
       "        canvas_div.css('height', height)\n",
       "\n",
       "        canvas.attr('width', width * mpl.ratio);\n",
       "        canvas.attr('height', height * mpl.ratio);\n",
       "        canvas.attr('style', 'width: ' + width + 'px; height: ' + height + 'px;');\n",
       "\n",
       "        rubberband.attr('width', width);\n",
       "        rubberband.attr('height', height);\n",
       "    }\n",
       "\n",
       "    // Set the figure to an initial 600x600px, this will subsequently be updated\n",
       "    // upon first draw.\n",
       "    this._resize_canvas(600, 600);\n",
       "\n",
       "    // Disable right mouse context menu.\n",
       "    $(this.rubberband_canvas).bind(\"contextmenu\",function(e){\n",
       "        return false;\n",
       "    });\n",
       "\n",
       "    function set_focus () {\n",
       "        canvas.focus();\n",
       "        canvas_div.focus();\n",
       "    }\n",
       "\n",
       "    window.setTimeout(set_focus, 100);\n",
       "}\n",
       "\n",
       "mpl.figure.prototype._init_toolbar = function() {\n",
       "    var fig = this;\n",
       "\n",
       "    var nav_element = $('<div/>')\n",
       "    nav_element.attr('style', 'width: 100%');\n",
       "    this.root.append(nav_element);\n",
       "\n",
       "    // Define a callback function for later on.\n",
       "    function toolbar_event(event) {\n",
       "        return fig.toolbar_button_onclick(event['data']);\n",
       "    }\n",
       "    function toolbar_mouse_event(event) {\n",
       "        return fig.toolbar_button_onmouseover(event['data']);\n",
       "    }\n",
       "\n",
       "    for(var toolbar_ind in mpl.toolbar_items) {\n",
       "        var name = mpl.toolbar_items[toolbar_ind][0];\n",
       "        var tooltip = mpl.toolbar_items[toolbar_ind][1];\n",
       "        var image = mpl.toolbar_items[toolbar_ind][2];\n",
       "        var method_name = mpl.toolbar_items[toolbar_ind][3];\n",
       "\n",
       "        if (!name) {\n",
       "            // put a spacer in here.\n",
       "            continue;\n",
       "        }\n",
       "        var button = $('<button/>');\n",
       "        button.addClass('ui-button ui-widget ui-state-default ui-corner-all ' +\n",
       "                        'ui-button-icon-only');\n",
       "        button.attr('role', 'button');\n",
       "        button.attr('aria-disabled', 'false');\n",
       "        button.click(method_name, toolbar_event);\n",
       "        button.mouseover(tooltip, toolbar_mouse_event);\n",
       "\n",
       "        var icon_img = $('<span/>');\n",
       "        icon_img.addClass('ui-button-icon-primary ui-icon');\n",
       "        icon_img.addClass(image);\n",
       "        icon_img.addClass('ui-corner-all');\n",
       "\n",
       "        var tooltip_span = $('<span/>');\n",
       "        tooltip_span.addClass('ui-button-text');\n",
       "        tooltip_span.html(tooltip);\n",
       "\n",
       "        button.append(icon_img);\n",
       "        button.append(tooltip_span);\n",
       "\n",
       "        nav_element.append(button);\n",
       "    }\n",
       "\n",
       "    var fmt_picker_span = $('<span/>');\n",
       "\n",
       "    var fmt_picker = $('<select/>');\n",
       "    fmt_picker.addClass('mpl-toolbar-option ui-widget ui-widget-content');\n",
       "    fmt_picker_span.append(fmt_picker);\n",
       "    nav_element.append(fmt_picker_span);\n",
       "    this.format_dropdown = fmt_picker[0];\n",
       "\n",
       "    for (var ind in mpl.extensions) {\n",
       "        var fmt = mpl.extensions[ind];\n",
       "        var option = $(\n",
       "            '<option/>', {selected: fmt === mpl.default_extension}).html(fmt);\n",
       "        fmt_picker.append(option)\n",
       "    }\n",
       "\n",
       "    // Add hover states to the ui-buttons\n",
       "    $( \".ui-button\" ).hover(\n",
       "        function() { $(this).addClass(\"ui-state-hover\");},\n",
       "        function() { $(this).removeClass(\"ui-state-hover\");}\n",
       "    );\n",
       "\n",
       "    var status_bar = $('<span class=\"mpl-message\"/>');\n",
       "    nav_element.append(status_bar);\n",
       "    this.message = status_bar[0];\n",
       "}\n",
       "\n",
       "mpl.figure.prototype.request_resize = function(x_pixels, y_pixels) {\n",
       "    // Request matplotlib to resize the figure. Matplotlib will then trigger a resize in the client,\n",
       "    // which will in turn request a refresh of the image.\n",
       "    this.send_message('resize', {'width': x_pixels, 'height': y_pixels});\n",
       "}\n",
       "\n",
       "mpl.figure.prototype.send_message = function(type, properties) {\n",
       "    properties['type'] = type;\n",
       "    properties['figure_id'] = this.id;\n",
       "    this.ws.send(JSON.stringify(properties));\n",
       "}\n",
       "\n",
       "mpl.figure.prototype.send_draw_message = function() {\n",
       "    if (!this.waiting) {\n",
       "        this.waiting = true;\n",
       "        this.ws.send(JSON.stringify({type: \"draw\", figure_id: this.id}));\n",
       "    }\n",
       "}\n",
       "\n",
       "\n",
       "mpl.figure.prototype.handle_save = function(fig, msg) {\n",
       "    var format_dropdown = fig.format_dropdown;\n",
       "    var format = format_dropdown.options[format_dropdown.selectedIndex].value;\n",
       "    fig.ondownload(fig, format);\n",
       "}\n",
       "\n",
       "\n",
       "mpl.figure.prototype.handle_resize = function(fig, msg) {\n",
       "    var size = msg['size'];\n",
       "    if (size[0] != fig.canvas.width || size[1] != fig.canvas.height) {\n",
       "        fig._resize_canvas(size[0], size[1]);\n",
       "        fig.send_message(\"refresh\", {});\n",
       "    };\n",
       "}\n",
       "\n",
       "mpl.figure.prototype.handle_rubberband = function(fig, msg) {\n",
       "    var x0 = msg['x0'] / mpl.ratio;\n",
       "    var y0 = (fig.canvas.height - msg['y0']) / mpl.ratio;\n",
       "    var x1 = msg['x1'] / mpl.ratio;\n",
       "    var y1 = (fig.canvas.height - msg['y1']) / mpl.ratio;\n",
       "    x0 = Math.floor(x0) + 0.5;\n",
       "    y0 = Math.floor(y0) + 0.5;\n",
       "    x1 = Math.floor(x1) + 0.5;\n",
       "    y1 = Math.floor(y1) + 0.5;\n",
       "    var min_x = Math.min(x0, x1);\n",
       "    var min_y = Math.min(y0, y1);\n",
       "    var width = Math.abs(x1 - x0);\n",
       "    var height = Math.abs(y1 - y0);\n",
       "\n",
       "    fig.rubberband_context.clearRect(\n",
       "        0, 0, fig.canvas.width, fig.canvas.height);\n",
       "\n",
       "    fig.rubberband_context.strokeRect(min_x, min_y, width, height);\n",
       "}\n",
       "\n",
       "mpl.figure.prototype.handle_figure_label = function(fig, msg) {\n",
       "    // Updates the figure title.\n",
       "    fig.header.textContent = msg['label'];\n",
       "}\n",
       "\n",
       "mpl.figure.prototype.handle_cursor = function(fig, msg) {\n",
       "    var cursor = msg['cursor'];\n",
       "    switch(cursor)\n",
       "    {\n",
       "    case 0:\n",
       "        cursor = 'pointer';\n",
       "        break;\n",
       "    case 1:\n",
       "        cursor = 'default';\n",
       "        break;\n",
       "    case 2:\n",
       "        cursor = 'crosshair';\n",
       "        break;\n",
       "    case 3:\n",
       "        cursor = 'move';\n",
       "        break;\n",
       "    }\n",
       "    fig.rubberband_canvas.style.cursor = cursor;\n",
       "}\n",
       "\n",
       "mpl.figure.prototype.handle_message = function(fig, msg) {\n",
       "    fig.message.textContent = msg['message'];\n",
       "}\n",
       "\n",
       "mpl.figure.prototype.handle_draw = function(fig, msg) {\n",
       "    // Request the server to send over a new figure.\n",
       "    fig.send_draw_message();\n",
       "}\n",
       "\n",
       "mpl.figure.prototype.handle_image_mode = function(fig, msg) {\n",
       "    fig.image_mode = msg['mode'];\n",
       "}\n",
       "\n",
       "mpl.figure.prototype.updated_canvas_event = function() {\n",
       "    // Called whenever the canvas gets updated.\n",
       "    this.send_message(\"ack\", {});\n",
       "}\n",
       "\n",
       "// A function to construct a web socket function for onmessage handling.\n",
       "// Called in the figure constructor.\n",
       "mpl.figure.prototype._make_on_message_function = function(fig) {\n",
       "    return function socket_on_message(evt) {\n",
       "        if (evt.data instanceof Blob) {\n",
       "            /* FIXME: We get \"Resource interpreted as Image but\n",
       "             * transferred with MIME type text/plain:\" errors on\n",
       "             * Chrome.  But how to set the MIME type?  It doesn't seem\n",
       "             * to be part of the websocket stream */\n",
       "            evt.data.type = \"image/png\";\n",
       "\n",
       "            /* Free the memory for the previous frames */\n",
       "            if (fig.imageObj.src) {\n",
       "                (window.URL || window.webkitURL).revokeObjectURL(\n",
       "                    fig.imageObj.src);\n",
       "            }\n",
       "\n",
       "            fig.imageObj.src = (window.URL || window.webkitURL).createObjectURL(\n",
       "                evt.data);\n",
       "            fig.updated_canvas_event();\n",
       "            fig.waiting = false;\n",
       "            return;\n",
       "        }\n",
       "        else if (typeof evt.data === 'string' && evt.data.slice(0, 21) == \"data:image/png;base64\") {\n",
       "            fig.imageObj.src = evt.data;\n",
       "            fig.updated_canvas_event();\n",
       "            fig.waiting = false;\n",
       "            return;\n",
       "        }\n",
       "\n",
       "        var msg = JSON.parse(evt.data);\n",
       "        var msg_type = msg['type'];\n",
       "\n",
       "        // Call the  \"handle_{type}\" callback, which takes\n",
       "        // the figure and JSON message as its only arguments.\n",
       "        try {\n",
       "            var callback = fig[\"handle_\" + msg_type];\n",
       "        } catch (e) {\n",
       "            console.log(\"No handler for the '\" + msg_type + \"' message type: \", msg);\n",
       "            return;\n",
       "        }\n",
       "\n",
       "        if (callback) {\n",
       "            try {\n",
       "                // console.log(\"Handling '\" + msg_type + \"' message: \", msg);\n",
       "                callback(fig, msg);\n",
       "            } catch (e) {\n",
       "                console.log(\"Exception inside the 'handler_\" + msg_type + \"' callback:\", e, e.stack, msg);\n",
       "            }\n",
       "        }\n",
       "    };\n",
       "}\n",
       "\n",
       "// from http://stackoverflow.com/questions/1114465/getting-mouse-location-in-canvas\n",
       "mpl.findpos = function(e) {\n",
       "    //this section is from http://www.quirksmode.org/js/events_properties.html\n",
       "    var targ;\n",
       "    if (!e)\n",
       "        e = window.event;\n",
       "    if (e.target)\n",
       "        targ = e.target;\n",
       "    else if (e.srcElement)\n",
       "        targ = e.srcElement;\n",
       "    if (targ.nodeType == 3) // defeat Safari bug\n",
       "        targ = targ.parentNode;\n",
       "\n",
       "    // jQuery normalizes the pageX and pageY\n",
       "    // pageX,Y are the mouse positions relative to the document\n",
       "    // offset() returns the position of the element relative to the document\n",
       "    var x = e.pageX - $(targ).offset().left;\n",
       "    var y = e.pageY - $(targ).offset().top;\n",
       "\n",
       "    return {\"x\": x, \"y\": y};\n",
       "};\n",
       "\n",
       "/*\n",
       " * return a copy of an object with only non-object keys\n",
       " * we need this to avoid circular references\n",
       " * http://stackoverflow.com/a/24161582/3208463\n",
       " */\n",
       "function simpleKeys (original) {\n",
       "  return Object.keys(original).reduce(function (obj, key) {\n",
       "    if (typeof original[key] !== 'object')\n",
       "        obj[key] = original[key]\n",
       "    return obj;\n",
       "  }, {});\n",
       "}\n",
       "\n",
       "mpl.figure.prototype.mouse_event = function(event, name) {\n",
       "    var canvas_pos = mpl.findpos(event)\n",
       "\n",
       "    if (name === 'button_press')\n",
       "    {\n",
       "        this.canvas.focus();\n",
       "        this.canvas_div.focus();\n",
       "    }\n",
       "\n",
       "    var x = canvas_pos.x * mpl.ratio;\n",
       "    var y = canvas_pos.y * mpl.ratio;\n",
       "\n",
       "    this.send_message(name, {x: x, y: y, button: event.button,\n",
       "                             step: event.step,\n",
       "                             guiEvent: simpleKeys(event)});\n",
       "\n",
       "    /* This prevents the web browser from automatically changing to\n",
       "     * the text insertion cursor when the button is pressed.  We want\n",
       "     * to control all of the cursor setting manually through the\n",
       "     * 'cursor' event from matplotlib */\n",
       "    event.preventDefault();\n",
       "    return false;\n",
       "}\n",
       "\n",
       "mpl.figure.prototype._key_event_extra = function(event, name) {\n",
       "    // Handle any extra behaviour associated with a key event\n",
       "}\n",
       "\n",
       "mpl.figure.prototype.key_event = function(event, name) {\n",
       "\n",
       "    // Prevent repeat events\n",
       "    if (name == 'key_press')\n",
       "    {\n",
       "        if (event.which === this._key)\n",
       "            return;\n",
       "        else\n",
       "            this._key = event.which;\n",
       "    }\n",
       "    if (name == 'key_release')\n",
       "        this._key = null;\n",
       "\n",
       "    var value = '';\n",
       "    if (event.ctrlKey && event.which != 17)\n",
       "        value += \"ctrl+\";\n",
       "    if (event.altKey && event.which != 18)\n",
       "        value += \"alt+\";\n",
       "    if (event.shiftKey && event.which != 16)\n",
       "        value += \"shift+\";\n",
       "\n",
       "    value += 'k';\n",
       "    value += event.which.toString();\n",
       "\n",
       "    this._key_event_extra(event, name);\n",
       "\n",
       "    this.send_message(name, {key: value,\n",
       "                             guiEvent: simpleKeys(event)});\n",
       "    return false;\n",
       "}\n",
       "\n",
       "mpl.figure.prototype.toolbar_button_onclick = function(name) {\n",
       "    if (name == 'download') {\n",
       "        this.handle_save(this, null);\n",
       "    } else {\n",
       "        this.send_message(\"toolbar_button\", {name: name});\n",
       "    }\n",
       "};\n",
       "\n",
       "mpl.figure.prototype.toolbar_button_onmouseover = function(tooltip) {\n",
       "    this.message.textContent = tooltip;\n",
       "};\n",
       "mpl.toolbar_items = [[\"Home\", \"Reset original view\", \"fa fa-home icon-home\", \"home\"], [\"Back\", \"Back to  previous view\", \"fa fa-arrow-left icon-arrow-left\", \"back\"], [\"Forward\", \"Forward to next view\", \"fa fa-arrow-right icon-arrow-right\", \"forward\"], [\"\", \"\", \"\", \"\"], [\"Pan\", \"Pan axes with left mouse, zoom with right\", \"fa fa-arrows icon-move\", \"pan\"], [\"Zoom\", \"Zoom to rectangle\", \"fa fa-square-o icon-check-empty\", \"zoom\"], [\"\", \"\", \"\", \"\"], [\"Download\", \"Download plot\", \"fa fa-floppy-o icon-save\", \"download\"]];\n",
       "\n",
       "mpl.extensions = [\"eps\", \"jpeg\", \"pdf\", \"png\", \"ps\", \"raw\", \"svg\", \"tif\"];\n",
       "\n",
       "mpl.default_extension = \"png\";var comm_websocket_adapter = function(comm) {\n",
       "    // Create a \"websocket\"-like object which calls the given IPython comm\n",
       "    // object with the appropriate methods. Currently this is a non binary\n",
       "    // socket, so there is still some room for performance tuning.\n",
       "    var ws = {};\n",
       "\n",
       "    ws.close = function() {\n",
       "        comm.close()\n",
       "    };\n",
       "    ws.send = function(m) {\n",
       "        //console.log('sending', m);\n",
       "        comm.send(m);\n",
       "    };\n",
       "    // Register the callback with on_msg.\n",
       "    comm.on_msg(function(msg) {\n",
       "        //console.log('receiving', msg['content']['data'], msg);\n",
       "        // Pass the mpl event to the overriden (by mpl) onmessage function.\n",
       "        ws.onmessage(msg['content']['data'])\n",
       "    });\n",
       "    return ws;\n",
       "}\n",
       "\n",
       "mpl.mpl_figure_comm = function(comm, msg) {\n",
       "    // This is the function which gets called when the mpl process\n",
       "    // starts-up an IPython Comm through the \"matplotlib\" channel.\n",
       "\n",
       "    var id = msg.content.data.id;\n",
       "    // Get hold of the div created by the display call when the Comm\n",
       "    // socket was opened in Python.\n",
       "    var element = $(\"#\" + id);\n",
       "    var ws_proxy = comm_websocket_adapter(comm)\n",
       "\n",
       "    function ondownload(figure, format) {\n",
       "        window.open(figure.imageObj.src);\n",
       "    }\n",
       "\n",
       "    var fig = new mpl.figure(id, ws_proxy,\n",
       "                           ondownload,\n",
       "                           element.get(0));\n",
       "\n",
       "    // Call onopen now - mpl needs it, as it is assuming we've passed it a real\n",
       "    // web socket which is closed, not our websocket->open comm proxy.\n",
       "    ws_proxy.onopen();\n",
       "\n",
       "    fig.parent_element = element.get(0);\n",
       "    fig.cell_info = mpl.find_output_cell(\"<div id='\" + id + \"'></div>\");\n",
       "    if (!fig.cell_info) {\n",
       "        console.error(\"Failed to find cell for figure\", id, fig);\n",
       "        return;\n",
       "    }\n",
       "\n",
       "    var output_index = fig.cell_info[2]\n",
       "    var cell = fig.cell_info[0];\n",
       "\n",
       "};\n",
       "\n",
       "mpl.figure.prototype.handle_close = function(fig, msg) {\n",
       "    var width = fig.canvas.width/mpl.ratio\n",
       "    fig.root.unbind('remove')\n",
       "\n",
       "    // Update the output cell to use the data from the current canvas.\n",
       "    fig.push_to_output();\n",
       "    var dataURL = fig.canvas.toDataURL();\n",
       "    // Re-enable the keyboard manager in IPython - without this line, in FF,\n",
       "    // the notebook keyboard shortcuts fail.\n",
       "    IPython.keyboard_manager.enable()\n",
       "    $(fig.parent_element).html('<img src=\"' + dataURL + '\" width=\"' + width + '\">');\n",
       "    fig.close_ws(fig, msg);\n",
       "}\n",
       "\n",
       "mpl.figure.prototype.close_ws = function(fig, msg){\n",
       "    fig.send_message('closing', msg);\n",
       "    // fig.ws.close()\n",
       "}\n",
       "\n",
       "mpl.figure.prototype.push_to_output = function(remove_interactive) {\n",
       "    // Turn the data on the canvas into data in the output cell.\n",
       "    var width = this.canvas.width/mpl.ratio\n",
       "    var dataURL = this.canvas.toDataURL();\n",
       "    this.cell_info[1]['text/html'] = '<img src=\"' + dataURL + '\" width=\"' + width + '\">';\n",
       "}\n",
       "\n",
       "mpl.figure.prototype.updated_canvas_event = function() {\n",
       "    // Tell IPython that the notebook contents must change.\n",
       "    IPython.notebook.set_dirty(true);\n",
       "    this.send_message(\"ack\", {});\n",
       "    var fig = this;\n",
       "    // Wait a second, then push the new image to the DOM so\n",
       "    // that it is saved nicely (might be nice to debounce this).\n",
       "    setTimeout(function () { fig.push_to_output() }, 1000);\n",
       "}\n",
       "\n",
       "mpl.figure.prototype._init_toolbar = function() {\n",
       "    var fig = this;\n",
       "\n",
       "    var nav_element = $('<div/>')\n",
       "    nav_element.attr('style', 'width: 100%');\n",
       "    this.root.append(nav_element);\n",
       "\n",
       "    // Define a callback function for later on.\n",
       "    function toolbar_event(event) {\n",
       "        return fig.toolbar_button_onclick(event['data']);\n",
       "    }\n",
       "    function toolbar_mouse_event(event) {\n",
       "        return fig.toolbar_button_onmouseover(event['data']);\n",
       "    }\n",
       "\n",
       "    for(var toolbar_ind in mpl.toolbar_items){\n",
       "        var name = mpl.toolbar_items[toolbar_ind][0];\n",
       "        var tooltip = mpl.toolbar_items[toolbar_ind][1];\n",
       "        var image = mpl.toolbar_items[toolbar_ind][2];\n",
       "        var method_name = mpl.toolbar_items[toolbar_ind][3];\n",
       "\n",
       "        if (!name) { continue; };\n",
       "\n",
       "        var button = $('<button class=\"btn btn-default\" href=\"#\" title=\"' + name + '\"><i class=\"fa ' + image + ' fa-lg\"></i></button>');\n",
       "        button.click(method_name, toolbar_event);\n",
       "        button.mouseover(tooltip, toolbar_mouse_event);\n",
       "        nav_element.append(button);\n",
       "    }\n",
       "\n",
       "    // Add the status bar.\n",
       "    var status_bar = $('<span class=\"mpl-message\" style=\"text-align:right; float: right;\"/>');\n",
       "    nav_element.append(status_bar);\n",
       "    this.message = status_bar[0];\n",
       "\n",
       "    // Add the close button to the window.\n",
       "    var buttongrp = $('<div class=\"btn-group inline pull-right\"></div>');\n",
       "    var button = $('<button class=\"btn btn-mini btn-primary\" href=\"#\" title=\"Stop Interaction\"><i class=\"fa fa-power-off icon-remove icon-large\"></i></button>');\n",
       "    button.click(function (evt) { fig.handle_close(fig, {}); } );\n",
       "    button.mouseover('Stop Interaction', toolbar_mouse_event);\n",
       "    buttongrp.append(button);\n",
       "    var titlebar = this.root.find($('.ui-dialog-titlebar'));\n",
       "    titlebar.prepend(buttongrp);\n",
       "}\n",
       "\n",
       "mpl.figure.prototype._root_extra_style = function(el){\n",
       "    var fig = this\n",
       "    el.on(\"remove\", function(){\n",
       "\tfig.close_ws(fig, {});\n",
       "    });\n",
       "}\n",
       "\n",
       "mpl.figure.prototype._canvas_extra_style = function(el){\n",
       "    // this is important to make the div 'focusable\n",
       "    el.attr('tabindex', 0)\n",
       "    // reach out to IPython and tell the keyboard manager to turn it's self\n",
       "    // off when our div gets focus\n",
       "\n",
       "    // location in version 3\n",
       "    if (IPython.notebook.keyboard_manager) {\n",
       "        IPython.notebook.keyboard_manager.register_events(el);\n",
       "    }\n",
       "    else {\n",
       "        // location in version 2\n",
       "        IPython.keyboard_manager.register_events(el);\n",
       "    }\n",
       "\n",
       "}\n",
       "\n",
       "mpl.figure.prototype._key_event_extra = function(event, name) {\n",
       "    var manager = IPython.notebook.keyboard_manager;\n",
       "    if (!manager)\n",
       "        manager = IPython.keyboard_manager;\n",
       "\n",
       "    // Check for shift+enter\n",
       "    if (event.shiftKey && event.which == 13) {\n",
       "        this.canvas_div.blur();\n",
       "        // select the cell after this one\n",
       "        var index = IPython.notebook.find_cell_index(this.cell_info[0]);\n",
       "        IPython.notebook.select(index + 1);\n",
       "    }\n",
       "}\n",
       "\n",
       "mpl.figure.prototype.handle_save = function(fig, msg) {\n",
       "    fig.ondownload(fig, null);\n",
       "}\n",
       "\n",
       "\n",
       "mpl.find_output_cell = function(html_output) {\n",
       "    // Return the cell and output element which can be found *uniquely* in the notebook.\n",
       "    // Note - this is a bit hacky, but it is done because the \"notebook_saving.Notebook\"\n",
       "    // IPython event is triggered only after the cells have been serialised, which for\n",
       "    // our purposes (turning an active figure into a static one), is too late.\n",
       "    var cells = IPython.notebook.get_cells();\n",
       "    var ncells = cells.length;\n",
       "    for (var i=0; i<ncells; i++) {\n",
       "        var cell = cells[i];\n",
       "        if (cell.cell_type === 'code'){\n",
       "            for (var j=0; j<cell.output_area.outputs.length; j++) {\n",
       "                var data = cell.output_area.outputs[j];\n",
       "                if (data.data) {\n",
       "                    // IPython >= 3 moved mimebundle to data attribute of output\n",
       "                    data = data.data;\n",
       "                }\n",
       "                if (data['text/html'] == html_output) {\n",
       "                    return [cell, data, j];\n",
       "                }\n",
       "            }\n",
       "        }\n",
       "    }\n",
       "}\n",
       "\n",
       "// Register the function which deals with the matplotlib target/channel.\n",
       "// The kernel may be null if the page has been refreshed.\n",
       "if (IPython.notebook.kernel != null) {\n",
       "    IPython.notebook.kernel.comm_manager.register_target('matplotlib', mpl.mpl_figure_comm);\n",
       "}\n"
      ],
      "text/plain": [
       "<IPython.core.display.Javascript object>"
      ]
     },
     "metadata": {},
     "output_type": "display_data"
    },
    {
     "data": {
      "text/html": [
       "<img src=\"data:image/png;base64,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\" width=\"640\">"
      ],
      "text/plain": [
       "<IPython.core.display.HTML object>"
      ]
     },
     "metadata": {},
     "output_type": "display_data"
    }
   ],
   "source": [
    "fig,ax=plt.subplots()\n",
    "gX0,gX1=GridX[:,:,0],GridX[:,:,1]\n",
    "gX=GridX\n",
    "P_Layers=get_neuron_values(gX,time_weights)\n",
    "CT_lists=[]\n",
    "\n",
    "for l,Layer in enumerate(P_Layers):\n",
    "    listL=splitL(Layer)\n",
    "    contour_list=[]\n",
    "    for i,Pneu in enumerate(listL):\n",
    "        ctf=ax.contour(gX0,gX1,Pneu,colors=clist[i],levels=[0.],linestyles=listLineStyle[l])\n",
    "        contour_list.append(ctf)\n",
    "    CT_lists.append(contour_list)\n",
    "    \n",
    "ax.scatter(Xpos[:,0],Xpos[:,1],marker='+',s=100,c='b',linewidth='3')\n",
    "ax.scatter(Xneg[:,0],Xneg[:,1],marker='_',s=100,c='r',linewidth='3')\n",
    "\n",
    "#ix=np.where( Cnts>=1000 )[0]\n",
    "ix=np.where( Cnts>=1 )[0]\n",
    "Arr=M2[ix]\n",
    "Loc=Centers[ix]\n",
    "str_aff=[np.array2string(s,precision=2) for s in Arr]\n",
    "loc_str=[c for c in Loc]\n",
    "\n",
    "#alignment = {'horizontalalignment': 'center'}\n",
    "alignment = {'horizontalalignment': 'left',\n",
    "             'verticalalignment':'bottom'}\n",
    "\n",
    "for txt,loc in zip(str_aff,loc_str):\n",
    "    ax.text(loc[0],loc[1],txt,**alignment)\n",
    "    #ax.plot(loc[0],loc[1],style='gx',markersize=120)\n",
    "    ax.plot(loc[0],loc[1],color='green',marker='x',markersize=8)\n",
    "plt.savefig(record_dir+'/'+id_str+'_RegionOverlay_AffMaps_CntGT1.pdf')"
   ]
  },
  {
   "cell_type": "code",
   "execution_count": null,
   "metadata": {
    "collapsed": true
   },
   "outputs": [],
   "source": []
  },
  {
   "cell_type": "code",
   "execution_count": null,
   "metadata": {
    "collapsed": true
   },
   "outputs": [],
   "source": []
  },
  {
   "cell_type": "code",
   "execution_count": null,
   "metadata": {
    "collapsed": true
   },
   "outputs": [],
   "source": []
  },
  {
   "cell_type": "code",
   "execution_count": 13,
   "metadata": {
    "collapsed": false
   },
   "outputs": [],
   "source": [
    "ix1C=np.where( Cnts>=100 )[0]"
   ]
  },
  {
   "cell_type": "code",
   "execution_count": 14,
   "metadata": {
    "collapsed": false
   },
   "outputs": [
    {
     "data": {
      "text/plain": [
       "array([[ 0.25838734, -0.20783387, -0.94341988],\n",
       "       [ 0.58975056, -0.47436589, -0.65358341],\n",
       "       [ 0.52741459, -0.42422595, -0.73611561],\n",
       "       [ 0.14159809, -0.29510448, -0.94491445]])"
      ]
     },
     "execution_count": 14,
     "metadata": {},
     "output_type": "execute_result"
    }
   ],
   "source": [
    "flat_ix=np.array([2,4,5,8])\n",
    "M2[flat_ix]"
   ]
  },
  {
   "cell_type": "code",
   "execution_count": 31,
   "metadata": {
    "collapsed": false
   },
   "outputs": [
    {
     "data": {
      "text/plain": [
       "array([16903,   263,  6099,  6047])"
      ]
     },
     "execution_count": 31,
     "metadata": {},
     "output_type": "execute_result"
    }
   ],
   "source": [
    "Cnts[flat_ix]"
   ]
  },
  {
   "cell_type": "code",
   "execution_count": 33,
   "metadata": {
    "collapsed": false
   },
   "outputs": [
    {
     "data": {
      "text/plain": [
       "array([[1, 0, 1, 0, 0, 1, 1, 1, 0, 0, 0, 0],\n",
       "       [1, 1, 1, 0, 0, 1, 1, 1, 0, 0, 0, 0],\n",
       "       [1, 1, 1, 1, 0, 1, 1, 1, 0, 0, 0, 0],\n",
       "       [1, 1, 1, 1, 1, 1, 1, 1, 0, 0, 0, 0]])"
      ]
     },
     "execution_count": 33,
     "metadata": {},
     "output_type": "execute_result"
    }
   ],
   "source": [
    "Sig[flat_ix]"
   ]
  },
  {
   "cell_type": "code",
   "execution_count": 35,
   "metadata": {
    "collapsed": false
   },
   "outputs": [
    {
     "data": {
      "text/plain": [
       "array([[0, 0, 0, 0],\n",
       "       [0, 0, 0, 0],\n",
       "       [0, 0, 0, 0],\n",
       "       [0, 0, 0, 0]])"
      ]
     },
     "execution_count": 35,
     "metadata": {},
     "output_type": "execute_result"
    }
   ],
   "source": [
    "sigl[-1][flat_ix]"
   ]
  },
  {
   "cell_type": "code",
   "execution_count": 36,
   "metadata": {
    "collapsed": false
   },
   "outputs": [
    {
     "data": {
      "text/plain": [
       "array([[ 1.36164388,  1.08014981],\n",
       "       [ 0.59591616,  1.13165116],\n",
       "       [ 0.32725922,  0.98165146],\n",
       "       [-0.20836186,  0.97865961]])"
      ]
     },
     "execution_count": 36,
     "metadata": {},
     "output_type": "execute_result"
    }
   ],
   "source": [
    "Centers[flat_ix]"
   ]
  },
  {
   "cell_type": "code",
   "execution_count": 42,
   "metadata": {
    "collapsed": false
   },
   "outputs": [],
   "source": [
    "Sig1C,Centers1C,Cnts1C,M1C=Sig[ix1C],Centers[ix1C],Cnts[ix1C],M2[ix1C]"
   ]
  },
  {
   "cell_type": "code",
   "execution_count": 44,
   "metadata": {
    "collapsed": false
   },
   "outputs": [
    {
     "data": {
      "text/plain": [
       "array([12978, 16903,   263,  6099,   724,  6047,  3889])"
      ]
     },
     "execution_count": 44,
     "metadata": {},
     "output_type": "execute_result"
    }
   ],
   "source": [
    "Cnts1C"
   ]
  },
  {
   "cell_type": "code",
   "execution_count": 45,
   "metadata": {
    "collapsed": false
   },
   "outputs": [
    {
     "data": {
      "text/plain": [
       "array([[-1.45640421,  0.82414068],\n",
       "       [ 1.36164388,  1.08014981],\n",
       "       [ 0.59591616,  1.13165116],\n",
       "       [ 0.32725922,  0.98165146],\n",
       "       [-0.84880793,  0.95513563],\n",
       "       [-0.20836186,  0.97865961],\n",
       "       [-0.64696074,  0.97621038]])"
      ]
     },
     "execution_count": 45,
     "metadata": {},
     "output_type": "execute_result"
    }
   ],
   "source": [
    "Centers1C"
   ]
  },
  {
   "cell_type": "code",
   "execution_count": 46,
   "metadata": {
    "collapsed": false
   },
   "outputs": [
    {
     "name": "stdout",
     "output_type": "stream",
     "text": [
      "[[-0.77 -0.06  0.64]\n",
      " [ 0.    0.   -1.  ]\n",
      " [ 0.    0.   -1.  ]\n",
      " [ 0.    0.   -1.  ]\n",
      " [-1.   -0.08 -0.02]\n",
      " [ 0.    0.   -1.  ]\n",
      " [-0.89 -0.07 -0.46]]\n"
     ]
    }
   ],
   "source": [
    "print np.around(M1C,2)"
   ]
  },
  {
   "cell_type": "code",
   "execution_count": 48,
   "metadata": {
    "collapsed": false
   },
   "outputs": [
    {
     "data": {
      "text/plain": [
       "array([[0, 1, 0, 1, 1, 0, 0, 0, 1, 1, 1, 1],\n",
       "       [1, 0, 1, 0, 0, 1, 1, 1, 0, 0, 0, 0],\n",
       "       [1, 1, 1, 0, 0, 1, 1, 1, 0, 0, 0, 0],\n",
       "       [1, 1, 1, 1, 0, 1, 1, 1, 0, 0, 0, 0],\n",
       "       [1, 1, 1, 1, 1, 0, 0, 0, 1, 1, 1, 1],\n",
       "       [1, 1, 1, 1, 1, 1, 1, 1, 0, 0, 0, 0],\n",
       "       [1, 1, 1, 1, 1, 1, 1, 1, 1, 1, 1, 1]])"
      ]
     },
     "execution_count": 48,
     "metadata": {},
     "output_type": "execute_result"
    }
   ],
   "source": [
    "Sig1C"
   ]
  },
  {
   "cell_type": "code",
   "execution_count": 49,
   "metadata": {
    "collapsed": false
   },
   "outputs": [
    {
     "data": {
      "text/plain": [
       "array([[ 0.78906417, -0.8027047 ,  0.8602567 , -0.80492055],\n",
       "       [ 0.06518545, -0.06364239,  0.07567172, -0.06530982]],\n",
       "      dtype=float32)"
      ]
     },
     "execution_count": 49,
     "metadata": {},
     "output_type": "execute_result"
    }
   ],
   "source": [
    "W1f"
   ]
  },
  {
   "cell_type": "code",
   "execution_count": 50,
   "metadata": {
    "collapsed": false
   },
   "outputs": [
    {
     "data": {
      "text/plain": [
       "array([[-0.8262359 ,  0.91150755,  0.8890051 ,  0.87247336],\n",
       "       [ 0.73093206, -0.30269304, -0.22747582, -0.28524455],\n",
       "       [-0.7552978 ,  0.8272015 ,  0.8094798 ,  0.7735411 ],\n",
       "       [ 0.7562429 , -0.29802728, -0.36970505, -0.2953179 ]],\n",
       "      dtype=float32)"
      ]
     },
     "execution_count": 50,
     "metadata": {},
     "output_type": "execute_result"
    }
   ],
   "source": [
    "W2f"
   ]
  },
  {
   "cell_type": "code",
   "execution_count": 51,
   "metadata": {
    "collapsed": false
   },
   "outputs": [
    {
     "data": {
      "text/plain": [
       "array([0.5731294, 0.5918197, 0.5888418, 0.5738835], dtype=float32)"
      ]
     },
     "execution_count": 51,
     "metadata": {},
     "output_type": "execute_result"
    }
   ],
   "source": [
    "b2f"
   ]
  },
  {
   "cell_type": "code",
   "execution_count": null,
   "metadata": {
    "collapsed": true
   },
   "outputs": [],
   "source": []
  },
  {
   "cell_type": "markdown",
   "metadata": {},
   "source": [
    "### Look at layer 2 maps"
   ]
  },
  {
   "cell_type": "code",
   "execution_count": 78,
   "metadata": {
    "collapsed": false
   },
   "outputs": [],
   "source": [
    "#new_weights=rescale_weights(time_weights,sigl)\n",
    "Linear2R,Bias2R=compose_affine(new_weights[:2])\n",
    "Linear2,Bias2=compose_affine([new_weights[0],time_weights[1]])\n",
    "Maps2=np.concatenate([Linear2,np.expand_dims(Bias2,-2)],axis=-2)#idx,xdim+1,1\n",
    "Maps2R=np.concatenate([Linear2R,np.expand_dims(Bias2R,-2)],axis=-2)#idx,xdim+1,1\n",
    "#cnt_thresh=np.percentile(Cnts,20)\n",
    "#ix_thresh=np.where( Cnts>=cnt_thresh )[0]\n",
    "ix10C=np.where( Cnts>=1000 )[0]\n",
    "#M2=M/np.linalg.norm(M,ord=2,axis=(-2,-1),keepdims=True)\n",
    "#M2=np.squeeze(M2)\n",
    "Sig_ix,Centers_ix,Cnts_ix,Maps2_ix=Sig[ix10C],Centers[ix10C],Cnts[ix10C],Maps2[ix10C]\n",
    "Maps2R_ix=Maps2R[ix10C]"
   ]
  },
  {
   "cell_type": "code",
   "execution_count": 79,
   "metadata": {
    "collapsed": false
   },
   "outputs": [
    {
     "data": {
      "text/plain": [
       "array([[[-1.19543802,  0.        ,  0.        ,  0.        ],\n",
       "        [-0.09590835,  0.        ,  0.        ,  0.        ],\n",
       "        [ 1.39387577,  0.        ,  0.        ,  0.        ]],\n",
       "\n",
       "       [[ 0.        ,  1.43084354,  1.39784247,  1.35388135],\n",
       "        [ 0.        ,  0.12201279,  0.11920492,  0.11540775],\n",
       "        [ 0.        ,  1.74105294,  1.71157086,  1.66128947]],\n",
       "\n",
       "       [[ 0.        ,  1.91370495,  1.87802157,  1.82055593],\n",
       "        [ 0.        ,  0.160741  ,  0.1578274 ,  0.15284856],\n",
       "        [ 0.        ,  1.40940907,  1.38303139,  1.34088852]],\n",
       "\n",
       "       [[-2.49714111,  1.91370495,  1.87802157,  1.82055593],\n",
       "        [-0.20692159,  0.160741  ,  0.1578274 ,  0.15284856],\n",
       "        [ 0.34836262,  1.40940907,  1.38303139,  1.34088852]],\n",
       "\n",
       "       [[-2.49714111,  1.91370495,  1.87802157,  1.82055593],\n",
       "        [-0.20692159,  0.160741  ,  0.1578274 ,  0.15284856],\n",
       "        [ 0.34836262,  1.40940907,  1.38303139,  1.34088852]]])"
      ]
     },
     "execution_count": 79,
     "metadata": {},
     "output_type": "execute_result"
    }
   ],
   "source": [
    "Maps2R_ix"
   ]
  },
  {
   "cell_type": "code",
   "execution_count": 80,
   "metadata": {
    "collapsed": false
   },
   "outputs": [
    {
     "data": {
      "text/plain": [
       "array([[[-1.19543802,  0.4828614 ,  0.4801791 ,  0.46667458],\n",
       "        [-0.09590835,  0.03872822,  0.03862248,  0.0374408 ],\n",
       "        [ 1.39387577,  0.26017583,  0.26030233,  0.25348252]],\n",
       "\n",
       "       [[-1.30170309,  1.43084354,  1.39784247,  1.35388135],\n",
       "        [-0.11101324,  0.12201279,  0.11920492,  0.11540775],\n",
       "        [-0.47238374,  1.74105294,  1.71157086,  1.66128947]],\n",
       "\n",
       "       [[-2.49714111,  1.91370495,  1.87802157,  1.82055593],\n",
       "        [-0.20692159,  0.160741  ,  0.1578274 ,  0.15284856],\n",
       "        [ 0.34836262,  1.40940907,  1.38303139,  1.34088852]],\n",
       "\n",
       "       [[-2.49714111,  1.91370495,  1.87802157,  1.82055593],\n",
       "        [-0.20692159,  0.160741  ,  0.1578274 ,  0.15284856],\n",
       "        [ 0.34836262,  1.40940907,  1.38303139,  1.34088852]],\n",
       "\n",
       "       [[-2.49714111,  1.91370495,  1.87802157,  1.82055593],\n",
       "        [-0.20692159,  0.160741  ,  0.1578274 ,  0.15284856],\n",
       "        [ 0.34836262,  1.40940907,  1.38303139,  1.34088852]]])"
      ]
     },
     "execution_count": 80,
     "metadata": {},
     "output_type": "execute_result"
    }
   ],
   "source": [
    "Maps2_ix"
   ]
  },
  {
   "cell_type": "code",
   "execution_count": 81,
   "metadata": {
    "collapsed": false
   },
   "outputs": [
    {
     "data": {
      "text/plain": [
       "(array([[ 0.78906417, -0.8027047 ,  0.8602567 , -0.80492055],\n",
       "        [ 0.06518545, -0.06364239,  0.07567172, -0.06530982]],\n",
       "       dtype=float32),\n",
       " array([0.633153  , 0.5598488 , 0.69162047, 0.54418355], dtype=float32))"
      ]
     },
     "execution_count": 81,
     "metadata": {},
     "output_type": "execute_result"
    }
   ],
   "source": [
    "W1f,b1f"
   ]
  },
  {
   "cell_type": "code",
   "execution_count": 11,
   "metadata": {
    "collapsed": false
   },
   "outputs": [
    {
     "data": {
      "text/plain": [
       "array([[ 5.3663731e+00,  8.6855426e-02, -9.6940475e+01,  3.0220778e+00],\n",
       "       [ 3.3197601e+00, -1.8995669e+00, -7.1489822e+01, -2.4308085e+00]],\n",
       "      dtype=float32)"
      ]
     },
     "execution_count": 11,
     "metadata": {},
     "output_type": "execute_result"
    }
   ],
   "source": [
    "W1f/b1f"
   ]
  },
  {
   "cell_type": "code",
   "execution_count": 85,
   "metadata": {
    "collapsed": false
   },
   "outputs": [
    {
     "data": {
      "text/plain": [
       "array([[-1.4416219 ,  1.5401778 ,  1.509752  ,  1.520297  ],\n",
       "       [ 1.2753351 , -0.51146156, -0.38631058, -0.49704263],\n",
       "       [-1.3178486 ,  1.3977255 ,  1.3746983 ,  1.3479062 ],\n",
       "       [ 1.3194976 , -0.5035778 , -0.62785125, -0.51459557]],\n",
       "      dtype=float32)"
      ]
     },
     "execution_count": 85,
     "metadata": {},
     "output_type": "execute_result"
    }
   ],
   "source": [
    "W2f/b2f"
   ]
  },
  {
   "cell_type": "code",
   "execution_count": null,
   "metadata": {
    "collapsed": true
   },
   "outputs": [],
   "source": []
  },
  {
   "cell_type": "code",
   "execution_count": 72,
   "metadata": {
    "collapsed": false
   },
   "outputs": [
    {
     "data": {
      "text/plain": [
       "array([[-1.19543802,  0.        ,  0.        ,  0.        ],\n",
       "       [-0.09590835,  0.        ,  0.        ,  0.        ],\n",
       "       [ 1.39387577,  0.        ,  0.        ,  0.        ]])"
      ]
     },
     "execution_count": 72,
     "metadata": {},
     "output_type": "execute_result"
    }
   ],
   "source": [
    "Maps2[ix10C][0]"
   ]
  },
  {
   "cell_type": "code",
   "execution_count": 70,
   "metadata": {
    "collapsed": false,
    "scrolled": false
   },
   "outputs": [
    {
     "data": {
      "text/plain": [
       "array([[0, 1, 0, 1, 1, 0, 0, 0, 1, 1, 1, 1],\n",
       "       [1, 0, 1, 0, 0, 1, 1, 1, 0, 0, 0, 0],\n",
       "       [1, 1, 1, 1, 0, 1, 1, 1, 0, 0, 0, 0],\n",
       "       [1, 1, 1, 1, 1, 1, 1, 1, 0, 0, 0, 0],\n",
       "       [1, 1, 1, 1, 1, 1, 1, 1, 1, 1, 1, 1]])"
      ]
     },
     "execution_count": 70,
     "metadata": {},
     "output_type": "execute_result"
    }
   ],
   "source": [
    "Sig[ix10C]"
   ]
  },
  {
   "cell_type": "code",
   "execution_count": null,
   "metadata": {
    "collapsed": true
   },
   "outputs": [],
   "source": []
  },
  {
   "cell_type": "code",
   "execution_count": null,
   "metadata": {
    "collapsed": true
   },
   "outputs": [],
   "source": []
  },
  {
   "cell_type": "code",
   "execution_count": null,
   "metadata": {
    "collapsed": true
   },
   "outputs": [],
   "source": []
  },
  {
   "cell_type": "code",
   "execution_count": null,
   "metadata": {
    "collapsed": true
   },
   "outputs": [],
   "source": []
  },
  {
   "cell_type": "code",
   "execution_count": null,
   "metadata": {
    "collapsed": true
   },
   "outputs": [],
   "source": []
  },
  {
   "cell_type": "code",
   "execution_count": null,
   "metadata": {
    "collapsed": true
   },
   "outputs": [],
   "source": []
  },
  {
   "cell_type": "code",
   "execution_count": null,
   "metadata": {
    "collapsed": true
   },
   "outputs": [],
   "source": []
  },
  {
   "cell_type": "code",
   "execution_count": 10,
   "metadata": {
    "collapsed": false
   },
   "outputs": [
    {
     "data": {
      "application/javascript": [
       "/* Put everything inside the global mpl namespace */\n",
       "window.mpl = {};\n",
       "\n",
       "\n",
       "mpl.get_websocket_type = function() {\n",
       "    if (typeof(WebSocket) !== 'undefined') {\n",
       "        return WebSocket;\n",
       "    } else if (typeof(MozWebSocket) !== 'undefined') {\n",
       "        return MozWebSocket;\n",
       "    } else {\n",
       "        alert('Your browser does not have WebSocket support.' +\n",
       "              'Please try Chrome, Safari or Firefox ≥ 6. ' +\n",
       "              'Firefox 4 and 5 are also supported but you ' +\n",
       "              'have to enable WebSockets in about:config.');\n",
       "    };\n",
       "}\n",
       "\n",
       "mpl.figure = function(figure_id, websocket, ondownload, parent_element) {\n",
       "    this.id = figure_id;\n",
       "\n",
       "    this.ws = websocket;\n",
       "\n",
       "    this.supports_binary = (this.ws.binaryType != undefined);\n",
       "\n",
       "    if (!this.supports_binary) {\n",
       "        var warnings = document.getElementById(\"mpl-warnings\");\n",
       "        if (warnings) {\n",
       "            warnings.style.display = 'block';\n",
       "            warnings.textContent = (\n",
       "                \"This browser does not support binary websocket messages. \" +\n",
       "                    \"Performance may be slow.\");\n",
       "        }\n",
       "    }\n",
       "\n",
       "    this.imageObj = new Image();\n",
       "\n",
       "    this.context = undefined;\n",
       "    this.message = undefined;\n",
       "    this.canvas = undefined;\n",
       "    this.rubberband_canvas = undefined;\n",
       "    this.rubberband_context = undefined;\n",
       "    this.format_dropdown = undefined;\n",
       "\n",
       "    this.image_mode = 'full';\n",
       "\n",
       "    this.root = $('<div/>');\n",
       "    this._root_extra_style(this.root)\n",
       "    this.root.attr('style', 'display: inline-block');\n",
       "\n",
       "    $(parent_element).append(this.root);\n",
       "\n",
       "    this._init_header(this);\n",
       "    this._init_canvas(this);\n",
       "    this._init_toolbar(this);\n",
       "\n",
       "    var fig = this;\n",
       "\n",
       "    this.waiting = false;\n",
       "\n",
       "    this.ws.onopen =  function () {\n",
       "            fig.send_message(\"supports_binary\", {value: fig.supports_binary});\n",
       "            fig.send_message(\"send_image_mode\", {});\n",
       "            if (mpl.ratio != 1) {\n",
       "                fig.send_message(\"set_dpi_ratio\", {'dpi_ratio': mpl.ratio});\n",
       "            }\n",
       "            fig.send_message(\"refresh\", {});\n",
       "        }\n",
       "\n",
       "    this.imageObj.onload = function() {\n",
       "            if (fig.image_mode == 'full') {\n",
       "                // Full images could contain transparency (where diff images\n",
       "                // almost always do), so we need to clear the canvas so that\n",
       "                // there is no ghosting.\n",
       "                fig.context.clearRect(0, 0, fig.canvas.width, fig.canvas.height);\n",
       "            }\n",
       "            fig.context.drawImage(fig.imageObj, 0, 0);\n",
       "        };\n",
       "\n",
       "    this.imageObj.onunload = function() {\n",
       "        this.ws.close();\n",
       "    }\n",
       "\n",
       "    this.ws.onmessage = this._make_on_message_function(this);\n",
       "\n",
       "    this.ondownload = ondownload;\n",
       "}\n",
       "\n",
       "mpl.figure.prototype._init_header = function() {\n",
       "    var titlebar = $(\n",
       "        '<div class=\"ui-dialog-titlebar ui-widget-header ui-corner-all ' +\n",
       "        'ui-helper-clearfix\"/>');\n",
       "    var titletext = $(\n",
       "        '<div class=\"ui-dialog-title\" style=\"width: 100%; ' +\n",
       "        'text-align: center; padding: 3px;\"/>');\n",
       "    titlebar.append(titletext)\n",
       "    this.root.append(titlebar);\n",
       "    this.header = titletext[0];\n",
       "}\n",
       "\n",
       "\n",
       "\n",
       "mpl.figure.prototype._canvas_extra_style = function(canvas_div) {\n",
       "\n",
       "}\n",
       "\n",
       "\n",
       "mpl.figure.prototype._root_extra_style = function(canvas_div) {\n",
       "\n",
       "}\n",
       "\n",
       "mpl.figure.prototype._init_canvas = function() {\n",
       "    var fig = this;\n",
       "\n",
       "    var canvas_div = $('<div/>');\n",
       "\n",
       "    canvas_div.attr('style', 'position: relative; clear: both; outline: 0');\n",
       "\n",
       "    function canvas_keyboard_event(event) {\n",
       "        return fig.key_event(event, event['data']);\n",
       "    }\n",
       "\n",
       "    canvas_div.keydown('key_press', canvas_keyboard_event);\n",
       "    canvas_div.keyup('key_release', canvas_keyboard_event);\n",
       "    this.canvas_div = canvas_div\n",
       "    this._canvas_extra_style(canvas_div)\n",
       "    this.root.append(canvas_div);\n",
       "\n",
       "    var canvas = $('<canvas/>');\n",
       "    canvas.addClass('mpl-canvas');\n",
       "    canvas.attr('style', \"left: 0; top: 0; z-index: 0; outline: 0\")\n",
       "\n",
       "    this.canvas = canvas[0];\n",
       "    this.context = canvas[0].getContext(\"2d\");\n",
       "\n",
       "    var backingStore = this.context.backingStorePixelRatio ||\n",
       "\tthis.context.webkitBackingStorePixelRatio ||\n",
       "\tthis.context.mozBackingStorePixelRatio ||\n",
       "\tthis.context.msBackingStorePixelRatio ||\n",
       "\tthis.context.oBackingStorePixelRatio ||\n",
       "\tthis.context.backingStorePixelRatio || 1;\n",
       "\n",
       "    mpl.ratio = (window.devicePixelRatio || 1) / backingStore;\n",
       "\n",
       "    var rubberband = $('<canvas/>');\n",
       "    rubberband.attr('style', \"position: absolute; left: 0; top: 0; z-index: 1;\")\n",
       "\n",
       "    var pass_mouse_events = true;\n",
       "\n",
       "    canvas_div.resizable({\n",
       "        start: function(event, ui) {\n",
       "            pass_mouse_events = false;\n",
       "        },\n",
       "        resize: function(event, ui) {\n",
       "            fig.request_resize(ui.size.width, ui.size.height);\n",
       "        },\n",
       "        stop: function(event, ui) {\n",
       "            pass_mouse_events = true;\n",
       "            fig.request_resize(ui.size.width, ui.size.height);\n",
       "        },\n",
       "    });\n",
       "\n",
       "    function mouse_event_fn(event) {\n",
       "        if (pass_mouse_events)\n",
       "            return fig.mouse_event(event, event['data']);\n",
       "    }\n",
       "\n",
       "    rubberband.mousedown('button_press', mouse_event_fn);\n",
       "    rubberband.mouseup('button_release', mouse_event_fn);\n",
       "    // Throttle sequential mouse events to 1 every 20ms.\n",
       "    rubberband.mousemove('motion_notify', mouse_event_fn);\n",
       "\n",
       "    rubberband.mouseenter('figure_enter', mouse_event_fn);\n",
       "    rubberband.mouseleave('figure_leave', mouse_event_fn);\n",
       "\n",
       "    canvas_div.on(\"wheel\", function (event) {\n",
       "        event = event.originalEvent;\n",
       "        event['data'] = 'scroll'\n",
       "        if (event.deltaY < 0) {\n",
       "            event.step = 1;\n",
       "        } else {\n",
       "            event.step = -1;\n",
       "        }\n",
       "        mouse_event_fn(event);\n",
       "    });\n",
       "\n",
       "    canvas_div.append(canvas);\n",
       "    canvas_div.append(rubberband);\n",
       "\n",
       "    this.rubberband = rubberband;\n",
       "    this.rubberband_canvas = rubberband[0];\n",
       "    this.rubberband_context = rubberband[0].getContext(\"2d\");\n",
       "    this.rubberband_context.strokeStyle = \"#000000\";\n",
       "\n",
       "    this._resize_canvas = function(width, height) {\n",
       "        // Keep the size of the canvas, canvas container, and rubber band\n",
       "        // canvas in synch.\n",
       "        canvas_div.css('width', width)\n",
       "        canvas_div.css('height', height)\n",
       "\n",
       "        canvas.attr('width', width * mpl.ratio);\n",
       "        canvas.attr('height', height * mpl.ratio);\n",
       "        canvas.attr('style', 'width: ' + width + 'px; height: ' + height + 'px;');\n",
       "\n",
       "        rubberband.attr('width', width);\n",
       "        rubberband.attr('height', height);\n",
       "    }\n",
       "\n",
       "    // Set the figure to an initial 600x600px, this will subsequently be updated\n",
       "    // upon first draw.\n",
       "    this._resize_canvas(600, 600);\n",
       "\n",
       "    // Disable right mouse context menu.\n",
       "    $(this.rubberband_canvas).bind(\"contextmenu\",function(e){\n",
       "        return false;\n",
       "    });\n",
       "\n",
       "    function set_focus () {\n",
       "        canvas.focus();\n",
       "        canvas_div.focus();\n",
       "    }\n",
       "\n",
       "    window.setTimeout(set_focus, 100);\n",
       "}\n",
       "\n",
       "mpl.figure.prototype._init_toolbar = function() {\n",
       "    var fig = this;\n",
       "\n",
       "    var nav_element = $('<div/>')\n",
       "    nav_element.attr('style', 'width: 100%');\n",
       "    this.root.append(nav_element);\n",
       "\n",
       "    // Define a callback function for later on.\n",
       "    function toolbar_event(event) {\n",
       "        return fig.toolbar_button_onclick(event['data']);\n",
       "    }\n",
       "    function toolbar_mouse_event(event) {\n",
       "        return fig.toolbar_button_onmouseover(event['data']);\n",
       "    }\n",
       "\n",
       "    for(var toolbar_ind in mpl.toolbar_items) {\n",
       "        var name = mpl.toolbar_items[toolbar_ind][0];\n",
       "        var tooltip = mpl.toolbar_items[toolbar_ind][1];\n",
       "        var image = mpl.toolbar_items[toolbar_ind][2];\n",
       "        var method_name = mpl.toolbar_items[toolbar_ind][3];\n",
       "\n",
       "        if (!name) {\n",
       "            // put a spacer in here.\n",
       "            continue;\n",
       "        }\n",
       "        var button = $('<button/>');\n",
       "        button.addClass('ui-button ui-widget ui-state-default ui-corner-all ' +\n",
       "                        'ui-button-icon-only');\n",
       "        button.attr('role', 'button');\n",
       "        button.attr('aria-disabled', 'false');\n",
       "        button.click(method_name, toolbar_event);\n",
       "        button.mouseover(tooltip, toolbar_mouse_event);\n",
       "\n",
       "        var icon_img = $('<span/>');\n",
       "        icon_img.addClass('ui-button-icon-primary ui-icon');\n",
       "        icon_img.addClass(image);\n",
       "        icon_img.addClass('ui-corner-all');\n",
       "\n",
       "        var tooltip_span = $('<span/>');\n",
       "        tooltip_span.addClass('ui-button-text');\n",
       "        tooltip_span.html(tooltip);\n",
       "\n",
       "        button.append(icon_img);\n",
       "        button.append(tooltip_span);\n",
       "\n",
       "        nav_element.append(button);\n",
       "    }\n",
       "\n",
       "    var fmt_picker_span = $('<span/>');\n",
       "\n",
       "    var fmt_picker = $('<select/>');\n",
       "    fmt_picker.addClass('mpl-toolbar-option ui-widget ui-widget-content');\n",
       "    fmt_picker_span.append(fmt_picker);\n",
       "    nav_element.append(fmt_picker_span);\n",
       "    this.format_dropdown = fmt_picker[0];\n",
       "\n",
       "    for (var ind in mpl.extensions) {\n",
       "        var fmt = mpl.extensions[ind];\n",
       "        var option = $(\n",
       "            '<option/>', {selected: fmt === mpl.default_extension}).html(fmt);\n",
       "        fmt_picker.append(option)\n",
       "    }\n",
       "\n",
       "    // Add hover states to the ui-buttons\n",
       "    $( \".ui-button\" ).hover(\n",
       "        function() { $(this).addClass(\"ui-state-hover\");},\n",
       "        function() { $(this).removeClass(\"ui-state-hover\");}\n",
       "    );\n",
       "\n",
       "    var status_bar = $('<span class=\"mpl-message\"/>');\n",
       "    nav_element.append(status_bar);\n",
       "    this.message = status_bar[0];\n",
       "}\n",
       "\n",
       "mpl.figure.prototype.request_resize = function(x_pixels, y_pixels) {\n",
       "    // Request matplotlib to resize the figure. Matplotlib will then trigger a resize in the client,\n",
       "    // which will in turn request a refresh of the image.\n",
       "    this.send_message('resize', {'width': x_pixels, 'height': y_pixels});\n",
       "}\n",
       "\n",
       "mpl.figure.prototype.send_message = function(type, properties) {\n",
       "    properties['type'] = type;\n",
       "    properties['figure_id'] = this.id;\n",
       "    this.ws.send(JSON.stringify(properties));\n",
       "}\n",
       "\n",
       "mpl.figure.prototype.send_draw_message = function() {\n",
       "    if (!this.waiting) {\n",
       "        this.waiting = true;\n",
       "        this.ws.send(JSON.stringify({type: \"draw\", figure_id: this.id}));\n",
       "    }\n",
       "}\n",
       "\n",
       "\n",
       "mpl.figure.prototype.handle_save = function(fig, msg) {\n",
       "    var format_dropdown = fig.format_dropdown;\n",
       "    var format = format_dropdown.options[format_dropdown.selectedIndex].value;\n",
       "    fig.ondownload(fig, format);\n",
       "}\n",
       "\n",
       "\n",
       "mpl.figure.prototype.handle_resize = function(fig, msg) {\n",
       "    var size = msg['size'];\n",
       "    if (size[0] != fig.canvas.width || size[1] != fig.canvas.height) {\n",
       "        fig._resize_canvas(size[0], size[1]);\n",
       "        fig.send_message(\"refresh\", {});\n",
       "    };\n",
       "}\n",
       "\n",
       "mpl.figure.prototype.handle_rubberband = function(fig, msg) {\n",
       "    var x0 = msg['x0'] / mpl.ratio;\n",
       "    var y0 = (fig.canvas.height - msg['y0']) / mpl.ratio;\n",
       "    var x1 = msg['x1'] / mpl.ratio;\n",
       "    var y1 = (fig.canvas.height - msg['y1']) / mpl.ratio;\n",
       "    x0 = Math.floor(x0) + 0.5;\n",
       "    y0 = Math.floor(y0) + 0.5;\n",
       "    x1 = Math.floor(x1) + 0.5;\n",
       "    y1 = Math.floor(y1) + 0.5;\n",
       "    var min_x = Math.min(x0, x1);\n",
       "    var min_y = Math.min(y0, y1);\n",
       "    var width = Math.abs(x1 - x0);\n",
       "    var height = Math.abs(y1 - y0);\n",
       "\n",
       "    fig.rubberband_context.clearRect(\n",
       "        0, 0, fig.canvas.width, fig.canvas.height);\n",
       "\n",
       "    fig.rubberband_context.strokeRect(min_x, min_y, width, height);\n",
       "}\n",
       "\n",
       "mpl.figure.prototype.handle_figure_label = function(fig, msg) {\n",
       "    // Updates the figure title.\n",
       "    fig.header.textContent = msg['label'];\n",
       "}\n",
       "\n",
       "mpl.figure.prototype.handle_cursor = function(fig, msg) {\n",
       "    var cursor = msg['cursor'];\n",
       "    switch(cursor)\n",
       "    {\n",
       "    case 0:\n",
       "        cursor = 'pointer';\n",
       "        break;\n",
       "    case 1:\n",
       "        cursor = 'default';\n",
       "        break;\n",
       "    case 2:\n",
       "        cursor = 'crosshair';\n",
       "        break;\n",
       "    case 3:\n",
       "        cursor = 'move';\n",
       "        break;\n",
       "    }\n",
       "    fig.rubberband_canvas.style.cursor = cursor;\n",
       "}\n",
       "\n",
       "mpl.figure.prototype.handle_message = function(fig, msg) {\n",
       "    fig.message.textContent = msg['message'];\n",
       "}\n",
       "\n",
       "mpl.figure.prototype.handle_draw = function(fig, msg) {\n",
       "    // Request the server to send over a new figure.\n",
       "    fig.send_draw_message();\n",
       "}\n",
       "\n",
       "mpl.figure.prototype.handle_image_mode = function(fig, msg) {\n",
       "    fig.image_mode = msg['mode'];\n",
       "}\n",
       "\n",
       "mpl.figure.prototype.updated_canvas_event = function() {\n",
       "    // Called whenever the canvas gets updated.\n",
       "    this.send_message(\"ack\", {});\n",
       "}\n",
       "\n",
       "// A function to construct a web socket function for onmessage handling.\n",
       "// Called in the figure constructor.\n",
       "mpl.figure.prototype._make_on_message_function = function(fig) {\n",
       "    return function socket_on_message(evt) {\n",
       "        if (evt.data instanceof Blob) {\n",
       "            /* FIXME: We get \"Resource interpreted as Image but\n",
       "             * transferred with MIME type text/plain:\" errors on\n",
       "             * Chrome.  But how to set the MIME type?  It doesn't seem\n",
       "             * to be part of the websocket stream */\n",
       "            evt.data.type = \"image/png\";\n",
       "\n",
       "            /* Free the memory for the previous frames */\n",
       "            if (fig.imageObj.src) {\n",
       "                (window.URL || window.webkitURL).revokeObjectURL(\n",
       "                    fig.imageObj.src);\n",
       "            }\n",
       "\n",
       "            fig.imageObj.src = (window.URL || window.webkitURL).createObjectURL(\n",
       "                evt.data);\n",
       "            fig.updated_canvas_event();\n",
       "            fig.waiting = false;\n",
       "            return;\n",
       "        }\n",
       "        else if (typeof evt.data === 'string' && evt.data.slice(0, 21) == \"data:image/png;base64\") {\n",
       "            fig.imageObj.src = evt.data;\n",
       "            fig.updated_canvas_event();\n",
       "            fig.waiting = false;\n",
       "            return;\n",
       "        }\n",
       "\n",
       "        var msg = JSON.parse(evt.data);\n",
       "        var msg_type = msg['type'];\n",
       "\n",
       "        // Call the  \"handle_{type}\" callback, which takes\n",
       "        // the figure and JSON message as its only arguments.\n",
       "        try {\n",
       "            var callback = fig[\"handle_\" + msg_type];\n",
       "        } catch (e) {\n",
       "            console.log(\"No handler for the '\" + msg_type + \"' message type: \", msg);\n",
       "            return;\n",
       "        }\n",
       "\n",
       "        if (callback) {\n",
       "            try {\n",
       "                // console.log(\"Handling '\" + msg_type + \"' message: \", msg);\n",
       "                callback(fig, msg);\n",
       "            } catch (e) {\n",
       "                console.log(\"Exception inside the 'handler_\" + msg_type + \"' callback:\", e, e.stack, msg);\n",
       "            }\n",
       "        }\n",
       "    };\n",
       "}\n",
       "\n",
       "// from http://stackoverflow.com/questions/1114465/getting-mouse-location-in-canvas\n",
       "mpl.findpos = function(e) {\n",
       "    //this section is from http://www.quirksmode.org/js/events_properties.html\n",
       "    var targ;\n",
       "    if (!e)\n",
       "        e = window.event;\n",
       "    if (e.target)\n",
       "        targ = e.target;\n",
       "    else if (e.srcElement)\n",
       "        targ = e.srcElement;\n",
       "    if (targ.nodeType == 3) // defeat Safari bug\n",
       "        targ = targ.parentNode;\n",
       "\n",
       "    // jQuery normalizes the pageX and pageY\n",
       "    // pageX,Y are the mouse positions relative to the document\n",
       "    // offset() returns the position of the element relative to the document\n",
       "    var x = e.pageX - $(targ).offset().left;\n",
       "    var y = e.pageY - $(targ).offset().top;\n",
       "\n",
       "    return {\"x\": x, \"y\": y};\n",
       "};\n",
       "\n",
       "/*\n",
       " * return a copy of an object with only non-object keys\n",
       " * we need this to avoid circular references\n",
       " * http://stackoverflow.com/a/24161582/3208463\n",
       " */\n",
       "function simpleKeys (original) {\n",
       "  return Object.keys(original).reduce(function (obj, key) {\n",
       "    if (typeof original[key] !== 'object')\n",
       "        obj[key] = original[key]\n",
       "    return obj;\n",
       "  }, {});\n",
       "}\n",
       "\n",
       "mpl.figure.prototype.mouse_event = function(event, name) {\n",
       "    var canvas_pos = mpl.findpos(event)\n",
       "\n",
       "    if (name === 'button_press')\n",
       "    {\n",
       "        this.canvas.focus();\n",
       "        this.canvas_div.focus();\n",
       "    }\n",
       "\n",
       "    var x = canvas_pos.x * mpl.ratio;\n",
       "    var y = canvas_pos.y * mpl.ratio;\n",
       "\n",
       "    this.send_message(name, {x: x, y: y, button: event.button,\n",
       "                             step: event.step,\n",
       "                             guiEvent: simpleKeys(event)});\n",
       "\n",
       "    /* This prevents the web browser from automatically changing to\n",
       "     * the text insertion cursor when the button is pressed.  We want\n",
       "     * to control all of the cursor setting manually through the\n",
       "     * 'cursor' event from matplotlib */\n",
       "    event.preventDefault();\n",
       "    return false;\n",
       "}\n",
       "\n",
       "mpl.figure.prototype._key_event_extra = function(event, name) {\n",
       "    // Handle any extra behaviour associated with a key event\n",
       "}\n",
       "\n",
       "mpl.figure.prototype.key_event = function(event, name) {\n",
       "\n",
       "    // Prevent repeat events\n",
       "    if (name == 'key_press')\n",
       "    {\n",
       "        if (event.which === this._key)\n",
       "            return;\n",
       "        else\n",
       "            this._key = event.which;\n",
       "    }\n",
       "    if (name == 'key_release')\n",
       "        this._key = null;\n",
       "\n",
       "    var value = '';\n",
       "    if (event.ctrlKey && event.which != 17)\n",
       "        value += \"ctrl+\";\n",
       "    if (event.altKey && event.which != 18)\n",
       "        value += \"alt+\";\n",
       "    if (event.shiftKey && event.which != 16)\n",
       "        value += \"shift+\";\n",
       "\n",
       "    value += 'k';\n",
       "    value += event.which.toString();\n",
       "\n",
       "    this._key_event_extra(event, name);\n",
       "\n",
       "    this.send_message(name, {key: value,\n",
       "                             guiEvent: simpleKeys(event)});\n",
       "    return false;\n",
       "}\n",
       "\n",
       "mpl.figure.prototype.toolbar_button_onclick = function(name) {\n",
       "    if (name == 'download') {\n",
       "        this.handle_save(this, null);\n",
       "    } else {\n",
       "        this.send_message(\"toolbar_button\", {name: name});\n",
       "    }\n",
       "};\n",
       "\n",
       "mpl.figure.prototype.toolbar_button_onmouseover = function(tooltip) {\n",
       "    this.message.textContent = tooltip;\n",
       "};\n",
       "mpl.toolbar_items = [[\"Home\", \"Reset original view\", \"fa fa-home icon-home\", \"home\"], [\"Back\", \"Back to  previous view\", \"fa fa-arrow-left icon-arrow-left\", \"back\"], [\"Forward\", \"Forward to next view\", \"fa fa-arrow-right icon-arrow-right\", \"forward\"], [\"\", \"\", \"\", \"\"], [\"Pan\", \"Pan axes with left mouse, zoom with right\", \"fa fa-arrows icon-move\", \"pan\"], [\"Zoom\", \"Zoom to rectangle\", \"fa fa-square-o icon-check-empty\", \"zoom\"], [\"\", \"\", \"\", \"\"], [\"Download\", \"Download plot\", \"fa fa-floppy-o icon-save\", \"download\"]];\n",
       "\n",
       "mpl.extensions = [\"eps\", \"jpeg\", \"pdf\", \"png\", \"ps\", \"raw\", \"svg\", \"tif\"];\n",
       "\n",
       "mpl.default_extension = \"png\";var comm_websocket_adapter = function(comm) {\n",
       "    // Create a \"websocket\"-like object which calls the given IPython comm\n",
       "    // object with the appropriate methods. Currently this is a non binary\n",
       "    // socket, so there is still some room for performance tuning.\n",
       "    var ws = {};\n",
       "\n",
       "    ws.close = function() {\n",
       "        comm.close()\n",
       "    };\n",
       "    ws.send = function(m) {\n",
       "        //console.log('sending', m);\n",
       "        comm.send(m);\n",
       "    };\n",
       "    // Register the callback with on_msg.\n",
       "    comm.on_msg(function(msg) {\n",
       "        //console.log('receiving', msg['content']['data'], msg);\n",
       "        // Pass the mpl event to the overriden (by mpl) onmessage function.\n",
       "        ws.onmessage(msg['content']['data'])\n",
       "    });\n",
       "    return ws;\n",
       "}\n",
       "\n",
       "mpl.mpl_figure_comm = function(comm, msg) {\n",
       "    // This is the function which gets called when the mpl process\n",
       "    // starts-up an IPython Comm through the \"matplotlib\" channel.\n",
       "\n",
       "    var id = msg.content.data.id;\n",
       "    // Get hold of the div created by the display call when the Comm\n",
       "    // socket was opened in Python.\n",
       "    var element = $(\"#\" + id);\n",
       "    var ws_proxy = comm_websocket_adapter(comm)\n",
       "\n",
       "    function ondownload(figure, format) {\n",
       "        window.open(figure.imageObj.src);\n",
       "    }\n",
       "\n",
       "    var fig = new mpl.figure(id, ws_proxy,\n",
       "                           ondownload,\n",
       "                           element.get(0));\n",
       "\n",
       "    // Call onopen now - mpl needs it, as it is assuming we've passed it a real\n",
       "    // web socket which is closed, not our websocket->open comm proxy.\n",
       "    ws_proxy.onopen();\n",
       "\n",
       "    fig.parent_element = element.get(0);\n",
       "    fig.cell_info = mpl.find_output_cell(\"<div id='\" + id + \"'></div>\");\n",
       "    if (!fig.cell_info) {\n",
       "        console.error(\"Failed to find cell for figure\", id, fig);\n",
       "        return;\n",
       "    }\n",
       "\n",
       "    var output_index = fig.cell_info[2]\n",
       "    var cell = fig.cell_info[0];\n",
       "\n",
       "};\n",
       "\n",
       "mpl.figure.prototype.handle_close = function(fig, msg) {\n",
       "    var width = fig.canvas.width/mpl.ratio\n",
       "    fig.root.unbind('remove')\n",
       "\n",
       "    // Update the output cell to use the data from the current canvas.\n",
       "    fig.push_to_output();\n",
       "    var dataURL = fig.canvas.toDataURL();\n",
       "    // Re-enable the keyboard manager in IPython - without this line, in FF,\n",
       "    // the notebook keyboard shortcuts fail.\n",
       "    IPython.keyboard_manager.enable()\n",
       "    $(fig.parent_element).html('<img src=\"' + dataURL + '\" width=\"' + width + '\">');\n",
       "    fig.close_ws(fig, msg);\n",
       "}\n",
       "\n",
       "mpl.figure.prototype.close_ws = function(fig, msg){\n",
       "    fig.send_message('closing', msg);\n",
       "    // fig.ws.close()\n",
       "}\n",
       "\n",
       "mpl.figure.prototype.push_to_output = function(remove_interactive) {\n",
       "    // Turn the data on the canvas into data in the output cell.\n",
       "    var width = this.canvas.width/mpl.ratio\n",
       "    var dataURL = this.canvas.toDataURL();\n",
       "    this.cell_info[1]['text/html'] = '<img src=\"' + dataURL + '\" width=\"' + width + '\">';\n",
       "}\n",
       "\n",
       "mpl.figure.prototype.updated_canvas_event = function() {\n",
       "    // Tell IPython that the notebook contents must change.\n",
       "    IPython.notebook.set_dirty(true);\n",
       "    this.send_message(\"ack\", {});\n",
       "    var fig = this;\n",
       "    // Wait a second, then push the new image to the DOM so\n",
       "    // that it is saved nicely (might be nice to debounce this).\n",
       "    setTimeout(function () { fig.push_to_output() }, 1000);\n",
       "}\n",
       "\n",
       "mpl.figure.prototype._init_toolbar = function() {\n",
       "    var fig = this;\n",
       "\n",
       "    var nav_element = $('<div/>')\n",
       "    nav_element.attr('style', 'width: 100%');\n",
       "    this.root.append(nav_element);\n",
       "\n",
       "    // Define a callback function for later on.\n",
       "    function toolbar_event(event) {\n",
       "        return fig.toolbar_button_onclick(event['data']);\n",
       "    }\n",
       "    function toolbar_mouse_event(event) {\n",
       "        return fig.toolbar_button_onmouseover(event['data']);\n",
       "    }\n",
       "\n",
       "    for(var toolbar_ind in mpl.toolbar_items){\n",
       "        var name = mpl.toolbar_items[toolbar_ind][0];\n",
       "        var tooltip = mpl.toolbar_items[toolbar_ind][1];\n",
       "        var image = mpl.toolbar_items[toolbar_ind][2];\n",
       "        var method_name = mpl.toolbar_items[toolbar_ind][3];\n",
       "\n",
       "        if (!name) { continue; };\n",
       "\n",
       "        var button = $('<button class=\"btn btn-default\" href=\"#\" title=\"' + name + '\"><i class=\"fa ' + image + ' fa-lg\"></i></button>');\n",
       "        button.click(method_name, toolbar_event);\n",
       "        button.mouseover(tooltip, toolbar_mouse_event);\n",
       "        nav_element.append(button);\n",
       "    }\n",
       "\n",
       "    // Add the status bar.\n",
       "    var status_bar = $('<span class=\"mpl-message\" style=\"text-align:right; float: right;\"/>');\n",
       "    nav_element.append(status_bar);\n",
       "    this.message = status_bar[0];\n",
       "\n",
       "    // Add the close button to the window.\n",
       "    var buttongrp = $('<div class=\"btn-group inline pull-right\"></div>');\n",
       "    var button = $('<button class=\"btn btn-mini btn-primary\" href=\"#\" title=\"Stop Interaction\"><i class=\"fa fa-power-off icon-remove icon-large\"></i></button>');\n",
       "    button.click(function (evt) { fig.handle_close(fig, {}); } );\n",
       "    button.mouseover('Stop Interaction', toolbar_mouse_event);\n",
       "    buttongrp.append(button);\n",
       "    var titlebar = this.root.find($('.ui-dialog-titlebar'));\n",
       "    titlebar.prepend(buttongrp);\n",
       "}\n",
       "\n",
       "mpl.figure.prototype._root_extra_style = function(el){\n",
       "    var fig = this\n",
       "    el.on(\"remove\", function(){\n",
       "\tfig.close_ws(fig, {});\n",
       "    });\n",
       "}\n",
       "\n",
       "mpl.figure.prototype._canvas_extra_style = function(el){\n",
       "    // this is important to make the div 'focusable\n",
       "    el.attr('tabindex', 0)\n",
       "    // reach out to IPython and tell the keyboard manager to turn it's self\n",
       "    // off when our div gets focus\n",
       "\n",
       "    // location in version 3\n",
       "    if (IPython.notebook.keyboard_manager) {\n",
       "        IPython.notebook.keyboard_manager.register_events(el);\n",
       "    }\n",
       "    else {\n",
       "        // location in version 2\n",
       "        IPython.keyboard_manager.register_events(el);\n",
       "    }\n",
       "\n",
       "}\n",
       "\n",
       "mpl.figure.prototype._key_event_extra = function(event, name) {\n",
       "    var manager = IPython.notebook.keyboard_manager;\n",
       "    if (!manager)\n",
       "        manager = IPython.keyboard_manager;\n",
       "\n",
       "    // Check for shift+enter\n",
       "    if (event.shiftKey && event.which == 13) {\n",
       "        this.canvas_div.blur();\n",
       "        // select the cell after this one\n",
       "        var index = IPython.notebook.find_cell_index(this.cell_info[0]);\n",
       "        IPython.notebook.select(index + 1);\n",
       "    }\n",
       "}\n",
       "\n",
       "mpl.figure.prototype.handle_save = function(fig, msg) {\n",
       "    fig.ondownload(fig, null);\n",
       "}\n",
       "\n",
       "\n",
       "mpl.find_output_cell = function(html_output) {\n",
       "    // Return the cell and output element which can be found *uniquely* in the notebook.\n",
       "    // Note - this is a bit hacky, but it is done because the \"notebook_saving.Notebook\"\n",
       "    // IPython event is triggered only after the cells have been serialised, which for\n",
       "    // our purposes (turning an active figure into a static one), is too late.\n",
       "    var cells = IPython.notebook.get_cells();\n",
       "    var ncells = cells.length;\n",
       "    for (var i=0; i<ncells; i++) {\n",
       "        var cell = cells[i];\n",
       "        if (cell.cell_type === 'code'){\n",
       "            for (var j=0; j<cell.output_area.outputs.length; j++) {\n",
       "                var data = cell.output_area.outputs[j];\n",
       "                if (data.data) {\n",
       "                    // IPython >= 3 moved mimebundle to data attribute of output\n",
       "                    data = data.data;\n",
       "                }\n",
       "                if (data['text/html'] == html_output) {\n",
       "                    return [cell, data, j];\n",
       "                }\n",
       "            }\n",
       "        }\n",
       "    }\n",
       "}\n",
       "\n",
       "// Register the function which deals with the matplotlib target/channel.\n",
       "// The kernel may be null if the page has been refreshed.\n",
       "if (IPython.notebook.kernel != null) {\n",
       "    IPython.notebook.kernel.comm_manager.register_target('matplotlib', mpl.mpl_figure_comm);\n",
       "}\n"
      ],
      "text/plain": [
       "<IPython.core.display.Javascript object>"
      ]
     },
     "metadata": {},
     "output_type": "display_data"
    },
    {
     "data": {
      "text/html": [
       "<div id='dd696495-7430-4247-bccd-4a0e15b0ae7b'></div>"
      ],
      "text/plain": [
       "<IPython.core.display.HTML object>"
      ]
     },
     "metadata": {},
     "output_type": "display_data"
    },
    {
     "ename": "IndexError",
     "evalue": "index 1 is out of bounds for axis 2 with size 1",
     "output_type": "error",
     "traceback": [
      "\u001b[0;31m---------------------------------------------------------------------------\u001b[0m",
      "\u001b[0;31mIndexError\u001b[0m                                Traceback (most recent call last)",
      "\u001b[0;32m<ipython-input-10-a5cace569576>\u001b[0m in \u001b[0;36m<module>\u001b[0;34m()\u001b[0m\n\u001b[1;32m     31\u001b[0m \u001b[0mCT_lists\u001b[0m\u001b[0;34m=\u001b[0m\u001b[0;34m[\u001b[0m\u001b[0;34m]\u001b[0m\u001b[0;34m\u001b[0m\u001b[0m\n\u001b[1;32m     32\u001b[0m \u001b[0;32mfor\u001b[0m \u001b[0ml\u001b[0m \u001b[0;32min\u001b[0m \u001b[0mrange\u001b[0m\u001b[0;34m(\u001b[0m\u001b[0;36m4\u001b[0m\u001b[0;34m)\u001b[0m\u001b[0;34m:\u001b[0m\u001b[0;31m#4 layers\u001b[0m\u001b[0;34m\u001b[0m\u001b[0m\n\u001b[0;32m---> 33\u001b[0;31m     \u001b[0mcontour_list\u001b[0m\u001b[0;34m=\u001b[0m\u001b[0mdraw\u001b[0m\u001b[0;34m(\u001b[0m\u001b[0;36m0\u001b[0m\u001b[0;34m,\u001b[0m\u001b[0ml\u001b[0m\u001b[0;34m,\u001b[0m\u001b[0max\u001b[0m\u001b[0;34m)\u001b[0m\u001b[0;34m\u001b[0m\u001b[0m\n\u001b[0m\u001b[1;32m     34\u001b[0m     \u001b[0mCT_lists\u001b[0m\u001b[0;34m.\u001b[0m\u001b[0mappend\u001b[0m\u001b[0;34m(\u001b[0m\u001b[0mcontour_list\u001b[0m\u001b[0;34m)\u001b[0m\u001b[0;34m\u001b[0m\u001b[0m\n\u001b[1;32m     35\u001b[0m \u001b[0max\u001b[0m\u001b[0;34m.\u001b[0m\u001b[0mscatter\u001b[0m\u001b[0;34m(\u001b[0m\u001b[0mXpos\u001b[0m\u001b[0;34m[\u001b[0m\u001b[0;34m:\u001b[0m\u001b[0;34m,\u001b[0m\u001b[0;36m0\u001b[0m\u001b[0;34m]\u001b[0m\u001b[0;34m,\u001b[0m\u001b[0mXpos\u001b[0m\u001b[0;34m[\u001b[0m\u001b[0;34m:\u001b[0m\u001b[0;34m,\u001b[0m\u001b[0;36m1\u001b[0m\u001b[0;34m]\u001b[0m\u001b[0;34m,\u001b[0m\u001b[0mmarker\u001b[0m\u001b[0;34m=\u001b[0m\u001b[0;34m'+'\u001b[0m\u001b[0;34m,\u001b[0m\u001b[0ms\u001b[0m\u001b[0;34m=\u001b[0m\u001b[0;36m100\u001b[0m\u001b[0;34m,\u001b[0m\u001b[0mc\u001b[0m\u001b[0;34m=\u001b[0m\u001b[0;34m'b'\u001b[0m\u001b[0;34m,\u001b[0m\u001b[0mlinewidth\u001b[0m\u001b[0;34m=\u001b[0m\u001b[0;34m'3'\u001b[0m\u001b[0;34m)\u001b[0m\u001b[0;34m\u001b[0m\u001b[0m\n",
      "\u001b[0;32m<ipython-input-10-a5cace569576>\u001b[0m in \u001b[0;36mdraw\u001b[0;34m(time, layer, ax)\u001b[0m\n\u001b[1;32m      9\u001b[0m     \u001b[0ml\u001b[0m\u001b[0;34m=\u001b[0m\u001b[0mlayer\u001b[0m\u001b[0;34m\u001b[0m\u001b[0m\n\u001b[1;32m     10\u001b[0m \u001b[0;34m\u001b[0m\u001b[0m\n\u001b[0;32m---> 11\u001b[0;31m     \u001b[0mdelW4\u001b[0m\u001b[0;34m=\u001b[0m\u001b[0mnp\u001b[0m\u001b[0;34m.\u001b[0m\u001b[0mreshape\u001b[0m\u001b[0;34m(\u001b[0m\u001b[0mW4\u001b[0m\u001b[0;34m[\u001b[0m\u001b[0;34m:\u001b[0m\u001b[0;34m,\u001b[0m\u001b[0;34m:\u001b[0m\u001b[0;34m,\u001b[0m\u001b[0;36m1\u001b[0m\u001b[0;34m]\u001b[0m\u001b[0;34m-\u001b[0m\u001b[0mW4\u001b[0m\u001b[0;34m[\u001b[0m\u001b[0;34m:\u001b[0m\u001b[0;34m,\u001b[0m\u001b[0;34m:\u001b[0m\u001b[0;34m,\u001b[0m\u001b[0;36m0\u001b[0m\u001b[0;34m]\u001b[0m\u001b[0;34m,\u001b[0m \u001b[0mW4\u001b[0m\u001b[0;34m.\u001b[0m\u001b[0mshape\u001b[0m\u001b[0;34m[\u001b[0m\u001b[0;34m:\u001b[0m\u001b[0;36m2\u001b[0m\u001b[0;34m]\u001b[0m\u001b[0;34m)\u001b[0m\u001b[0;34m\u001b[0m\u001b[0m\n\u001b[0m\u001b[1;32m     12\u001b[0m     \u001b[0mdelb4\u001b[0m\u001b[0;34m=\u001b[0m\u001b[0mb4\u001b[0m\u001b[0;34m[\u001b[0m\u001b[0;34m:\u001b[0m\u001b[0;34m,\u001b[0m\u001b[0;36m1\u001b[0m\u001b[0;34m]\u001b[0m\u001b[0;34m-\u001b[0m\u001b[0mb4\u001b[0m\u001b[0;34m[\u001b[0m\u001b[0;34m:\u001b[0m\u001b[0;34m,\u001b[0m\u001b[0;36m0\u001b[0m\u001b[0;34m]\u001b[0m\u001b[0;34m\u001b[0m\u001b[0m\n\u001b[1;32m     13\u001b[0m     time_weight_list=[[W1[time],b1[time]],\n",
      "\u001b[0;31mIndexError\u001b[0m: index 1 is out of bounds for axis 2 with size 1"
     ]
    }
   ],
   "source": [
    "####Plot the linear maps on each region\n",
    "\n",
    "fig,ax=plt.subplots()\n",
    "gX0,gX1=GridX[:,:,0],GridX[:,:,1]\n",
    "gX=GridX\n",
    "\n",
    "def draw(time,layer,ax=ax):\n",
    "    contour_list=[]\n",
    "    l=layer\n",
    "    \n",
    "    delW4=np.reshape(W4[:,:,1]-W4[:,:,0], W4.shape[:2])\n",
    "    delb4=b4[:,1]-b4[:,0]\n",
    "    time_weight_list=[[W1[time],b1[time]],\n",
    "                   [W2[time]   ,b2[time]],\n",
    "                   [W3[time]   ,b3[time]],\n",
    "                   [delW4[time],delb4[time]] ]\n",
    "    \n",
    "    P_Layers=get_neuron_values(gX,time_weight_list)\n",
    "    #Precon=sigmoid(P_Layers[-1][:,:,1]-P_Layers[-1][:,:,0])\n",
    "    \n",
    "    if len(P_Layers[l].shape)==2:#only one neuron in layer\n",
    "        listL=[P_Layers[l]]\n",
    "    else:\n",
    "        listL=splitL(P_Layers[l])\n",
    "    \n",
    "    for i,Pneu in enumerate(listL):\n",
    "        ctf=ax.contour(gX0,gX1,Pneu,colors=clist[i],levels=[0.],linestyles=listLineStyle[l])\n",
    "        contour_list.append(ctf)\n",
    "    return contour_list\n",
    "\n",
    "CT_lists=[]\n",
    "for l in range(4):#4 layers\n",
    "    contour_list=draw(0,l,ax)\n",
    "    CT_lists.append(contour_list)\n",
    "ax.scatter(Xpos[:,0],Xpos[:,1],marker='+',s=100,c='b',linewidth='3')\n",
    "ax.scatter(Xneg[:,0],Xneg[:,1],marker='_',s=100,c='r',linewidth='3')\n",
    "\n",
    "plt.xticks([]) # labels \n",
    "plt.yticks([])\n",
    "ax.xaxis.set_ticks_position('none') # tick markers\n",
    "ax.yaxis.set_ticks_position('none')\n",
    "\n",
    "plt.tight_layout()\n",
    "\n",
    "\n",
    "def animate(time):\n",
    "    global CT_lists\n",
    "    for contour_list in CT_lists:\n",
    "        for ctf in contour_list:\n",
    "            for c in ctf.collections:\n",
    "                c.remove()\n",
    "    CT_lists=[]\n",
    "    for l in range(4):#4 layers\n",
    "        CT_lists.append(draw(time,l,ax))\n",
    "    return CT_lists\n",
    "\n",
    "\n",
    "#anim = animation.FuncAnimation(fig, animate, frames=len(step), repeat=True, interval=10)\n",
    "del_t=1\n",
    "anim_deep = animation.FuncAnimation(fig, animate, frames=np.arange(1,len(step),del_t), repeat=True,interval=10)"
   ]
  }
 ],
 "metadata": {
  "kernelspec": {
   "display_name": "Python 2",
   "language": "python",
   "name": "python2"
  },
  "language_info": {
   "codemirror_mode": {
    "name": "ipython",
    "version": 2
   },
   "file_extension": ".py",
   "mimetype": "text/x-python",
   "name": "python",
   "nbconvert_exporter": "python",
   "pygments_lexer": "ipython2",
   "version": "2.7.12"
  }
 },
 "nbformat": 4,
 "nbformat_minor": 1
}
