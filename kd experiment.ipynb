{
 "cells": [
  {
   "cell_type": "markdown",
   "metadata": {},
   "source": [
    "#### I to repr the same exact boundary with a shallow and deep network--- failed"
   ]
  },
  {
   "cell_type": "markdown",
   "metadata": {},
   "source": [
    "#### decided to abandon. too difficult for too little return"
   ]
  },
  {
   "cell_type": "code",
   "execution_count": 2,
   "metadata": {
    "collapsed": true
   },
   "outputs": [],
   "source": [
    "import matplotlib as mpl\n",
    "import matplotlib.pyplot as plt\n",
    "import matplotlib.animation as animation\n",
    "import tensorflow as tf\n",
    "import pandas as pd\n",
    "import glob2\n",
    "import os\n",
    "from itertools import product\n",
    "import numpy as np\n",
    "#import seaborn as sns\n",
    "\n",
    "#%matplotlib notebook\n",
    "#%matplotlib\n",
    "%matplotlib inline\n",
    "\n",
    "from tboard import file2number\n",
    "from nonlinearities import sigmoid\n",
    "from vis_utils import (split_posneg , get_path, get_np_network,\n",
    "                        get_neuron_values, splitL, load_weights,\n",
    "                        resample_grid,vec_get_neuron_values,\n",
    "                        get_del_weights  )\n",
    "from vis_utils import Pub_Model_Dirs, clist,listLineStyle\n",
    "from calc_bounds import param_counter\n",
    "#clist=['g','c','m','y','k','b','r']\n",
    "#listLineStyle=['solid', 'dashed', 'dashdot', 'dotted']\n",
    "\n",
    "figure_folder='./figures/'"
   ]
  },
  {
   "cell_type": "code",
   "execution_count": 4,
   "metadata": {
    "collapsed": true
   },
   "outputs": [],
   "source": [
    "log_dir='./logs/Pub_Model_0504_234557_D2A1'\n",
    "record_dir=os.path.join(log_dir,'records')\n",
    "id_str=str(file2number(log_dir))\n",
    "all_weights=load_weights(log_dir)\n",
    "all_step=np.load(get_path('step','wwatch',log_dir))\n",
    "dt=10\n",
    "weights=[[w[::dt],b[::dt]] for w,b in all_weights]\n",
    "arch=[b.shape[-1] for w,b in weights[:-1]]#net architecture\n",
    "del_weights=get_del_weights(weights)\n",
    "time_weights=[[w[-1],b[-1]] for w,b in del_weights]#d*2*wtshape\n",
    "step=all_step[::dt]\n",
    "gridX=np.load(get_path('gridX','hmwatch',log_dir))\n",
    "gridP=np.load(get_path('Prob','hmwatch',log_dir))#not used\n",
    "GridX=resample_grid(gridX)#200\n",
    "gX=resample_grid(gridX)#200  #standardized grid\n",
    "HighResX=resample_grid(gridX,5000)\n",
    "npX=np.load(os.path.join(record_dir,'dataX.npy'))\n",
    "npY=np.load(os.path.join(record_dir,'dataY.npy'))\n",
    "Xpos,Xneg,Ypos,Yneg=split_posneg(npX,npY)"
   ]
  },
  {
   "cell_type": "code",
   "execution_count": null,
   "metadata": {
    "collapsed": true
   },
   "outputs": [],
   "source": []
  },
  {
   "cell_type": "code",
   "execution_count": null,
   "metadata": {
    "collapsed": true
   },
   "outputs": [],
   "source": [
    "#d*(wpad,xpad,time,layersize)\n",
    "PLayers=vec_get_neuron_values(gX,del_weights) #d*(TimexgX1xgX2xnl)\n",
    "\n",
    "#linestyles=listLineStyle[l]\n",
    "clist=['g','c','m','y','k','b','r']\n",
    "listLineStyle=['solid', 'dashed', 'dashdot', 'dotted']\n",
    "lLS=listLineStyle[:-1]#Save dotted for boundary\n",
    "\n",
    "#colormap = plt.cm.gist_ncar\n",
    "#col_cycle=cycler('color', clist)\n",
    "def draw(time,layer,ax,use_color=True):\n",
    "    ax.set_prop_cycle(plt.cycler('color', clist))\n",
    "    \n",
    "    contour_list=[]\n",
    "    l=layer\n",
    "    \n",
    "    time_PLayers=[A[time] for A in PLayers]\n",
    "        \n",
    "#    if len(time_PLayers[l].shape)==2:#only one neuron in layer\n",
    "#        listL=[time_PLayers[l]]\n",
    "#    else:\n",
    "#        listL=splitL(time_PLayers[l])\n",
    "    listL=splitL(time_PLayers[l])\n",
    "    \n",
    "    if layer+1<len(PLayers):\n",
    "        ls=lLS[layer%len(lLS)]\n",
    "    else:\n",
    "        ls=listLineStyle[-1]\n",
    "    \n",
    "    nl=len(listL)\n",
    "    #plt.gca().set_color_cycle([colormap(i) for i in np.linspace(0, 0.9, nl)])\n",
    "    #colors=[colormap(i) for i in np.linspace(0, 0.9, nl)]\n",
    "    for i,Pneu in enumerate(listL):\n",
    "        if use_color:\n",
    "            ctf=ax.contour(gX0,gX1,Pneu,colors=clist[i%len(clist)],levels=[0.],linestyles=ls)\n",
    "        else:\n",
    "            ctf=ax.contour(gX0,gX1,Pneu,levels=[0.],linestyles=ls)\n",
    "#        ctf=ax.contour(gX0,gX1,Pneu,levels=[0.])\n",
    "#        ctf=ax.contour(gX0,gX1,Pneu,colors=next(col_cycle),levels=[0.])\n",
    "        contour_list.append(ctf)\n",
    "    return contour_list"
   ]
  },
  {
   "cell_type": "code",
   "execution_count": 6,
   "metadata": {},
   "outputs": [],
   "source": [
    "#w_weights=[tw[0] for tw in time_weights]\n",
    "#PLast=vec_get_neuron_values(gX,time_weights)#Layers*(wpad,xpad,time,layersize)"
   ]
  },
  {
   "cell_type": "code",
   "execution_count": 84,
   "metadata": {
    "scrolled": true
   },
   "outputs": [
    {
     "name": "stdout",
     "output_type": "stream",
     "text": [
      "[[-2.5  5.5 -2.5]\n",
      " [ 5.  -5.  -1. ]\n",
      " [-2.5 -0.5  3.5]]\n"
     ]
    }
   ],
   "source": [
    "sd=np.random.randint(0,1000)\n",
    "np.random.seed(sd)\n",
    "# W0=np.array([\n",
    "#     [ 1., -1, -1., 1.],\n",
    "#     [ 1., 1., -1., -1.],\n",
    "#     ])\n",
    "W0=np.array([\n",
    "    [ 0., 4., -4.],\n",
    "    [ 5., -3, -3.],\n",
    "    ])\n",
    "# B0=np.zeros(W0.shape[-1])\n",
    "B0=3*np.ones(W0.shape[-1])\n",
    "# W1=np.array([\n",
    "#         [ 1., 1,  ],\n",
    "#         [ 0., 1., ],\n",
    "#         [ 1., 0., ],\n",
    "#         [ 1., 1., ],\n",
    "#         ])\n",
    "\n",
    "# W1=np.random.randint(0,10,[W0.shape[-1],3])\n",
    "M=np.array([\n",
    "        [1.,  -.5  ],\n",
    "        [-.5,  1.  ],\n",
    "        [-.5,  -.5 ]])\n",
    "W1=np.matmul(M,W0)\n",
    "# B1=np.array([-50.,-50.,-50.,])\n",
    "B1=np.zeros(W1.shape[-1])\n",
    "W2=np.ones_like(B1).reshape([-1,1])\n",
    "B2=np.array([-50.])\n",
    "\n",
    "demo_wts=[[W0,B0],[W1,B1],[W2,B2]]\n",
    "\n",
    "print W1\n",
    "\n",
    "players=vec_get_neuron_values(gX,demo_wts)#Layers*(wpad,xpad,time,layersize)\n",
    "#Logit=np.squeeze(players[-1])"
   ]
  },
  {
   "cell_type": "code",
   "execution_count": 86,
   "metadata": {
    "scrolled": true
   },
   "outputs": [
    {
     "data": {
      "image/png": "[encoded data removed]",
      "text/plain": [
       "<matplotlib.figure.Figure at 0x7f655907b690>"
      ]
     },
     "metadata": {},
     "output_type": "display_data"
    }
   ],
   "source": [
    "fig,ax=plt.subplots()\n",
    "gX0,gX1=gX[:,:,0],gX[:,:,1]\n",
    "levels=np.linspace(0,1,11)#c='b', ###used??\n",
    "# ctf=ax.contourf(gX[:,:,0],gX[:,:,1],Logit,cmap=plt.cm.bwr_r,vmin=0,vmax=1.01,levels=levels)\n",
    "\n",
    "\n",
    "for i,out in enumerate(splitL(players[-3])):\n",
    "    ctf=ax.contour(gX0,gX1,out,levels=[0.],colors=clist[i],linestyles='solid')\n",
    "\n",
    "for i,out in enumerate(splitL(players[-2])):\n",
    "    ctf=ax.contour(gX0,gX1,out,levels=[0.],colors=clist[i],linestyles='dashed')\n",
    "#     ctf=ax.contour(gX0,gX1,out,colors=clist[i])\n",
    "\n",
    "\n",
    "#listLineStyle=['solid', 'dashed', 'dashdot', 'dotted']\n",
    "bdry=ax.contour(gX0,gX1,np.squeeze(players[-1]),levels=[0.],colors=clist[i],linestyles='dotted')\n",
    "\n",
    "# ctf=ax.contour(gX0,gX1,Logit,levels=[0.])\n",
    "\n",
    "#plt.tight_layout()\n",
    "plt.xticks([]) # labels \n",
    "plt.yticks([])\n",
    "ax.xaxis.set_ticks_position('none') # tick markers\n",
    "ax.yaxis.set_ticks_position('none')\n"
   ]
  },
  {
   "cell_type": "code",
   "execution_count": 81,
   "metadata": {},
   "outputs": [
    {
     "ename": "NameError",
     "evalue": "name 'PLayers' is not defined",
     "output_type": "error",
     "traceback": [
      "\u001b[0;31m---------------------------------------------------------------------------\u001b[0m",
      "\u001b[0;31mNameError\u001b[0m                                 Traceback (most recent call last)",
      "\u001b[0;32m<ipython-input-81-80758af7b000>\u001b[0m in \u001b[0;36m<module>\u001b[0;34m()\u001b[0m\n\u001b[1;32m      2\u001b[0m \u001b[0mgX0\u001b[0m\u001b[0;34m,\u001b[0m\u001b[0mgX1\u001b[0m\u001b[0;34m=\u001b[0m\u001b[0mgX\u001b[0m\u001b[0;34m[\u001b[0m\u001b[0;34m:\u001b[0m\u001b[0;34m,\u001b[0m\u001b[0;34m:\u001b[0m\u001b[0;34m,\u001b[0m\u001b[0;36m0\u001b[0m\u001b[0;34m]\u001b[0m\u001b[0;34m,\u001b[0m\u001b[0mgX\u001b[0m\u001b[0;34m[\u001b[0m\u001b[0;34m:\u001b[0m\u001b[0;34m,\u001b[0m\u001b[0;34m:\u001b[0m\u001b[0;34m,\u001b[0m\u001b[0;36m1\u001b[0m\u001b[0;34m]\u001b[0m\u001b[0;34m\u001b[0m\u001b[0m\n\u001b[1;32m      3\u001b[0m \u001b[0mCT_lists\u001b[0m\u001b[0;34m=\u001b[0m\u001b[0;34m[\u001b[0m\u001b[0;34m]\u001b[0m\u001b[0;34m\u001b[0m\u001b[0m\n\u001b[0;32m----> 4\u001b[0;31m \u001b[0md\u001b[0m\u001b[0;34m=\u001b[0m\u001b[0mlen\u001b[0m\u001b[0;34m(\u001b[0m\u001b[0mPLayers\u001b[0m\u001b[0;34m)\u001b[0m\u001b[0;34m-\u001b[0m\u001b[0;36m1\u001b[0m\u001b[0;34m\u001b[0m\u001b[0m\n\u001b[0m\u001b[1;32m      5\u001b[0m \u001b[0;32mfor\u001b[0m \u001b[0ml\u001b[0m \u001b[0;32min\u001b[0m \u001b[0mrange\u001b[0m\u001b[0;34m(\u001b[0m\u001b[0md\u001b[0m\u001b[0;34m+\u001b[0m\u001b[0;36m1\u001b[0m\u001b[0;34m)\u001b[0m\u001b[0;34m:\u001b[0m\u001b[0;34m\u001b[0m\u001b[0m\n\u001b[1;32m      6\u001b[0m     \u001b[0mcontour_list\u001b[0m\u001b[0;34m=\u001b[0m\u001b[0mdraw\u001b[0m\u001b[0;34m(\u001b[0m\u001b[0;36m0\u001b[0m\u001b[0;34m,\u001b[0m\u001b[0ml\u001b[0m\u001b[0;34m,\u001b[0m\u001b[0max\u001b[0m\u001b[0;34m)\u001b[0m\u001b[0;34m\u001b[0m\u001b[0m\n",
      "\u001b[0;31mNameError\u001b[0m: name 'PLayers' is not defined"
     ]
    },
    {
     "data": {
      "image/png": "[encoded data removed]",
      "text/plain": [
       "<matplotlib.figure.Figure at 0x7f6559538090>"
      ]
     },
     "metadata": {},
     "output_type": "display_data"
    }
   ],
   "source": [
    "# fig,ax=plt.subplots()\n",
    "# gX0,gX1=gX[:,:,0],gX[:,:,1]\n",
    "# CT_lists=[]\n",
    "# d=len(pLayers)-1\n",
    "# listL=splitL(players)\n",
    "\n",
    "\n",
    "# for l in range(d+1):\n",
    "#     contour_list=draw(0,l,ax)\n",
    "#     CT_lists.append(contour_list)"
   ]
  },
  {
   "cell_type": "code",
   "execution_count": 77,
   "metadata": {},
   "outputs": [
    {
     "data": {
      "text/plain": [
       "array([-50., -25.,   0.,  25.,  50.,  75., 100.])"
      ]
     },
     "execution_count": 77,
     "metadata": {},
     "output_type": "execute_result"
    }
   ],
   "source": [
    "ctf.levels"
   ]
  },
  {
   "cell_type": "code",
   "execution_count": null,
   "metadata": {
    "collapsed": true
   },
   "outputs": [],
   "source": []
  },
  {
   "cell_type": "code",
   "execution_count": 64,
   "metadata": {},
   "outputs": [
    {
     "data": {
      "text/plain": [
       "(200, 209)"
      ]
     },
     "execution_count": 64,
     "metadata": {},
     "output_type": "execute_result"
    }
   ],
   "source": [
    "slp=splitL(players[-2])\n",
    "slp[0].shape"
   ]
  },
  {
   "cell_type": "code",
   "execution_count": 67,
   "metadata": {},
   "outputs": [
    {
     "data": {
      "text/plain": [
       "132.899658203125"
      ]
     },
     "execution_count": 67,
     "metadata": {},
     "output_type": "execute_result"
    }
   ],
   "source": [
    "slp0=slp[0]\n",
    "slp0.min()\n",
    "slp0.max()"
   ]
  }
 ],
 "metadata": {
  "kernelspec": {
   "display_name": "Python 2",
   "language": "python",
   "name": "python2"
  },
  "language_info": {
   "codemirror_mode": {
    "name": "ipython",
    "version": 2
   },
   "file_extension": ".py",
   "mimetype": "text/x-python",
   "name": "python",
   "nbconvert_exporter": "python",
   "pygments_lexer": "ipython2",
   "version": "2.7.15"
  }
 },
 "nbformat": 4,
 "nbformat_minor": 1
}
